{
 "cells": [
  {
   "cell_type": "markdown",
   "metadata": {},
   "source": [
    "# Command line\n",
    "\n",
    "A nice introduction to using Bash can be found [here](https://astrobiomike.github.io/bash/bash_intro_binder).\n",
    "\n",
    "Some other sources include [Bash Scripting Tutorial](https://linuxconfig.org/bash-scripting-tutorial) and the [Linux Tutorial](https://ryanstutorials.net/linuxtutorial/).\n",
    "\n",
    "Some selected examples can be found in [bash.pdf](https://github.com/janezd/bio-python-ukazna/blob/master/docs/bash.pdf).\n",
    "\n",
    "Check out also [https://datacarpentry.org/](https://datacarpentry.org/shell-genomics/02-the-filesystem.html)."
   ]
  },
  {
   "cell_type": "markdown",
   "metadata": {},
   "source": [
    "## The `bash` interpreter\n",
    "\n",
    "*Bash* is one of the most commonly used interpreters (languages) you will find on a typical *Linux* system.\n",
    "\n",
    "When writing programs in *Bash* you will be able to use all the structures and functionality you expect from any other language, e.g. *Python*.)\n",
    "\n",
    "*Bash* programs are scripts that start with a special first line.\n",
    "\n",
    "\n"
   ]
  },
  {
   "cell_type": "markdown",
   "metadata": {},
   "source": [
    "```bash\n",
    "#!/bin/bash\n",
    "echo \"Hello World\"\n",
    "```"
   ]
  },
  {
   "cell_type": "markdown",
   "metadata": {},
   "source": [
    "Store message into variable first.\n",
    "\n",
    "```bash\n",
    "#!/bin/bash\n",
    "# declare STRING variable\n",
    "STRING=\"Hello World\"\n",
    "#print variable on a screen\n",
    "echo $STRING\n",
    "```"
   ]
  },
  {
   "cell_type": "markdown",
   "metadata": {},
   "source": [
    "The first line looks like it is commented out, because it starts with '#', but it is not. It instructs the command line interpreter to start the script in Bash (program `/bin/bash`)."
   ]
  },
  {
   "cell_type": "markdown",
   "metadata": {},
   "source": [
    "## 1. Linux basics\n",
    "\n",
    "Folder structure:\n",
    "\n",
    "<img src=\"https://www.linuxyogi.com/wp-content/uploads/2020/10/Linux-Directory-Structure.png\" width=\"600\"/>\n",
    "\n",
    "* files\n",
    "    - ls\n",
    "    - cp\n",
    "    ```bash\n",
    "        cp datoteke/primer.fasta kopija.fasta\n",
    "    ```\n",
    "    - rm\n",
    "    - cat, less\n",
    "    - gzip, zless\n",
    "    ```bash\n",
    "        gzip kopija.fasta # dobimo kopija.fasta.gz\n",
    "        less kopija.fasta.gz\n",
    "        zless kopija.fasta.gz\n",
    "    ```\n",
    "    - awk\n",
    "    ```bash\n",
    "        awk {'print $1 \" text \" $2'} datoteke/osebe.txt\n",
    "    ```\n",
    "* folders\n",
    "    ```bash\n",
    "        cd folder/path\n",
    "        mkdir folder\n",
    "        rmdir folder\n",
    "    ```\n",
    "\n",
    "* renaming and moving files\n",
    "    ```bash\n",
    "        mv from_name.txt to_name.txt\n",
    "    ```\n",
    "    \n",
    "* programs\n",
    "    - run a python script"
   ]
  },
  {
   "cell_type": "markdown",
   "metadata": {},
   "source": [
    "## 2. Writing and running simple bash examples\n",
    "* structure of a bash script\n",
    "    - \\$ chmod +x simple.sh\n",
    "* variables\n",
    "    - global vs. local\n",
    "* arithmetics\n",
    "    - compute average weight in bash datoteke/teze.txt\n",
    "```bash\n",
    "    #!/bin/bash\n",
    "    echo \"hello world\"\n",
    "\n",
    "    declare -i sum\n",
    "    declare -i cn\n",
    "    sum=0\n",
    "    while read line; do\n",
    "        sum=$sum+$line\n",
    "        echo $line;\n",
    "        cn=$cn+1\n",
    "    done < datoteke/teze.txt\n",
    "\n",
    "    echo \"vsota: $sum\"\n",
    "    echo \"n:\" $cn\n",
    "    echo \"povprečje:\" $sum/$cn\n",
    "    echo \"povprečje2:\"  $[ $sum/$cn ]\n",
    "    echo \"povprečje3:\" $(( $sum/$cn ))\n",
    "```\n",
    "\n",
    "\n",
    "* arguments\n",
    "    - modify script to accept any input file\n",
    "* running other programs within scripts\n",
    "* user input\n",
    "* if else\n",
    "* comparisons\n",
    "    - arithmetic\n",
    "    - string\n",
    "* loops – for iterating thru files, mostly\n",
    "    - for\n",
    "    - while"
   ]
  },
  {
   "cell_type": "markdown",
   "metadata": {},
   "source": [
    "## 3. Pipelines\n",
    "* Redirections of stdin, stdout, stderr to files\n",
    "* Redirections with pipe\n",
    "\n",
    "* Working on multiple files\n",
    "    - Average of averages\n",
    "    - Genome composition, one genome per file"
   ]
  },
  {
   "cell_type": "markdown",
   "metadata": {},
   "source": []
  },
  {
   "cell_type": "markdown",
   "metadata": {},
   "source": [
    "# Vaje"
   ]
  },
  {
   "cell_type": "markdown",
   "metadata": {},
   "source": [
    "### Napisi pythonov program, ki sprejme ime datotek in izracuna povprečje vrednosti."
   ]
  },
  {
   "cell_type": "markdown",
   "metadata": {},
   "source": [
    "average.py\n",
    "\n",
    "```python\n",
    "#!/srv/conda/envs/notebook/bin/python\n",
    "\n",
    "import sys\n",
    "fin_name = sys.argv[1]\n",
    "\n",
    "sum = 0\n",
    "cn = 0\n",
    "for line in open(fin_name):\n",
    "    sum += float(line)\n",
    "    cn += 1\n",
    "\n",
    "if cn > 0:\n",
    "    print(sum/cn)\n",
    "```"
   ]
  },
  {
   "cell_type": "markdown",
   "metadata": {},
   "source": [
    "### Napisi pythonov program, ki sprejme vsebino iz stdin in izracuna povprečje vrednosti.\n",
    "\n",
    "average_stdin.py\n",
    "\n",
    "```python\n",
    "#!/srv/conda/envs/notebook/bin/python\n",
    "\n",
    "import sys\n",
    "fin = sys.stdin\n",
    "\n",
    "sum = 0\n",
    "cn = 0\n",
    "for line in fin:\n",
    "    sum += float(line)\n",
    "    cn += 1\n",
    "\n",
    "if cn > 0:\n",
    "    print(sum/cn)\n",
    "```\n",
    "\n",
    "Program pričakuje novo vrednost (v novi vrstici) ali konec vnašanja (Ctrl+D)."
   ]
  },
  {
   "cell_type": "markdown",
   "metadata": {},
   "source": [
    "### napisi skripto v bash, ki pozene average.py na vsaki datoteki teze\n",
    "\n",
    "pozeni_vse.sh\n",
    "\n",
    "```bash\n",
    "#!/bin/bash\n",
    "\n",
    "for fn in datoteke/teze*.txt; do\n",
    "    python average.py $fn\n",
    "    # ./average.py $fn\n",
    "    # cat $f | ./average.py\n",
    "done\n",
    "```"
   ]
  },
  {
   "cell_type": "markdown",
   "metadata": {},
   "source": [
    "### Napiši program, ki prebere vsako od datotek z zaporedji v datoteke/qwerty-dna/*.txt in za vsako izpiše sestavo a, t, c in g\n",
    "\n",
    "prestej_dna.py\n",
    "```python\n",
    "#!/srv/conda/envs/notebook/bin/python\n",
    "import sys\n",
    "\n",
    "def prestej(s):\n",
    "    frek = {}\n",
    "    for c in s:\n",
    "        frek[c] = frek.get(c, 0) + 1\n",
    "    return frek\n",
    "\n",
    "fin_name = sys.argv[1]\n",
    "print(prestej(open(fin_name).read()))\n",
    "```\n",
    "\n",
    "Kličemo v programu prestej_vse.sh:\n",
    "```bash\n",
    "#!/bin/bash\n",
    "for f in datoteke/qwerty-dna.txt; do\n",
    "    echo \"Procesiram $f\"\n",
    "    ./prestej_dna.py $f\n",
    "done\n",
    "````"
   ]
  },
  {
   "cell_type": "markdown",
   "metadata": {},
   "source": [
    "### Datoteko datoteke/qwerty-dna.txt razbij na posamezne datoteke.\n",
    "\n",
    "razbij.sh\n",
    "```bash\n",
    "for f in `awk {'print $1'} datoteke/qwerty-dna.txt`; do \n",
    "    grep \"$f\" datoteke/qwerty-dna.txt | awk {'print $2'} > $f.txt\n",
    "done\n",
    "```"
   ]
  },
  {
   "cell_type": "code",
   "execution_count": null,
   "metadata": {},
   "outputs": [],
   "source": []
  }
 ],
 "metadata": {
  "kernelspec": {
   "display_name": "Python 3 (ipykernel)",
   "language": "python",
   "name": "python3"
  },
  "language_info": {
   "codemirror_mode": {
    "name": "ipython",
    "version": 3
   },
   "file_extension": ".py",
   "mimetype": "text/x-python",
   "name": "python",
   "nbconvert_exporter": "python",
   "pygments_lexer": "ipython3",
   "version": "3.11.6"
  },
  "latex_envs": {
   "LaTeX_envs_menu_present": true,
   "autocomplete": true,
   "bibliofile": "biblio.bib",
   "cite_by": "apalike",
   "current_citInitial": 1,
   "eqLabelWithNumbers": true,
   "eqNumInitial": 1,
   "hotkeys": {
    "equation": "Ctrl-E",
    "itemize": "Ctrl-I"
   },
   "labels_anchors": false,
   "latex_user_defs": false,
   "report_style_numbering": false,
   "user_envs_cfg": false
  },
  "nbTranslate": {
   "displayLangs": [
    "*"
   ],
   "hotkey": "alt-t",
   "langInMainMenu": true,
   "sourceLang": "en",
   "targetLang": "fr",
   "useGoogleTranslate": true
  }
 },
 "nbformat": 4,
 "nbformat_minor": 4
}
