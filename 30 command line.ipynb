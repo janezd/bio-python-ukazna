{
 "cells": [
  {
   "cell_type": "markdown",
   "metadata": {},
   "source": [
    "# Command line\n",
    "\n",
    "A nice introduction to using Bash can be found [here](https://astrobiomike.github.io/bash/bash_intro_binder).\n",
    "\n",
    "Some other sources include [Bash Scripting Tutorial](https://linuxconfig.org/bash-scripting-tutorial) and the [Linux Tutorial](https://ryanstutorials.net/linuxtutorial/).\n",
    "\n",
    "Some selected examples can be found in [bash.pdf](https://github.com/janezd/bio-python-ukazna/blob/master/docs/bash.pdf)."
   ]
  },
  {
   "cell_type": "markdown",
   "metadata": {},
   "source": [
    "## The Bash interpreter\n",
    "\n",
    "*Bash* is one of the most commonly used interpreters (languages) you will find on a typical *Linux* system.\n",
    "\n",
    "When writing programs in *Bash* you will be able to use all the structures and functionality you expect from any other language, e.g. *Python*.)\n",
    "\n",
    "*Bash* programs are scripts that start with a special first line.\n",
    "\n",
    "\n"
   ]
  },
  {
   "cell_type": "markdown",
   "metadata": {},
   "source": [
    "```bash\n",
    "#!/bin/bash\n",
    "# declare STRING variable\n",
    "STRING=\"Hello World\"\n",
    "#print variable on a screen\n",
    "echo $STRING\n",
    "```"
   ]
  },
  {
   "cell_type": "markdown",
   "metadata": {},
   "source": [
    "The first line looks like it is commented out, because it starts with '#', but it is not. It instructs the command line interpreter to start the script in Bash (program `/bin/bash`)."
   ]
  },
  {
   "cell_type": "markdown",
   "metadata": {},
   "source": [
    "## 1. Linux basics\n",
    "* files\n",
    "    - ls\n",
    "    - cp\n",
    "        - \\$ cp datoteke/primer.fasta kopija.fasta\n",
    "    - rm\n",
    "    - cat, less\n",
    "    - gzip, zless\n",
    "        - \\$ gzip kopija.fasta -> dobimo kopija.fasta.gz\n",
    "        - \\$ less kopija.fasta.gz\n",
    "        - \\$ zless kopija.fasta.gz\n",
    "    - awk\n",
    "        - \\$ awk \\{'print \\$1 \" text \" \\$2'\\} datoteke/osebe.txt\n",
    "* folders\n",
    "    - cd\n",
    "    - mkdir\n",
    "    - rmdir\n",
    "\n",
    "* renaming and moving files\n",
    "    - mv\n",
    "    \n",
    "* programs\n",
    "    - run a python script"
   ]
  },
  {
   "cell_type": "markdown",
   "metadata": {},
   "source": [
    "## 2. Writing and running simple bash examples\n",
    "* structure of a bash script\n",
    "    - \\$ chmod +x simple.sh\n",
    "* variables\n",
    "    - global vs. local\n",
    "* arithmetics\n",
    "    - compute average weight in bash datoteke/teze.txt\n",
    "```bash\n",
    "    #!/bin/bash\n",
    "    echo \"hello world\"\n",
    "\n",
    "    declare -i sum\n",
    "    declare -i cn\n",
    "    sum=0\n",
    "    while read line; do\n",
    "        sum=$sum+$line\n",
    "        echo $line;\n",
    "        cn=$cn+1\n",
    "    done < datoteke/teze.txt\n",
    "\n",
    "    echo $sum\n",
    "    echo $cn\n",
    "    echo $sum/$cn\n",
    "    echo $[ $sum/$cn ]\n",
    "    echo $(( $sum/$cn ))\n",
    "```\n",
    "\n",
    "\n",
    "* arguments\n",
    "    - modify script to accept any input file\n",
    "* running other programs within scripts\n",
    "* user input\n",
    "* if else\n",
    "* comparisons\n",
    "    - arithmetic\n",
    "    - string\n",
    "* loops – for iterating thru files, mostly\n",
    "    - for\n",
    "    - while"
   ]
  },
  {
   "cell_type": "markdown",
   "metadata": {},
   "source": [
    "## 3. Pipelines\n",
    "* Redirections of stdin, stdout, stderr to files\n",
    "* Redirections with pipe\n",
    "\n",
    "* Working on multiple files\n",
    "    - Average of averages\n",
    "    - Genome composition, one genome per file"
   ]
  },
  {
   "cell_type": "code",
   "execution_count": null,
   "metadata": {},
   "outputs": [],
   "source": []
  }
 ],
 "metadata": {
  "kernelspec": {
   "display_name": "Python [default]",
   "language": "python",
   "name": "python3"
  },
  "language_info": {
   "codemirror_mode": {
    "name": "ipython",
    "version": 3
   },
   "file_extension": ".py",
   "mimetype": "text/x-python",
   "name": "python",
   "nbconvert_exporter": "python",
   "pygments_lexer": "ipython3",
   "version": "3.6.3"
  },
  "latex_envs": {
   "LaTeX_envs_menu_present": true,
   "autocomplete": true,
   "bibliofile": "biblio.bib",
   "cite_by": "apalike",
   "current_citInitial": 1,
   "eqLabelWithNumbers": true,
   "eqNumInitial": 1,
   "hotkeys": {
    "equation": "Ctrl-E",
    "itemize": "Ctrl-I"
   },
   "labels_anchors": false,
   "latex_user_defs": false,
   "report_style_numbering": false,
   "user_envs_cfg": false
  },
  "nbTranslate": {
   "displayLangs": [
    "*"
   ],
   "hotkey": "alt-t",
   "langInMainMenu": true,
   "sourceLang": "en",
   "targetLang": "fr",
   "useGoogleTranslate": true
  }
 },
 "nbformat": 4,
 "nbformat_minor": 2
}
