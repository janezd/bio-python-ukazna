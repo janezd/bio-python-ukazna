{
 "cells": [
  {
   "cell_type": "markdown",
   "id": "0f4a4271",
   "metadata": {
    "vscode": {
     "languageId": "shellscript"
    }
   },
   "source": [
    "# Homework on Command Line\n",
    "\n",
    "**Task: Counting the frequency of individual letters in DNA sequences** \\\n",
    "**Due date: 2025-05-25**\n",
    "\n",
    "Write a python script that counts how many times each letter (e.g., A, C, G, T) appears in a given text file containing DNA sequences.\n",
    "\n",
    "The solution should be provided in two parts:\n",
    "\n",
    "1. A Python script (`hw_count_freq.py`) that reads from ``stdin`` and prints the frequency of each letter.\n",
    "\n",
    "2. A Bash script (`hw_count_all.sh`) that processes all files in the [`qwerty-dna/` directory](https://github.com/janezd/bio-python-ukazna/tree/master/zapiski/2025-05-13%20bash/qwerty-dna), and for each file outputs the letter frequencies. The Bash script should find all `.txt` files in the `qwerty-dna/` directory, run the Python script for each file\n",
    "\n",
    "**Note:** Follow the examples and procedures shown in [notes.ipynb](https://github.com/janezd/bio-python-ukazna/blob/master/zapiski/2025-05-13%20bash/notes.ipynb) and associated [examples](https://github.com/janezd/bio-python-ukazna/tree/master/zapiski/2025-05-13%20bash) from our last session.\n",
    "\n",
    "**Submission:** Send the solution by email to [me](mailto:tomaz.curk\\@fri.uni-lj.si?subject=Homework%20on%20Command%20Line) with Subject 'Homework on Command Line', attach the two scripts.\n",
    "\n",
    "### Ad 1\n",
    "\n",
    "Example usage:\n",
    "```bash\n",
    "    cat qwerty-dna/ASDF13.txt | ./hw_count_freq.py\n",
    "```\n",
    "\n",
    "Should output:\n",
    "```\n",
    "g 32\n",
    "c 21\n",
    "a 26\n",
    "t 21\n",
    "```\n",
    "\n",
    "### Ad 2\n",
    "Running the script `hw_count_all.sh` should process all files in the `qwerty-dna/` directory and output the frequencies for each file.\n",
    "\n",
    "```bash\n",
    "    ./hw_count_all.sh\n",
    "```\n",
    "\n",
    "Should output the frequencies for each file in the directory, similar to:\n",
    "```\n",
    "processing qwerty-dna/ASDF13.txt\n",
    "g 32\n",
    "c 21\n",
    "a 26\n",
    "t 21\n",
    "processing qwerty-dna/CVBN21.txt\n",
    "a 24\n",
    "c 26\n",
    "t 30\n",
    "g 20\n",
    "processing qwerty-dna/DFGH15.txt\n",
    "c 31\n",
    "g 22\n",
    "a 26\n",
    "t 21\n",
    "```\n",
    "\n"
   ]
  },
  {
   "cell_type": "markdown",
   "id": "ec1e05ca",
   "metadata": {},
   "source": []
  }
 ],
 "metadata": {
  "kernelspec": {
   "display_name": "Python 3",
   "language": "python",
   "name": "python3"
  },
  "language_info": {
   "name": "python",
   "version": "3.7.3"
  }
 },
 "nbformat": 4,
 "nbformat_minor": 5
}
