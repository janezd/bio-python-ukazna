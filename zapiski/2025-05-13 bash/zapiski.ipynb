{
 "cells": [
  {
   "cell_type": "markdown",
   "id": "1bb712d4-0790-42f7-a80c-b162b1d9f16b",
   "metadata": {},
   "source": [
    "# Command line examples"
   ]
  },
  {
   "cell_type": "code",
   "execution_count": null,
   "id": "e30127b5-309a-474d-a4ef-74d033daf085",
   "metadata": {},
   "outputs": [],
   "source": []
  }
 ],
 "metadata": {
  "kernelspec": {
   "display_name": "Python 3 (ipykernel)",
   "language": "python",
   "name": "python3"
  },
  "language_info": {
   "codemirror_mode": {
    "name": "ipython",
    "version": 3
   },
   "file_extension": ".py",
   "mimetype": "text/x-python",
   "name": "python",
   "nbconvert_exporter": "python",
   "pygments_lexer": "ipython3",
   "version": "3.11.6"
  }
 },
 "nbformat": 4,
 "nbformat_minor": 5
}
