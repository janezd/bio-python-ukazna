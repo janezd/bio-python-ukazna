{
 "cells": [
  {
   "cell_type": "code",
   "execution_count": 1,
   "id": "067ac311-767f-4483-aa0f-951eb743cd03",
   "metadata": {},
   "outputs": [
    {
     "data": {
      "text/plain": [
       "2"
      ]
     },
     "execution_count": 1,
     "metadata": {},
     "output_type": "execute_result"
    }
   ],
   "source": [
    "1 + 1"
   ]
  },
  {
   "cell_type": "code",
   "execution_count": 2,
   "id": "52e74a3c-6e3c-484d-82f0-bd806115e755",
   "metadata": {},
   "outputs": [
    {
     "data": {
      "text/plain": [
       "11"
      ]
     },
     "execution_count": 2,
     "metadata": {},
     "output_type": "execute_result"
    }
   ],
   "source": [
    "5 + 6"
   ]
  },
  {
   "cell_type": "code",
   "execution_count": 3,
   "id": "b106a3db-9ce9-465d-b03d-bc94adc0483a",
   "metadata": {},
   "outputs": [
    {
     "data": {
      "text/plain": [
       "30"
      ]
     },
     "execution_count": 3,
     "metadata": {},
     "output_type": "execute_result"
    }
   ],
   "source": [
    "5 * 6"
   ]
  },
  {
   "cell_type": "code",
   "execution_count": 4,
   "id": "7337f5dd-df0a-48ee-9000-5e1b7bf008c2",
   "metadata": {},
   "outputs": [
    {
     "data": {
      "text/plain": [
       "12"
      ]
     },
     "execution_count": 4,
     "metadata": {},
     "output_type": "execute_result"
    }
   ],
   "source": [
    "5+1 * 7"
   ]
  },
  {
   "cell_type": "code",
   "execution_count": 5,
   "id": "e6014c25-174a-4d8b-b444-2059f40b0959",
   "metadata": {},
   "outputs": [
    {
     "data": {
      "text/plain": [
       "42"
      ]
     },
     "execution_count": 5,
     "metadata": {},
     "output_type": "execute_result"
    }
   ],
   "source": [
    "(5 + 1) * 7"
   ]
  },
  {
   "cell_type": "code",
   "execution_count": 6,
   "id": "fe205e26-5518-40c7-a9bc-9997bfab717b",
   "metadata": {},
   "outputs": [
    {
     "data": {
      "text/plain": [
       "4.0"
      ]
     },
     "execution_count": 6,
     "metadata": {},
     "output_type": "execute_result"
    }
   ],
   "source": [
    "8 / 2"
   ]
  },
  {
   "cell_type": "code",
   "execution_count": 7,
   "id": "f6c73800-2163-47f7-8ab9-b0e5b9240728",
   "metadata": {},
   "outputs": [
    {
     "data": {
      "text/plain": [
       "1"
      ]
     },
     "execution_count": 7,
     "metadata": {},
     "output_type": "execute_result"
    }
   ],
   "source": [
    "25 % 4"
   ]
  },
  {
   "cell_type": "code",
   "execution_count": 8,
   "id": "976f32de-0d24-40fa-9738-2858d9762e37",
   "metadata": {},
   "outputs": [
    {
     "data": {
      "text/plain": [
       "2"
      ]
     },
     "execution_count": 8,
     "metadata": {},
     "output_type": "execute_result"
    }
   ],
   "source": [
    "26 % 4"
   ]
  },
  {
   "cell_type": "code",
   "execution_count": 9,
   "id": "dcbb1c2f-052b-4632-aa4d-e6be6bfd161f",
   "metadata": {},
   "outputs": [
    {
     "data": {
      "text/plain": [
       "25"
      ]
     },
     "execution_count": 9,
     "metadata": {},
     "output_type": "execute_result"
    }
   ],
   "source": [
    "5 ** 2"
   ]
  },
  {
   "cell_type": "code",
   "execution_count": 10,
   "id": "bfd4fdc8-6d70-4639-8e17-17b8c47fd55e",
   "metadata": {},
   "outputs": [
    {
     "data": {
      "text/plain": [
       "4"
      ]
     },
     "execution_count": 10,
     "metadata": {},
     "output_type": "execute_result"
    }
   ],
   "source": [
    "2 * 2"
   ]
  },
  {
   "cell_type": "code",
   "execution_count": 11,
   "id": "3644a67e-a010-4bd1-946c-e96d773aae00",
   "metadata": {},
   "outputs": [
    {
     "data": {
      "text/plain": [
       "4.0"
      ]
     },
     "execution_count": 11,
     "metadata": {},
     "output_type": "execute_result"
    }
   ],
   "source": [
    "8 / 2"
   ]
  },
  {
   "cell_type": "code",
   "execution_count": 12,
   "id": "e4192c5b-bcfc-4021-a01a-43e5d294def2",
   "metadata": {},
   "outputs": [
    {
     "data": {
      "text/plain": [
       "2.8"
      ]
     },
     "execution_count": 12,
     "metadata": {},
     "output_type": "execute_result"
    }
   ],
   "source": [
    "14 / 5"
   ]
  },
  {
   "cell_type": "code",
   "execution_count": 13,
   "id": "5f7e3378-fba2-4b0b-a8d7-8af6179151b7",
   "metadata": {},
   "outputs": [
    {
     "data": {
      "text/plain": [
       "2"
      ]
     },
     "execution_count": 13,
     "metadata": {},
     "output_type": "execute_result"
    }
   ],
   "source": [
    "14 // 5"
   ]
  },
  {
   "cell_type": "code",
   "execution_count": 14,
   "id": "3e362cd9-0643-41cc-8ad2-73952813a969",
   "metadata": {},
   "outputs": [
    {
     "data": {
      "text/plain": [
       "2.6666666666666665"
      ]
     },
     "execution_count": 14,
     "metadata": {},
     "output_type": "execute_result"
    }
   ],
   "source": [
    "2.4 / 0.9"
   ]
  },
  {
   "cell_type": "code",
   "execution_count": 15,
   "id": "2ee6c636-332d-44a2-8f01-d6dbf516bc12",
   "metadata": {},
   "outputs": [
    {
     "data": {
      "text/plain": [
       "2.0"
      ]
     },
     "execution_count": 15,
     "metadata": {},
     "output_type": "execute_result"
    }
   ],
   "source": [
    "2.4 // 0.9"
   ]
  },
  {
   "cell_type": "code",
   "execution_count": 16,
   "id": "d747ea14-0b94-42e8-a9ea-a89bf22ce2ab",
   "metadata": {},
   "outputs": [
    {
     "data": {
      "text/plain": [
       "1747871251722651609659974619164660570529062487435188517811888011810686266227275489291486469864681111075608950696145276588771368435875508647514414202093638481872912380089977179381529628478320523519319142681504424059410890214500500647813935818925701905402605484098137956979368551025825239411318643997916523677044769662628646406540335627975329619264245079750470862462474091105444437355302146151475348090755330153269067933091699479889089824650841795567478606396975664557143737657027080403239977757865296846740093712377915770536094223688049108023244139183027962484411078464439516845227961935221269814753416782576455507316073751985374046064592546796043150737808314501684679758056905948759246368644416151863138085276603595816410945157599742077617618911601185155602080771746785959359879490191933389965271275403127925432247963269675912646103156343954375442792688936047041533537523137941310690833949767764290081333900380310406154723157882112449991673819054110440001"
      ]
     },
     "execution_count": 16,
     "metadata": {},
     "output_type": "execute_result"
    }
   ],
   "source": [
    "9 ** 1000"
   ]
  },
  {
   "cell_type": "code",
   "execution_count": 17,
   "id": "7cf1249a-7736-46ec-aa85-ceee12ba9621",
   "metadata": {},
   "outputs": [
    {
     "data": {
      "text/plain": [
       "8"
      ]
     },
     "execution_count": 17,
     "metadata": {},
     "output_type": "execute_result"
    }
   ],
   "source": [
    "5 + 3"
   ]
  },
  {
   "cell_type": "code",
   "execution_count": 18,
   "id": "6acdc9dd-58dc-4159-86d0-1a158d3b9347",
   "metadata": {},
   "outputs": [
    {
     "data": {
      "text/plain": [
       "32"
      ]
     },
     "execution_count": 18,
     "metadata": {},
     "output_type": "execute_result"
    }
   ],
   "source": [
    "_ * 4"
   ]
  },
  {
   "cell_type": "code",
   "execution_count": 19,
   "id": "fdbdb0f2-7d49-46a7-9caa-ebda0af3a6a2",
   "metadata": {},
   "outputs": [
    {
     "data": {
      "text/plain": [
       "35"
      ]
     },
     "execution_count": 19,
     "metadata": {},
     "output_type": "execute_result"
    }
   ],
   "source": [
    "_ + 3"
   ]
  },
  {
   "cell_type": "code",
   "execution_count": 20,
   "id": "8922aa4f-04f3-467d-a5a7-79f74e4c0662",
   "metadata": {},
   "outputs": [
    {
     "ename": "NameError",
     "evalue": "name '_20' is not defined",
     "output_type": "error",
     "traceback": [
      "\u001b[31m---------------------------------------------------------------------------\u001b[39m",
      "\u001b[31mNameError\u001b[39m                                 Traceback (most recent call last)",
      "\u001b[36mCell\u001b[39m\u001b[36m \u001b[39m\u001b[32mIn[20]\u001b[39m\u001b[32m, line 1\u001b[39m\n\u001b[32m----> \u001b[39m\u001b[32m1\u001b[39m _19 + \u001b[43m_20\u001b[49m\n",
      "\u001b[31mNameError\u001b[39m: name '_20' is not defined"
     ]
    }
   ],
   "source": [
    "_19 + _20"
   ]
  },
  {
   "cell_type": "code",
   "execution_count": 21,
   "id": "b3137d0c-abc6-41d1-814d-dc4517496c90",
   "metadata": {},
   "outputs": [
    {
     "data": {
      "text/plain": [
       "95"
      ]
     },
     "execution_count": 21,
     "metadata": {},
     "output_type": "execute_result"
    }
   ],
   "source": [
    "(8 + 2 * (\n",
    "    4 + 6 + 8 +\n",
    "    3 + 4 * 5)\n",
    " + 5)"
   ]
  },
  {
   "cell_type": "code",
   "execution_count": 22,
   "id": "904270b2-c679-4f3e-8f51-1235dbbb7d9a",
   "metadata": {},
   "outputs": [],
   "source": [
    "ploscina = 5 * 6"
   ]
  },
  {
   "cell_type": "code",
   "execution_count": 23,
   "id": "f6fa7b3a-1cdb-44a4-9e58-8701549c68f2",
   "metadata": {},
   "outputs": [],
   "source": [
    "visina = 7"
   ]
  },
  {
   "cell_type": "code",
   "execution_count": 24,
   "id": "fc822900-7424-4390-ab1d-7780c1c2ab57",
   "metadata": {},
   "outputs": [],
   "source": [
    "prostornina = ploscina * visina"
   ]
  },
  {
   "cell_type": "code",
   "execution_count": 25,
   "id": "a14d4bb0-e754-41bf-9511-248729f4093d",
   "metadata": {},
   "outputs": [
    {
     "data": {
      "text/plain": [
       "210"
      ]
     },
     "execution_count": 25,
     "metadata": {},
     "output_type": "execute_result"
    }
   ],
   "source": [
    "prostornina"
   ]
  },
  {
   "cell_type": "code",
   "execution_count": 26,
   "id": "8c56d486-cbcb-4c72-91d9-6c237c772a93",
   "metadata": {},
   "outputs": [],
   "source": [
    "x = 1\n",
    "y = 2"
   ]
  },
  {
   "cell_type": "code",
   "execution_count": 27,
   "id": "3338812f-ac94-48dd-8e34-45832a79457a",
   "metadata": {},
   "outputs": [
    {
     "data": {
      "text/plain": [
       "1"
      ]
     },
     "execution_count": 27,
     "metadata": {},
     "output_type": "execute_result"
    }
   ],
   "source": [
    "x"
   ]
  },
  {
   "cell_type": "code",
   "execution_count": 28,
   "id": "f5b85026-2f65-494b-9a9a-f5a641a5c305",
   "metadata": {},
   "outputs": [
    {
     "data": {
      "text/plain": [
       "2"
      ]
     },
     "execution_count": 28,
     "metadata": {},
     "output_type": "execute_result"
    }
   ],
   "source": [
    "y"
   ]
  },
  {
   "cell_type": "code",
   "execution_count": 29,
   "id": "ac62d806-56d5-4e77-8860-08f9d9a8381d",
   "metadata": {},
   "outputs": [],
   "source": [
    "b = 12\n",
    "a = b + 1\n"
   ]
  },
  {
   "cell_type": "code",
   "execution_count": 30,
   "id": "f9459e75-a3bb-4dd6-88d4-7c2225ac956c",
   "metadata": {},
   "outputs": [],
   "source": [
    "a = 5\n",
    "b = a + 1\n",
    "a = 6"
   ]
  },
  {
   "cell_type": "code",
   "execution_count": 31,
   "id": "1e421c32-e6e0-4353-af16-7e6210c8cc08",
   "metadata": {},
   "outputs": [
    {
     "data": {
      "text/plain": [
       "6"
      ]
     },
     "execution_count": 31,
     "metadata": {},
     "output_type": "execute_result"
    }
   ],
   "source": [
    "b"
   ]
  },
  {
   "cell_type": "code",
   "execution_count": 32,
   "id": "ce48fa98-4660-4fa3-9c3d-a0dd1fa87389",
   "metadata": {},
   "outputs": [],
   "source": [
    "b = b + 1"
   ]
  },
  {
   "cell_type": "code",
   "execution_count": 33,
   "id": "2aba830b-17b6-4b0d-9570-c1cc2f7905ec",
   "metadata": {},
   "outputs": [
    {
     "data": {
      "text/plain": [
       "7"
      ]
     },
     "execution_count": 33,
     "metadata": {},
     "output_type": "execute_result"
    }
   ],
   "source": [
    "b"
   ]
  },
  {
   "cell_type": "code",
   "execution_count": 34,
   "id": "e0c699ca-1ae2-453d-a2d5-d74e0ce39dbf",
   "metadata": {},
   "outputs": [],
   "source": [
    "ploščina = 6"
   ]
  },
  {
   "cell_type": "code",
   "execution_count": 35,
   "id": "497b527d-c8f2-430a-b0e4-2b4d606a5dbd",
   "metadata": {},
   "outputs": [
    {
     "data": {
      "text/plain": [
       "6"
      ]
     },
     "execution_count": 35,
     "metadata": {},
     "output_type": "execute_result"
    }
   ],
   "source": [
    "ploščina"
   ]
  },
  {
   "cell_type": "code",
   "execution_count": 36,
   "id": "8c539f12-2571-451d-805f-5ed0dec58a04",
   "metadata": {},
   "outputs": [
    {
     "ename": "NameError",
     "evalue": "name 'Ploščina' is not defined",
     "output_type": "error",
     "traceback": [
      "\u001b[31m---------------------------------------------------------------------------\u001b[39m",
      "\u001b[31mNameError\u001b[39m                                 Traceback (most recent call last)",
      "\u001b[36mCell\u001b[39m\u001b[36m \u001b[39m\u001b[32mIn[36]\u001b[39m\u001b[32m, line 1\u001b[39m\n\u001b[32m----> \u001b[39m\u001b[32m1\u001b[39m \u001b[43mPloščina\u001b[49m\n",
      "\u001b[31mNameError\u001b[39m: name 'Ploščina' is not defined"
     ]
    }
   ],
   "source": [
    "Ploščina"
   ]
  },
  {
   "cell_type": "code",
   "execution_count": null,
   "id": "fb51c346-2d53-4802-82fa-ca8fbba47b82",
   "metadata": {},
   "outputs": [],
   "source": [
    "плошчина = 16"
   ]
  },
  {
   "cell_type": "code",
   "execution_count": null,
   "id": "4a0bed38-7dc1-44c6-b0d2-655a86413b5c",
   "metadata": {},
   "outputs": [],
   "source": [
    "π = 3.14"
   ]
  },
  {
   "cell_type": "code",
   "execution_count": null,
   "id": "d755e7b3-c20b-46af-b0e5-fc83332e27b4",
   "metadata": {},
   "outputs": [],
   "source": [
    "π"
   ]
  },
  {
   "cell_type": "code",
   "execution_count": null,
   "id": "ef6a37af-93dd-4810-a074-e80bf9cf88af",
   "metadata": {},
   "outputs": [],
   "source": [
    "stevilo_evglen = 42"
   ]
  },
  {
   "cell_type": "code",
   "execution_count": null,
   "id": "b4b1c007-1beb-4281-af05-ae584c47ed32",
   "metadata": {},
   "outputs": [],
   "source": [
    "7 = a"
   ]
  },
  {
   "cell_type": "code",
   "execution_count": null,
   "id": "68cbe694-d66a-413d-b453-14fe7a7ab9f7",
   "metadata": {},
   "outputs": [],
   "source": [
    "x = 5\n",
    "y = 7"
   ]
  },
  {
   "cell_type": "code",
   "execution_count": null,
   "id": "92eb3d44-af54-4315-8de3-785078cd1cb6",
   "metadata": {},
   "outputs": [],
   "source": [
    "if = 6"
   ]
  },
  {
   "cell_type": "code",
   "execution_count": null,
   "id": "be3e77cb-3905-4c39-a8d9-d86054461085",
   "metadata": {},
   "outputs": [],
   "source": [
    "x = 5"
   ]
  },
  {
   "cell_type": "code",
   "execution_count": null,
   "id": "9403aa24-cbb5-42f5-a07e-23005984a835",
   "metadata": {},
   "outputs": [],
   "source": [
    "x = 6"
   ]
  },
  {
   "cell_type": "code",
   "execution_count": null,
   "id": "63982f41-2bed-4bf3-8500-80ff2a81a9a4",
   "metadata": {},
   "outputs": [],
   "source": [
    "abs(-5)"
   ]
  },
  {
   "cell_type": "code",
   "execution_count": null,
   "id": "740d5079-d024-4fb8-b0dc-77b9839c0b78",
   "metadata": {},
   "outputs": [],
   "source": [
    "pow(5, 2)"
   ]
  },
  {
   "cell_type": "code",
   "execution_count": null,
   "id": "91838d3b-4811-4a85-99cd-c89e1ca9c489",
   "metadata": {},
   "outputs": [],
   "source": [
    "sqrt(4)"
   ]
  },
  {
   "cell_type": "code",
   "execution_count": null,
   "id": "0da6c512-d6dd-4b8c-bd84-97cfc097a0f4",
   "metadata": {},
   "outputs": [],
   "source": [
    "from math import *"
   ]
  },
  {
   "cell_type": "code",
   "execution_count": null,
   "id": "57422f50-3be1-4bbd-82d2-3b0203319046",
   "metadata": {},
   "outputs": [],
   "source": [
    "sqrt(4)"
   ]
  },
  {
   "cell_type": "code",
   "execution_count": null,
   "id": "3ac4e874-a9a7-4ad4-87f1-12d8133360d5",
   "metadata": {},
   "outputs": [],
   "source": [
    "sin(3.14)"
   ]
  },
  {
   "cell_type": "code",
   "execution_count": null,
   "id": "6580e108-4863-46d4-bfc8-ca50591d0778",
   "metadata": {},
   "outputs": [],
   "source": [
    "pi"
   ]
  },
  {
   "cell_type": "code",
   "execution_count": null,
   "id": "a1ea813d-f7ac-43bf-9823-a5717a92f342",
   "metadata": {},
   "outputs": [],
   "source": [
    "e"
   ]
  },
  {
   "cell_type": "code",
   "execution_count": null,
   "id": "ae4be1fa-7e31-4d4a-9196-f900528959e2",
   "metadata": {},
   "outputs": [],
   "source": [
    "sqrt((5 - 8) * 3 * ploscina) + sin(1)"
   ]
  },
  {
   "cell_type": "code",
   "execution_count": null,
   "id": "d6895705-8887-41da-8835-70601445c6c4",
   "metadata": {},
   "outputs": [],
   "source": [
    "1 / (ploščina - 6)"
   ]
  },
  {
   "cell_type": "code",
   "execution_count": null,
   "id": "abd665f7-931e-4fd8-a8a4-9f688072df71",
   "metadata": {},
   "outputs": [],
   "source": [
    "vreme = \"Dež\""
   ]
  },
  {
   "cell_type": "code",
   "execution_count": null,
   "id": "6006f51d-b285-42c2-8c70-de6435d7d0a1",
   "metadata": {},
   "outputs": [],
   "source": [
    "vreme_jutri = 'Dež'"
   ]
  },
  {
   "cell_type": "code",
   "execution_count": null,
   "id": "739bd9e2-698b-4d4d-a2fb-7623743ba421",
   "metadata": {},
   "outputs": [],
   "source": [
    "vreme"
   ]
  },
  {
   "cell_type": "code",
   "execution_count": null,
   "id": "2f96a470-b0ea-4b44-ab76-31090316a4cd",
   "metadata": {},
   "outputs": [],
   "source": [
    "vreme + ploščina"
   ]
  },
  {
   "cell_type": "code",
   "execution_count": null,
   "id": "ae51be08-2fc4-436d-8b26-92bff7dc798e",
   "metadata": {},
   "outputs": [],
   "source": [
    "ploščina + vreme"
   ]
  },
  {
   "cell_type": "code",
   "execution_count": null,
   "id": "5304adf2-2972-42ab-87ba-51bad1ff4787",
   "metadata": {},
   "outputs": [],
   "source": [
    "napoved = \"Danes je \""
   ]
  },
  {
   "cell_type": "code",
   "execution_count": null,
   "id": "13d08105-1fc2-4627-bfc6-1a784512d1fe",
   "metadata": {},
   "outputs": [],
   "source": [
    "napoved + vreme"
   ]
  },
  {
   "cell_type": "code",
   "execution_count": null,
   "id": "5b76107d-48fd-44b3-9d98-cebba8312b9a",
   "metadata": {},
   "outputs": [],
   "source": [
    "vreme * 6"
   ]
  },
  {
   "cell_type": "code",
   "execution_count": null,
   "id": "b23e15b5-f6e2-4427-a850-bb71fe701f2a",
   "metadata": {},
   "outputs": [],
   "source": [
    "vreme * 6.5"
   ]
  },
  {
   "cell_type": "code",
   "execution_count": null,
   "id": "cdcf1e4f-8115-4da2-88b8-a0db5b988585",
   "metadata": {},
   "outputs": [],
   "source": [
    "vreme * (ploščina / 3)"
   ]
  },
  {
   "cell_type": "code",
   "execution_count": null,
   "id": "6329b7d9-059a-4628-9c73-bc7898d82d49",
   "metadata": {},
   "outputs": [],
   "source": [
    "ploščina / 3"
   ]
  },
  {
   "cell_type": "code",
   "execution_count": null,
   "id": "008b4cf0-0b0c-4480-b98c-bcac3b88cc63",
   "metadata": {},
   "outputs": [],
   "source": [
    "vreme * (ploščina // 3)"
   ]
  },
  {
   "cell_type": "code",
   "execution_count": null,
   "id": "5bc3d693-b1c7-456e-88bf-da42c462a0e5",
   "metadata": {},
   "outputs": [],
   "source": [
    "print(5 + 2)"
   ]
  },
  {
   "cell_type": "code",
   "execution_count": null,
   "id": "13626262-0a06-46e0-ae4e-02a39e74fa4c",
   "metadata": {},
   "outputs": [],
   "source": [
    "print(vreme)"
   ]
  },
  {
   "cell_type": "code",
   "execution_count": null,
   "id": "87262a88-ca1d-4368-bf25-d1ab48f3201c",
   "metadata": {},
   "outputs": [],
   "source": [
    "print(vreme, 5 + 2, ploščina, sqrt(17))"
   ]
  },
  {
   "cell_type": "code",
   "execution_count": null,
   "id": "1fa21fb5-2c81-4a67-a81b-e8eff505e402",
   "metadata": {},
   "outputs": [],
   "source": [
    "x"
   ]
  },
  {
   "cell_type": "code",
   "execution_count": null,
   "id": "5dd1b2e2-b7cf-4310-b16b-45f4e864d3e0",
   "metadata": {},
   "outputs": [],
   "source": [
    "print(x + 2)\n",
    "print(x * 13)\n",
    "print(x - 4)"
   ]
  },
  {
   "cell_type": "code",
   "execution_count": null,
   "id": "323a3258-ca2f-426a-9f3f-2b1e8b017a1e",
   "metadata": {},
   "outputs": [],
   "source": [
    "t = input(\"Temperatura: \")"
   ]
  },
  {
   "cell_type": "code",
   "execution_count": null,
   "id": "0326d02a-1662-4bca-b742-34c8c8495235",
   "metadata": {},
   "outputs": [],
   "source": [
    "t"
   ]
  },
  {
   "cell_type": "code",
   "execution_count": null,
   "id": "909bd188-8577-4db8-bb07-b1dfe0d199ec",
   "metadata": {},
   "outputs": [],
   "source": [
    "c = input(\"Temperatura: \")\n",
    "f = float(c) * 9 / 5 + 32\n",
    "print(\"To je\", f, \"Fahrenheitov\")"
   ]
  },
  {
   "cell_type": "code",
   "execution_count": null,
   "id": "5d44aa61-ef99-4d75-b7b0-de5e3fd0de0f",
   "metadata": {},
   "outputs": [],
   "source": [
    "c * 9 / 5"
   ]
  },
  {
   "cell_type": "code",
   "execution_count": null,
   "id": "331ba1c1-1088-4bcc-b940-996adf50c063",
   "metadata": {},
   "outputs": [],
   "source": [
    "while True:\n",
    "    pass"
   ]
  },
  {
   "cell_type": "code",
   "execution_count": null,
   "id": "b310fe29-2311-4c0c-ac37-1e7c8b9b541f",
   "metadata": {},
   "outputs": [],
   "source": [
    "str(15)"
   ]
  },
  {
   "cell_type": "code",
   "execution_count": null,
   "id": "1ede76c4-fb50-445a-ac7f-a214a8d993ed",
   "metadata": {},
   "outputs": [],
   "source": [
    "float(\"3.14\")"
   ]
  },
  {
   "cell_type": "code",
   "execution_count": null,
   "id": "a73ecdbc-57db-4b71-9911-a9649adb2a4a",
   "metadata": {},
   "outputs": [],
   "source": [
    "int(\"3.14\")"
   ]
  },
  {
   "cell_type": "code",
   "execution_count": null,
   "id": "e66c2a6e-b1c6-46a8-a23a-a10cdf6f7cc7",
   "metadata": {},
   "outputs": [],
   "source": [
    "5 + 2"
   ]
  },
  {
   "cell_type": "code",
   "execution_count": null,
   "id": "44f24fcf-6508-41b9-97ea-e8e1331e61e3",
   "metadata": {},
   "outputs": [],
   "source": [
    "print(\"Nekaj\")"
   ]
  },
  {
   "cell_type": "code",
   "execution_count": null,
   "id": "b3cfa26d-4dc5-4e2e-995f-e55ec7901033",
   "metadata": {},
   "outputs": [],
   "source": [
    "teza = float(input(\"Teža [kg]: \"))\n",
    "visina = float(input(\"Višina: \"))\n",
    "if visina <= 3:\n",
    "    print(\"Priden, vpisal si višino v metrih\")\n",
    "else:\n",
    "    visina = visina / 100\n",
    "    print(\"Prijazno sem pretvoril višino v metre\")\n",
    "bmi = teza / (visina ** 2)\n",
    "print(\"BMI:\", bmi)\n",
    "if bmi > 26:\n",
    "    print(\"Tole je malo preveč\")\n",
    "if bmi < 12:\n",
    "    print(\"Anoreksija\")\n",
    "elif bmi < 18:\n",
    "    print(\"Več jest!\")\n",
    "else:\n",
    "    print(\"Le tako naprej\")\n"
   ]
  },
  {
   "cell_type": "code",
   "execution_count": null,
   "id": "b39a04b5-4c38-4ba8-8c93-9851a2aaa109",
   "metadata": {},
   "outputs": [],
   "source": [
    "print(\"bla\", \"bla\", \"bla\")"
   ]
  },
  {
   "cell_type": "code",
   "execution_count": null,
   "id": "fbe05fd3-b6b2-49a0-9c4a-1968920427a3",
   "metadata": {},
   "outputs": [],
   "source": [
    "5 + 7"
   ]
  },
  {
   "cell_type": "code",
   "execution_count": null,
   "id": "f3aec2fc-92cb-4d95-b43b-080c9b26eba0",
   "metadata": {},
   "outputs": [],
   "source": [
    "5 < 7"
   ]
  },
  {
   "cell_type": "code",
   "execution_count": null,
   "id": "568fcf21-ef90-4b53-ac40-8dfa8cd3d24e",
   "metadata": {},
   "outputs": [],
   "source": [
    "5 > 7"
   ]
  },
  {
   "cell_type": "code",
   "execution_count": null,
   "id": "da418b89-7fca-4d8f-8c30-cc31c9c94de4",
   "metadata": {},
   "outputs": [],
   "source": [
    "x = 5\n",
    "y = 3"
   ]
  },
  {
   "cell_type": "code",
   "execution_count": null,
   "id": "838d07e8-5488-4935-8a8e-dfe74754a9cb",
   "metadata": {},
   "outputs": [],
   "source": [
    "x > 1 and y > 2"
   ]
  },
  {
   "cell_type": "code",
   "execution_count": null,
   "id": "e8435ea8-d4d6-4102-8fd9-9b9b6ffa8003",
   "metadata": {},
   "outputs": [],
   "source": [
    "x > 1"
   ]
  },
  {
   "cell_type": "code",
   "execution_count": null,
   "id": "4c893fcc-7683-4c0b-a61c-2cf72805edc0",
   "metadata": {},
   "outputs": [],
   "source": [
    "y > 2"
   ]
  },
  {
   "cell_type": "code",
   "execution_count": null,
   "id": "7e9ab7c2-15c1-4318-b543-e4278ec31ac7",
   "metadata": {},
   "outputs": [],
   "source": [
    "True and False"
   ]
  },
  {
   "cell_type": "markdown",
   "id": "385f3d03-7776-486e-b799-49a097889daf",
   "metadata": {},
   "source": [
    "Če je višina večja od 3 stori naslednje:\n",
    "- deli višino s 100\n",
    "- povej, da si to storil"
   ]
  },
  {
   "cell_type": "code",
   "execution_count": null,
   "id": "0a41524d-787f-41ab-a9eb-dd428ad5de25",
   "metadata": {},
   "outputs": [],
   "source": [
    "6 * 7 == 42 or 5934683498498475 % 7 == 3"
   ]
  },
  {
   "cell_type": "code",
   "execution_count": null,
   "id": "2feda043-9e30-470b-a24d-75bc16529681",
   "metadata": {},
   "outputs": [],
   "source": [
    "6 * 7 == 42 or 1 / 0 > 8"
   ]
  },
  {
   "cell_type": "code",
   "execution_count": null,
   "id": "622ccae4-02aa-484c-ac3c-f9cbe399f1a5",
   "metadata": {},
   "outputs": [],
   "source": [
    "1 / 0 > 8 or 6 * 7 == 42"
   ]
  },
  {
   "cell_type": "code",
   "execution_count": null,
   "id": "98a0487c-8f44-4726-becf-c89a4878adb4",
   "metadata": {},
   "outputs": [],
   "source": [
    "6 * 7 == 42 and 1 / 0 == 2"
   ]
  },
  {
   "cell_type": "code",
   "execution_count": null,
   "id": "531a5cc8-0fee-4f98-a4cb-0e7537cc6e83",
   "metadata": {},
   "outputs": [],
   "source": [
    "n = 2 # 19676545678\n",
    "izpisanih = 0\n",
    "najvecje_doslej = n\n",
    "print(n)\n",
    "while n != 1:\n",
    "    if n % 2 == 0:\n",
    "       n = n // 2\n",
    "    else:\n",
    "       n = 3 * n + 1\n",
    "    if n > najvecje_doslej:\n",
    "        najvecje_doslej = n\n",
    "    print(n)\n",
    "    izpisanih = izpisanih + 1\n",
    "print(\"Izpisanih števil:\", izpisanih)\n",
    "print(\"Največje: \", najvecje_doslej)"
   ]
  },
  {
   "cell_type": "code",
   "execution_count": null,
   "id": "ba27967d-95bc-4f67-bc6f-5bc0d8e64225",
   "metadata": {},
   "outputs": [],
   "source": [
    "if x > 5:\n",
    "    print(\"A\")\n",
    "else:\n",
    "    if y > 3:\n",
    "        print(\"B\")\n",
    "    else:\n",
    "        print(\"C\")"
   ]
  },
  {
   "cell_type": "code",
   "execution_count": null,
   "id": "f61611fb-b00b-465d-8652-653e83c4193c",
   "metadata": {},
   "outputs": [],
   "source": [
    "if x > 5:\n",
    "    print(\"A\")\n",
    "elif y > 3:\n",
    "    print(\"B\")\n",
    "else:\n",
    "    print(\"C\")"
   ]
  },
  {
   "cell_type": "code",
   "execution_count": 38,
   "id": "681d4fde-15da-44b8-aaaf-2af4cd8573a9",
   "metadata": {},
   "outputs": [],
   "source": [
    "s = \"1,85\""
   ]
  },
  {
   "cell_type": "code",
   "execution_count": 39,
   "id": "5f7d2673-4075-4ae1-88c7-a05b86725c90",
   "metadata": {},
   "outputs": [],
   "source": [
    "names = \"Ana Berta Cilka Dani\""
   ]
  },
  {
   "cell_type": "code",
   "execution_count": 40,
   "id": "da3cb1b9-027f-429d-9367-7f31e6202455",
   "metadata": {},
   "outputs": [
    {
     "ename": "NameError",
     "evalue": "name 'split' is not defined",
     "output_type": "error",
     "traceback": [
      "\u001b[31m---------------------------------------------------------------------------\u001b[39m",
      "\u001b[31mNameError\u001b[39m                                 Traceback (most recent call last)",
      "\u001b[36mCell\u001b[39m\u001b[36m \u001b[39m\u001b[32mIn[40]\u001b[39m\u001b[32m, line 1\u001b[39m\n\u001b[32m----> \u001b[39m\u001b[32m1\u001b[39m \u001b[43msplit\u001b[49m(names)\n",
      "\u001b[31mNameError\u001b[39m: name 'split' is not defined"
     ]
    }
   ],
   "source": [
    "split(names)"
   ]
  },
  {
   "cell_type": "code",
   "execution_count": 41,
   "id": "315b3bed-e7cc-4565-b1f6-5898cc7922ab",
   "metadata": {},
   "outputs": [
    {
     "data": {
      "text/plain": [
       "'1.85'"
      ]
     },
     "execution_count": 41,
     "metadata": {},
     "output_type": "execute_result"
    }
   ],
   "source": [
    "s.replace(\",\", \".\")"
   ]
  },
  {
   "cell_type": "code",
   "execution_count": 42,
   "id": "0277de87-837b-408b-91e0-08ebf69cba43",
   "metadata": {},
   "outputs": [
    {
     "data": {
      "text/plain": [
       "'1,85'"
      ]
     },
     "execution_count": 42,
     "metadata": {},
     "output_type": "execute_result"
    }
   ],
   "source": [
    "s"
   ]
  },
  {
   "cell_type": "code",
   "execution_count": 44,
   "id": "2d1da2f6-8f0c-4f08-9660-ecb5f3ace08b",
   "metadata": {},
   "outputs": [
    {
     "data": {
      "text/plain": [
       "'Ana Berta Cilka Dani'"
      ]
     },
     "execution_count": 44,
     "metadata": {},
     "output_type": "execute_result"
    }
   ],
   "source": [
    "names"
   ]
  },
  {
   "cell_type": "code",
   "execution_count": 45,
   "id": "0bfd53d7-f96f-405b-bd15-81f498fbdd24",
   "metadata": {},
   "outputs": [
    {
     "data": {
      "text/plain": [
       "'Ana Bertolin Cilka Dani'"
      ]
     },
     "execution_count": 45,
     "metadata": {},
     "output_type": "execute_result"
    }
   ],
   "source": [
    "names.replace(\"Berta\", \"Bertolin\")"
   ]
  },
  {
   "cell_type": "code",
   "execution_count": 48,
   "id": "77a957fd-3890-4c67-ad5e-5ca6ebe66ed1",
   "metadata": {},
   "outputs": [],
   "source": [
    "lower_names = names.lower()"
   ]
  },
  {
   "cell_type": "code",
   "execution_count": 49,
   "id": "e34ea945-286e-4df5-b6f7-b9389929f3d3",
   "metadata": {},
   "outputs": [
    {
     "data": {
      "text/plain": [
       "'ana berta cilka dani'"
      ]
     },
     "execution_count": 49,
     "metadata": {},
     "output_type": "execute_result"
    }
   ],
   "source": [
    "lower_names"
   ]
  },
  {
   "cell_type": "code",
   "execution_count": 51,
   "id": "d8f704e0-6458-4696-8b4f-0c42c2dda16c",
   "metadata": {},
   "outputs": [
    {
     "data": {
      "text/plain": [
       "'tua berta cilka dtui'"
      ]
     },
     "execution_count": 51,
     "metadata": {},
     "output_type": "execute_result"
    }
   ],
   "source": [
    "lower_names.replace(\"an\", \"tu\")"
   ]
  },
  {
   "cell_type": "code",
   "execution_count": 52,
   "id": "944b45c0-5527-4c22-8daf-7b71cd2b765b",
   "metadata": {},
   "outputs": [],
   "source": [
    "sequence = \"acgatagcatcggagactagctagcaggcgtatgcagtcgatgcgatgcagtgactg\""
   ]
  },
  {
   "cell_type": "code",
   "execution_count": 53,
   "id": "1e353deb-3dfe-4456-a47b-23dfd172c7c4",
   "metadata": {},
   "outputs": [
    {
     "data": {
      "text/plain": [
       "'acgauagcaucggagacuagcuagcaggcguaugcagucgaugcgaugcagugacug'"
      ]
     },
     "execution_count": 53,
     "metadata": {},
     "output_type": "execute_result"
    }
   ],
   "source": [
    "sequence.replace(\"t\", \"u\")"
   ]
  },
  {
   "cell_type": "code",
   "execution_count": 55,
   "id": "386f113e-0f19-4962-9420-528d93f24766",
   "metadata": {},
   "outputs": [
    {
     "data": {
      "text/plain": [
       "11"
      ]
     },
     "execution_count": 55,
     "metadata": {},
     "output_type": "execute_result"
    }
   ],
   "source": [
    "sequence.count(\"t\")"
   ]
  },
  {
   "cell_type": "code",
   "execution_count": 56,
   "id": "07bb7701-c691-4c7a-a0d0-8936a7b1163e",
   "metadata": {},
   "outputs": [
    {
     "data": {
      "text/plain": [
       "2"
      ]
     },
     "execution_count": 56,
     "metadata": {},
     "output_type": "execute_result"
    }
   ],
   "source": [
    "sequence.count(\"gg\")"
   ]
  },
  {
   "cell_type": "code",
   "execution_count": 108,
   "id": "a661baae-17c6-4344-99c5-d502e0f256e7",
   "metadata": {},
   "outputs": [
    {
     "name": "stdout",
     "output_type": "stream",
     "text": [
      "Help on class str in module builtins:\n",
      "\n",
      "class str(object)\n",
      " |  str(object='') -> str\n",
      " |  str(bytes_or_buffer[, encoding[, errors]]) -> str\n",
      " |\n",
      " |  Create a new string object from the given object. If encoding or\n",
      " |  errors is specified, then the object must expose a data buffer\n",
      " |  that will be decoded using the given encoding and error handler.\n",
      " |  Otherwise, returns the result of object.__str__() (if defined)\n",
      " |  or repr(object).\n",
      " |  encoding defaults to 'utf-8'.\n",
      " |  errors defaults to 'strict'.\n",
      " |\n",
      " |  Methods defined here:\n",
      " |\n",
      " |  __add__(self, value, /)\n",
      " |      Return self+value.\n",
      " |\n",
      " |  __contains__(self, key, /)\n",
      " |      Return bool(key in self).\n",
      " |\n",
      " |  __eq__(self, value, /)\n",
      " |      Return self==value.\n",
      " |\n",
      " |  __format__(self, format_spec, /)\n",
      " |      Return a formatted version of the string as described by format_spec.\n",
      " |\n",
      " |  __ge__(self, value, /)\n",
      " |      Return self>=value.\n",
      " |\n",
      " |  __getitem__(self, key, /)\n",
      " |      Return self[key].\n",
      " |\n",
      " |  __getnewargs__(self, /)\n",
      " |\n",
      " |  __gt__(self, value, /)\n",
      " |      Return self>value.\n",
      " |\n",
      " |  __hash__(self, /)\n",
      " |      Return hash(self).\n",
      " |\n",
      " |  __iter__(self, /)\n",
      " |      Implement iter(self).\n",
      " |\n",
      " |  __le__(self, value, /)\n",
      " |      Return self<=value.\n",
      " |\n",
      " |  __len__(self, /)\n",
      " |      Return len(self).\n",
      " |\n",
      " |  __lt__(self, value, /)\n",
      " |      Return self<value.\n",
      " |\n",
      " |  __mod__(self, value, /)\n",
      " |      Return self%value.\n",
      " |\n",
      " |  __mul__(self, value, /)\n",
      " |      Return self*value.\n",
      " |\n",
      " |  __ne__(self, value, /)\n",
      " |      Return self!=value.\n",
      " |\n",
      " |  __repr__(self, /)\n",
      " |      Return repr(self).\n",
      " |\n",
      " |  __rmod__(self, value, /)\n",
      " |      Return value%self.\n",
      " |\n",
      " |  __rmul__(self, value, /)\n",
      " |      Return value*self.\n",
      " |\n",
      " |  __sizeof__(self, /)\n",
      " |      Return the size of the string in memory, in bytes.\n",
      " |\n",
      " |  __str__(self, /)\n",
      " |      Return str(self).\n",
      " |\n",
      " |  capitalize(self, /)\n",
      " |      Return a capitalized version of the string.\n",
      " |\n",
      " |      More specifically, make the first character have upper case and the rest lower\n",
      " |      case.\n",
      " |\n",
      " |  casefold(self, /)\n",
      " |      Return a version of the string suitable for caseless comparisons.\n",
      " |\n",
      " |  center(self, width, fillchar=' ', /)\n",
      " |      Return a centered string of length width.\n",
      " |\n",
      " |      Padding is done using the specified fill character (default is a space).\n",
      " |\n",
      " |  count(self, sub[, start[, end]], /)\n",
      " |      Return the number of non-overlapping occurrences of substring sub in string S[start:end].\n",
      " |\n",
      " |      Optional arguments start and end are interpreted as in slice notation.\n",
      " |\n",
      " |  encode(self, /, encoding='utf-8', errors='strict')\n",
      " |      Encode the string using the codec registered for encoding.\n",
      " |\n",
      " |      encoding\n",
      " |        The encoding in which to encode the string.\n",
      " |      errors\n",
      " |        The error handling scheme to use for encoding errors.\n",
      " |        The default is 'strict' meaning that encoding errors raise a\n",
      " |        UnicodeEncodeError.  Other possible values are 'ignore', 'replace' and\n",
      " |        'xmlcharrefreplace' as well as any other name registered with\n",
      " |        codecs.register_error that can handle UnicodeEncodeErrors.\n",
      " |\n",
      " |  endswith(self, suffix[, start[, end]], /)\n",
      " |      Return True if the string ends with the specified suffix, False otherwise.\n",
      " |\n",
      " |      suffix\n",
      " |        A string or a tuple of strings to try.\n",
      " |      start\n",
      " |        Optional start position. Default: start of the string.\n",
      " |      end\n",
      " |        Optional stop position. Default: end of the string.\n",
      " |\n",
      " |  expandtabs(self, /, tabsize=8)\n",
      " |      Return a copy where all tab characters are expanded using spaces.\n",
      " |\n",
      " |      If tabsize is not given, a tab size of 8 characters is assumed.\n",
      " |\n",
      " |  find(self, sub[, start[, end]], /)\n",
      " |      Return the lowest index in S where substring sub is found, such that sub is contained within S[start:end].\n",
      " |\n",
      " |      Optional arguments start and end are interpreted as in slice notation.\n",
      " |      Return -1 on failure.\n",
      " |\n",
      " |  format(self, /, *args, **kwargs)\n",
      " |      Return a formatted version of the string, using substitutions from args and kwargs.\n",
      " |      The substitutions are identified by braces ('{' and '}').\n",
      " |\n",
      " |  format_map(self, mapping, /)\n",
      " |      Return a formatted version of the string, using substitutions from mapping.\n",
      " |      The substitutions are identified by braces ('{' and '}').\n",
      " |\n",
      " |  index(self, sub[, start[, end]], /)\n",
      " |      Return the lowest index in S where substring sub is found, such that sub is contained within S[start:end].\n",
      " |\n",
      " |      Optional arguments start and end are interpreted as in slice notation.\n",
      " |      Raises ValueError when the substring is not found.\n",
      " |\n",
      " |  isalnum(self, /)\n",
      " |      Return True if the string is an alpha-numeric string, False otherwise.\n",
      " |\n",
      " |      A string is alpha-numeric if all characters in the string are alpha-numeric and\n",
      " |      there is at least one character in the string.\n",
      " |\n",
      " |  isalpha(self, /)\n",
      " |      Return True if the string is an alphabetic string, False otherwise.\n",
      " |\n",
      " |      A string is alphabetic if all characters in the string are alphabetic and there\n",
      " |      is at least one character in the string.\n",
      " |\n",
      " |  isascii(self, /)\n",
      " |      Return True if all characters in the string are ASCII, False otherwise.\n",
      " |\n",
      " |      ASCII characters have code points in the range U+0000-U+007F.\n",
      " |      Empty string is ASCII too.\n",
      " |\n",
      " |  isdecimal(self, /)\n",
      " |      Return True if the string is a decimal string, False otherwise.\n",
      " |\n",
      " |      A string is a decimal string if all characters in the string are decimal and\n",
      " |      there is at least one character in the string.\n",
      " |\n",
      " |  isdigit(self, /)\n",
      " |      Return True if the string is a digit string, False otherwise.\n",
      " |\n",
      " |      A string is a digit string if all characters in the string are digits and there\n",
      " |      is at least one character in the string.\n",
      " |\n",
      " |  isidentifier(self, /)\n",
      " |      Return True if the string is a valid Python identifier, False otherwise.\n",
      " |\n",
      " |      Call keyword.iskeyword(s) to test whether string s is a reserved identifier,\n",
      " |      such as \"def\" or \"class\".\n",
      " |\n",
      " |  islower(self, /)\n",
      " |      Return True if the string is a lowercase string, False otherwise.\n",
      " |\n",
      " |      A string is lowercase if all cased characters in the string are lowercase and\n",
      " |      there is at least one cased character in the string.\n",
      " |\n",
      " |  isnumeric(self, /)\n",
      " |      Return True if the string is a numeric string, False otherwise.\n",
      " |\n",
      " |      A string is numeric if all characters in the string are numeric and there is at\n",
      " |      least one character in the string.\n",
      " |\n",
      " |  isprintable(self, /)\n",
      " |      Return True if all characters in the string are printable, False otherwise.\n",
      " |\n",
      " |      A character is printable if repr() may use it in its output.\n",
      " |\n",
      " |  isspace(self, /)\n",
      " |      Return True if the string is a whitespace string, False otherwise.\n",
      " |\n",
      " |      A string is whitespace if all characters in the string are whitespace and there\n",
      " |      is at least one character in the string.\n",
      " |\n",
      " |  istitle(self, /)\n",
      " |      Return True if the string is a title-cased string, False otherwise.\n",
      " |\n",
      " |      In a title-cased string, upper- and title-case characters may only\n",
      " |      follow uncased characters and lowercase characters only cased ones.\n",
      " |\n",
      " |  isupper(self, /)\n",
      " |      Return True if the string is an uppercase string, False otherwise.\n",
      " |\n",
      " |      A string is uppercase if all cased characters in the string are uppercase and\n",
      " |      there is at least one cased character in the string.\n",
      " |\n",
      " |  join(self, iterable, /)\n",
      " |      Concatenate any number of strings.\n",
      " |\n",
      " |      The string whose method is called is inserted in between each given string.\n",
      " |      The result is returned as a new string.\n",
      " |\n",
      " |      Example: '.'.join(['ab', 'pq', 'rs']) -> 'ab.pq.rs'\n",
      " |\n",
      " |  ljust(self, width, fillchar=' ', /)\n",
      " |      Return a left-justified string of length width.\n",
      " |\n",
      " |      Padding is done using the specified fill character (default is a space).\n",
      " |\n",
      " |  lower(self, /)\n",
      " |      Return a copy of the string converted to lowercase.\n",
      " |\n",
      " |  lstrip(self, chars=None, /)\n",
      " |      Return a copy of the string with leading whitespace removed.\n",
      " |\n",
      " |      If chars is given and not None, remove characters in chars instead.\n",
      " |\n",
      " |  partition(self, sep, /)\n",
      " |      Partition the string into three parts using the given separator.\n",
      " |\n",
      " |      This will search for the separator in the string.  If the separator is found,\n",
      " |      returns a 3-tuple containing the part before the separator, the separator\n",
      " |      itself, and the part after it.\n",
      " |\n",
      " |      If the separator is not found, returns a 3-tuple containing the original string\n",
      " |      and two empty strings.\n",
      " |\n",
      " |  removeprefix(self, prefix, /)\n",
      " |      Return a str with the given prefix string removed if present.\n",
      " |\n",
      " |      If the string starts with the prefix string, return string[len(prefix):].\n",
      " |      Otherwise, return a copy of the original string.\n",
      " |\n",
      " |  removesuffix(self, suffix, /)\n",
      " |      Return a str with the given suffix string removed if present.\n",
      " |\n",
      " |      If the string ends with the suffix string and that suffix is not empty,\n",
      " |      return string[:-len(suffix)]. Otherwise, return a copy of the original\n",
      " |      string.\n",
      " |\n",
      " |  replace(self, old, new, /, count=-1)\n",
      " |      Return a copy with all occurrences of substring old replaced by new.\n",
      " |\n",
      " |        count\n",
      " |          Maximum number of occurrences to replace.\n",
      " |          -1 (the default value) means replace all occurrences.\n",
      " |\n",
      " |      If the optional argument count is given, only the first count occurrences are\n",
      " |      replaced.\n",
      " |\n",
      " |  rfind(self, sub[, start[, end]], /)\n",
      " |      Return the highest index in S where substring sub is found, such that sub is contained within S[start:end].\n",
      " |\n",
      " |      Optional arguments start and end are interpreted as in slice notation.\n",
      " |      Return -1 on failure.\n",
      " |\n",
      " |  rindex(self, sub[, start[, end]], /)\n",
      " |      Return the highest index in S where substring sub is found, such that sub is contained within S[start:end].\n",
      " |\n",
      " |      Optional arguments start and end are interpreted as in slice notation.\n",
      " |      Raises ValueError when the substring is not found.\n",
      " |\n",
      " |  rjust(self, width, fillchar=' ', /)\n",
      " |      Return a right-justified string of length width.\n",
      " |\n",
      " |      Padding is done using the specified fill character (default is a space).\n",
      " |\n",
      " |  rpartition(self, sep, /)\n",
      " |      Partition the string into three parts using the given separator.\n",
      " |\n",
      " |      This will search for the separator in the string, starting at the end. If\n",
      " |      the separator is found, returns a 3-tuple containing the part before the\n",
      " |      separator, the separator itself, and the part after it.\n",
      " |\n",
      " |      If the separator is not found, returns a 3-tuple containing two empty strings\n",
      " |      and the original string.\n",
      " |\n",
      " |  rsplit(self, /, sep=None, maxsplit=-1)\n",
      " |      Return a list of the substrings in the string, using sep as the separator string.\n",
      " |\n",
      " |        sep\n",
      " |          The separator used to split the string.\n",
      " |\n",
      " |          When set to None (the default value), will split on any whitespace\n",
      " |          character (including \\n \\r \\t \\f and spaces) and will discard\n",
      " |          empty strings from the result.\n",
      " |        maxsplit\n",
      " |          Maximum number of splits.\n",
      " |          -1 (the default value) means no limit.\n",
      " |\n",
      " |      Splitting starts at the end of the string and works to the front.\n",
      " |\n",
      " |  rstrip(self, chars=None, /)\n",
      " |      Return a copy of the string with trailing whitespace removed.\n",
      " |\n",
      " |      If chars is given and not None, remove characters in chars instead.\n",
      " |\n",
      " |  split(self, /, sep=None, maxsplit=-1)\n",
      " |      Return a list of the substrings in the string, using sep as the separator string.\n",
      " |\n",
      " |        sep\n",
      " |          The separator used to split the string.\n",
      " |\n",
      " |          When set to None (the default value), will split on any whitespace\n",
      " |          character (including \\n \\r \\t \\f and spaces) and will discard\n",
      " |          empty strings from the result.\n",
      " |        maxsplit\n",
      " |          Maximum number of splits.\n",
      " |          -1 (the default value) means no limit.\n",
      " |\n",
      " |      Splitting starts at the front of the string and works to the end.\n",
      " |\n",
      " |      Note, str.split() is mainly useful for data that has been intentionally\n",
      " |      delimited.  With natural text that includes punctuation, consider using\n",
      " |      the regular expression module.\n",
      " |\n",
      " |  splitlines(self, /, keepends=False)\n",
      " |      Return a list of the lines in the string, breaking at line boundaries.\n",
      " |\n",
      " |      Line breaks are not included in the resulting list unless keepends is given and\n",
      " |      true.\n",
      " |\n",
      " |  startswith(self, prefix[, start[, end]], /)\n",
      " |      Return True if the string starts with the specified prefix, False otherwise.\n",
      " |\n",
      " |      prefix\n",
      " |        A string or a tuple of strings to try.\n",
      " |      start\n",
      " |        Optional start position. Default: start of the string.\n",
      " |      end\n",
      " |        Optional stop position. Default: end of the string.\n",
      " |\n",
      " |  strip(self, chars=None, /)\n",
      " |      Return a copy of the string with leading and trailing whitespace removed.\n",
      " |\n",
      " |      If chars is given and not None, remove characters in chars instead.\n",
      " |\n",
      " |  swapcase(self, /)\n",
      " |      Convert uppercase characters to lowercase and lowercase characters to uppercase.\n",
      " |\n",
      " |  title(self, /)\n",
      " |      Return a version of the string where each word is titlecased.\n",
      " |\n",
      " |      More specifically, words start with uppercased characters and all remaining\n",
      " |      cased characters have lower case.\n",
      " |\n",
      " |  translate(self, table, /)\n",
      " |      Replace each character in the string using the given translation table.\n",
      " |\n",
      " |        table\n",
      " |          Translation table, which must be a mapping of Unicode ordinals to\n",
      " |          Unicode ordinals, strings, or None.\n",
      " |\n",
      " |      The table must implement lookup/indexing via __getitem__, for instance a\n",
      " |      dictionary or list.  If this operation raises LookupError, the character is\n",
      " |      left untouched.  Characters mapped to None are deleted.\n",
      " |\n",
      " |  upper(self, /)\n",
      " |      Return a copy of the string converted to uppercase.\n",
      " |\n",
      " |  zfill(self, width, /)\n",
      " |      Pad a numeric string with zeros on the left, to fill a field of the given width.\n",
      " |\n",
      " |      The string is never truncated.\n",
      " |\n",
      " |  ----------------------------------------------------------------------\n",
      " |  Static methods defined here:\n",
      " |\n",
      " |  __new__(*args, **kwargs)\n",
      " |      Create and return a new object.  See help(type) for accurate signature.\n",
      " |\n",
      " |  maketrans(x, y=<unrepresentable>, z=<unrepresentable>, /)\n",
      " |      Return a translation table usable for str.translate().\n",
      " |\n",
      " |      If there is only one argument, it must be a dictionary mapping Unicode\n",
      " |      ordinals (integers) or characters to Unicode ordinals, strings or None.\n",
      " |      Character keys will be then converted to ordinals.\n",
      " |      If there are two arguments, they must be strings of equal length, and\n",
      " |      in the resulting dictionary, each character in x will be mapped to the\n",
      " |      character at the same position in y. If there is a third argument, it\n",
      " |      must be a string, whose characters will be mapped to None in the result.\n",
      "\n"
     ]
    }
   ],
   "source": [
    "help(str)"
   ]
  },
  {
   "cell_type": "code",
   "execution_count": 58,
   "id": "b49f82f7-037c-4a45-b04a-113fe527057e",
   "metadata": {},
   "outputs": [
    {
     "data": {
      "text/plain": [
       "'acgatagcatcggagactagctagcaggcgtatgcagtcgatgcgatgcagtgactg'"
      ]
     },
     "execution_count": 58,
     "metadata": {},
     "output_type": "execute_result"
    }
   ],
   "source": [
    "sequence"
   ]
  },
  {
   "cell_type": "code",
   "execution_count": 60,
   "id": "fa90d19b-99c5-44c5-975e-47d5acb5a909",
   "metadata": {},
   "outputs": [
    {
     "data": {
      "text/plain": [
       "False"
      ]
     },
     "execution_count": 60,
     "metadata": {},
     "output_type": "execute_result"
    }
   ],
   "source": [
    "sequence.endswith(\"cta\")"
   ]
  },
  {
   "cell_type": "code",
   "execution_count": 61,
   "id": "0574843a-db84-4208-afde-335e879b13a0",
   "metadata": {},
   "outputs": [
    {
     "name": "stdout",
     "output_type": "stream",
     "text": [
      "whatever\n"
     ]
    }
   ],
   "source": [
    "if sequence.endswith(\"ctg\"):\n",
    "    print(\"whatever\")"
   ]
  },
  {
   "cell_type": "code",
   "execution_count": null,
   "id": "a1b540fe-b037-4f0b-84d2-b41e1dbf1a22",
   "metadata": {},
   "outputs": [],
   "source": []
  },
  {
   "cell_type": "code",
   "execution_count": 62,
   "id": "f78fdb27-c3b6-425e-b693-82964849759d",
   "metadata": {},
   "outputs": [
    {
     "data": {
      "text/plain": [
       "'Ana Berta Cilka Dani'"
      ]
     },
     "execution_count": 62,
     "metadata": {},
     "output_type": "execute_result"
    }
   ],
   "source": [
    "names"
   ]
  },
  {
   "cell_type": "code",
   "execution_count": 63,
   "id": "48b8ecf0-22c7-4c0c-acef-71f2cdde8399",
   "metadata": {},
   "outputs": [],
   "source": [
    "first, second, third, fourth = names.split()"
   ]
  },
  {
   "cell_type": "code",
   "execution_count": 64,
   "id": "cc985284-33e6-459a-b5e3-15f11b6bae0d",
   "metadata": {},
   "outputs": [
    {
     "data": {
      "text/plain": [
       "'Ana'"
      ]
     },
     "execution_count": 64,
     "metadata": {},
     "output_type": "execute_result"
    }
   ],
   "source": [
    "first"
   ]
  },
  {
   "cell_type": "code",
   "execution_count": 65,
   "id": "24cddd09-da4c-4e66-bb98-70c524b1947f",
   "metadata": {},
   "outputs": [
    {
     "data": {
      "text/plain": [
       "'Cilka'"
      ]
     },
     "execution_count": 65,
     "metadata": {},
     "output_type": "execute_result"
    }
   ],
   "source": [
    "third"
   ]
  },
  {
   "cell_type": "code",
   "execution_count": 66,
   "id": "08c97d4f-7853-4491-9352-ddd3f96b0950",
   "metadata": {},
   "outputs": [],
   "source": [
    "t = \"Benjamin,75,185\""
   ]
  },
  {
   "cell_type": "code",
   "execution_count": 67,
   "id": "8fe31e8d-c5bf-4f19-8d84-34fd27b4ba28",
   "metadata": {},
   "outputs": [],
   "source": [
    "name, weight, height = t.split(\",\")"
   ]
  },
  {
   "cell_type": "code",
   "execution_count": 68,
   "id": "1603ec64-a745-47e7-9c42-1a282013e335",
   "metadata": {},
   "outputs": [
    {
     "data": {
      "text/plain": [
       "'Benjamin'"
      ]
     },
     "execution_count": 68,
     "metadata": {},
     "output_type": "execute_result"
    }
   ],
   "source": [
    "name"
   ]
  },
  {
   "cell_type": "code",
   "execution_count": 69,
   "id": "7e75f853-777b-4391-be7f-f99303288466",
   "metadata": {},
   "outputs": [
    {
     "data": {
      "text/plain": [
       "'75'"
      ]
     },
     "execution_count": 69,
     "metadata": {},
     "output_type": "execute_result"
    }
   ],
   "source": [
    "weight"
   ]
  },
  {
   "cell_type": "code",
   "execution_count": 70,
   "id": "020eb784-6b9f-4971-8d23-5616f31bf015",
   "metadata": {},
   "outputs": [
    {
     "data": {
      "text/plain": [
       "'185'"
      ]
     },
     "execution_count": 70,
     "metadata": {},
     "output_type": "execute_result"
    }
   ],
   "source": [
    "height"
   ]
  },
  {
   "cell_type": "code",
   "execution_count": 72,
   "id": "4f6fa7ef-9a3d-4a8a-9050-5396813e261e",
   "metadata": {},
   "outputs": [],
   "source": [
    "f = open(\"data.csv\")"
   ]
  },
  {
   "cell_type": "code",
   "execution_count": 75,
   "id": "e2a74205-b742-49ed-95d2-e434778541db",
   "metadata": {},
   "outputs": [
    {
     "name": "stdout",
     "output_type": "stream",
     "text": [
      "<_io.TextIOWrapper name='data.csv' mode='r' encoding='UTF-8'>\n"
     ]
    }
   ],
   "source": [
    "print(f)"
   ]
  },
  {
   "cell_type": "code",
   "execution_count": 128,
   "id": "8dee88a9-7251-47b5-a68a-901ad18e506e",
   "metadata": {},
   "outputs": [
    {
     "name": "stdout",
     "output_type": "stream",
     "text": [
      "Ana 65 170 22.49134948096886\n",
      "Berta 80 168 28.344671201814062\n",
      "Cilka 60 155 24.97398543184183\n",
      "Highest BMI: 28.344671201814062 Berta\n",
      "Average: 25.27000203820825\n"
     ]
    }
   ],
   "source": [
    "highest_bmi = 0\n",
    "sum = 0\n",
    "fingers = 0\n",
    "for line in open(\"data.txt\", encoding=\"utf-8\"):\n",
    "    name, weight, height = line.strip().split(\",\")\n",
    "    bmi = float(weight) / (float(height) / 100) ** 2\n",
    "    print(name, weight, height, bmi)\n",
    "    if bmi > highest_bmi:\n",
    "        highest_bmi = bmi\n",
    "        highest_bmi_name = name\n",
    "    sum = sum + bmi\n",
    "    fingers = fingers + 1\n",
    "    \n",
    "print(\"Highest BMI:\", highest_bmi, highest_bmi_name)\n",
    "print(\"Average:\", sum / fingers)\n"
   ]
  },
  {
   "cell_type": "code",
   "execution_count": 82,
   "id": "b3ebfe1d-4e76-45ac-b974-bce9e0d6a175",
   "metadata": {},
   "outputs": [],
   "source": [
    "a, b, c = \"2342-12415-35\".split(\"-\")"
   ]
  },
  {
   "cell_type": "code",
   "execution_count": 83,
   "id": "ac628933-61d0-4ac0-be04-549e1fb31cd4",
   "metadata": {},
   "outputs": [
    {
     "data": {
      "text/plain": [
       "'2342'"
      ]
     },
     "execution_count": 83,
     "metadata": {},
     "output_type": "execute_result"
    }
   ],
   "source": []
  },
  {
   "cell_type": "code",
   "execution_count": 84,
   "id": "c751be8b-2db4-4009-97ef-e2b9e1b65942",
   "metadata": {},
   "outputs": [
    {
     "data": {
      "text/plain": [
       "'12415'"
      ]
     },
     "execution_count": 84,
     "metadata": {},
     "output_type": "execute_result"
    }
   ],
   "source": [
    "b"
   ]
  },
  {
   "cell_type": "code",
   "execution_count": 85,
   "id": "33b6d4d1-1eed-477f-8e70-64413c4eb0e8",
   "metadata": {},
   "outputs": [
    {
     "data": {
      "text/plain": [
       "'35'"
      ]
     },
     "execution_count": 85,
     "metadata": {},
     "output_type": "execute_result"
    }
   ],
   "source": [
    "c"
   ]
  },
  {
   "cell_type": "code",
   "execution_count": 90,
   "id": "6cc45402-6d66-41f2-b697-cf182a2cbdf5",
   "metadata": {},
   "outputs": [],
   "source": [
    "from os import *"
   ]
  },
  {
   "cell_type": "code",
   "execution_count": 91,
   "id": "c650332b-c479-4995-85f9-cafa1cb8b875",
   "metadata": {},
   "outputs": [
    {
     "data": {
      "text/plain": [
       "'/Users/janez/Desktop'"
      ]
     },
     "execution_count": 91,
     "metadata": {},
     "output_type": "execute_result"
    }
   ],
   "source": [
    "getcwd()"
   ]
  },
  {
   "cell_type": "code",
   "execution_count": 97,
   "id": "b4ffcb82-fb21-49e0-84bf-bc91c4730267",
   "metadata": {},
   "outputs": [],
   "source": [
    "del open"
   ]
  },
  {
   "cell_type": "code",
   "execution_count": 102,
   "id": "a248eb73-5ebe-43f3-a7cf-cdb5ae40d7a1",
   "metadata": {},
   "outputs": [
    {
     "data": {
      "text/plain": [
       "'Cilka,60,155'"
      ]
     },
     "execution_count": 102,
     "metadata": {},
     "output_type": "execute_result"
    }
   ],
   "source": [
    "vrstica"
   ]
  },
  {
   "cell_type": "code",
   "execution_count": 104,
   "id": "1341e5ab-6491-48d1-bb10-0eae1d9b2390",
   "metadata": {},
   "outputs": [
    {
     "data": {
      "text/plain": [
       "'\\ufeffAna,65,170\\n'"
      ]
     },
     "execution_count": 104,
     "metadata": {},
     "output_type": "execute_result"
    }
   ],
   "source": [
    "line"
   ]
  },
  {
   "cell_type": "code",
   "execution_count": 105,
   "id": "e8a0a00b-afc1-47de-8226-527dce0b0c23",
   "metadata": {},
   "outputs": [
    {
     "name": "stdout",
     "output_type": "stream",
     "text": [
      "Ana\n",
      "Berta\n"
     ]
    }
   ],
   "source": [
    "print(\"Ana\\nBerta\")"
   ]
  },
  {
   "cell_type": "code",
   "execution_count": 112,
   "id": "2ae2b164-1f50-4bea-b8f5-5f27b77416ce",
   "metadata": {},
   "outputs": [
    {
     "data": {
      "text/plain": [
       "'Ana    Berta  Cillka'"
      ]
     },
     "execution_count": 112,
     "metadata": {},
     "output_type": "execute_result"
    }
   ],
   "source": [
    "\"      Ana    Berta  Cillka           \\n\".strip()"
   ]
  },
  {
   "cell_type": "code",
   "execution_count": 113,
   "id": "5b19353c-7afe-4a14-9694-7ad48405f5b3",
   "metadata": {},
   "outputs": [],
   "source": [
    "s = \"####12 14\""
   ]
  },
  {
   "cell_type": "code",
   "execution_count": 114,
   "id": "72ffc76b-d02e-4363-9d82-8a68ed1a46d3",
   "metadata": {},
   "outputs": [
    {
     "data": {
      "text/plain": [
       "'12 14'"
      ]
     },
     "execution_count": 114,
     "metadata": {},
     "output_type": "execute_result"
    }
   ],
   "source": [
    "s.strip(\"#\")"
   ]
  },
  {
   "cell_type": "code",
   "execution_count": null,
   "id": "c5f0324b-1d30-4e8c-942e-685f8859ac1d",
   "metadata": {},
   "outputs": [],
   "source": []
  },
  {
   "cell_type": "code",
   "execution_count": 129,
   "id": "5704ff70-4d04-4d87-ba38-4b4437b2bd9e",
   "metadata": {},
   "outputs": [],
   "source": [
    "from math import *"
   ]
  },
  {
   "cell_type": "code",
   "execution_count": 130,
   "id": "e6417a2c-d6cf-4e98-8c46-549617431b4b",
   "metadata": {},
   "outputs": [
    {
     "data": {
      "text/plain": [
       "0.0015926529164868282"
      ]
     },
     "execution_count": 130,
     "metadata": {},
     "output_type": "execute_result"
    }
   ],
   "source": [
    "sin(3.14)"
   ]
  },
  {
   "cell_type": "code",
   "execution_count": 131,
   "id": "804495ec-ddfb-48e6-be48-16df2eb37d38",
   "metadata": {},
   "outputs": [
    {
     "data": {
      "text/plain": [
       "1.0986122886681098"
      ]
     },
     "execution_count": 131,
     "metadata": {},
     "output_type": "execute_result"
    }
   ],
   "source": [
    "log(3)"
   ]
  },
  {
   "cell_type": "code",
   "execution_count": 132,
   "id": "afc0f044-dffc-4fb0-a0bc-b3e58320fcf2",
   "metadata": {},
   "outputs": [],
   "source": [
    "import math"
   ]
  },
  {
   "cell_type": "code",
   "execution_count": 133,
   "id": "6bcdc026-cb9f-44a3-88ec-31d598a5bd93",
   "metadata": {},
   "outputs": [],
   "source": [
    "s = \"asf\""
   ]
  },
  {
   "cell_type": "code",
   "execution_count": 134,
   "id": "98c602d6-90c1-4fae-b318-bdd35df96817",
   "metadata": {},
   "outputs": [],
   "source": [
    "t = \"asoiasjog\""
   ]
  },
  {
   "cell_type": "code",
   "execution_count": 135,
   "id": "7f5e9e3a-d00f-420b-b50b-010420a71706",
   "metadata": {},
   "outputs": [],
   "source": [
    "import math"
   ]
  },
  {
   "cell_type": "code",
   "execution_count": 136,
   "id": "3041cf8a-74d9-4807-ba1b-5673d4366379",
   "metadata": {},
   "outputs": [
    {
     "data": {
      "text/plain": [
       "<module 'math' from '/Users/janez/miniforge3/envs/programiranje/lib/python3.13/lib-dynload/math.cpython-313-darwin.so'>"
      ]
     },
     "execution_count": 136,
     "metadata": {},
     "output_type": "execute_result"
    }
   ],
   "source": [
    "math"
   ]
  },
  {
   "cell_type": "code",
   "execution_count": 137,
   "id": "3ff931d1-3404-4a72-940b-8b2bc084503d",
   "metadata": {},
   "outputs": [
    {
     "data": {
      "text/plain": [
       "0.0015926529164868282"
      ]
     },
     "execution_count": 137,
     "metadata": {},
     "output_type": "execute_result"
    }
   ],
   "source": [
    "math.sin(3.14)"
   ]
  },
  {
   "cell_type": "code",
   "execution_count": 138,
   "id": "e4f2bb52-057b-4224-8bfc-b21a8709a005",
   "metadata": {},
   "outputs": [
    {
     "data": {
      "text/plain": [
       "2980.9579870417283"
      ]
     },
     "execution_count": 138,
     "metadata": {},
     "output_type": "execute_result"
    }
   ],
   "source": [
    "math.exp(8)"
   ]
  },
  {
   "cell_type": "code",
   "execution_count": 139,
   "id": "9b6d79b4-8427-4765-a527-0e547147c735",
   "metadata": {},
   "outputs": [],
   "source": [
    "import os"
   ]
  },
  {
   "cell_type": "code",
   "execution_count": 140,
   "id": "1e72fdcf-901f-4cf8-aabf-8149368348d6",
   "metadata": {},
   "outputs": [
    {
     "data": {
      "text/plain": [
       "'/Users/janez/Desktop'"
      ]
     },
     "execution_count": 140,
     "metadata": {},
     "output_type": "execute_result"
    }
   ],
   "source": [
    "os.getcwd()"
   ]
  },
  {
   "cell_type": "code",
   "execution_count": 141,
   "id": "5f842e9a-bbc7-4383-b798-4a76655ce633",
   "metadata": {},
   "outputs": [],
   "source": [
    "from math import sin, cos"
   ]
  },
  {
   "cell_type": "code",
   "execution_count": 142,
   "id": "99b6d2ed-cab4-41a3-973e-b60bad427be7",
   "metadata": {},
   "outputs": [
    {
     "data": {
      "text/plain": [
       "0.0015926529164868282"
      ]
     },
     "execution_count": 142,
     "metadata": {},
     "output_type": "execute_result"
    }
   ],
   "source": [
    "sin(3.14)"
   ]
  },
  {
   "cell_type": "code",
   "execution_count": 143,
   "id": "ed3f90c5-913c-4485-bd35-0607cbf8ab4a",
   "metadata": {},
   "outputs": [],
   "source": [
    "import os\n"
   ]
  },
  {
   "cell_type": "code",
   "execution_count": 144,
   "id": "3ad4b921-12bf-48c8-9821-d9243da657a1",
   "metadata": {},
   "outputs": [
    {
     "data": {
      "text/plain": [
       "<function posix.open(path, flags, mode=511, *, dir_fd=None)>"
      ]
     },
     "execution_count": 144,
     "metadata": {},
     "output_type": "execute_result"
    }
   ],
   "source": [
    "os.open"
   ]
  },
  {
   "cell_type": "code",
   "execution_count": 145,
   "id": "a062a576-30ef-4fc9-9ae7-9fa944645bf8",
   "metadata": {},
   "outputs": [
    {
     "ename": "FileNotFoundError",
     "evalue": "[Errno 2] No such file or directory: 'data.csv'",
     "output_type": "error",
     "traceback": [
      "\u001b[31m---------------------------------------------------------------------------\u001b[39m",
      "\u001b[31mFileNotFoundError\u001b[39m                         Traceback (most recent call last)",
      "\u001b[36mCell\u001b[39m\u001b[36m \u001b[39m\u001b[32mIn[145]\u001b[39m\u001b[32m, line 1\u001b[39m\n\u001b[32m----> \u001b[39m\u001b[32m1\u001b[39m \u001b[38;5;28;43mopen\u001b[39;49m\u001b[43m(\u001b[49m\u001b[33;43m\"\u001b[39;49m\u001b[33;43mdata.csv\u001b[39;49m\u001b[33;43m\"\u001b[39;49m\u001b[43m)\u001b[49m\n",
      "\u001b[31mFileNotFoundError\u001b[39m: [Errno 2] No such file or directory: 'data.csv'"
     ]
    }
   ],
   "source": [
    "open(\"data.csv\")"
   ]
  },
  {
   "cell_type": "code",
   "execution_count": 146,
   "id": "a8cabed3-53aa-4c0c-9a50-27c97fa71103",
   "metadata": {},
   "outputs": [
    {
     "ename": "NameError",
     "evalue": "name 'open' is not defined",
     "output_type": "error",
     "traceback": [
      "\u001b[31m---------------------------------------------------------------------------\u001b[39m",
      "\u001b[31mNameError\u001b[39m                                 Traceback (most recent call last)",
      "\u001b[36mCell\u001b[39m\u001b[36m \u001b[39m\u001b[32mIn[146]\u001b[39m\u001b[32m, line 1\u001b[39m\n\u001b[32m----> \u001b[39m\u001b[32m1\u001b[39m \u001b[38;5;28;01mdel\u001b[39;00m \u001b[38;5;28;43mopen\u001b[39;49m\n",
      "\u001b[31mNameError\u001b[39m: name 'open' is not defined"
     ]
    }
   ],
   "source": [
    "del open\n"
   ]
  },
  {
   "cell_type": "code",
   "execution_count": 148,
   "id": "244df557-4d0e-496a-8f1e-6ce4365a7318",
   "metadata": {},
   "outputs": [],
   "source": [
    "print = 17"
   ]
  },
  {
   "cell_type": "code",
   "execution_count": 151,
   "id": "6e550bbd-060d-4de8-ac43-0621e7ec709b",
   "metadata": {},
   "outputs": [],
   "source": [
    "del print"
   ]
  },
  {
   "cell_type": "code",
   "execution_count": 152,
   "id": "18068c90-6e1a-4e27-9ded-330fbc463375",
   "metadata": {},
   "outputs": [
    {
     "data": {
      "text/plain": [
       "['CLD_CONTINUED',\n",
       " 'CLD_DUMPED',\n",
       " 'CLD_EXITED',\n",
       " 'CLD_KILLED',\n",
       " 'CLD_STOPPED',\n",
       " 'CLD_TRAPPED',\n",
       " 'DirEntry',\n",
       " 'EX_CANTCREAT',\n",
       " 'EX_CONFIG',\n",
       " 'EX_DATAERR',\n",
       " 'EX_IOERR',\n",
       " 'EX_NOHOST',\n",
       " 'EX_NOINPUT',\n",
       " 'EX_NOPERM',\n",
       " 'EX_NOUSER',\n",
       " 'EX_OK',\n",
       " 'EX_OSERR',\n",
       " 'EX_OSFILE',\n",
       " 'EX_PROTOCOL',\n",
       " 'EX_SOFTWARE',\n",
       " 'EX_TEMPFAIL',\n",
       " 'EX_UNAVAILABLE',\n",
       " 'EX_USAGE',\n",
       " 'F_LOCK',\n",
       " 'F_OK',\n",
       " 'F_TEST',\n",
       " 'F_TLOCK',\n",
       " 'F_ULOCK',\n",
       " 'In',\n",
       " 'NGROUPS_MAX',\n",
       " 'O_ACCMODE',\n",
       " 'O_APPEND',\n",
       " 'O_ASYNC',\n",
       " 'O_CLOEXEC',\n",
       " 'O_CREAT',\n",
       " 'O_DIRECTORY',\n",
       " 'O_DSYNC',\n",
       " 'O_EVTONLY',\n",
       " 'O_EXCL',\n",
       " 'O_EXLOCK',\n",
       " 'O_FSYNC',\n",
       " 'O_NDELAY',\n",
       " 'O_NOCTTY',\n",
       " 'O_NOFOLLOW',\n",
       " 'O_NOFOLLOW_ANY',\n",
       " 'O_NONBLOCK',\n",
       " 'O_RDONLY',\n",
       " 'O_RDWR',\n",
       " 'O_SHLOCK',\n",
       " 'O_SYMLINK',\n",
       " 'O_SYNC',\n",
       " 'O_TRUNC',\n",
       " 'O_WRONLY',\n",
       " 'Out',\n",
       " 'POSIX_SPAWN_CLOSE',\n",
       " 'POSIX_SPAWN_DUP2',\n",
       " 'POSIX_SPAWN_OPEN',\n",
       " 'PRIO_DARWIN_BG',\n",
       " 'PRIO_DARWIN_NONUI',\n",
       " 'PRIO_DARWIN_PROCESS',\n",
       " 'PRIO_DARWIN_THREAD',\n",
       " 'PRIO_PGRP',\n",
       " 'PRIO_PROCESS',\n",
       " 'PRIO_USER',\n",
       " 'P_ALL',\n",
       " 'P_NOWAIT',\n",
       " 'P_NOWAITO',\n",
       " 'P_PGID',\n",
       " 'P_PID',\n",
       " 'P_WAIT',\n",
       " 'RTLD_GLOBAL',\n",
       " 'RTLD_LAZY',\n",
       " 'RTLD_LOCAL',\n",
       " 'RTLD_NODELETE',\n",
       " 'RTLD_NOLOAD',\n",
       " 'RTLD_NOW',\n",
       " 'R_OK',\n",
       " 'SCHED_FIFO',\n",
       " 'SCHED_OTHER',\n",
       " 'SCHED_RR',\n",
       " 'SEEK_CUR',\n",
       " 'SEEK_DATA',\n",
       " 'SEEK_END',\n",
       " 'SEEK_HOLE',\n",
       " 'SEEK_SET',\n",
       " 'ST_NOSUID',\n",
       " 'ST_RDONLY',\n",
       " 'TMP_MAX',\n",
       " 'WCONTINUED',\n",
       " 'WCOREDUMP',\n",
       " 'WEXITED',\n",
       " 'WEXITSTATUS',\n",
       " 'WIFCONTINUED',\n",
       " 'WIFEXITED',\n",
       " 'WIFSIGNALED',\n",
       " 'WIFSTOPPED',\n",
       " 'WNOHANG',\n",
       " 'WNOWAIT',\n",
       " 'WSTOPPED',\n",
       " 'WSTOPSIG',\n",
       " 'WTERMSIG',\n",
       " 'WUNTRACED',\n",
       " 'W_OK',\n",
       " 'X_OK',\n",
       " '_',\n",
       " '_1',\n",
       " '_10',\n",
       " '_102',\n",
       " '_104',\n",
       " '_109',\n",
       " '_11',\n",
       " '_110',\n",
       " '_112',\n",
       " '_114',\n",
       " '_12',\n",
       " '_13',\n",
       " '_130',\n",
       " '_131',\n",
       " '_136',\n",
       " '_137',\n",
       " '_138',\n",
       " '_14',\n",
       " '_140',\n",
       " '_142',\n",
       " '_144',\n",
       " '_149',\n",
       " '_15',\n",
       " '_16',\n",
       " '_17',\n",
       " '_18',\n",
       " '_19',\n",
       " '_2',\n",
       " '_21',\n",
       " '_25',\n",
       " '_27',\n",
       " '_28',\n",
       " '_3',\n",
       " '_31',\n",
       " '_33',\n",
       " '_35',\n",
       " '_4',\n",
       " '_41',\n",
       " '_42',\n",
       " '_44',\n",
       " '_45',\n",
       " '_46',\n",
       " '_47',\n",
       " '_49',\n",
       " '_5',\n",
       " '_50',\n",
       " '_51',\n",
       " '_53',\n",
       " '_54',\n",
       " '_55',\n",
       " '_56',\n",
       " '_58',\n",
       " '_59',\n",
       " '_6',\n",
       " '_60',\n",
       " '_62',\n",
       " '_64',\n",
       " '_65',\n",
       " '_68',\n",
       " '_69',\n",
       " '_7',\n",
       " '_70',\n",
       " '_71',\n",
       " '_73',\n",
       " '_8',\n",
       " '_83',\n",
       " '_84',\n",
       " '_85',\n",
       " '_9',\n",
       " '_91',\n",
       " '__',\n",
       " '___',\n",
       " '__builtin__',\n",
       " '__builtins__',\n",
       " '__doc__',\n",
       " '__loader__',\n",
       " '__name__',\n",
       " '__package__',\n",
       " '__session__',\n",
       " '__spec__',\n",
       " '_dh',\n",
       " '_exit',\n",
       " '_i',\n",
       " '_i1',\n",
       " '_i10',\n",
       " '_i100',\n",
       " '_i101',\n",
       " '_i102',\n",
       " '_i103',\n",
       " '_i104',\n",
       " '_i105',\n",
       " '_i106',\n",
       " '_i107',\n",
       " '_i108',\n",
       " '_i109',\n",
       " '_i11',\n",
       " '_i110',\n",
       " '_i111',\n",
       " '_i112',\n",
       " '_i113',\n",
       " '_i114',\n",
       " '_i115',\n",
       " '_i116',\n",
       " '_i117',\n",
       " '_i118',\n",
       " '_i119',\n",
       " '_i12',\n",
       " '_i120',\n",
       " '_i121',\n",
       " '_i122',\n",
       " '_i123',\n",
       " '_i124',\n",
       " '_i125',\n",
       " '_i126',\n",
       " '_i127',\n",
       " '_i128',\n",
       " '_i129',\n",
       " '_i13',\n",
       " '_i130',\n",
       " '_i131',\n",
       " '_i132',\n",
       " '_i133',\n",
       " '_i134',\n",
       " '_i135',\n",
       " '_i136',\n",
       " '_i137',\n",
       " '_i138',\n",
       " '_i139',\n",
       " '_i14',\n",
       " '_i140',\n",
       " '_i141',\n",
       " '_i142',\n",
       " '_i143',\n",
       " '_i144',\n",
       " '_i145',\n",
       " '_i146',\n",
       " '_i147',\n",
       " '_i148',\n",
       " '_i149',\n",
       " '_i15',\n",
       " '_i150',\n",
       " '_i151',\n",
       " '_i152',\n",
       " '_i16',\n",
       " '_i17',\n",
       " '_i18',\n",
       " '_i19',\n",
       " '_i2',\n",
       " '_i20',\n",
       " '_i21',\n",
       " '_i22',\n",
       " '_i23',\n",
       " '_i24',\n",
       " '_i25',\n",
       " '_i26',\n",
       " '_i27',\n",
       " '_i28',\n",
       " '_i29',\n",
       " '_i3',\n",
       " '_i30',\n",
       " '_i31',\n",
       " '_i32',\n",
       " '_i33',\n",
       " '_i34',\n",
       " '_i35',\n",
       " '_i36',\n",
       " '_i37',\n",
       " '_i38',\n",
       " '_i39',\n",
       " '_i4',\n",
       " '_i40',\n",
       " '_i41',\n",
       " '_i42',\n",
       " '_i43',\n",
       " '_i44',\n",
       " '_i45',\n",
       " '_i46',\n",
       " '_i47',\n",
       " '_i48',\n",
       " '_i49',\n",
       " '_i5',\n",
       " '_i50',\n",
       " '_i51',\n",
       " '_i52',\n",
       " '_i53',\n",
       " '_i54',\n",
       " '_i55',\n",
       " '_i56',\n",
       " '_i57',\n",
       " '_i58',\n",
       " '_i59',\n",
       " '_i6',\n",
       " '_i60',\n",
       " '_i61',\n",
       " '_i62',\n",
       " '_i63',\n",
       " '_i64',\n",
       " '_i65',\n",
       " '_i66',\n",
       " '_i67',\n",
       " '_i68',\n",
       " '_i69',\n",
       " '_i7',\n",
       " '_i70',\n",
       " '_i71',\n",
       " '_i72',\n",
       " '_i73',\n",
       " '_i74',\n",
       " '_i75',\n",
       " '_i76',\n",
       " '_i77',\n",
       " '_i78',\n",
       " '_i79',\n",
       " '_i8',\n",
       " '_i80',\n",
       " '_i81',\n",
       " '_i82',\n",
       " '_i83',\n",
       " '_i84',\n",
       " '_i85',\n",
       " '_i86',\n",
       " '_i87',\n",
       " '_i88',\n",
       " '_i89',\n",
       " '_i9',\n",
       " '_i90',\n",
       " '_i91',\n",
       " '_i92',\n",
       " '_i93',\n",
       " '_i94',\n",
       " '_i95',\n",
       " '_i96',\n",
       " '_i97',\n",
       " '_i98',\n",
       " '_i99',\n",
       " '_ih',\n",
       " '_ii',\n",
       " '_iii',\n",
       " '_oh',\n",
       " 'a',\n",
       " 'abort',\n",
       " 'access',\n",
       " 'acos',\n",
       " 'acosh',\n",
       " 'altsep',\n",
       " 'asin',\n",
       " 'asinh',\n",
       " 'atan',\n",
       " 'atan2',\n",
       " 'atanh',\n",
       " 'b',\n",
       " 'bmi',\n",
       " 'c',\n",
       " 'cbrt',\n",
       " 'ceil',\n",
       " 'chdir',\n",
       " 'chflags',\n",
       " 'chmod',\n",
       " 'chown',\n",
       " 'chroot',\n",
       " 'close',\n",
       " 'closerange',\n",
       " 'comb',\n",
       " 'confstr',\n",
       " 'confstr_names',\n",
       " 'copysign',\n",
       " 'cos',\n",
       " 'cosh',\n",
       " 'count',\n",
       " 'cpu_count',\n",
       " 'ctermid',\n",
       " 'curdir',\n",
       " 'defpath',\n",
       " 'degrees',\n",
       " 'device_encoding',\n",
       " 'devnull',\n",
       " 'dist',\n",
       " 'dup',\n",
       " 'dup2',\n",
       " 'e',\n",
       " 'environ',\n",
       " 'environb',\n",
       " 'erf',\n",
       " 'erfc',\n",
       " 'error',\n",
       " 'execl',\n",
       " 'execle',\n",
       " 'execlp',\n",
       " 'execlpe',\n",
       " 'execv',\n",
       " 'execve',\n",
       " 'execvp',\n",
       " 'execvpe',\n",
       " 'exit',\n",
       " 'exp',\n",
       " 'exp2',\n",
       " 'expm1',\n",
       " 'extsep',\n",
       " 'f',\n",
       " 'fabs',\n",
       " 'factorial',\n",
       " 'fchdir',\n",
       " 'fchmod',\n",
       " 'fchown',\n",
       " 'fdopen',\n",
       " 'fingers',\n",
       " 'first',\n",
       " 'floor',\n",
       " 'fma',\n",
       " 'fmod',\n",
       " 'fork',\n",
       " 'forkpty',\n",
       " 'fourth',\n",
       " 'fpathconf',\n",
       " 'frexp',\n",
       " 'fsdecode',\n",
       " 'fsencode',\n",
       " 'fspath',\n",
       " 'fstat',\n",
       " 'fstatvfs',\n",
       " 'fsum',\n",
       " 'fsync',\n",
       " 'ftruncate',\n",
       " 'fwalk',\n",
       " 'gamma',\n",
       " 'gcd',\n",
       " 'get_blocking',\n",
       " 'get_exec_path',\n",
       " 'get_inheritable',\n",
       " 'get_ipython',\n",
       " 'get_terminal_size',\n",
       " 'getcwd',\n",
       " 'getcwdb',\n",
       " 'getegid',\n",
       " 'getenv',\n",
       " 'getenvb',\n",
       " 'geteuid',\n",
       " 'getgid',\n",
       " 'getgrouplist',\n",
       " 'getgroups',\n",
       " 'getloadavg',\n",
       " 'getlogin',\n",
       " 'getpgid',\n",
       " 'getpgrp',\n",
       " 'getpid',\n",
       " 'getppid',\n",
       " 'getpriority',\n",
       " 'getsid',\n",
       " 'getuid',\n",
       " 'grantpt',\n",
       " 'height',\n",
       " 'highest_bmi',\n",
       " 'highest_bmi_name',\n",
       " 'hypot',\n",
       " 'inf',\n",
       " 'initgroups',\n",
       " 'isatty',\n",
       " 'isclose',\n",
       " 'isfinite',\n",
       " 'isinf',\n",
       " 'isnan',\n",
       " 'isqrt',\n",
       " 'kill',\n",
       " 'killpg',\n",
       " 'lchflags',\n",
       " 'lchmod',\n",
       " 'lchown',\n",
       " 'lcm',\n",
       " 'ldexp',\n",
       " 'lgamma',\n",
       " 'line',\n",
       " 'linesep',\n",
       " 'link',\n",
       " 'listdir',\n",
       " 'lockf',\n",
       " 'log',\n",
       " 'log10',\n",
       " 'log1p',\n",
       " 'log2',\n",
       " 'login_tty',\n",
       " 'lower_names',\n",
       " 'lseek',\n",
       " 'lstat',\n",
       " 'major',\n",
       " 'makedev',\n",
       " 'makedirs',\n",
       " 'math',\n",
       " 'minor',\n",
       " 'mkdir',\n",
       " 'mkfifo',\n",
       " 'mknod',\n",
       " 'modf',\n",
       " 'name',\n",
       " 'names',\n",
       " 'nan',\n",
       " 'nextafter',\n",
       " 'nice',\n",
       " 'openpty',\n",
       " 'os',\n",
       " 'pardir',\n",
       " 'path',\n",
       " 'pathconf',\n",
       " 'pathconf_names',\n",
       " 'pathsep',\n",
       " 'perm',\n",
       " 'pi',\n",
       " 'pipe',\n",
       " 'ploscina',\n",
       " 'ploščina',\n",
       " 'popen',\n",
       " 'posix_openpt',\n",
       " 'posix_spawn',\n",
       " 'posix_spawnp',\n",
       " 'pow',\n",
       " 'pread',\n",
       " 'preadv',\n",
       " 'prod',\n",
       " 'prostornina',\n",
       " 'ptsname',\n",
       " 'putenv',\n",
       " 'pwrite',\n",
       " 'pwritev',\n",
       " 'quit',\n",
       " 'radians',\n",
       " 'read',\n",
       " 'readlink',\n",
       " 'readv',\n",
       " 'register_at_fork',\n",
       " 'remainder',\n",
       " 'remove',\n",
       " 'removedirs',\n",
       " 'rename',\n",
       " 'renames',\n",
       " 'replace',\n",
       " 'rmdir',\n",
       " 's',\n",
       " 'scandir',\n",
       " 'sched_get_priority_max',\n",
       " 'sched_get_priority_min',\n",
       " 'sched_yield',\n",
       " 'second',\n",
       " 'sendfile',\n",
       " 'sep',\n",
       " 'sequence',\n",
       " 'set_blocking',\n",
       " 'set_inheritable',\n",
       " 'setegid',\n",
       " 'seteuid',\n",
       " 'setgid',\n",
       " 'setgroups',\n",
       " 'setpgid',\n",
       " 'setpgrp',\n",
       " 'setpriority',\n",
       " 'setregid',\n",
       " 'setreuid',\n",
       " 'setsid',\n",
       " 'setuid',\n",
       " 'sin',\n",
       " 'sinh',\n",
       " 'spawnl',\n",
       " 'spawnle',\n",
       " 'spawnlp',\n",
       " 'spawnlpe',\n",
       " 'spawnv',\n",
       " 'spawnve',\n",
       " 'spawnvp',\n",
       " 'spawnvpe',\n",
       " 'sqrt',\n",
       " 'stat',\n",
       " 'stat_result',\n",
       " 'statvfs',\n",
       " 'statvfs_result',\n",
       " 'strerror',\n",
       " 'sum',\n",
       " 'sumprod',\n",
       " 'supports_bytes_environ',\n",
       " 'symlink',\n",
       " 'sync',\n",
       " 'sysconf',\n",
       " 'sysconf_names',\n",
       " 'system',\n",
       " 't',\n",
       " 'tan',\n",
       " 'tanh',\n",
       " 'tau',\n",
       " 'tcgetpgrp',\n",
       " 'tcsetpgrp',\n",
       " 'terminal_size',\n",
       " 'third',\n",
       " 'times',\n",
       " 'times_result',\n",
       " 'trunc',\n",
       " 'truncate',\n",
       " 'ttyname',\n",
       " 'ulp',\n",
       " 'umask',\n",
       " 'uname',\n",
       " 'uname_result',\n",
       " 'unlink',\n",
       " 'unlockpt',\n",
       " 'unsetenv',\n",
       " 'urandom',\n",
       " 'utime',\n",
       " 'visina',\n",
       " 'vrstica',\n",
       " 'wait',\n",
       " 'wait3',\n",
       " 'wait4',\n",
       " 'waitid',\n",
       " 'waitid_result',\n",
       " 'waitpid',\n",
       " 'waitstatus_to_exitcode',\n",
       " 'walk',\n",
       " 'weight',\n",
       " 'write',\n",
       " 'writev',\n",
       " 'x',\n",
       " 'y']"
      ]
     },
     "execution_count": 152,
     "metadata": {},
     "output_type": "execute_result"
    }
   ],
   "source": [
    "dir()"
   ]
  },
  {
   "cell_type": "code",
   "execution_count": 153,
   "id": "718d413e-f75b-4a03-8ea4-597695f84c4d",
   "metadata": {},
   "outputs": [],
   "source": [
    "import math as m"
   ]
  },
  {
   "cell_type": "code",
   "execution_count": 155,
   "id": "1ff1bd21-e5e9-4a14-83f5-9e5c76c7311c",
   "metadata": {},
   "outputs": [
    {
     "data": {
      "text/plain": [
       "<module 'math' from '/Users/janez/miniforge3/envs/programiranje/lib/python3.13/lib-dynload/math.cpython-313-darwin.so'>"
      ]
     },
     "execution_count": 155,
     "metadata": {},
     "output_type": "execute_result"
    }
   ],
   "source": [
    "m"
   ]
  },
  {
   "cell_type": "code",
   "execution_count": 157,
   "id": "9ed52180-c8d9-405c-a595-b29b490088db",
   "metadata": {},
   "outputs": [],
   "source": [
    "marjeta = 15"
   ]
  },
  {
   "cell_type": "code",
   "execution_count": 183,
   "id": "9a239e7f-dea1-4ace-a17d-7f22fb432412",
   "metadata": {},
   "outputs": [
    {
     "name": "stdout",
     "output_type": "stream",
     "text": [
      "Ana            65      170     22.49\n",
      "Berta          80      168     28.34\n",
      "Cilka          60      155     24.97\n",
      "Highest BMI: 28.344671201814062 Berta\n",
      "Average: 25.27000203820825\n"
     ]
    }
   ],
   "source": [
    "f = open(\"new-file.txt\", \"w\", encoding=\"utf-8\")\n",
    "highest_bmi = 0\n",
    "sum = 0\n",
    "fingers = 0\n",
    "for line in open(\"data.txt\", encoding=\"utf-8-sig\"):\n",
    "    name, weight, height = line.strip().split(\",\")\n",
    "    bmi = float(weight) / (float(height) / 100) ** 2\n",
    "    print(f\"{name:15}{weight:8}{height:8}{bmi:5.2f}\")\n",
    "    if bmi > highest_bmi:\n",
    "        highest_bmi = bmi\n",
    "        highest_bmi_name = name\n",
    "    sum = sum + bmi\n",
    "    fingers = fingers + 1\n",
    "    \n",
    "print(\"Highest BMI:\", highest_bmi, highest_bmi_name)\n",
    "print(\"Average:\", sum / fingers)\n",
    "f.close()"
   ]
  },
  {
   "cell_type": "code",
   "execution_count": 184,
   "id": "d5c20ac0-8601-4088-9c8d-77bb10f241d7",
   "metadata": {},
   "outputs": [],
   "source": [
    "x = 7"
   ]
  },
  {
   "cell_type": "code",
   "execution_count": 185,
   "id": "0558294f-6b3f-4b33-9674-3b58da685301",
   "metadata": {},
   "outputs": [],
   "source": [
    "s = [3, 5, 18, 20, 30]\n",
    "t = [1, 2, 3, 6, 3]"
   ]
  },
  {
   "cell_type": "code",
   "execution_count": 190,
   "id": "631ead44-9c9e-4bfb-b396-7394f7ad89fa",
   "metadata": {},
   "outputs": [
    {
     "data": {
      "text/plain": [
       "[3, 5, 18, 20, 30, 3, 5, 18, 20, 30]"
      ]
     },
     "execution_count": 190,
     "metadata": {},
     "output_type": "execute_result"
    }
   ],
   "source": [
    "s + s"
   ]
  },
  {
   "cell_type": "code",
   "execution_count": 191,
   "id": "65132980-d376-4fd7-91b8-ea9340aa3c70",
   "metadata": {},
   "outputs": [
    {
     "data": {
      "text/plain": [
       "[3, 5, 18, 20, 30, 1, 2, 3, 6, 3]"
      ]
     },
     "execution_count": 191,
     "metadata": {},
     "output_type": "execute_result"
    }
   ],
   "source": [
    "s + t"
   ]
  },
  {
   "cell_type": "code",
   "execution_count": 193,
   "id": "7be6fb0b-bc5a-410b-8605-a4d8c96328fc",
   "metadata": {},
   "outputs": [
    {
     "name": "stdout",
     "output_type": "stream",
     "text": [
      "15.2\n"
     ]
    }
   ],
   "source": [
    "sum = 0\n",
    "for x in s:\n",
    "    sum += x\n",
    "\n",
    "print(sum / len(s))"
   ]
  },
  {
   "cell_type": "code",
   "execution_count": 194,
   "id": "c3340c81-ba37-42c0-80aa-1436aea7028a",
   "metadata": {},
   "outputs": [
    {
     "data": {
      "text/plain": [
       "5"
      ]
     },
     "execution_count": 194,
     "metadata": {},
     "output_type": "execute_result"
    }
   ],
   "source": [
    "len(\"Berta\")"
   ]
  },
  {
   "cell_type": "code",
   "execution_count": 195,
   "id": "980bb6d4-47ad-41d9-b01a-a5a7f8f6992d",
   "metadata": {},
   "outputs": [
    {
     "data": {
      "text/plain": [
       "3"
      ]
     },
     "execution_count": 195,
     "metadata": {},
     "output_type": "execute_result"
    }
   ],
   "source": [
    "len([1, 2, 3])"
   ]
  },
  {
   "cell_type": "code",
   "execution_count": 196,
   "id": "df1b749e-41b9-4f67-8dfe-4fd149818c15",
   "metadata": {},
   "outputs": [
    {
     "data": {
      "text/plain": [
       "0"
      ]
     },
     "execution_count": 196,
     "metadata": {},
     "output_type": "execute_result"
    }
   ],
   "source": [
    "len([])"
   ]
  },
  {
   "cell_type": "code",
   "execution_count": 199,
   "id": "0baf9a11-9ea9-48ab-9de7-263db5841667",
   "metadata": {},
   "outputs": [],
   "source": [
    "for x in []:\n",
    "    print(\"Nothing\")"
   ]
  },
  {
   "cell_type": "code",
   "execution_count": 200,
   "id": "7749830c-ede0-4f02-986c-94a39a9e1306",
   "metadata": {},
   "outputs": [
    {
     "data": {
      "text/plain": [
       "[3, 5, 18, 20, 30]"
      ]
     },
     "execution_count": 200,
     "metadata": {},
     "output_type": "execute_result"
    }
   ],
   "source": [
    "s"
   ]
  },
  {
   "cell_type": "code",
   "execution_count": 201,
   "id": "30b88d82-8a22-424d-8ae8-9c2e96daf285",
   "metadata": {},
   "outputs": [
    {
     "data": {
      "text/plain": [
       "True"
      ]
     },
     "execution_count": 201,
     "metadata": {},
     "output_type": "execute_result"
    }
   ],
   "source": [
    "18 in s"
   ]
  },
  {
   "cell_type": "code",
   "execution_count": 202,
   "id": "fdb2b717-7dbd-47e0-ba3b-d6acb40145a3",
   "metadata": {},
   "outputs": [
    {
     "data": {
      "text/plain": [
       "False"
      ]
     },
     "execution_count": 202,
     "metadata": {},
     "output_type": "execute_result"
    }
   ],
   "source": [
    "19 in s"
   ]
  },
  {
   "cell_type": "code",
   "execution_count": 208,
   "id": "4c579514-b9ba-41fa-bfdf-59ad9702600e",
   "metadata": {},
   "outputs": [
    {
     "name": "stdout",
     "output_type": "stream",
     "text": [
      "Yes, [3, 5, 18, 20, 30] contains 18\n"
     ]
    }
   ],
   "source": [
    "if x in s:\n",
    "    print(f\"Yes, {s} contains {x}\")"
   ]
  },
  {
   "cell_type": "code",
   "execution_count": 207,
   "id": "798ff16a-5143-488e-aae5-5d6e81f418ba",
   "metadata": {},
   "outputs": [],
   "source": [
    "x = 18"
   ]
  },
  {
   "cell_type": "code",
   "execution_count": 209,
   "id": "64c978ba-0df1-48e9-acec-f1dee72aec7f",
   "metadata": {},
   "outputs": [
    {
     "data": {
      "text/plain": [
       "[3, 5, 18, 20, 30]"
      ]
     },
     "execution_count": 209,
     "metadata": {},
     "output_type": "execute_result"
    }
   ],
   "source": [
    "s"
   ]
  },
  {
   "cell_type": "code",
   "execution_count": 210,
   "id": "ac13f57e-dd51-4803-a7a0-d75cc77053ec",
   "metadata": {},
   "outputs": [],
   "source": [
    "s.append(5)"
   ]
  },
  {
   "cell_type": "code",
   "execution_count": 211,
   "id": "1721a4a0-5908-4c98-96f1-9977be47c6ef",
   "metadata": {},
   "outputs": [
    {
     "data": {
      "text/plain": [
       "[3, 5, 18, 20, 30, 5]"
      ]
     },
     "execution_count": 211,
     "metadata": {},
     "output_type": "execute_result"
    }
   ],
   "source": [
    "s"
   ]
  },
  {
   "cell_type": "code",
   "execution_count": 212,
   "id": "68fc6855-f24d-481b-b705-b6599925d3ac",
   "metadata": {},
   "outputs": [],
   "source": [
    "s.append(5)"
   ]
  },
  {
   "cell_type": "code",
   "execution_count": 213,
   "id": "14c9a7a3-1c08-4b58-a665-ef61c82093fe",
   "metadata": {},
   "outputs": [
    {
     "data": {
      "text/plain": [
       "[3, 5, 18, 20, 30, 5, 5]"
      ]
     },
     "execution_count": 213,
     "metadata": {},
     "output_type": "execute_result"
    }
   ],
   "source": [
    "s"
   ]
  },
  {
   "cell_type": "code",
   "execution_count": 214,
   "id": "d0d1c1fb-d60d-43c8-b7dd-689f94832fcd",
   "metadata": {},
   "outputs": [],
   "source": [
    "s.append(18)"
   ]
  },
  {
   "cell_type": "code",
   "execution_count": 215,
   "id": "4b8b53f0-858a-48df-b800-521ff6261f7a",
   "metadata": {},
   "outputs": [
    {
     "data": {
      "text/plain": [
       "[3, 5, 18, 20, 30, 5, 5, 18]"
      ]
     },
     "execution_count": 215,
     "metadata": {},
     "output_type": "execute_result"
    }
   ],
   "source": [
    "s"
   ]
  },
  {
   "cell_type": "code",
   "execution_count": 216,
   "id": "2487c79f-20f9-403b-8345-8909975d7ac8",
   "metadata": {},
   "outputs": [
    {
     "data": {
      "text/plain": [
       "3"
      ]
     },
     "execution_count": 216,
     "metadata": {},
     "output_type": "execute_result"
    }
   ],
   "source": [
    "s.count(5)"
   ]
  },
  {
   "cell_type": "code",
   "execution_count": 217,
   "id": "65a79c63-2681-47d5-9767-9b312d85158a",
   "metadata": {},
   "outputs": [
    {
     "data": {
      "text/plain": [
       "2"
      ]
     },
     "execution_count": 217,
     "metadata": {},
     "output_type": "execute_result"
    }
   ],
   "source": [
    "s.count(18)"
   ]
  },
  {
   "cell_type": "code",
   "execution_count": 218,
   "id": "8281ac5d-b461-4846-809b-72f660299a61",
   "metadata": {},
   "outputs": [
    {
     "data": {
      "text/plain": [
       "0"
      ]
     },
     "execution_count": 218,
     "metadata": {},
     "output_type": "execute_result"
    }
   ],
   "source": [
    "s.count(19)"
   ]
  },
  {
   "cell_type": "code",
   "execution_count": 219,
   "id": "5048ccc3-905d-4656-a7b9-97226eaa6262",
   "metadata": {},
   "outputs": [
    {
     "data": {
      "text/plain": [
       "[3, 5, 18, 20, 30, 5, 5, 18]"
      ]
     },
     "execution_count": 219,
     "metadata": {},
     "output_type": "execute_result"
    }
   ],
   "source": [
    "s"
   ]
  },
  {
   "cell_type": "code",
   "execution_count": 220,
   "id": "18cc1390-a082-4c0f-a020-869cc4c11990",
   "metadata": {},
   "outputs": [],
   "source": [
    "s.sort()"
   ]
  },
  {
   "cell_type": "code",
   "execution_count": 221,
   "id": "7f39c29a-4bf6-48d0-bc2c-6d416fa6ac45",
   "metadata": {},
   "outputs": [
    {
     "data": {
      "text/plain": [
       "[3, 5, 5, 5, 18, 18, 20, 30]"
      ]
     },
     "execution_count": 221,
     "metadata": {},
     "output_type": "execute_result"
    }
   ],
   "source": [
    "s"
   ]
  },
  {
   "cell_type": "code",
   "execution_count": 222,
   "id": "16290b1b-7310-47fe-a0a7-7161bb285c41",
   "metadata": {},
   "outputs": [],
   "source": [
    "s.sort(reverse=True)"
   ]
  },
  {
   "cell_type": "code",
   "execution_count": 223,
   "id": "d7586f72-aa7d-4e00-8570-32be1a856294",
   "metadata": {},
   "outputs": [
    {
     "data": {
      "text/plain": [
       "[30, 20, 18, 18, 5, 5, 5, 3]"
      ]
     },
     "execution_count": 223,
     "metadata": {},
     "output_type": "execute_result"
    }
   ],
   "source": [
    "s"
   ]
  },
  {
   "cell_type": "code",
   "execution_count": 224,
   "id": "648be310-5be9-43cb-ad8d-fa3b54453d9e",
   "metadata": {},
   "outputs": [],
   "source": [
    "names = [\"Ana\", \"Cilka\", \"Fanči\", \"Berta\", \"Ema\", \"Dani\"]"
   ]
  },
  {
   "cell_type": "code",
   "execution_count": 225,
   "id": "02cfac9b-f971-4b88-affa-6650343cc5bd",
   "metadata": {},
   "outputs": [
    {
     "data": {
      "text/plain": [
       "['Ana', 'Cilka', 'Fanči', 'Berta', 'Ema', 'Dani']"
      ]
     },
     "execution_count": 225,
     "metadata": {},
     "output_type": "execute_result"
    }
   ],
   "source": [
    "names"
   ]
  },
  {
   "cell_type": "code",
   "execution_count": 226,
   "id": "23aecc1c-88cf-40a9-8b14-a57a40b1e715",
   "metadata": {},
   "outputs": [],
   "source": [
    "names.sort()"
   ]
  },
  {
   "cell_type": "code",
   "execution_count": 227,
   "id": "5a891629-68c7-4eb5-9e93-503c242a2da2",
   "metadata": {},
   "outputs": [
    {
     "data": {
      "text/plain": [
       "['Ana', 'Berta', 'Cilka', 'Dani', 'Ema', 'Fanči']"
      ]
     },
     "execution_count": 227,
     "metadata": {},
     "output_type": "execute_result"
    }
   ],
   "source": [
    "names"
   ]
  },
  {
   "cell_type": "code",
   "execution_count": 228,
   "id": "ddae36c2-92d7-47e5-aa0d-f6ee03ba60e2",
   "metadata": {},
   "outputs": [
    {
     "data": {
      "text/plain": [
       "True"
      ]
     },
     "execution_count": 228,
     "metadata": {},
     "output_type": "execute_result"
    }
   ],
   "source": [
    "\"Dani\" < \"Ema\""
   ]
  },
  {
   "cell_type": "code",
   "execution_count": 229,
   "id": "f64b7266-6045-415e-94e3-795196197e92",
   "metadata": {},
   "outputs": [
    {
     "data": {
      "text/plain": [
       "True"
      ]
     },
     "execution_count": 229,
     "metadata": {},
     "output_type": "execute_result"
    }
   ],
   "source": [
    "\"Benjamin\" < \"Berta\""
   ]
  },
  {
   "cell_type": "code",
   "execution_count": 230,
   "id": "f0b98788-fbc4-4419-9272-75d2f2554de5",
   "metadata": {},
   "outputs": [
    {
     "data": {
      "text/plain": [
       "False"
      ]
     },
     "execution_count": 230,
     "metadata": {},
     "output_type": "execute_result"
    }
   ],
   "source": [
    "\"Črt\" < \"Dani\""
   ]
  },
  {
   "cell_type": "code",
   "execution_count": 238,
   "id": "7eaf0e53-4a00-4bd6-a932-ced4c755a12c",
   "metadata": {},
   "outputs": [
    {
     "name": "stdout",
     "output_type": "stream",
     "text": [
      "Janez won\n"
     ]
    }
   ],
   "source": [
    "n = 19567876543456789\n",
    "seen = []\n",
    "while n != 1 and n not in seen:\n",
    "    seen.append(n)\n",
    "    if n % 2 == 0:\n",
    "        n //= 2\n",
    "    else:\n",
    "        n = 3 * n + 1\n",
    "\n",
    "\n",
    "if n == 1:\n",
    "    print(\"Janez won\")\n",
    "else:\n",
    "    print(\"Janez lost\")"
   ]
  },
  {
   "cell_type": "code",
   "execution_count": 237,
   "id": "e84d2a0e-1fc9-4a83-9177-1eef2bc13ea6",
   "metadata": {},
   "outputs": [
    {
     "data": {
      "text/plain": [
       "1"
      ]
     },
     "execution_count": 237,
     "metadata": {},
     "output_type": "execute_result"
    }
   ],
   "source": [
    "len(seen)"
   ]
  },
  {
   "cell_type": "code",
   "execution_count": 239,
   "id": "dcb649a2-c21c-4e58-abbf-3c59fa8234bb",
   "metadata": {},
   "outputs": [
    {
     "data": {
      "text/plain": [
       "['Ana', 'Berta', 'Cilka', 'Dani', 'Ema', 'Fanči']"
      ]
     },
     "execution_count": 239,
     "metadata": {},
     "output_type": "execute_result"
    }
   ],
   "source": [
    "names"
   ]
  },
  {
   "cell_type": "code",
   "execution_count": 240,
   "id": "5ef111b5-acc4-47c9-a79b-6bbe4dedb496",
   "metadata": {},
   "outputs": [
    {
     "name": "stdout",
     "output_type": "stream",
     "text": [
      "Ana\n",
      "Berta\n",
      "Cilka\n",
      "Dani\n",
      "Ema\n",
      "Fanči\n"
     ]
    }
   ],
   "source": [
    "for name in names:\n",
    "    print(name)"
   ]
  },
  {
   "cell_type": "code",
   "execution_count": 241,
   "id": "fa4f2702-40a8-463c-bfe7-9189de7d208a",
   "metadata": {},
   "outputs": [],
   "source": [
    "first, sec, thi, fou, fif, six = names"
   ]
  },
  {
   "cell_type": "code",
   "execution_count": 244,
   "id": "a7430f00-143b-45d2-91a7-a6d14c982936",
   "metadata": {},
   "outputs": [
    {
     "data": {
      "text/plain": [
       "'Dani'"
      ]
     },
     "execution_count": 244,
     "metadata": {},
     "output_type": "execute_result"
    }
   ],
   "source": [
    "fou"
   ]
  },
  {
   "cell_type": "code",
   "execution_count": 245,
   "id": "5946d0fa-34d8-4310-83bc-71e3a00ad7a0",
   "metadata": {},
   "outputs": [],
   "source": [
    "vrstica = \"Ana,65,170\""
   ]
  },
  {
   "cell_type": "code",
   "execution_count": 246,
   "id": "d9413a9b-9e7a-4acf-bf37-a5e47aacac40",
   "metadata": {},
   "outputs": [],
   "source": [
    "name, weight, height = vrstica.split(\",\")"
   ]
  },
  {
   "cell_type": "code",
   "execution_count": 247,
   "id": "61901b8b-ac3e-494a-9823-57e1f15e2a99",
   "metadata": {},
   "outputs": [
    {
     "data": {
      "text/plain": [
       "['Ana', '65', '170']"
      ]
     },
     "execution_count": 247,
     "metadata": {},
     "output_type": "execute_result"
    }
   ],
   "source": [
    "vrstica.split(\",\")"
   ]
  },
  {
   "cell_type": "code",
   "execution_count": 248,
   "id": "d077eae7-b76c-4abf-be5d-14dd4470cf74",
   "metadata": {},
   "outputs": [
    {
     "data": {
      "text/plain": [
       "['Ana', 'Berta', 'Cilka', 'Dani', 'Ema', 'Fanči']"
      ]
     },
     "execution_count": 248,
     "metadata": {},
     "output_type": "execute_result"
    }
   ],
   "source": [
    "names"
   ]
  },
  {
   "cell_type": "code",
   "execution_count": 249,
   "id": "d5234fff-e3f8-4cad-b564-7ca324da9fb4",
   "metadata": {},
   "outputs": [
    {
     "data": {
      "text/plain": [
       "'Ema'"
      ]
     },
     "execution_count": 249,
     "metadata": {},
     "output_type": "execute_result"
    }
   ],
   "source": [
    "names[4]"
   ]
  },
  {
   "cell_type": "code",
   "execution_count": 250,
   "id": "f3d2e982-46e9-4f42-8b68-992594b0eed8",
   "metadata": {},
   "outputs": [
    {
     "data": {
      "text/plain": [
       "'Ana'"
      ]
     },
     "execution_count": 250,
     "metadata": {},
     "output_type": "execute_result"
    }
   ],
   "source": [
    "names[0]"
   ]
  },
  {
   "cell_type": "code",
   "execution_count": 252,
   "id": "1eddea5e-4f40-4651-979f-9d846e9f1293",
   "metadata": {},
   "outputs": [
    {
     "data": {
      "text/plain": [
       "6"
      ]
     },
     "execution_count": 252,
     "metadata": {},
     "output_type": "execute_result"
    }
   ],
   "source": [
    "len(names)"
   ]
  },
  {
   "cell_type": "code",
   "execution_count": 254,
   "id": "931f9058-0a8c-4098-933c-c866df28c788",
   "metadata": {},
   "outputs": [
    {
     "data": {
      "text/plain": [
       "'Fanči'"
      ]
     },
     "execution_count": 254,
     "metadata": {},
     "output_type": "execute_result"
    }
   ],
   "source": [
    "names[5]"
   ]
  },
  {
   "cell_type": "code",
   "execution_count": 257,
   "id": "828cf40e-8df9-4c7a-bc63-1c96e244c735",
   "metadata": {},
   "outputs": [
    {
     "data": {
      "text/plain": [
       "'Dani'"
      ]
     },
     "execution_count": 257,
     "metadata": {},
     "output_type": "execute_result"
    }
   ],
   "source": [
    "names[-3]"
   ]
  },
  {
   "cell_type": "code",
   "execution_count": null,
   "id": "c823894b-b699-4e29-9289-2a35ec3ce202",
   "metadata": {},
   "outputs": [],
   "source": []
  }
 ],
 "metadata": {
  "kernelspec": {
   "display_name": "Python 3 (ipykernel)",
   "language": "python",
   "name": "python3"
  },
  "language_info": {
   "codemirror_mode": {
    "name": "ipython",
    "version": 3
   },
   "file_extension": ".py",
   "mimetype": "text/x-python",
   "name": "python",
   "nbconvert_exporter": "python",
   "pygments_lexer": "ipython3",
   "version": "3.11.6"
  }
 },
 "nbformat": 4,
 "nbformat_minor": 5
}
