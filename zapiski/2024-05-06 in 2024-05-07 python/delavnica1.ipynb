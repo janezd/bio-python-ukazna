{
 "cells": [
  {
   "cell_type": "code",
   "execution_count": 109,
   "id": "9796a8e1",
   "metadata": {},
   "outputs": [
    {
     "data": {
      "text/plain": [
       "13"
      ]
     },
     "execution_count": 109,
     "metadata": {},
     "output_type": "execute_result"
    }
   ],
   "source": [
    "   6 + 7"
   ]
  },
  {
   "cell_type": "code",
   "execution_count": 2,
   "id": "4b770abb",
   "metadata": {},
   "outputs": [
    {
     "data": {
      "text/plain": [
       "-1"
      ]
     },
     "execution_count": 2,
     "metadata": {},
     "output_type": "execute_result"
    }
   ],
   "source": [
    "6 - 7"
   ]
  },
  {
   "cell_type": "code",
   "execution_count": 3,
   "id": "93b81b7f",
   "metadata": {},
   "outputs": [
    {
     "data": {
      "text/plain": [
       "42"
      ]
     },
     "execution_count": 3,
     "metadata": {},
     "output_type": "execute_result"
    }
   ],
   "source": [
    "6 * 7"
   ]
  },
  {
   "cell_type": "code",
   "execution_count": 4,
   "id": "bb7d6137",
   "metadata": {},
   "outputs": [
    {
     "data": {
      "text/plain": [
       "34"
      ]
     },
     "execution_count": 4,
     "metadata": {},
     "output_type": "execute_result"
    }
   ],
   "source": [
    "6+4 * 7"
   ]
  },
  {
   "cell_type": "code",
   "execution_count": 5,
   "id": "435657fb",
   "metadata": {},
   "outputs": [
    {
     "data": {
      "text/plain": [
       "34"
      ]
     },
     "execution_count": 5,
     "metadata": {},
     "output_type": "execute_result"
    }
   ],
   "source": [
    "6 + 4*7"
   ]
  },
  {
   "cell_type": "code",
   "execution_count": 6,
   "id": "5b55365e",
   "metadata": {},
   "outputs": [
    {
     "data": {
      "text/plain": [
       "34"
      ]
     },
     "execution_count": 6,
     "metadata": {},
     "output_type": "execute_result"
    }
   ],
   "source": [
    "6 + 4 * 7"
   ]
  },
  {
   "cell_type": "code",
   "execution_count": 7,
   "id": "c5bcf638",
   "metadata": {},
   "outputs": [
    {
     "data": {
      "text/plain": [
       "70"
      ]
     },
     "execution_count": 7,
     "metadata": {},
     "output_type": "execute_result"
    }
   ],
   "source": [
    "(6 + 4) * 7"
   ]
  },
  {
   "cell_type": "code",
   "execution_count": 8,
   "id": "111115b8",
   "metadata": {},
   "outputs": [
    {
     "data": {
      "text/plain": [
       "-1"
      ]
     },
     "execution_count": 8,
     "metadata": {},
     "output_type": "execute_result"
    }
   ],
   "source": [
    "_2"
   ]
  },
  {
   "cell_type": "code",
   "execution_count": 9,
   "id": "037359db",
   "metadata": {},
   "outputs": [
    {
     "data": {
      "text/plain": [
       "34"
      ]
     },
     "execution_count": 9,
     "metadata": {},
     "output_type": "execute_result"
    }
   ],
   "source": [
    "_6"
   ]
  },
  {
   "cell_type": "code",
   "execution_count": 10,
   "id": "797a08e6",
   "metadata": {},
   "outputs": [
    {
     "data": {
      "text/plain": [
       "71.1"
      ]
     },
     "execution_count": 10,
     "metadata": {},
     "output_type": "execute_result"
    }
   ],
   "source": [
    "6 + 8.3 + 7.1 * 8"
   ]
  },
  {
   "cell_type": "code",
   "execution_count": 13,
   "id": "939bc6d7",
   "metadata": {},
   "outputs": [
    {
     "data": {
      "text/plain": [
       "113"
      ]
     },
     "execution_count": 13,
     "metadata": {},
     "output_type": "execute_result"
    }
   ],
   "source": [
    "5 + 6 * 18"
   ]
  },
  {
   "cell_type": "code",
   "execution_count": 14,
   "id": "b550c118",
   "metadata": {},
   "outputs": [
    {
     "data": {
      "text/plain": [
       "0.6292035398230088"
      ]
     },
     "execution_count": 14,
     "metadata": {},
     "output_type": "execute_result"
    }
   ],
   "source": [
    "_10 / _13"
   ]
  },
  {
   "cell_type": "code",
   "execution_count": 15,
   "id": "3683acc6",
   "metadata": {},
   "outputs": [
    {
     "data": {
      "text/plain": [
       "25"
      ]
     },
     "execution_count": 15,
     "metadata": {},
     "output_type": "execute_result"
    }
   ],
   "source": [
    "5 ** 2"
   ]
  },
  {
   "cell_type": "code",
   "execution_count": 16,
   "id": "174922b7",
   "metadata": {},
   "outputs": [
    {
     "data": {
      "text/plain": [
       "7"
      ]
     },
     "execution_count": 16,
     "metadata": {},
     "output_type": "execute_result"
    }
   ],
   "source": [
    "5^2"
   ]
  },
  {
   "cell_type": "code",
   "execution_count": 17,
   "id": "cad11ced",
   "metadata": {},
   "outputs": [
    {
     "data": {
      "text/plain": [
       "3"
      ]
     },
     "execution_count": 17,
     "metadata": {},
     "output_type": "execute_result"
    }
   ],
   "source": [
    "23 % 5"
   ]
  },
  {
   "cell_type": "code",
   "execution_count": 18,
   "id": "ec850e1d",
   "metadata": {},
   "outputs": [
    {
     "data": {
      "text/plain": [
       "1"
      ]
     },
     "execution_count": 18,
     "metadata": {},
     "output_type": "execute_result"
    }
   ],
   "source": [
    "26 % 5"
   ]
  },
  {
   "cell_type": "code",
   "execution_count": 19,
   "id": "1bf09512",
   "metadata": {},
   "outputs": [
    {
     "data": {
      "text/plain": [
       "5"
      ]
     },
     "execution_count": 19,
     "metadata": {},
     "output_type": "execute_result"
    }
   ],
   "source": [
    "26 // 5"
   ]
  },
  {
   "cell_type": "code",
   "execution_count": 20,
   "id": "f1169ec1",
   "metadata": {},
   "outputs": [
    {
     "data": {
      "text/plain": [
       "5.2"
      ]
     },
     "execution_count": 20,
     "metadata": {},
     "output_type": "execute_result"
    }
   ],
   "source": [
    "26 / 5"
   ]
  },
  {
   "cell_type": "code",
   "execution_count": 21,
   "id": "bb244c20",
   "metadata": {},
   "outputs": [
    {
     "data": {
      "text/plain": [
       "3"
      ]
     },
     "execution_count": 21,
     "metadata": {},
     "output_type": "execute_result"
    }
   ],
   "source": [
    "26 // 7"
   ]
  },
  {
   "cell_type": "code",
   "execution_count": 22,
   "id": "aeffe5d2",
   "metadata": {},
   "outputs": [],
   "source": [
    "from math import *"
   ]
  },
  {
   "cell_type": "code",
   "execution_count": 23,
   "id": "6d866692",
   "metadata": {},
   "outputs": [
    {
     "data": {
      "text/plain": [
       "5.0"
      ]
     },
     "execution_count": 23,
     "metadata": {},
     "output_type": "execute_result"
    }
   ],
   "source": [
    "sqrt(25)"
   ]
  },
  {
   "cell_type": "code",
   "execution_count": 24,
   "id": "0879fe14",
   "metadata": {},
   "outputs": [
    {
     "data": {
      "text/plain": [
       "0.0015926529164868282"
      ]
     },
     "execution_count": 24,
     "metadata": {},
     "output_type": "execute_result"
    }
   ],
   "source": [
    "sin(3.14)"
   ]
  },
  {
   "cell_type": "code",
   "execution_count": 25,
   "id": "1447de7e",
   "metadata": {},
   "outputs": [
    {
     "data": {
      "text/plain": [
       "25.0"
      ]
     },
     "execution_count": 25,
     "metadata": {},
     "output_type": "execute_result"
    }
   ],
   "source": [
    "pow(5, 2)"
   ]
  },
  {
   "cell_type": "code",
   "execution_count": 26,
   "id": "e261947e",
   "metadata": {},
   "outputs": [
    {
     "data": {
      "text/plain": [
       "9.0"
      ]
     },
     "execution_count": 26,
     "metadata": {},
     "output_type": "execute_result"
    }
   ],
   "source": [
    "4 + sqrt(20 + 5)"
   ]
  },
  {
   "cell_type": "code",
   "execution_count": 27,
   "id": "9951536b",
   "metadata": {},
   "outputs": [
    {
     "data": {
      "text/plain": [
       "0.4121184852417566"
      ]
     },
     "execution_count": 27,
     "metadata": {},
     "output_type": "execute_result"
    }
   ],
   "source": [
    "sin(4 + sqrt(20 + 5))"
   ]
  },
  {
   "cell_type": "code",
   "execution_count": 28,
   "id": "3a2433f8",
   "metadata": {},
   "outputs": [],
   "source": [
    "x = 5 + 8"
   ]
  },
  {
   "cell_type": "code",
   "execution_count": 29,
   "id": "c539c0df",
   "metadata": {},
   "outputs": [
    {
     "data": {
      "text/plain": [
       "17"
      ]
     },
     "execution_count": 29,
     "metadata": {},
     "output_type": "execute_result"
    }
   ],
   "source": [
    "x + 4"
   ]
  },
  {
   "cell_type": "code",
   "execution_count": 30,
   "id": "ce224316",
   "metadata": {},
   "outputs": [
    {
     "data": {
      "text/plain": [
       "13"
      ]
     },
     "execution_count": 30,
     "metadata": {},
     "output_type": "execute_result"
    }
   ],
   "source": [
    "x"
   ]
  },
  {
   "cell_type": "code",
   "execution_count": 112,
   "id": "750145fa",
   "metadata": {},
   "outputs": [
    {
     "ename": "IndentationError",
     "evalue": "unexpected indent (3888915287.py, line 2)",
     "output_type": "error",
     "traceback": [
      "\u001b[0;36m  Cell \u001b[0;32mIn[112], line 2\u001b[0;36m\u001b[0m\n\u001b[0;31m    b      = a   +   4\u001b[0m\n\u001b[0m    ^\u001b[0m\n\u001b[0;31mIndentationError\u001b[0m\u001b[0;31m:\u001b[0m unexpected indent\n"
     ]
    }
   ],
   "source": [
    "a = 5\n",
    "b      = a   +   4    \n",
    "c = a * b\n",
    "c"
   ]
  },
  {
   "cell_type": "code",
   "execution_count": 32,
   "id": "95b02e78",
   "metadata": {},
   "outputs": [
    {
     "ename": "NameError",
     "evalue": "name 'f' is not defined",
     "output_type": "error",
     "traceback": [
      "\u001b[0;31m---------------------------------------------------------------------------\u001b[0m",
      "\u001b[0;31mNameError\u001b[0m                                 Traceback (most recent call last)",
      "Cell \u001b[0;32mIn[32], line 1\u001b[0m\n\u001b[0;32m----> 1\u001b[0m e \u001b[38;5;241m=\u001b[39m f \u001b[38;5;241m*\u001b[39m g\n\u001b[1;32m      2\u001b[0m f \u001b[38;5;241m=\u001b[39m \u001b[38;5;241m2\u001b[39m\n\u001b[1;32m      3\u001b[0m g \u001b[38;5;241m=\u001b[39m \u001b[38;5;241m6\u001b[39m\n",
      "\u001b[0;31mNameError\u001b[0m: name 'f' is not defined"
     ]
    }
   ],
   "source": [
    "e = f * g\n",
    "f = 2\n",
    "g = 6\n",
    "e"
   ]
  },
  {
   "cell_type": "code",
   "execution_count": 33,
   "id": "ae18b786",
   "metadata": {},
   "outputs": [
    {
     "data": {
      "text/plain": [
       "13"
      ]
     },
     "execution_count": 33,
     "metadata": {},
     "output_type": "execute_result"
    }
   ],
   "source": [
    "x"
   ]
  },
  {
   "cell_type": "code",
   "execution_count": 34,
   "id": "5eb069eb",
   "metadata": {},
   "outputs": [],
   "source": [
    "demšar = 5"
   ]
  },
  {
   "cell_type": "code",
   "execution_count": 35,
   "id": "d2bb6f6f",
   "metadata": {},
   "outputs": [],
   "source": [
    "янез = 6"
   ]
  },
  {
   "cell_type": "code",
   "execution_count": 36,
   "id": "b668a47e",
   "metadata": {},
   "outputs": [
    {
     "data": {
      "text/plain": [
       "6"
      ]
     },
     "execution_count": 36,
     "metadata": {},
     "output_type": "execute_result"
    }
   ],
   "source": [
    "янез"
   ]
  },
  {
   "cell_type": "code",
   "execution_count": 37,
   "id": "2552b141",
   "metadata": {},
   "outputs": [],
   "source": [
    "stevilo_gob = 56"
   ]
  },
  {
   "cell_type": "code",
   "execution_count": 38,
   "id": "40119be1",
   "metadata": {},
   "outputs": [],
   "source": [
    "x1 = 5\n",
    "y1 = 4\n",
    "x2 = 1\n",
    "y2 = 3"
   ]
  },
  {
   "cell_type": "code",
   "execution_count": 40,
   "id": "1f073a7e",
   "metadata": {},
   "outputs": [
    {
     "data": {
      "text/plain": [
       "25"
      ]
     },
     "execution_count": 40,
     "metadata": {},
     "output_type": "execute_result"
    }
   ],
   "source": [
    "5 ** 2"
   ]
  },
  {
   "cell_type": "code",
   "execution_count": 41,
   "id": "78459348",
   "metadata": {},
   "outputs": [
    {
     "data": {
      "text/plain": [
       "4.123105625617661"
      ]
     },
     "execution_count": 41,
     "metadata": {},
     "output_type": "execute_result"
    }
   ],
   "source": [
    "sqrt((x1 - x2) ** 2 + (y1 - y2) ** 2)"
   ]
  },
  {
   "cell_type": "code",
   "execution_count": 42,
   "id": "b468cee5",
   "metadata": {},
   "outputs": [],
   "source": [
    "Janez = 6"
   ]
  },
  {
   "cell_type": "code",
   "execution_count": 43,
   "id": "1f977ab8",
   "metadata": {},
   "outputs": [
    {
     "ename": "NameError",
     "evalue": "name 'janez' is not defined",
     "output_type": "error",
     "traceback": [
      "\u001b[0;31m---------------------------------------------------------------------------\u001b[0m",
      "\u001b[0;31mNameError\u001b[0m                                 Traceback (most recent call last)",
      "Cell \u001b[0;32mIn[43], line 1\u001b[0m\n\u001b[0;32m----> 1\u001b[0m janez\n",
      "\u001b[0;31mNameError\u001b[0m: name 'janez' is not defined"
     ]
    }
   ],
   "source": [
    "janez"
   ]
  },
  {
   "cell_type": "code",
   "execution_count": 44,
   "id": "922d4c42",
   "metadata": {},
   "outputs": [
    {
     "ename": "SyntaxError",
     "evalue": "cannot assign to literal here. Maybe you meant '==' instead of '='? (4242231508.py, line 1)",
     "output_type": "error",
     "traceback": [
      "\u001b[0;36m  Cell \u001b[0;32mIn[44], line 1\u001b[0;36m\u001b[0m\n\u001b[0;31m    7 = u\u001b[0m\n\u001b[0m    ^\u001b[0m\n\u001b[0;31mSyntaxError\u001b[0m\u001b[0;31m:\u001b[0m cannot assign to literal here. Maybe you meant '==' instead of '='?\n"
     ]
    }
   ],
   "source": [
    "7 = u"
   ]
  },
  {
   "cell_type": "code",
   "execution_count": 45,
   "id": "6918793e",
   "metadata": {},
   "outputs": [
    {
     "ename": "ZeroDivisionError",
     "evalue": "division by zero",
     "output_type": "error",
     "traceback": [
      "\u001b[0;31m---------------------------------------------------------------------------\u001b[0m",
      "\u001b[0;31mZeroDivisionError\u001b[0m                         Traceback (most recent call last)",
      "Cell \u001b[0;32mIn[45], line 1\u001b[0m\n\u001b[0;32m----> 1\u001b[0m \u001b[38;5;241m5\u001b[39m \u001b[38;5;241m/\u001b[39m \u001b[38;5;241m0\u001b[39m\n",
      "\u001b[0;31mZeroDivisionError\u001b[0m: division by zero"
     ]
    }
   ],
   "source": [
    "5 / 0"
   ]
  },
  {
   "cell_type": "code",
   "execution_count": 48,
   "id": "78babbf8",
   "metadata": {},
   "outputs": [
    {
     "ename": "ZeroDivisionError",
     "evalue": "division by zero",
     "output_type": "error",
     "traceback": [
      "\u001b[0;31m---------------------------------------------------------------------------\u001b[0m",
      "\u001b[0;31mZeroDivisionError\u001b[0m                         Traceback (most recent call last)",
      "Cell \u001b[0;32mIn[48], line 1\u001b[0m\n\u001b[0;32m----> 1\u001b[0m \u001b[38;5;241m5\u001b[39m \u001b[38;5;241m/\u001b[39m (x \u001b[38;5;241m-\u001b[39m \u001b[38;5;241m14\u001b[39m)\n",
      "\u001b[0;31mZeroDivisionError\u001b[0m: division by zero"
     ]
    }
   ],
   "source": [
    "5 / (x - 14)"
   ]
  },
  {
   "cell_type": "code",
   "execution_count": 47,
   "id": "96c7f5c2",
   "metadata": {},
   "outputs": [],
   "source": [
    "x = 14"
   ]
  },
  {
   "cell_type": "code",
   "execution_count": 49,
   "id": "afdc0c2f",
   "metadata": {},
   "outputs": [
    {
     "ename": "ValueError",
     "evalue": "math domain error",
     "output_type": "error",
     "traceback": [
      "\u001b[0;31m---------------------------------------------------------------------------\u001b[0m",
      "\u001b[0;31mValueError\u001b[0m                                Traceback (most recent call last)",
      "Cell \u001b[0;32mIn[49], line 1\u001b[0m\n\u001b[0;32m----> 1\u001b[0m sqrt(\u001b[38;5;241m-\u001b[39m\u001b[38;5;241m5\u001b[39m)\n",
      "\u001b[0;31mValueError\u001b[0m: math domain error"
     ]
    }
   ],
   "source": [
    "sqrt(-5)"
   ]
  },
  {
   "cell_type": "code",
   "execution_count": 52,
   "id": "ea37f86b",
   "metadata": {},
   "outputs": [
    {
     "data": {
      "text/plain": [
       "2.0"
      ]
     },
     "execution_count": 52,
     "metadata": {},
     "output_type": "execute_result"
    }
   ],
   "source": [
    "sqrt(x1 - x2, )"
   ]
  },
  {
   "cell_type": "code",
   "execution_count": 53,
   "id": "6a3d0bf2",
   "metadata": {},
   "outputs": [
    {
     "data": {
      "text/plain": [
       "2"
      ]
     },
     "execution_count": 53,
     "metadata": {},
     "output_type": "execute_result"
    }
   ],
   "source": [
    "1 + 1"
   ]
  },
  {
   "cell_type": "code",
   "execution_count": 54,
   "id": "6f81222a",
   "metadata": {},
   "outputs": [
    {
     "data": {
      "text/plain": [
       "2.0"
      ]
     },
     "execution_count": 54,
     "metadata": {},
     "output_type": "execute_result"
    }
   ],
   "source": [
    "sqrt(4)"
   ]
  },
  {
   "cell_type": "code",
   "execution_count": 55,
   "id": "86f85486",
   "metadata": {},
   "outputs": [
    {
     "data": {
      "text/plain": [
       "2"
      ]
     },
     "execution_count": 55,
     "metadata": {},
     "output_type": "execute_result"
    }
   ],
   "source": [
    "1 + 1"
   ]
  },
  {
   "cell_type": "code",
   "execution_count": 56,
   "id": "332a556e",
   "metadata": {},
   "outputs": [
    {
     "data": {
      "text/plain": [
       "2.0"
      ]
     },
     "execution_count": 56,
     "metadata": {},
     "output_type": "execute_result"
    }
   ],
   "source": [
    "4 / 2"
   ]
  },
  {
   "cell_type": "code",
   "execution_count": 57,
   "id": "eb0e38e6",
   "metadata": {},
   "outputs": [
    {
     "data": {
      "text/plain": [
       "2"
      ]
     },
     "execution_count": 57,
     "metadata": {},
     "output_type": "execute_result"
    }
   ],
   "source": [
    "4 // 2"
   ]
  },
  {
   "cell_type": "code",
   "execution_count": 58,
   "id": "7f07f28d",
   "metadata": {},
   "outputs": [
    {
     "data": {
      "text/plain": [
       "2.0"
      ]
     },
     "execution_count": 58,
     "metadata": {},
     "output_type": "execute_result"
    }
   ],
   "source": [
    "1.8 + 0.2"
   ]
  },
  {
   "cell_type": "code",
   "execution_count": 61,
   "id": "66621cbf",
   "metadata": {},
   "outputs": [],
   "source": [
    "vreme = \"Danes sije sonce\""
   ]
  },
  {
   "cell_type": "code",
   "execution_count": 62,
   "id": "39e52c4b",
   "metadata": {},
   "outputs": [
    {
     "ename": "TypeError",
     "evalue": "must be real number, not str",
     "output_type": "error",
     "traceback": [
      "\u001b[0;31m---------------------------------------------------------------------------\u001b[0m",
      "\u001b[0;31mTypeError\u001b[0m                                 Traceback (most recent call last)",
      "Cell \u001b[0;32mIn[62], line 1\u001b[0m\n\u001b[0;32m----> 1\u001b[0m sqrt(vreme)\n",
      "\u001b[0;31mTypeError\u001b[0m: must be real number, not str"
     ]
    }
   ],
   "source": [
    "sqrt(vreme)"
   ]
  },
  {
   "cell_type": "code",
   "execution_count": 66,
   "id": "642cb30e",
   "metadata": {},
   "outputs": [
    {
     "data": {
      "text/plain": [
       "'Danes sije luč'"
      ]
     },
     "execution_count": 66,
     "metadata": {},
     "output_type": "execute_result"
    }
   ],
   "source": [
    "vzorec = \"Danes sije\"\n",
    "nebesno = \"lu\"\n",
    "telo = \"č\"\n",
    "\n",
    "vzorec + \" \" + nebesno + telo"
   ]
  },
  {
   "cell_type": "code",
   "execution_count": 67,
   "id": "85c96d24",
   "metadata": {},
   "outputs": [
    {
     "data": {
      "text/plain": [
       "'lululu'"
      ]
     },
     "execution_count": 67,
     "metadata": {},
     "output_type": "execute_result"
    }
   ],
   "source": [
    "nebesno + nebesno + nebesno"
   ]
  },
  {
   "cell_type": "code",
   "execution_count": 68,
   "id": "3f3689b0",
   "metadata": {},
   "outputs": [
    {
     "data": {
      "text/plain": [
       "'lululu'"
      ]
     },
     "execution_count": 68,
     "metadata": {},
     "output_type": "execute_result"
    }
   ],
   "source": [
    "nebesno * 3"
   ]
  },
  {
   "cell_type": "code",
   "execution_count": 69,
   "id": "102a95a9",
   "metadata": {},
   "outputs": [
    {
     "data": {
      "text/plain": [
       "'lululu'"
      ]
     },
     "execution_count": 69,
     "metadata": {},
     "output_type": "execute_result"
    }
   ],
   "source": [
    "nebesno * (6 // 2)"
   ]
  },
  {
   "cell_type": "code",
   "execution_count": 70,
   "id": "61227492",
   "metadata": {},
   "outputs": [
    {
     "ename": "TypeError",
     "evalue": "can't multiply sequence by non-int of type 'float'",
     "output_type": "error",
     "traceback": [
      "\u001b[0;31m---------------------------------------------------------------------------\u001b[0m",
      "\u001b[0;31mTypeError\u001b[0m                                 Traceback (most recent call last)",
      "Cell \u001b[0;32mIn[70], line 1\u001b[0m\n\u001b[0;32m----> 1\u001b[0m nebesno \u001b[38;5;241m*\u001b[39m (\u001b[38;5;241m6\u001b[39m \u001b[38;5;241m/\u001b[39m \u001b[38;5;241m2\u001b[39m)\n",
      "\u001b[0;31mTypeError\u001b[0m: can't multiply sequence by non-int of type 'float'"
     ]
    }
   ],
   "source": [
    "nebesno * (6 / 2)"
   ]
  },
  {
   "cell_type": "code",
   "execution_count": 71,
   "id": "e780ae6f",
   "metadata": {},
   "outputs": [
    {
     "data": {
      "text/plain": [
       "'12'"
      ]
     },
     "execution_count": 71,
     "metadata": {},
     "output_type": "execute_result"
    }
   ],
   "source": [
    "a = \"1\"\n",
    "b = \"2\"\n",
    "\n",
    "a + b"
   ]
  },
  {
   "cell_type": "code",
   "execution_count": 72,
   "id": "1f4035e8",
   "metadata": {},
   "outputs": [
    {
     "ename": "TypeError",
     "evalue": "can only concatenate str (not \"int\") to str",
     "output_type": "error",
     "traceback": [
      "\u001b[0;31m---------------------------------------------------------------------------\u001b[0m",
      "\u001b[0;31mTypeError\u001b[0m                                 Traceback (most recent call last)",
      "Cell \u001b[0;32mIn[72], line 1\u001b[0m\n\u001b[0;32m----> 1\u001b[0m a \u001b[38;5;241m+\u001b[39m \u001b[38;5;241m2\u001b[39m\n",
      "\u001b[0;31mTypeError\u001b[0m: can only concatenate str (not \"int\") to str"
     ]
    }
   ],
   "source": [
    "a + 2"
   ]
  },
  {
   "cell_type": "code",
   "execution_count": 73,
   "id": "2fafc085",
   "metadata": {},
   "outputs": [
    {
     "ename": "TypeError",
     "evalue": "unsupported operand type(s) for +: 'int' and 'str'",
     "output_type": "error",
     "traceback": [
      "\u001b[0;31m---------------------------------------------------------------------------\u001b[0m",
      "\u001b[0;31mTypeError\u001b[0m                                 Traceback (most recent call last)",
      "Cell \u001b[0;32mIn[73], line 1\u001b[0m\n\u001b[0;32m----> 1\u001b[0m \u001b[38;5;241m2\u001b[39m \u001b[38;5;241m+\u001b[39m a\n",
      "\u001b[0;31mTypeError\u001b[0m: unsupported operand type(s) for +: 'int' and 'str'"
     ]
    }
   ],
   "source": [
    "2 + a"
   ]
  },
  {
   "cell_type": "code",
   "execution_count": 74,
   "id": "ffdf8937",
   "metadata": {},
   "outputs": [
    {
     "data": {
      "text/plain": [
       "'1'"
      ]
     },
     "execution_count": 74,
     "metadata": {},
     "output_type": "execute_result"
    }
   ],
   "source": [
    "a"
   ]
  },
  {
   "cell_type": "code",
   "execution_count": 75,
   "id": "abe92cac",
   "metadata": {},
   "outputs": [
    {
     "data": {
      "text/plain": [
       "'2'"
      ]
     },
     "execution_count": 75,
     "metadata": {},
     "output_type": "execute_result"
    }
   ],
   "source": [
    "b"
   ]
  },
  {
   "cell_type": "code",
   "execution_count": 76,
   "id": "32585d5e",
   "metadata": {},
   "outputs": [
    {
     "data": {
      "text/plain": [
       "42"
      ]
     },
     "execution_count": 76,
     "metadata": {},
     "output_type": "execute_result"
    }
   ],
   "source": [
    "int(\"42\")"
   ]
  },
  {
   "cell_type": "code",
   "execution_count": 77,
   "id": "d71c8fa5",
   "metadata": {},
   "outputs": [
    {
     "data": {
      "text/plain": [
       "3"
      ]
     },
     "execution_count": 77,
     "metadata": {},
     "output_type": "execute_result"
    }
   ],
   "source": [
    "int(3.14)"
   ]
  },
  {
   "cell_type": "code",
   "execution_count": 78,
   "id": "56972cca",
   "metadata": {},
   "outputs": [
    {
     "ename": "TypeError",
     "evalue": "int() argument must be a string, a bytes-like object or a real number, not 'builtin_function_or_method'",
     "output_type": "error",
     "traceback": [
      "\u001b[0;31m---------------------------------------------------------------------------\u001b[0m",
      "\u001b[0;31mTypeError\u001b[0m                                 Traceback (most recent call last)",
      "Cell \u001b[0;32mIn[78], line 1\u001b[0m\n\u001b[0;32m----> 1\u001b[0m \u001b[38;5;28mint\u001b[39m(sqrt)\n",
      "\u001b[0;31mTypeError\u001b[0m: int() argument must be a string, a bytes-like object or a real number, not 'builtin_function_or_method'"
     ]
    }
   ],
   "source": [
    "int(sqrt)"
   ]
  },
  {
   "cell_type": "code",
   "execution_count": 79,
   "id": "8e685799",
   "metadata": {},
   "outputs": [
    {
     "data": {
      "text/plain": [
       "'3.14'"
      ]
     },
     "execution_count": 79,
     "metadata": {},
     "output_type": "execute_result"
    }
   ],
   "source": [
    "str(3.14)"
   ]
  },
  {
   "cell_type": "code",
   "execution_count": 80,
   "id": "4d53fc49",
   "metadata": {},
   "outputs": [],
   "source": [
    "temp = 23"
   ]
  },
  {
   "cell_type": "code",
   "execution_count": 81,
   "id": "873f28ce",
   "metadata": {},
   "outputs": [
    {
     "ename": "TypeError",
     "evalue": "can only concatenate str (not \"int\") to str",
     "output_type": "error",
     "traceback": [
      "\u001b[0;31m---------------------------------------------------------------------------\u001b[0m",
      "\u001b[0;31mTypeError\u001b[0m                                 Traceback (most recent call last)",
      "Cell \u001b[0;32mIn[81], line 1\u001b[0m\n\u001b[0;32m----> 1\u001b[0m vreme \u001b[38;5;241m=\u001b[39m \u001b[38;5;124m\"\u001b[39m\u001b[38;5;124mDanes je \u001b[39m\u001b[38;5;124m\"\u001b[39m \u001b[38;5;241m+\u001b[39m temp \u001b[38;5;241m+\u001b[39m \u001b[38;5;124m\"\u001b[39m\u001b[38;5;124m stopinj\u001b[39m\u001b[38;5;124m\"\u001b[39m\n",
      "\u001b[0;31mTypeError\u001b[0m: can only concatenate str (not \"int\") to str"
     ]
    }
   ],
   "source": [
    "vreme = \"Danes je \" + temp + \" stopinj\""
   ]
  },
  {
   "cell_type": "code",
   "execution_count": 82,
   "id": "e490dc7f",
   "metadata": {},
   "outputs": [
    {
     "data": {
      "text/plain": [
       "'1'"
      ]
     },
     "execution_count": 82,
     "metadata": {},
     "output_type": "execute_result"
    }
   ],
   "source": [
    "a"
   ]
  },
  {
   "cell_type": "code",
   "execution_count": 83,
   "id": "ce45d1d4",
   "metadata": {},
   "outputs": [
    {
     "data": {
      "text/plain": [
       "'2'"
      ]
     },
     "execution_count": 83,
     "metadata": {},
     "output_type": "execute_result"
    }
   ],
   "source": [
    "b"
   ]
  },
  {
   "cell_type": "code",
   "execution_count": 84,
   "id": "3f14d724",
   "metadata": {},
   "outputs": [
    {
     "data": {
      "text/plain": [
       "3"
      ]
     },
     "execution_count": 84,
     "metadata": {},
     "output_type": "execute_result"
    }
   ],
   "source": [
    "int(a) + int(b)"
   ]
  },
  {
   "cell_type": "code",
   "execution_count": 85,
   "id": "7d4063a6",
   "metadata": {},
   "outputs": [],
   "source": [
    "vreme = \"Danes je \" + str(temp) + \" stopinj\""
   ]
  },
  {
   "cell_type": "code",
   "execution_count": 86,
   "id": "02211975",
   "metadata": {},
   "outputs": [
    {
     "data": {
      "text/plain": [
       "'Danes je 23 stopinj'"
      ]
     },
     "execution_count": 86,
     "metadata": {},
     "output_type": "execute_result"
    }
   ],
   "source": [
    "vreme"
   ]
  },
  {
   "cell_type": "code",
   "execution_count": 87,
   "id": "2307dbe2",
   "metadata": {},
   "outputs": [
    {
     "data": {
      "text/plain": [
       "0"
      ]
     },
     "execution_count": 87,
     "metadata": {},
     "output_type": "execute_result"
    }
   ],
   "source": [
    "int()"
   ]
  },
  {
   "cell_type": "code",
   "execution_count": 88,
   "id": "6db9c3bd",
   "metadata": {},
   "outputs": [
    {
     "name": "stdout",
     "output_type": "stream",
     "text": [
      "Danes je 23 stopinj. Res je lepo vreme. Koren iz 4 je 2.0\n"
     ]
    }
   ],
   "source": [
    "print(\"Danes je\", temp, \"stopinj.\", \"Res je lepo vreme. Koren iz 4 je\", sqrt(4))"
   ]
  },
  {
   "cell_type": "code",
   "execution_count": 89,
   "id": "f0686de9",
   "metadata": {},
   "outputs": [
    {
     "name": "stdout",
     "output_type": "stream",
     "text": [
      "Vnesi temperaturo:23\n"
     ]
    },
    {
     "data": {
      "text/plain": [
       "'23'"
      ]
     },
     "execution_count": 89,
     "metadata": {},
     "output_type": "execute_result"
    }
   ],
   "source": [
    "input(\"Vnesi temperaturo:\")"
   ]
  },
  {
   "cell_type": "code",
   "execution_count": 90,
   "id": "19cd64f2",
   "metadata": {},
   "outputs": [
    {
     "data": {
      "text/plain": [
       "7"
      ]
     },
     "execution_count": 90,
     "metadata": {},
     "output_type": "execute_result"
    }
   ],
   "source": [
    "5 + 2"
   ]
  },
  {
   "cell_type": "code",
   "execution_count": 91,
   "id": "a4d87aa6",
   "metadata": {},
   "outputs": [
    {
     "data": {
      "text/plain": [
       "-2"
      ]
     },
     "execution_count": 91,
     "metadata": {},
     "output_type": "execute_result"
    }
   ],
   "source": [
    "5 - 7"
   ]
  },
  {
   "cell_type": "code",
   "execution_count": 93,
   "id": "40d7aba8",
   "metadata": {},
   "outputs": [
    {
     "name": "stdout",
     "output_type": "stream",
     "text": [
      "Vnesi temperaturo: 23\n",
      "23.0 Celzijev je -5.0 Fahrenheitov\n"
     ]
    }
   ],
   "source": [
    "temp_c = float(input(\"Vnesi temperaturo: \"))\n",
    "temp_f = (temp_c - 32) * 5 / 9\n",
    "print(temp_c, \"Celzijev je\", temp_f, \"Fahrenheitov\")"
   ]
  },
  {
   "cell_type": "code",
   "execution_count": 97,
   "id": "fd865213",
   "metadata": {},
   "outputs": [
    {
     "name": "stdout",
     "output_type": "stream",
     "text": [
      "Vnesi težo: 76\n",
      "Vnesi višino: 1.86\n",
      "Teža:  76 Višina:  1.86 BMI:  21.97\n"
     ]
    }
   ],
   "source": [
    "masa = int(input(\"Vnesi težo: \"))\n",
    "visina = float(input(\"Vnesi višino: \"))\n",
    "bmi = masa / visina ** 2\n",
    "print(\"Teža: \", masa, \"Višina: \", visina, \"BMI: \", round(bmi, 2))"
   ]
  },
  {
   "cell_type": "code",
   "execution_count": 99,
   "id": "e06a2562",
   "metadata": {},
   "outputs": [],
   "source": [
    "f = open(\"podatki.txt\")"
   ]
  },
  {
   "cell_type": "code",
   "execution_count": 116,
   "id": "8fa375d6",
   "metadata": {},
   "outputs": [
    {
     "name": "stdout",
     "output_type": "stream",
     "text": [
      "Ana 56 158\n",
      "Berta 62 164\n",
      "Cilka 78 185\n",
      "Dani 67 160\n",
      "\n"
     ]
    }
   ],
   "source": [
    "s = \"\"\n",
    "for vrstica in open(\"podatki.txt\"):\n",
    "    s = s + vrstica\n",
    "print(s)"
   ]
  },
  {
   "cell_type": "code",
   "execution_count": 107,
   "id": "e66c52ec",
   "metadata": {},
   "outputs": [
    {
     "name": "stdout",
     "output_type": "stream",
     "text": [
      "Ana 56 158\n",
      "Berta 62 164\n",
      "Cilka 78 185\n",
      "Dani 67 160\n",
      "\n"
     ]
    }
   ],
   "source": [
    "print(s)"
   ]
  },
  {
   "cell_type": "code",
   "execution_count": 117,
   "id": "3aef184e",
   "metadata": {},
   "outputs": [],
   "source": [
    "out = 5"
   ]
  },
  {
   "cell_type": "code",
   "execution_count": 119,
   "id": "e9b23f73",
   "metadata": {},
   "outputs": [
    {
     "ename": "SyntaxError",
     "evalue": "invalid syntax (2046953698.py, line 1)",
     "output_type": "error",
     "traceback": [
      "\u001b[0;36m  Cell \u001b[0;32mIn[119], line 1\u001b[0;36m\u001b[0m\n\u001b[0;31m    for = 4\u001b[0m\n\u001b[0m        ^\u001b[0m\n\u001b[0;31mSyntaxError\u001b[0m\u001b[0;31m:\u001b[0m invalid syntax\n"
     ]
    }
   ],
   "source": []
  },
  {
   "cell_type": "code",
   "execution_count": 145,
   "id": "1f50f1f2",
   "metadata": {},
   "outputs": [],
   "source": [
    "s = \"Ana      56  158\""
   ]
  },
  {
   "cell_type": "code",
   "execution_count": 125,
   "id": "5f381f4f",
   "metadata": {},
   "outputs": [
    {
     "data": {
      "text/plain": [
       "<function str.split(sep=None, maxsplit=-1)>"
      ]
     },
     "execution_count": 125,
     "metadata": {},
     "output_type": "execute_result"
    }
   ],
   "source": [
    "s.split"
   ]
  },
  {
   "cell_type": "code",
   "execution_count": 136,
   "id": "973b11df",
   "metadata": {},
   "outputs": [],
   "source": [
    "ime, teza, visina = s.split()"
   ]
  },
  {
   "cell_type": "code",
   "execution_count": 137,
   "id": "f4ef2d5f",
   "metadata": {},
   "outputs": [
    {
     "data": {
      "text/plain": [
       "'Ana'"
      ]
     },
     "execution_count": 137,
     "metadata": {},
     "output_type": "execute_result"
    }
   ],
   "source": [
    "ime"
   ]
  },
  {
   "cell_type": "code",
   "execution_count": 138,
   "id": "140d9211",
   "metadata": {},
   "outputs": [
    {
     "data": {
      "text/plain": [
       "'56'"
      ]
     },
     "execution_count": 138,
     "metadata": {},
     "output_type": "execute_result"
    }
   ],
   "source": [
    "teza"
   ]
  },
  {
   "cell_type": "code",
   "execution_count": 139,
   "id": "c1ee8134",
   "metadata": {},
   "outputs": [
    {
     "data": {
      "text/plain": [
       "'158'"
      ]
     },
     "execution_count": 139,
     "metadata": {},
     "output_type": "execute_result"
    }
   ],
   "source": [
    "visina"
   ]
  },
  {
   "cell_type": "code",
   "execution_count": 177,
   "id": "3e1b9b59",
   "metadata": {},
   "outputs": [
    {
     "ename": "SyntaxError",
     "evalue": "unmatched ')' (3054510673.py, line 12)",
     "output_type": "error",
     "traceback": [
      "\u001b[0;36m  Cell \u001b[0;32mIn[177], line 12\u001b[0;36m\u001b[0m\n\u001b[0;31m    print(burek * burger))\u001b[0m\n\u001b[0m                         ^\u001b[0m\n\u001b[0;31mSyntaxError\u001b[0m\u001b[0;31m:\u001b[0m unmatched ')'\n"
     ]
    }
   ],
   "source": [
    "for vrstica in open(\"podatki.txt\"):\n",
    "    ime, teza, visina = vrstica.split()\n",
    "    teza = int(teza)\n",
    "    visina = int(visina)\n",
    "    bmi = teza / (visina / 100) ** 2\n",
    "    print(ime, bmi)\n",
    "    if bmi > 23:\n",
    "        print(\"ima previsok BMI\")\n",
    "    elif bmi < 16:\n",
    "        print(\"takoj jest\")\n",
    "    elif bmi < 23:\n",
    "        print(\"ok\")\n",
    "    else:\n",
    "        print(\"Bingo\")\n",
    "    print()"
   ]
  },
  {
   "cell_type": "code",
   "execution_count": 172,
   "id": "9568f1f7",
   "metadata": {},
   "outputs": [
    {
     "data": {
      "text/plain": [
       "False"
      ]
     },
     "execution_count": 172,
     "metadata": {},
     "output_type": "execute_result"
    }
   ],
   "source": [
    "2 + 2 == 5"
   ]
  },
  {
   "cell_type": "code",
   "execution_count": 173,
   "id": "56e6fbed",
   "metadata": {},
   "outputs": [
    {
     "data": {
      "text/plain": [
       "True"
      ]
     },
     "execution_count": 173,
     "metadata": {},
     "output_type": "execute_result"
    }
   ],
   "source": [
    "2 + 2 == 4"
   ]
  },
  {
   "cell_type": "raw",
   "id": "774d59fc",
   "metadata": {},
   "source": [
    "Sem pišem besedilo.\n",
    "\n",
    "Kar napišem, to je tu."
   ]
  },
  {
   "cell_type": "markdown",
   "id": "f39beb1d",
   "metadata": {},
   "source": [
    "Tudi sem pišem besedilo, posebej, če je **pomembno**, če je *kr neki* pa ne.\n",
    "\n",
    "# Naslov\n",
    "\n",
    "bla bla\n",
    "\n",
    "1. prva točka je [pomembnejša kot](https://fri.uni-lj.si)\n",
    "   \n",
    "   Tu je treba <b>povedati</b> še to.\n",
    "   \n",
    "   - In ono.\n",
    "   - In tisto.\n",
    "\n",
    "   ![](https://upload.wikimedia.org/wikipedia/commons/thumb/d/da/Iceberg_lettuce_in_SB.jpg/220px-Iceberg_lettuce_in_SB.jpg)\n",
    "   \n",
    "2. druga točka, ta pa vseeno bolj kot\n",
    "3. tretja točka.\n",
    "\n",
    "$$\\int_{-\\infty}^{a^2 - b}\\sqrt{a^2 + (b - c)^2} dx$$"
   ]
  },
  {
   "cell_type": "code",
   "execution_count": 1,
   "id": "aa79f074",
   "metadata": {},
   "outputs": [
    {
     "data": {
      "text/plain": [
       "6"
      ]
     },
     "execution_count": 1,
     "metadata": {},
     "output_type": "execute_result"
    }
   ],
   "source": [
    "2 + 4"
   ]
  },
  {
   "cell_type": "code",
   "execution_count": 2,
   "id": "eae6dd36",
   "metadata": {},
   "outputs": [
    {
     "data": {
      "text/plain": [
       "42"
      ]
     },
     "execution_count": 2,
     "metadata": {},
     "output_type": "execute_result"
    }
   ],
   "source": [
    "35 + 7"
   ]
  },
  {
   "cell_type": "code",
   "execution_count": 3,
   "id": "608c2938",
   "metadata": {},
   "outputs": [
    {
     "data": {
      "text/plain": [
       "11"
      ]
     },
     "execution_count": 3,
     "metadata": {},
     "output_type": "execute_result"
    }
   ],
   "source": [
    "5 + 6"
   ]
  },
  {
   "cell_type": "markdown",
   "id": "39e49618",
   "metadata": {},
   "source": [
    "Bese **dilo**"
   ]
  },
  {
   "cell_type": "markdown",
   "id": "c990319c",
   "metadata": {},
   "source": [
    "- nekaj\n",
    "- besedila\n",
    "- v to celico"
   ]
  },
  {
   "cell_type": "code",
   "execution_count": 44,
   "id": "f7dfcc83",
   "metadata": {},
   "outputs": [
    {
     "name": "stdout",
     "output_type": "stream",
     "text": [
      "178 871\n"
     ]
    }
   ],
   "source": [
    "najdaljse_doslej = None\n",
    "najvecja_stevilka = None\n",
    "\n",
    "for a in range(2, 1001):\n",
    "    count = 0\n",
    "    x = a\n",
    "    while x != 1:\n",
    "        if x % 2 ==  0:\n",
    "            x //= 2\n",
    "        else:\n",
    "            x *= 3\n",
    "            x += 1\n",
    "        count += 1\n",
    "       \n",
    "    if najdaljse_doslej == None or count > najdaljse_doslej:\n",
    "        najdaljse_doslej = count\n",
    "        najvecja_stevilka = a\n",
    "        \n",
    "print(najdaljse_doslej, najvecja_stevilka)"
   ]
  },
  {
   "cell_type": "code",
   "execution_count": 6,
   "id": "e8f652ab",
   "metadata": {},
   "outputs": [],
   "source": [
    "a = 15"
   ]
  },
  {
   "cell_type": "code",
   "execution_count": 7,
   "id": "f09740b8",
   "metadata": {},
   "outputs": [],
   "source": [
    "a = a + 1"
   ]
  },
  {
   "cell_type": "code",
   "execution_count": 8,
   "id": "ac6ee06c",
   "metadata": {},
   "outputs": [
    {
     "data": {
      "text/plain": [
       "16"
      ]
     },
     "execution_count": 8,
     "metadata": {},
     "output_type": "execute_result"
    }
   ],
   "source": [
    "a"
   ]
  },
  {
   "cell_type": "code",
   "execution_count": 9,
   "id": "98d0f5e5",
   "metadata": {},
   "outputs": [],
   "source": [
    "a += 1"
   ]
  },
  {
   "cell_type": "code",
   "execution_count": 10,
   "id": "aeaf2957",
   "metadata": {},
   "outputs": [
    {
     "data": {
      "text/plain": [
       "17"
      ]
     },
     "execution_count": 10,
     "metadata": {},
     "output_type": "execute_result"
    }
   ],
   "source": [
    "a"
   ]
  },
  {
   "cell_type": "code",
   "execution_count": 11,
   "id": "eca76b8f",
   "metadata": {},
   "outputs": [],
   "source": [
    "a += 3"
   ]
  },
  {
   "cell_type": "code",
   "execution_count": 12,
   "id": "30a9ddec",
   "metadata": {},
   "outputs": [
    {
     "data": {
      "text/plain": [
       "20"
      ]
     },
     "execution_count": 12,
     "metadata": {},
     "output_type": "execute_result"
    }
   ],
   "source": [
    "a"
   ]
  },
  {
   "cell_type": "code",
   "execution_count": 13,
   "id": "84a27d5b",
   "metadata": {},
   "outputs": [],
   "source": [
    "a *= 6"
   ]
  },
  {
   "cell_type": "code",
   "execution_count": 14,
   "id": "e2e1a34d",
   "metadata": {},
   "outputs": [
    {
     "data": {
      "text/plain": [
       "120"
      ]
     },
     "execution_count": 14,
     "metadata": {},
     "output_type": "execute_result"
    }
   ],
   "source": [
    "a"
   ]
  },
  {
   "cell_type": "code",
   "execution_count": 37,
   "id": "ffd27c32",
   "metadata": {},
   "outputs": [
    {
     "data": {
      "text/plain": [
       "178"
      ]
     },
     "execution_count": 37,
     "metadata": {},
     "output_type": "execute_result"
    }
   ],
   "source": [
    "najvecja_doslej"
   ]
  },
  {
   "cell_type": "code",
   "execution_count": 74,
   "id": "178fe07a",
   "metadata": {},
   "outputs": [],
   "source": [
    "zaporedje = \"AKJEHBIAVNUWTNPAADSDFAVFSVFJWVIWJTNAIGJANVPHJRIJGNVAO\""
   ]
  },
  {
   "cell_type": "code",
   "execution_count": 83,
   "id": "fcd79e32",
   "metadata": {},
   "outputs": [
    {
     "name": "stdout",
     "output_type": "stream",
     "text": [
      "{'A': 8, 'K': 1, 'J': 6, 'E': 1, 'H': 2, 'B': 1, 'I': 4, 'V': 6, 'N': 5, 'U': 1, 'W': 3, 'T': 2, 'P': 2, 'D': 2, 'S': 2, 'F': 3, 'G': 2, 'R': 1, 'O': 1}\n"
     ]
    }
   ],
   "source": [
    "stevci = {}\n",
    "for crka in zaporedje:\n",
    "    if crka not in stevci:\n",
    "        stevci[crka] = 0\n",
    "    stevci[crka] += 1\n",
    "\n",
    "print(stevci)\n"
   ]
  },
  {
   "cell_type": "code",
   "execution_count": 88,
   "id": "076f3a2d",
   "metadata": {},
   "outputs": [
    {
     "name": "stdout",
     "output_type": "stream",
     "text": [
      "8 A\n"
     ]
    }
   ],
   "source": [
    "naj = -1\n",
    "for x in stevci:\n",
    "    if stevci[x] > naj:\n",
    "        naj = stevci[x]\n",
    "        naj_crka = x\n",
    "        \n",
    "print(naj, naj_crka)"
   ]
  },
  {
   "cell_type": "code",
   "execution_count": 90,
   "id": "3fbbc457",
   "metadata": {},
   "outputs": [
    {
     "data": {
      "text/plain": [
       "{'Ana': 56, 'Berta': 62, 'Cilka': 78, 'Dani': 67}"
      ]
     },
     "execution_count": 90,
     "metadata": {},
     "output_type": "execute_result"
    }
   ],
   "source": [
    "podatki = {}\n",
    "for vrstica in open(\"podatki.txt\"):\n",
    "    ime, teza, visina = vrstica.split()\n",
    "    podatki[ime] = int(teza)\n",
    "    \n",
    "podatki"
   ]
  },
  {
   "cell_type": "code",
   "execution_count": 91,
   "id": "25d94bbc",
   "metadata": {},
   "outputs": [],
   "source": [
    "imena = [\"Ana\", \"Berta\", \"Cilka\", \"Dani\", \"Ema\", \"Fanči\", \"Greta\", \"Helga\"]"
   ]
  },
  {
   "cell_type": "code",
   "execution_count": 92,
   "id": "91fb92cc",
   "metadata": {},
   "outputs": [
    {
     "data": {
      "text/plain": [
       "['Ana', 'Berta', 'Cilka', 'Dani', 'Ema', 'Fanči', 'Greta', 'Helga']"
      ]
     },
     "execution_count": 92,
     "metadata": {},
     "output_type": "execute_result"
    }
   ],
   "source": [
    "imena"
   ]
  },
  {
   "cell_type": "raw",
   "id": "ccf351d3",
   "metadata": {},
   "source": [
    "for ime in imena:\n",
    "    print(ime)"
   ]
  },
  {
   "cell_type": "code",
   "execution_count": 95,
   "id": "a17ed038",
   "metadata": {},
   "outputs": [],
   "source": [
    "se_imen = [\"Iva\", \"Jana\"]"
   ]
  },
  {
   "cell_type": "code",
   "execution_count": 97,
   "id": "b65c4b3f",
   "metadata": {},
   "outputs": [
    {
     "name": "stdout",
     "output_type": "stream",
     "text": [
      "['Ana', 'Berta', 'Cilka', 'Dani', 'Ema', 'Fanči', 'Greta', 'Helga', 'Iva', 'Jana']\n"
     ]
    }
   ],
   "source": [
    "print(imena + se_imen)"
   ]
  },
  {
   "cell_type": "code",
   "execution_count": 98,
   "id": "b69fb440",
   "metadata": {},
   "outputs": [
    {
     "data": {
      "text/plain": [
       "['Ana', 'Berta', 'Cilka', 'Dani', 'Ema', 'Fanči', 'Greta', 'Helga']"
      ]
     },
     "execution_count": 98,
     "metadata": {},
     "output_type": "execute_result"
    }
   ],
   "source": [
    "imena"
   ]
  },
  {
   "cell_type": "code",
   "execution_count": 99,
   "id": "c65793f7",
   "metadata": {},
   "outputs": [
    {
     "data": {
      "text/plain": [
       "'Cilka'"
      ]
     },
     "execution_count": 99,
     "metadata": {},
     "output_type": "execute_result"
    }
   ],
   "source": [
    "imena[2]"
   ]
  },
  {
   "cell_type": "code",
   "execution_count": 100,
   "id": "cba7c6ad",
   "metadata": {},
   "outputs": [
    {
     "data": {
      "text/plain": [
       "'Ana'"
      ]
     },
     "execution_count": 100,
     "metadata": {},
     "output_type": "execute_result"
    }
   ],
   "source": [
    "imena[0]"
   ]
  },
  {
   "cell_type": "code",
   "execution_count": 101,
   "id": "5ed4d4e0",
   "metadata": {},
   "outputs": [
    {
     "data": {
      "text/plain": [
       "8"
      ]
     },
     "execution_count": 101,
     "metadata": {},
     "output_type": "execute_result"
    }
   ],
   "source": [
    "len(imena)"
   ]
  },
  {
   "cell_type": "code",
   "execution_count": 105,
   "id": "30842cd2",
   "metadata": {},
   "outputs": [
    {
     "data": {
      "text/plain": [
       "'Helga'"
      ]
     },
     "execution_count": 105,
     "metadata": {},
     "output_type": "execute_result"
    }
   ],
   "source": [
    "imena[7]"
   ]
  },
  {
   "cell_type": "code",
   "execution_count": 106,
   "id": "56b012a6",
   "metadata": {},
   "outputs": [
    {
     "data": {
      "text/plain": [
       "'Helga'"
      ]
     },
     "execution_count": 106,
     "metadata": {},
     "output_type": "execute_result"
    }
   ],
   "source": [
    "imena[len(imena) - 1]"
   ]
  },
  {
   "cell_type": "code",
   "execution_count": 107,
   "id": "a5f32db6",
   "metadata": {},
   "outputs": [
    {
     "data": {
      "text/plain": [
       "'Helga'"
      ]
     },
     "execution_count": 107,
     "metadata": {},
     "output_type": "execute_result"
    }
   ],
   "source": [
    "imena[-1]"
   ]
  },
  {
   "cell_type": "code",
   "execution_count": 108,
   "id": "404fcd92",
   "metadata": {},
   "outputs": [
    {
     "data": {
      "text/plain": [
       "'Greta'"
      ]
     },
     "execution_count": 108,
     "metadata": {},
     "output_type": "execute_result"
    }
   ],
   "source": [
    "imena[-2]"
   ]
  },
  {
   "cell_type": "code",
   "execution_count": 109,
   "id": "0a822b3d",
   "metadata": {},
   "outputs": [],
   "source": [
    "niz = \"Danes ne sije sonce\""
   ]
  },
  {
   "cell_type": "code",
   "execution_count": 113,
   "id": "e3f67d14",
   "metadata": {},
   "outputs": [
    {
     "data": {
      "text/plain": [
       "'e'"
      ]
     },
     "execution_count": 113,
     "metadata": {},
     "output_type": "execute_result"
    }
   ],
   "source": [
    "niz[-1]"
   ]
  },
  {
   "cell_type": "code",
   "execution_count": 114,
   "id": "6dc25431",
   "metadata": {},
   "outputs": [],
   "source": [
    "niz = \"Q)C(VQ#TP($T=MGFPAQ)(VRTVN= UG)))\""
   ]
  },
  {
   "cell_type": "code",
   "execution_count": 121,
   "id": "f66b699e",
   "metadata": {},
   "outputs": [
    {
     "data": {
      "text/plain": [
       "')'"
      ]
     },
     "execution_count": 121,
     "metadata": {},
     "output_type": "execute_result"
    }
   ],
   "source": [
    "niz[-1]"
   ]
  },
  {
   "cell_type": "code",
   "execution_count": 119,
   "id": "1ea33070",
   "metadata": {},
   "outputs": [
    {
     "data": {
      "text/plain": [
       "217"
      ]
     },
     "execution_count": 119,
     "metadata": {},
     "output_type": "execute_result"
    }
   ],
   "source": [
    "t[-1]"
   ]
  },
  {
   "cell_type": "code",
   "execution_count": 122,
   "id": "2bc2e17f",
   "metadata": {},
   "outputs": [],
   "source": [
    "niz = \"Danes ne sije sonce\""
   ]
  },
  {
   "cell_type": "code",
   "execution_count": 123,
   "id": "b5d83834",
   "metadata": {},
   "outputs": [],
   "source": [
    "imena = [\"Ana\", \"Berta\", \"Cilka\", \"Dani\", \"Ema\", \"Fanči\", \"Greta\", \"Helga\"]"
   ]
  },
  {
   "cell_type": "code",
   "execution_count": 124,
   "id": "78adc8d2",
   "metadata": {},
   "outputs": [
    {
     "data": {
      "text/plain": [
       "['Cilka', 'Dani', 'Ema']"
      ]
     },
     "execution_count": 124,
     "metadata": {},
     "output_type": "execute_result"
    }
   ],
   "source": [
    "imena[2:5]"
   ]
  },
  {
   "cell_type": "code",
   "execution_count": 125,
   "id": "1df27cd2",
   "metadata": {},
   "outputs": [
    {
     "data": {
      "text/plain": [
       "['Cilka', 'Dani', 'Ema', 'Fanči']"
      ]
     },
     "execution_count": 125,
     "metadata": {},
     "output_type": "execute_result"
    }
   ],
   "source": [
    "imena[2:-2]"
   ]
  },
  {
   "cell_type": "code",
   "execution_count": 126,
   "id": "763bb006",
   "metadata": {},
   "outputs": [
    {
     "data": {
      "text/plain": [
       "'Danes ne sije sonce'"
      ]
     },
     "execution_count": 126,
     "metadata": {},
     "output_type": "execute_result"
    }
   ],
   "source": [
    "niz"
   ]
  },
  {
   "cell_type": "code",
   "execution_count": 127,
   "id": "b10a5e34",
   "metadata": {},
   "outputs": [
    {
     "data": {
      "text/plain": [
       "'es ne sije s'"
      ]
     },
     "execution_count": 127,
     "metadata": {},
     "output_type": "execute_result"
    }
   ],
   "source": [
    "niz[3:-4]"
   ]
  },
  {
   "cell_type": "code",
   "execution_count": 128,
   "id": "5e853429",
   "metadata": {},
   "outputs": [
    {
     "data": {
      "text/plain": [
       "'es ne sije sonce'"
      ]
     },
     "execution_count": 128,
     "metadata": {},
     "output_type": "execute_result"
    }
   ],
   "source": [
    "niz[3:]"
   ]
  },
  {
   "cell_type": "code",
   "execution_count": 129,
   "id": "c09bbe31",
   "metadata": {},
   "outputs": [
    {
     "data": {
      "text/plain": [
       "'Danes ne sije s'"
      ]
     },
     "execution_count": 129,
     "metadata": {},
     "output_type": "execute_result"
    }
   ],
   "source": [
    "niz[:-4]"
   ]
  },
  {
   "cell_type": "code",
   "execution_count": 130,
   "id": "a9bcca17",
   "metadata": {},
   "outputs": [
    {
     "data": {
      "text/plain": [
       "'Danes ne sije sonce'"
      ]
     },
     "execution_count": 130,
     "metadata": {},
     "output_type": "execute_result"
    }
   ],
   "source": [
    "niz"
   ]
  },
  {
   "cell_type": "code",
   "execution_count": 131,
   "id": "46d6e62e",
   "metadata": {},
   "outputs": [
    {
     "data": {
      "text/plain": [
       "'sonce'"
      ]
     },
     "execution_count": 131,
     "metadata": {},
     "output_type": "execute_result"
    }
   ],
   "source": [
    "niz[-5:]"
   ]
  },
  {
   "cell_type": "code",
   "execution_count": 132,
   "id": "9138ea63",
   "metadata": {},
   "outputs": [
    {
     "data": {
      "text/plain": [
       "'Dane'"
      ]
     },
     "execution_count": 132,
     "metadata": {},
     "output_type": "execute_result"
    }
   ],
   "source": [
    "niz[:4]"
   ]
  },
  {
   "cell_type": "code",
   "execution_count": 133,
   "id": "796bd9a7",
   "metadata": {},
   "outputs": [
    {
     "data": {
      "text/plain": [
       "56"
      ]
     },
     "execution_count": 133,
     "metadata": {},
     "output_type": "execute_result"
    }
   ],
   "source": [
    "int(\"56\")"
   ]
  },
  {
   "cell_type": "code",
   "execution_count": 134,
   "id": "97601bcf",
   "metadata": {},
   "outputs": [
    {
     "data": {
      "text/plain": [
       "456.0"
      ]
     },
     "execution_count": 134,
     "metadata": {},
     "output_type": "execute_result"
    }
   ],
   "source": [
    "float(\"456\")"
   ]
  },
  {
   "cell_type": "code",
   "execution_count": 135,
   "id": "0db3bb32",
   "metadata": {},
   "outputs": [
    {
     "data": {
      "text/plain": [
       "'4356'"
      ]
     },
     "execution_count": 135,
     "metadata": {},
     "output_type": "execute_result"
    }
   ],
   "source": [
    "str(4356)"
   ]
  },
  {
   "cell_type": "code",
   "execution_count": 137,
   "id": "ec1b2070",
   "metadata": {},
   "outputs": [
    {
     "data": {
      "text/plain": [
       "['D', 'a', 'n', 'e', 's']"
      ]
     },
     "execution_count": 137,
     "metadata": {},
     "output_type": "execute_result"
    }
   ],
   "source": [
    "list(\"Danes\")"
   ]
  },
  {
   "cell_type": "code",
   "execution_count": 139,
   "id": "96acfd38",
   "metadata": {},
   "outputs": [
    {
     "name": "stdout",
     "output_type": "stream",
     "text": [
      "{'A': 8, 'K': 1, 'J': 6, 'E': 1, 'H': 2, 'B': 1, 'I': 4, 'V': 6, 'N': 5, 'U': 1, 'W': 3, 'T': 2, 'P': 2, 'D': 2, 'S': 2, 'F': 3, 'G': 2, 'R': 1, 'O': 1}\n"
     ]
    }
   ],
   "source": [
    "print(stevci)"
   ]
  },
  {
   "cell_type": "code",
   "execution_count": 140,
   "id": "84ab7caa",
   "metadata": {},
   "outputs": [
    {
     "data": {
      "text/plain": [
       "19"
      ]
     },
     "execution_count": 140,
     "metadata": {},
     "output_type": "execute_result"
    }
   ],
   "source": [
    "len(stevci)"
   ]
  },
  {
   "cell_type": "code",
   "execution_count": 141,
   "id": "918e2130",
   "metadata": {},
   "outputs": [
    {
     "data": {
      "text/plain": [
       "['A',\n",
       " 'K',\n",
       " 'J',\n",
       " 'E',\n",
       " 'H',\n",
       " 'B',\n",
       " 'I',\n",
       " 'V',\n",
       " 'N',\n",
       " 'U',\n",
       " 'W',\n",
       " 'T',\n",
       " 'P',\n",
       " 'D',\n",
       " 'S',\n",
       " 'F',\n",
       " 'G',\n",
       " 'R',\n",
       " 'O']"
      ]
     },
     "execution_count": 141,
     "metadata": {},
     "output_type": "execute_result"
    }
   ],
   "source": [
    "list(stevci)"
   ]
  },
  {
   "cell_type": "code",
   "execution_count": 147,
   "id": "b05e48c1",
   "metadata": {},
   "outputs": [
    {
     "data": {
      "text/plain": [
       "['Ana      56  158\\n',\n",
       " 'Berta    62  164\\n',\n",
       " 'Cilka    78  185\\n',\n",
       " 'Dani     67  160\\n']"
      ]
     },
     "execution_count": 147,
     "metadata": {},
     "output_type": "execute_result"
    }
   ],
   "source": [
    "list(open(\"podatki.txt\"))[2:-1]"
   ]
  },
  {
   "cell_type": "code",
   "execution_count": 148,
   "id": "cb942485",
   "metadata": {},
   "outputs": [],
   "source": [
    "f = open(\"podatki.txt\")"
   ]
  },
  {
   "cell_type": "code",
   "execution_count": 149,
   "id": "9d6ca5e2",
   "metadata": {},
   "outputs": [
    {
     "data": {
      "text/plain": [
       "<_io.TextIOWrapper name='podatki.txt' mode='r' encoding='UTF-8'>"
      ]
     },
     "execution_count": 149,
     "metadata": {},
     "output_type": "execute_result"
    }
   ],
   "source": [
    "f"
   ]
  },
  {
   "cell_type": "code",
   "execution_count": 152,
   "id": "a6f6d94a",
   "metadata": {},
   "outputs": [
    {
     "name": "stdout",
     "output_type": "stream",
     "text": [
      "ime    teza visina\n",
      "\n",
      "------------------\n",
      "\n",
      "Ana      56  158\n",
      "\n",
      "Berta    62  164\n",
      "\n",
      "Cilka    78  185\n",
      "\n",
      "Dani     67  160\n",
      "\n",
      "------------------\n"
     ]
    }
   ],
   "source": [
    "for vrstica in f:\n",
    "    print(vrstica)"
   ]
  },
  {
   "cell_type": "code",
   "execution_count": 153,
   "id": "f19f0631",
   "metadata": {},
   "outputs": [
    {
     "data": {
      "text/plain": [
       "'Danes ne sije sonce'"
      ]
     },
     "execution_count": 153,
     "metadata": {},
     "output_type": "execute_result"
    }
   ],
   "source": [
    "niz"
   ]
  },
  {
   "cell_type": "code",
   "execution_count": 154,
   "id": "7b6ec890",
   "metadata": {},
   "outputs": [
    {
     "data": {
      "text/plain": [
       "['Danes', 'ne', 'sije', 'sonce']"
      ]
     },
     "execution_count": 154,
     "metadata": {},
     "output_type": "execute_result"
    }
   ],
   "source": [
    "niz.split()"
   ]
  },
  {
   "cell_type": "code",
   "execution_count": 156,
   "id": "df0728af",
   "metadata": {},
   "outputs": [],
   "source": [
    "a, b, c, d = imena[:4]"
   ]
  },
  {
   "cell_type": "code",
   "execution_count": null,
   "id": "af2cfa61",
   "metadata": {},
   "outputs": [],
   "source": []
  }
 ],
 "metadata": {
  "kernelspec": {
   "display_name": "Python 3 (ipykernel)",
   "language": "python",
   "name": "python3"
  },
  "language_info": {
   "codemirror_mode": {
    "name": "ipython",
    "version": 3
   },
   "file_extension": ".py",
   "mimetype": "text/x-python",
   "name": "python",
   "nbconvert_exporter": "python",
   "pygments_lexer": "ipython3",
   "version": "3.11.6"
  }
 },
 "nbformat": 4,
 "nbformat_minor": 5
}
