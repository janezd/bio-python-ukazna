{
 "cells": [
  {
   "cell_type": "code",
   "execution_count": 1,
   "metadata": {},
   "outputs": [],
   "source": [
    "import Bio"
   ]
  },
  {
   "cell_type": "markdown",
   "metadata": {},
   "source": [
    "# Read  primer.fasta file"
   ]
  },
  {
   "cell_type": "code",
   "execution_count": 3,
   "metadata": {},
   "outputs": [],
   "source": [
    "from Bio import SeqIO"
   ]
  },
  {
   "cell_type": "code",
   "execution_count": 10,
   "metadata": {},
   "outputs": [],
   "source": [
    "for rec in SeqIO.parse('datoteke/primer.fasta', 'fasta'):\n",
    "    pass"
   ]
  },
  {
   "cell_type": "code",
   "execution_count": 12,
   "metadata": {},
   "outputs": [
    {
     "data": {
      "text/plain": [
       "SeqRecord(seq=Seq('AATGCCAACACCAAGTAAGTAAAGACAGCCTCACTAAGCTGGAAATTTCGTGGA...ATT', SingleLetterAlphabet()), id='zap1', name='zap1', description='zap1 tudi nakljucno', dbxrefs=[])"
      ]
     },
     "execution_count": 12,
     "metadata": {},
     "output_type": "execute_result"
    }
   ],
   "source": [
    "rec"
   ]
  },
  {
   "cell_type": "code",
   "execution_count": 13,
   "metadata": {},
   "outputs": [
    {
     "data": {
      "text/plain": [
       "Seq('AATGCCAACACCAAGTAAGTAAAGACAGCCTCACTAAGCTGGAAATTTCGTGGA...ATT', SingleLetterAlphabet())"
      ]
     },
     "execution_count": 13,
     "metadata": {},
     "output_type": "execute_result"
    }
   ],
   "source": [
    "rec.seq"
   ]
  },
  {
   "cell_type": "code",
   "execution_count": 15,
   "metadata": {},
   "outputs": [
    {
     "data": {
      "text/plain": [
       "'zap1'"
      ]
     },
     "execution_count": 15,
     "metadata": {},
     "output_type": "execute_result"
    }
   ],
   "source": [
    "rec.id"
   ]
  },
  {
   "cell_type": "code",
   "execution_count": 16,
   "metadata": {},
   "outputs": [
    {
     "data": {
      "text/plain": [
       "'zap1 tudi nakljucno'"
      ]
     },
     "execution_count": 16,
     "metadata": {},
     "output_type": "execute_result"
    }
   ],
   "source": [
    "rec.description"
   ]
  },
  {
   "cell_type": "code",
   "execution_count": 18,
   "metadata": {},
   "outputs": [
    {
     "data": {
      "text/plain": [
       "'AATGCCAACACCAAGTAAGTAAAGACAGCCTCACTAAGCTGGAAATTTCGTGGACCCCGTTACCCTCCGTCCTTGTATTGAGAAAAACCTTATGTACTGCGGCATTATTGGAGGGTCATAATCTTTGGCGCGGGCGACCACGCCTGTAGGCTCCTTCGCCAGCGTTCTGTGCAGATGGGGAACAGAAGTGGGCATGACTGGAGGCAGGGCCTATGGTCCGCATCGGTGACGGACCAGAACGTTTATCTGCGACAAATCGCTTCCTGATATATCCGTGTGGCGCTCAGGTCCGGTGTCACGGCCGCGGAGAGGCCAGGTCTGTCCGATCAATGAGAAGTTTAAACGTCTTAACATTATGCCTTCAAATTGCATATTCAGGGAATAAGGACGCATGGAATGCCGGGACATTACACGTCATCCAACGGTACGGCGTTTAACAGCTGCAATTACAGAATTCACTGAATATCTACTATTCAGTGTACTCATGGCTTTGACACATT'"
      ]
     },
     "execution_count": 18,
     "metadata": {},
     "output_type": "execute_result"
    }
   ],
   "source": [
    "str(rec.seq)"
   ]
  },
  {
   "cell_type": "code",
   "execution_count": 19,
   "metadata": {},
   "outputs": [
    {
     "data": {
      "text/plain": [
       "Seq('AATGCCAACACCAAGTAAGTAAAGACAGCCTCACTAAGCTGGAAATTTCGTGGA...ATT', SingleLetterAlphabet())"
      ]
     },
     "execution_count": 19,
     "metadata": {},
     "output_type": "execute_result"
    }
   ],
   "source": [
    "rec.seq"
   ]
  },
  {
   "cell_type": "code",
   "execution_count": 26,
   "metadata": {},
   "outputs": [
    {
     "name": "stdout",
     "output_type": "stream",
     "text": [
      "zap1 40 TGGCGTCTTT\n",
      "zap2 500 AATGCCAACA\n"
     ]
    }
   ],
   "source": [
    "for rec in SeqIO.parse('datoteke/primer.fasta', 'fasta'):\n",
    "    # print out ID: length of sequence\n",
    "    sequence = str(rec.seq)\n",
    "    print(rec.id, len(sequence), sequence[:10])"
   ]
  },
  {
   "cell_type": "code",
   "execution_count": null,
   "metadata": {},
   "outputs": [],
   "source": [
    "for rec in SeqIO.parse('datoteke/primer.fasta', 'fasta'):\n",
    "    # print out ID, len, nucleotide composition\n",
    "    sequence = str(rec.seq)\n",
    "    print(rec.id, len(sequence))"
   ]
  },
  {
   "cell_type": "code",
   "execution_count": 27,
   "metadata": {},
   "outputs": [],
   "source": [
    "d = {'A': 5, 'T': 2, 'C': 7, 'G': 1}"
   ]
  },
  {
   "cell_type": "code",
   "execution_count": 28,
   "metadata": {},
   "outputs": [
    {
     "data": {
      "text/plain": [
       "{'A': 5, 'T': 2, 'C': 7, 'G': 1}"
      ]
     },
     "execution_count": 28,
     "metadata": {},
     "output_type": "execute_result"
    }
   ],
   "source": [
    "d"
   ]
  },
  {
   "cell_type": "code",
   "execution_count": 29,
   "metadata": {},
   "outputs": [],
   "source": [
    "def composition(s):\n",
    "    c = {}\n",
    "    for nuc in s:\n",
    "        if nuc not in c:\n",
    "            c[nuc] = 0\n",
    "        c[nuc] += 1\n",
    "    return c"
   ]
  },
  {
   "cell_type": "code",
   "execution_count": 31,
   "metadata": {},
   "outputs": [
    {
     "data": {
      "text/plain": [
       "{'a': 13, 'n': 12, 'b': 1}"
      ]
     },
     "execution_count": 31,
     "metadata": {},
     "output_type": "execute_result"
    }
   ],
   "source": [
    "composition('')"
   ]
  },
  {
   "cell_type": "code",
   "execution_count": 32,
   "metadata": {},
   "outputs": [
    {
     "name": "stdout",
     "output_type": "stream",
     "text": [
      "zap1 40 {'T': 14, 'G': 11, 'C': 5, 'A': 10}\n",
      "zap2 500 {'A': 128, 'T': 123, 'G': 128, 'C': 121}\n"
     ]
    }
   ],
   "source": [
    "for rec in SeqIO.parse('datoteke/primer.fasta', 'fasta'):\n",
    "    # print out ID, len, nucleotide composition\n",
    "    sequence = str(rec.seq)\n",
    "    com = composition(sequence)\n",
    "    print(rec.id, len(sequence), com)"
   ]
  },
  {
   "cell_type": "markdown",
   "metadata": {},
   "source": [
    "HW: compute percentages"
   ]
  },
  {
   "cell_type": "code",
   "execution_count": 33,
   "metadata": {},
   "outputs": [],
   "source": [
    "import matplotlib.pyplot as plt\n",
    "%matplotlib inline"
   ]
  },
  {
   "cell_type": "code",
   "execution_count": 34,
   "metadata": {},
   "outputs": [
    {
     "data": {
      "text/plain": [
       "[<matplotlib.lines.Line2D at 0x7f5b458cbfd0>]"
      ]
     },
     "execution_count": 34,
     "metadata": {},
     "output_type": "execute_result"
    },
    {
     "data": {
      "image/png": "[encoded data removed]",
      "text/plain": [
       "<Figure size 432x288 with 1 Axes>"
      ]
     },
     "metadata": {
      "needs_background": "light"
     },
     "output_type": "display_data"
    }
   ],
   "source": [
    "plt.plot([2, 3, 1, 0.5])"
   ]
  },
  {
   "cell_type": "code",
   "execution_count": 35,
   "metadata": {},
   "outputs": [
    {
     "data": {
      "text/plain": [
       "[<matplotlib.lines.Line2D at 0x7f5b45862a20>]"
      ]
     },
     "execution_count": 35,
     "metadata": {},
     "output_type": "execute_result"
    },
    {
     "data": {
      "image/png": "[encoded data removed]",
      "text/plain": [
       "<Figure size 432x288 with 1 Axes>"
      ]
     },
     "metadata": {
      "needs_background": "light"
     },
     "output_type": "display_data"
    }
   ],
   "source": [
    "plt.plot([100, 101, 103, 110], [2, 3, 1, 0.5])"
   ]
  },
  {
   "cell_type": "code",
   "execution_count": 36,
   "metadata": {},
   "outputs": [
    {
     "data": {
      "text/plain": [
       "'a simple string'"
      ]
     },
     "execution_count": 36,
     "metadata": {},
     "output_type": "execute_result"
    }
   ],
   "source": [
    "s"
   ]
  },
  {
   "cell_type": "code",
   "execution_count": 37,
   "metadata": {},
   "outputs": [
    {
     "data": {
      "text/plain": [
       "'a s'"
      ]
     },
     "execution_count": 37,
     "metadata": {},
     "output_type": "execute_result"
    }
   ],
   "source": [
    "s[0:0+3]"
   ]
  },
  {
   "cell_type": "code",
   "execution_count": 38,
   "metadata": {},
   "outputs": [
    {
     "data": {
      "text/plain": [
       "' si'"
      ]
     },
     "execution_count": 38,
     "metadata": {},
     "output_type": "execute_result"
    }
   ],
   "source": [
    "s[1:1+3]"
   ]
  },
  {
   "cell_type": "code",
   "execution_count": 39,
   "metadata": {},
   "outputs": [
    {
     "data": {
      "text/plain": [
       "'sim'"
      ]
     },
     "execution_count": 39,
     "metadata": {},
     "output_type": "execute_result"
    }
   ],
   "source": [
    "s[2:2+3]"
   ]
  },
  {
   "cell_type": "code",
   "execution_count": 40,
   "metadata": {},
   "outputs": [
    {
     "data": {
      "text/plain": [
       "'imp'"
      ]
     },
     "execution_count": 40,
     "metadata": {},
     "output_type": "execute_result"
    }
   ],
   "source": [
    "s[3:3+3]"
   ]
  },
  {
   "cell_type": "code",
   "execution_count": 41,
   "metadata": {},
   "outputs": [
    {
     "data": {
      "text/plain": [
       "'mpl'"
      ]
     },
     "execution_count": 41,
     "metadata": {},
     "output_type": "execute_result"
    }
   ],
   "source": [
    "s[4:4+3]"
   ]
  },
  {
   "cell_type": "code",
   "execution_count": 42,
   "metadata": {},
   "outputs": [
    {
     "data": {
      "text/plain": [
       "range(0, 10)"
      ]
     },
     "execution_count": 42,
     "metadata": {},
     "output_type": "execute_result"
    }
   ],
   "source": [
    "range(10)"
   ]
  },
  {
   "cell_type": "code",
   "execution_count": 43,
   "metadata": {},
   "outputs": [
    {
     "data": {
      "text/plain": [
       "[0, 1, 2, 3, 4, 5, 6, 7, 8, 9]"
      ]
     },
     "execution_count": 43,
     "metadata": {},
     "output_type": "execute_result"
    }
   ],
   "source": [
    "list(range(10))"
   ]
  },
  {
   "cell_type": "code",
   "execution_count": 52,
   "metadata": {},
   "outputs": [],
   "source": [
    "def composition(s):\n",
    "    c = {}\n",
    "    for nuc in s:\n",
    "        if nuc not in c:\n",
    "            c[nuc] = 0\n",
    "        c[nuc] += 1\n",
    "    return c"
   ]
  },
  {
   "cell_type": "code",
   "execution_count": 77,
   "metadata": {},
   "outputs": [
    {
     "name": "stdout",
     "output_type": "stream",
     "text": [
      "AATGCCAACACCAAG\n",
      "\n",
      "AATGCCAACA {'A': 5, 'T': 1, 'G': 1, 'C': 3}\n",
      "ATGCCAACAC {'A': 4, 'T': 1, 'G': 1, 'C': 4}\n",
      "TGCCAACACC {'T': 1, 'G': 1, 'C': 5, 'A': 3}\n",
      "GCCAACACCA {'G': 1, 'C': 5, 'A': 4}\n",
      "CCAACACCAA {'C': 5, 'A': 5}\n",
      "CAACACCAAG {'C': 4, 'A': 5, 'G': 1}\n"
     ]
    },
    {
     "data": {
      "text/plain": [
       "[<matplotlib.lines.Line2D at 0x7f5b3815ab70>]"
      ]
     },
     "execution_count": 77,
     "metadata": {},
     "output_type": "execute_result"
    },
    {
     "data": {
      "image/png": "[encoded data removed]",
      "text/plain": [
       "<Figure size 432x288 with 1 Axes>"
      ]
     },
     "metadata": {
      "needs_background": "light"
     },
     "output_type": "display_data"
    }
   ],
   "source": [
    "for rec in SeqIO.parse('datoteke/primer.fasta', 'fasta'):\n",
    "    pass\n",
    "\n",
    "s = str(rec.seq)[:15]\n",
    "print(s)\n",
    "print()\n",
    "\n",
    "at = []\n",
    "ws = 10\n",
    "for start_index in range(0, len(s)-ws+1):\n",
    "    window_sequence = s[start_index:start_index+ws]\n",
    "    window_composition = composition(window_sequence)\n",
    "    print(window_sequence, window_composition)\n",
    "    \n",
    "    number_As_or_Ts = window_composition.get('A', 0) + window_composition.get('T', 0)\n",
    "    at.append(number_As_or_Ts)\n",
    "\n",
    "plt.plot(at)"
   ]
  },
  {
   "cell_type": "code",
   "execution_count": 58,
   "metadata": {},
   "outputs": [
    {
     "data": {
      "text/plain": [
       "[<matplotlib.lines.Line2D at 0x7f5b381edcf8>]"
      ]
     },
     "execution_count": 58,
     "metadata": {},
     "output_type": "execute_result"
    },
    {
     "data": {
      "image/png": "[encoded data removed]",
      "text/plain": [
       "<Figure size 432x288 with 1 Axes>"
      ]
     },
     "metadata": {
      "needs_background": "light"
     },
     "output_type": "display_data"
    }
   ],
   "source": [
    "plt.plot([5+1, 4+1, 3+1, 4+0, 5+0, 5+0])"
   ]
  },
  {
   "cell_type": "code",
   "execution_count": 59,
   "metadata": {},
   "outputs": [],
   "source": [
    "tmpl = []"
   ]
  },
  {
   "cell_type": "code",
   "execution_count": 60,
   "metadata": {},
   "outputs": [
    {
     "data": {
      "text/plain": [
       "[]"
      ]
     },
     "execution_count": 60,
     "metadata": {},
     "output_type": "execute_result"
    }
   ],
   "source": [
    "tmpl"
   ]
  },
  {
   "cell_type": "code",
   "execution_count": 61,
   "metadata": {},
   "outputs": [],
   "source": [
    "tmpl.append(2)"
   ]
  },
  {
   "cell_type": "code",
   "execution_count": 63,
   "metadata": {},
   "outputs": [
    {
     "data": {
      "text/plain": [
       "[2]"
      ]
     },
     "execution_count": 63,
     "metadata": {},
     "output_type": "execute_result"
    }
   ],
   "source": [
    "tmpl"
   ]
  },
  {
   "cell_type": "code",
   "execution_count": 64,
   "metadata": {},
   "outputs": [],
   "source": [
    "tmpl.append(0)"
   ]
  },
  {
   "cell_type": "code",
   "execution_count": 65,
   "metadata": {},
   "outputs": [
    {
     "data": {
      "text/plain": [
       "[2, 0]"
      ]
     },
     "execution_count": 65,
     "metadata": {},
     "output_type": "execute_result"
    }
   ],
   "source": [
    "tmpl"
   ]
  },
  {
   "cell_type": "code",
   "execution_count": 66,
   "metadata": {},
   "outputs": [],
   "source": [
    "tmpl.append(100)"
   ]
  },
  {
   "cell_type": "code",
   "execution_count": 67,
   "metadata": {},
   "outputs": [
    {
     "data": {
      "text/plain": [
       "[2, 0, 100]"
      ]
     },
     "execution_count": 67,
     "metadata": {},
     "output_type": "execute_result"
    }
   ],
   "source": [
    "tmpl"
   ]
  },
  {
   "cell_type": "code",
   "execution_count": 68,
   "metadata": {},
   "outputs": [
    {
     "data": {
      "text/plain": [
       "{'A': 5, 'T': 2, 'C': 7, 'G': 1}"
      ]
     },
     "execution_count": 68,
     "metadata": {},
     "output_type": "execute_result"
    }
   ],
   "source": [
    "d"
   ]
  },
  {
   "cell_type": "code",
   "execution_count": 69,
   "metadata": {},
   "outputs": [
    {
     "data": {
      "text/plain": [
       "2"
      ]
     },
     "execution_count": 69,
     "metadata": {},
     "output_type": "execute_result"
    }
   ],
   "source": [
    "d['T']"
   ]
  },
  {
   "cell_type": "code",
   "execution_count": 70,
   "metadata": {},
   "outputs": [
    {
     "data": {
      "text/plain": [
       "7"
      ]
     },
     "execution_count": 70,
     "metadata": {},
     "output_type": "execute_result"
    }
   ],
   "source": [
    "d['T'] + d['A']"
   ]
  },
  {
   "cell_type": "code",
   "execution_count": 72,
   "metadata": {},
   "outputs": [
    {
     "ename": "KeyError",
     "evalue": "'X'",
     "output_type": "error",
     "traceback": [
      "\u001b[0;31m---------------------------------------------------------------------------\u001b[0m",
      "\u001b[0;31mKeyError\u001b[0m                                  Traceback (most recent call last)",
      "\u001b[0;32m<ipython-input-72-bf87cc130030>\u001b[0m in \u001b[0;36m<module>\u001b[0;34m\u001b[0m\n\u001b[0;32m----> 1\u001b[0;31m \u001b[0md\u001b[0m\u001b[0;34m[\u001b[0m\u001b[0;34m'X'\u001b[0m\u001b[0;34m]\u001b[0m\u001b[0;34m\u001b[0m\u001b[0;34m\u001b[0m\u001b[0m\n\u001b[0m",
      "\u001b[0;31mKeyError\u001b[0m: 'X'"
     ]
    }
   ],
   "source": [
    "d['X']"
   ]
  },
  {
   "cell_type": "code",
   "execution_count": 74,
   "metadata": {},
   "outputs": [
    {
     "data": {
      "text/plain": [
       "113"
      ]
     },
     "execution_count": 74,
     "metadata": {},
     "output_type": "execute_result"
    }
   ],
   "source": [
    "d.get('X', 113)"
   ]
  },
  {
   "cell_type": "code",
   "execution_count": 75,
   "metadata": {},
   "outputs": [
    {
     "data": {
      "text/plain": [
       "5"
      ]
     },
     "execution_count": 75,
     "metadata": {},
     "output_type": "execute_result"
    }
   ],
   "source": [
    "d['A']"
   ]
  },
  {
   "cell_type": "code",
   "execution_count": 76,
   "metadata": {},
   "outputs": [
    {
     "data": {
      "text/plain": [
       "5"
      ]
     },
     "execution_count": 76,
     "metadata": {},
     "output_type": "execute_result"
    }
   ],
   "source": [
    "d.get('A', 0)"
   ]
  },
  {
   "cell_type": "code",
   "execution_count": 78,
   "metadata": {},
   "outputs": [],
   "source": [
    "def plotAT(s, ws=10):\n",
    "    at = []\n",
    "    for start_index in range(0, len(s)-ws+1):\n",
    "        window_sequence = s[start_index:start_index+ws]\n",
    "        window_composition = composition(window_sequence)\n",
    "        print(window_sequence, window_composition)\n",
    "\n",
    "        number_As_or_Ts = window_composition.get('A', 0) + window_composition.get('T', 0)\n",
    "        at.append(number_As_or_Ts)\n",
    "    plt.plot(at)"
   ]
  },
  {
   "cell_type": "code",
   "execution_count": 80,
   "metadata": {},
   "outputs": [
    {
     "name": "stdout",
     "output_type": "stream",
     "text": [
      "AATGC {'A': 2, 'T': 1, 'G': 1, 'C': 1}\n",
      "ATGCC {'A': 1, 'T': 1, 'G': 1, 'C': 2}\n",
      "TGCCA {'T': 1, 'G': 1, 'C': 2, 'A': 1}\n",
      "GCCAA {'G': 1, 'C': 2, 'A': 2}\n",
      "CCAAC {'C': 3, 'A': 2}\n",
      "CAACA {'C': 2, 'A': 3}\n",
      "AACAC {'A': 3, 'C': 2}\n",
      "ACACC {'A': 2, 'C': 3}\n",
      "CACCA {'C': 3, 'A': 2}\n",
      "ACCAA {'A': 3, 'C': 2}\n",
      "CCAAG {'C': 2, 'A': 2, 'G': 1}\n"
     ]
    },
    {
     "data": {
      "image/png": "[encoded data removed]",
      "text/plain": [
       "<Figure size 432x288 with 1 Axes>"
      ]
     },
     "metadata": {
      "needs_background": "light"
     },
     "output_type": "display_data"
    }
   ],
   "source": [
    "plotAT(s, ws=5)"
   ]
  },
  {
   "cell_type": "code",
   "execution_count": 3,
   "metadata": {},
   "outputs": [],
   "source": [
    "from Bio import SeqIO\n",
    "import gzip\n",
    "\n",
    "fin = gzip.open('datoteke/SRR020192.fastq.gz', 'rt')\n",
    "\n",
    "for rec in SeqIO.parse(fin, 'fastq'):\n",
    "    pass"
   ]
  },
  {
   "cell_type": "code",
   "execution_count": 4,
   "metadata": {},
   "outputs": [
    {
     "data": {
      "text/plain": [
       "SeqRecord(seq=Seq('GACGACGGTGTTTACATCGTTCCACCACTCATCTCTTCTGTCATGCCAAGAGTC...CAT', SingleLetterAlphabet()), id='SRR020192.41892', name='SRR020192.41892', description='SRR020192.41892 E3XIUVN03DARAJ/2', dbxrefs=[])"
      ]
     },
     "execution_count": 4,
     "metadata": {},
     "output_type": "execute_result"
    }
   ],
   "source": [
    "rec"
   ]
  },
  {
   "cell_type": "code",
   "execution_count": 8,
   "metadata": {},
   "outputs": [
    {
     "data": {
      "text/plain": [
       "'T'"
      ]
     },
     "execution_count": 8,
     "metadata": {},
     "output_type": "execute_result"
    }
   ],
   "source": [
    "\n",
    "str(rec.seq)[10]"
   ]
  },
  {
   "cell_type": "code",
   "execution_count": 9,
   "metadata": {},
   "outputs": [
    {
     "data": {
      "text/plain": [
       "37"
      ]
     },
     "execution_count": 9,
     "metadata": {},
     "output_type": "execute_result"
    }
   ],
   "source": [
    "rec.letter_annotations['phred_quality'][10]"
   ]
  },
  {
   "cell_type": "markdown",
   "metadata": {},
   "source": [
    "# Using NCBI"
   ]
  },
  {
   "cell_type": "code",
   "execution_count": 10,
   "metadata": {},
   "outputs": [],
   "source": [
    "from Bio import Entrez\n",
    "from Bio import SeqIO"
   ]
  },
  {
   "cell_type": "code",
   "execution_count": 11,
   "metadata": {},
   "outputs": [],
   "source": [
    "Entrez.email = 'my.mail@someaddress.info'"
   ]
  },
  {
   "cell_type": "code",
   "execution_count": 12,
   "metadata": {},
   "outputs": [],
   "source": [
    "handle = Entrez.efetch(db='nucleotide', rettype='gb', id='NC_012920.1')"
   ]
  },
  {
   "cell_type": "code",
   "execution_count": 13,
   "metadata": {},
   "outputs": [
    {
     "data": {
      "text/plain": [
       "<_io.TextIOWrapper encoding='latin-1'>"
      ]
     },
     "execution_count": 13,
     "metadata": {},
     "output_type": "execute_result"
    }
   ],
   "source": [
    "handle"
   ]
  },
  {
   "cell_type": "code",
   "execution_count": 14,
   "metadata": {},
   "outputs": [],
   "source": [
    "rec = SeqIO.read(handle, 'gb')"
   ]
  },
  {
   "cell_type": "code",
   "execution_count": 15,
   "metadata": {},
   "outputs": [
    {
     "data": {
      "text/plain": [
       "SeqRecord(seq=Seq('GATCACAGGTCTATCACCCTATTAACCACTCACGGGAGCTCTCCATGCATTTGG...ATG', IUPACAmbiguousDNA()), id='NC_012920.1', name='NC_012920', description='Homo sapiens mitochondrion, complete genome', dbxrefs=['BioProject:PRJNA30353'])"
      ]
     },
     "execution_count": 15,
     "metadata": {},
     "output_type": "execute_result"
    }
   ],
   "source": [
    "rec"
   ]
  },
  {
   "cell_type": "code",
   "execution_count": 16,
   "metadata": {},
   "outputs": [
    {
     "data": {
      "text/plain": [
       "16569"
      ]
     },
     "execution_count": 16,
     "metadata": {},
     "output_type": "execute_result"
    }
   ],
   "source": [
    "len(str(rec.seq))"
   ]
  },
  {
   "cell_type": "code",
   "execution_count": 24,
   "metadata": {},
   "outputs": [],
   "source": [
    "import matplotlib.pyplot as plt\n",
    "%matplotlib inline\n",
    "\n",
    "def composition(s):\n",
    "    c = {}\n",
    "    for nuc in s:\n",
    "        if nuc not in c:\n",
    "            c[nuc] = 0\n",
    "        c[nuc] += 1\n",
    "    return c\n",
    "\n",
    "def plotAT(s, ws=10):\n",
    "    at = []\n",
    "    for start_index in range(0, len(s)-ws+1):\n",
    "        window_sequence = s[start_index:start_index+ws]\n",
    "        window_composition = composition(window_sequence)\n",
    "        # print(window_sequence, window_composition)\n",
    "\n",
    "        number_As_or_Ts = window_composition.get('A', 0) + window_composition.get('T', 0)\n",
    "        at.append(number_As_or_Ts)\n",
    "    plt.plot(at)"
   ]
  },
  {
   "cell_type": "code",
   "execution_count": 27,
   "metadata": {},
   "outputs": [
    {
     "data": {
      "image/png": "[encoded data removed]",
      "text/plain": [
       "<Figure size 432x288 with 1 Axes>"
      ]
     },
     "metadata": {
      "needs_background": "light"
     },
     "output_type": "display_data"
    }
   ],
   "source": [
    "plotAT(str(rec.seq), ws=1000)"
   ]
  },
  {
   "cell_type": "code",
   "execution_count": 28,
   "metadata": {},
   "outputs": [
    {
     "data": {
      "text/plain": [
       "[SeqFeature(FeatureLocation(ExactPosition(0), ExactPosition(16569), strand=1), type='source'),\n",
       " SeqFeature(CompoundLocation([FeatureLocation(ExactPosition(0), ExactPosition(576), strand=-1), FeatureLocation(ExactPosition(16023), ExactPosition(16569), strand=-1)], 'join'), type='D-loop', location_operator='join'),\n",
       " SeqFeature(FeatureLocation(ExactPosition(576), ExactPosition(647), strand=1), type='gene'),\n",
       " SeqFeature(FeatureLocation(ExactPosition(576), ExactPosition(647), strand=1), type='tRNA'),\n",
       " SeqFeature(FeatureLocation(ExactPosition(647), ExactPosition(1601), strand=1), type='gene'),\n",
       " SeqFeature(FeatureLocation(ExactPosition(647), ExactPosition(1601), strand=1), type='rRNA'),\n",
       " SeqFeature(FeatureLocation(ExactPosition(1477), ExactPosition(2187), strand=1), type='STS'),\n",
       " SeqFeature(FeatureLocation(ExactPosition(1601), ExactPosition(1670), strand=1), type='gene'),\n",
       " SeqFeature(FeatureLocation(ExactPosition(1601), ExactPosition(1670), strand=1), type='tRNA'),\n",
       " SeqFeature(FeatureLocation(ExactPosition(1670), ExactPosition(3229), strand=1), type='gene'),\n",
       " SeqFeature(FeatureLocation(ExactPosition(1670), ExactPosition(3229), strand=1), type='rRNA'),\n",
       " SeqFeature(FeatureLocation(ExactPosition(2061), ExactPosition(2203), strand=1), type='STS'),\n",
       " SeqFeature(FeatureLocation(ExactPosition(2711), ExactPosition(2884), strand=1), type='STS'),\n",
       " SeqFeature(FeatureLocation(ExactPosition(2805), ExactPosition(2946), strand=1), type='STS'),\n",
       " SeqFeature(FeatureLocation(ExactPosition(3106), ExactPosition(3107), strand=1), type='misc_feature'),\n",
       " SeqFeature(FeatureLocation(ExactPosition(3229), ExactPosition(3304), strand=1), type='gene'),\n",
       " SeqFeature(FeatureLocation(ExactPosition(3229), ExactPosition(3304), strand=1), type='tRNA'),\n",
       " SeqFeature(FeatureLocation(ExactPosition(3306), ExactPosition(4262), strand=1), type='gene'),\n",
       " SeqFeature(FeatureLocation(ExactPosition(3306), ExactPosition(4262), strand=1), type='CDS'),\n",
       " SeqFeature(FeatureLocation(ExactPosition(3739), ExactPosition(3834), strand=1), type='STS'),\n",
       " SeqFeature(FeatureLocation(ExactPosition(4188), ExactPosition(4813), strand=1), type='STS'),\n",
       " SeqFeature(FeatureLocation(ExactPosition(4262), ExactPosition(4331), strand=1), type='gene'),\n",
       " SeqFeature(FeatureLocation(ExactPosition(4262), ExactPosition(4331), strand=1), type='tRNA'),\n",
       " SeqFeature(FeatureLocation(ExactPosition(4328), ExactPosition(4400), strand=-1), type='gene'),\n",
       " SeqFeature(FeatureLocation(ExactPosition(4328), ExactPosition(4400), strand=-1), type='tRNA'),\n",
       " SeqFeature(FeatureLocation(ExactPosition(4401), ExactPosition(4469), strand=1), type='gene'),\n",
       " SeqFeature(FeatureLocation(ExactPosition(4401), ExactPosition(4469), strand=1), type='tRNA'),\n",
       " SeqFeature(FeatureLocation(ExactPosition(4469), ExactPosition(5511), strand=1), type='gene'),\n",
       " SeqFeature(FeatureLocation(ExactPosition(4469), ExactPosition(5511), strand=1), type='CDS'),\n",
       " SeqFeature(FeatureLocation(ExactPosition(4480), ExactPosition(5456), strand=1), type='STS'),\n",
       " SeqFeature(FeatureLocation(ExactPosition(5511), ExactPosition(5579), strand=1), type='gene'),\n",
       " SeqFeature(FeatureLocation(ExactPosition(5511), ExactPosition(5579), strand=1), type='tRNA'),\n",
       " SeqFeature(FeatureLocation(ExactPosition(5586), ExactPosition(5655), strand=-1), type='gene'),\n",
       " SeqFeature(FeatureLocation(ExactPosition(5586), ExactPosition(5655), strand=-1), type='tRNA'),\n",
       " SeqFeature(FeatureLocation(ExactPosition(5656), ExactPosition(5729), strand=-1), type='gene'),\n",
       " SeqFeature(FeatureLocation(ExactPosition(5656), ExactPosition(5729), strand=-1), type='tRNA'),\n",
       " SeqFeature(FeatureLocation(ExactPosition(5760), ExactPosition(5826), strand=-1), type='gene'),\n",
       " SeqFeature(FeatureLocation(ExactPosition(5760), ExactPosition(5826), strand=-1), type='tRNA'),\n",
       " SeqFeature(FeatureLocation(ExactPosition(5825), ExactPosition(5891), strand=-1), type='gene'),\n",
       " SeqFeature(FeatureLocation(ExactPosition(5825), ExactPosition(5891), strand=-1), type='tRNA'),\n",
       " SeqFeature(FeatureLocation(ExactPosition(5903), ExactPosition(7445), strand=1), type='gene'),\n",
       " SeqFeature(FeatureLocation(ExactPosition(5903), ExactPosition(7445), strand=1), type='CDS'),\n",
       " SeqFeature(FeatureLocation(ExactPosition(6317), ExactPosition(6918), strand=1), type='STS'),\n",
       " SeqFeature(FeatureLocation(ExactPosition(7124), ExactPosition(7672), strand=1), type='STS'),\n",
       " SeqFeature(FeatureLocation(ExactPosition(7165), ExactPosition(7361), strand=1), type='STS'),\n",
       " SeqFeature(FeatureLocation(ExactPosition(7357), ExactPosition(7937), strand=1), type='STS'),\n",
       " SeqFeature(FeatureLocation(ExactPosition(7385), ExactPosition(7513), strand=1), type='STS'),\n",
       " SeqFeature(FeatureLocation(ExactPosition(7445), ExactPosition(7514), strand=-1), type='gene'),\n",
       " SeqFeature(FeatureLocation(ExactPosition(7445), ExactPosition(7514), strand=-1), type='tRNA'),\n",
       " SeqFeature(FeatureLocation(ExactPosition(7482), ExactPosition(8383), strand=1), type='STS'),\n",
       " SeqFeature(FeatureLocation(ExactPosition(7482), ExactPosition(8364), strand=1), type='STS'),\n",
       " SeqFeature(FeatureLocation(ExactPosition(7482), ExactPosition(7570), strand=1), type='STS'),\n",
       " SeqFeature(FeatureLocation(ExactPosition(7517), ExactPosition(7585), strand=1), type='gene'),\n",
       " SeqFeature(FeatureLocation(ExactPosition(7517), ExactPosition(7585), strand=1), type='tRNA'),\n",
       " SeqFeature(FeatureLocation(ExactPosition(7560), ExactPosition(7983), strand=1), type='STS'),\n",
       " SeqFeature(FeatureLocation(ExactPosition(7585), ExactPosition(8269), strand=1), type='gene'),\n",
       " SeqFeature(FeatureLocation(ExactPosition(7585), ExactPosition(8269), strand=1), type='CDS'),\n",
       " SeqFeature(FeatureLocation(ExactPosition(7689), ExactPosition(7773), strand=1), type='STS'),\n",
       " SeqFeature(FeatureLocation(ExactPosition(8163), ExactPosition(8291), strand=1), type='STS'),\n",
       " SeqFeature(FeatureLocation(ExactPosition(8279), ExactPosition(8882), strand=1), type='STS'),\n",
       " SeqFeature(FeatureLocation(ExactPosition(8279), ExactPosition(8366), strand=1), type='STS'),\n",
       " SeqFeature(FeatureLocation(ExactPosition(8294), ExactPosition(8364), strand=1), type='gene'),\n",
       " SeqFeature(FeatureLocation(ExactPosition(8294), ExactPosition(8364), strand=1), type='tRNA'),\n",
       " SeqFeature(FeatureLocation(ExactPosition(8365), ExactPosition(8572), strand=1), type='gene'),\n",
       " SeqFeature(FeatureLocation(ExactPosition(8365), ExactPosition(8572), strand=1), type='CDS'),\n",
       " SeqFeature(FeatureLocation(ExactPosition(8526), ExactPosition(9207), strand=1), type='gene'),\n",
       " SeqFeature(FeatureLocation(ExactPosition(8526), ExactPosition(9207), strand=1), type='CDS'),\n",
       " SeqFeature(FeatureLocation(ExactPosition(8778), ExactPosition(9416), strand=1), type='STS'),\n",
       " SeqFeature(FeatureLocation(ExactPosition(8778), ExactPosition(8882), strand=1), type='STS'),\n",
       " SeqFeature(FeatureLocation(ExactPosition(9206), ExactPosition(9990), strand=1), type='gene'),\n",
       " SeqFeature(FeatureLocation(ExactPosition(9206), ExactPosition(9990), strand=1), type='CDS'),\n",
       " SeqFeature(FeatureLocation(ExactPosition(9341), ExactPosition(9416), strand=1), type='STS'),\n",
       " SeqFeature(FeatureLocation(ExactPosition(9990), ExactPosition(10058), strand=1), type='gene'),\n",
       " SeqFeature(FeatureLocation(ExactPosition(9990), ExactPosition(10058), strand=1), type='tRNA'),\n",
       " SeqFeature(FeatureLocation(ExactPosition(10058), ExactPosition(10404), strand=1), type='gene'),\n",
       " SeqFeature(FeatureLocation(ExactPosition(10058), ExactPosition(10404), strand=1), type='CDS'),\n",
       " SeqFeature(FeatureLocation(ExactPosition(10404), ExactPosition(10469), strand=1), type='gene'),\n",
       " SeqFeature(FeatureLocation(ExactPosition(10404), ExactPosition(10469), strand=1), type='tRNA'),\n",
       " SeqFeature(FeatureLocation(ExactPosition(10469), ExactPosition(10766), strand=1), type='gene'),\n",
       " SeqFeature(FeatureLocation(ExactPosition(10469), ExactPosition(10766), strand=1), type='CDS'),\n",
       " SeqFeature(FeatureLocation(ExactPosition(10759), ExactPosition(12137), strand=1), type='gene'),\n",
       " SeqFeature(FeatureLocation(ExactPosition(10759), ExactPosition(12137), strand=1), type='CDS'),\n",
       " SeqFeature(FeatureLocation(ExactPosition(12137), ExactPosition(12206), strand=1), type='gene'),\n",
       " SeqFeature(FeatureLocation(ExactPosition(12137), ExactPosition(12206), strand=1), type='tRNA'),\n",
       " SeqFeature(FeatureLocation(ExactPosition(12206), ExactPosition(12265), strand=1), type='gene'),\n",
       " SeqFeature(FeatureLocation(ExactPosition(12206), ExactPosition(12265), strand=1), type='tRNA'),\n",
       " SeqFeature(FeatureLocation(ExactPosition(12265), ExactPosition(12336), strand=1), type='gene'),\n",
       " SeqFeature(FeatureLocation(ExactPosition(12265), ExactPosition(12336), strand=1), type='tRNA'),\n",
       " SeqFeature(FeatureLocation(ExactPosition(12336), ExactPosition(14148), strand=1), type='gene'),\n",
       " SeqFeature(FeatureLocation(ExactPosition(12336), ExactPosition(14148), strand=1), type='CDS'),\n",
       " SeqFeature(FeatureLocation(ExactPosition(13067), ExactPosition(13143), strand=1), type='STS'),\n",
       " SeqFeature(FeatureLocation(ExactPosition(13592), ExactPosition(14206), strand=1), type='STS'),\n",
       " SeqFeature(FeatureLocation(ExactPosition(14103), ExactPosition(14206), strand=1), type='STS'),\n",
       " SeqFeature(FeatureLocation(ExactPosition(14148), ExactPosition(14673), strand=-1), type='gene'),\n",
       " SeqFeature(FeatureLocation(ExactPosition(14148), ExactPosition(14673), strand=-1), type='CDS'),\n",
       " SeqFeature(FeatureLocation(ExactPosition(14673), ExactPosition(14742), strand=-1), type='gene'),\n",
       " SeqFeature(FeatureLocation(ExactPosition(14673), ExactPosition(14742), strand=-1), type='tRNA'),\n",
       " SeqFeature(FeatureLocation(ExactPosition(14746), ExactPosition(15887), strand=1), type='gene'),\n",
       " SeqFeature(FeatureLocation(ExactPosition(14746), ExactPosition(15887), strand=1), type='CDS'),\n",
       " SeqFeature(FeatureLocation(ExactPosition(15190), ExactPosition(15307), strand=1), type='STS'),\n",
       " SeqFeature(FeatureLocation(ExactPosition(15697), ExactPosition(15777), strand=1), type='STS'),\n",
       " SeqFeature(FeatureLocation(ExactPosition(15887), ExactPosition(15953), strand=1), type='gene'),\n",
       " SeqFeature(FeatureLocation(ExactPosition(15887), ExactPosition(15953), strand=1), type='tRNA'),\n",
       " SeqFeature(FeatureLocation(ExactPosition(15955), ExactPosition(16023), strand=-1), type='gene'),\n",
       " SeqFeature(FeatureLocation(ExactPosition(15955), ExactPosition(16023), strand=-1), type='tRNA')]"
      ]
     },
     "execution_count": 28,
     "metadata": {},
     "output_type": "execute_result"
    }
   ],
   "source": [
    "rec.features"
   ]
  },
  {
   "cell_type": "code",
   "execution_count": 29,
   "metadata": {},
   "outputs": [
    {
     "data": {
      "text/plain": [
       "SeqFeature(FeatureLocation(ExactPosition(647), ExactPosition(1601), strand=1), type='gene')"
      ]
     },
     "execution_count": 29,
     "metadata": {},
     "output_type": "execute_result"
    }
   ],
   "source": [
    "rec.features[4]"
   ]
  },
  {
   "cell_type": "code",
   "execution_count": 44,
   "metadata": {},
   "outputs": [
    {
     "name": "stdout",
     "output_type": "stream",
     "text": [
      "CDS ['ND1'] [3306:4262](+) 956\n",
      "CDS ['ND2'] [4469:5511](+) 1042\n",
      "CDS ['COX1'] [5903:7445](+) 1542\n",
      "CDS ['COX2'] [7585:8269](+) 684\n",
      "CDS ['ATP8'] [8365:8572](+) 207\n",
      "CDS ['ATP6'] [8526:9207](+) 681\n",
      "CDS ['COX3'] [9206:9990](+) 784\n",
      "CDS ['ND3'] [10058:10404](+) 346\n",
      "CDS ['ND4L'] [10469:10766](+) 297\n",
      "CDS ['ND4'] [10759:12137](+) 1378\n",
      "CDS ['ND5'] [12336:14148](+) 1812\n",
      "CDS ['ND6'] [14148:14673](-) 525\n",
      "CDS ['CYTB'] [14746:15887](+) 1141\n"
     ]
    }
   ],
   "source": [
    "for feature in rec.features:\n",
    "    if feature.type == 'CDS':\n",
    "        print(feature.type, feature.qualifiers['gene'], feature.location, len(str(feature.extract(rec).seq)))"
   ]
  },
  {
   "cell_type": "code",
   "execution_count": 35,
   "metadata": {},
   "outputs": [],
   "source": [
    "f = rec.features[4]"
   ]
  },
  {
   "cell_type": "code",
   "execution_count": 38,
   "metadata": {},
   "outputs": [
    {
     "data": {
      "text/plain": [
       "['RNR1']"
      ]
     },
     "execution_count": 38,
     "metadata": {},
     "output_type": "execute_result"
    }
   ],
   "source": [
    "f.qualifiers['gene']"
   ]
  },
  {
   "cell_type": "code",
   "execution_count": 42,
   "metadata": {},
   "outputs": [
    {
     "data": {
      "text/plain": [
       "'AATAGGTTTGGTCCTAGCCTTTCTATTAGCTCTTAGTAAGATTACACATGCAAGCATCCCCGTTCCAGTGAGTTCACCCTCTAAATCACCACGATCAAAAGGAACAAGCATCAAGCACGCAGCAATGCAGCTCAAAACGCTTAGCCTAGCCACACCCCCACGGGAAACAGCAGTGATTAACCTTTAGCAATAAACGAAAGTTTAACTAAGCTATACTAACCCCAGGGTTGGTCAATTTCGTGCCAGCCACCGCGGTCACACGATTAACCCAAGTCAATAGAAGCCGGCGTAAAGAGTGTTTTAGATCACCCCCTCCCCAATAAAGCTAAAACTCACCTGAGTTGTAAAAAACTCCAGTTGACACAAAATAGACTACGAAAGTGGCTTTAACATATCTGAACACACAATAGCTAAGACCCAAACTGGGATTAGATACCCCACTATGCTTAGCCCTAAACCTCAACAGTTAAATCAACAAAACTGCTCGCCAGAACACTACGAGCCACAGCTTAAAACTCAAAGGACCTGGCGGTGCTTCATATCCCTCTAGAGGAGCCTGTTCTGTAATCGATAAACCCCGATCAACCTCACCACCTCTTGCTCAGCCTATATACCGCCATCTTCAGCAAACCCTGATGAAGGCTACAAAGTAAGCGCAAGTACCCACGTAAAGACGTTAGGTCAAGGTGTAGCCCATGAGGTGGCAAGAAATGGGCTACATTTTCTACCCCAGAAAACTACGATAGCCCTTATGAAACTTAAGGGTCGAAGGTGGATTTAGCAGTAAACTAAGAGTAGAGTGCTTAGTTGAACAGGGCCCTGAAGCGCGTACACACCGCCCGTCACCCTCCTCAAGTATACTTCAAAGGACATTTAACTAAAACCCCTACGCATTTATATAGAGGAGACAAGTCGTAACATGGTAAGTGTACTGGAAAGTGCACTTGGACGAAC'"
      ]
     },
     "execution_count": 42,
     "metadata": {},
     "output_type": "execute_result"
    }
   ],
   "source": [
    "str(f.extract(rec).seq)"
   ]
  },
  {
   "cell_type": "code",
   "execution_count": null,
   "metadata": {},
   "outputs": [],
   "source": []
  }
 ],
 "metadata": {
  "kernelspec": {
   "display_name": "Python 3",
   "language": "python",
   "name": "python3"
  },
  "language_info": {
   "codemirror_mode": {
    "name": "ipython",
    "version": 3
   },
   "file_extension": ".py",
   "mimetype": "text/x-python",
   "name": "python",
   "nbconvert_exporter": "python",
   "pygments_lexer": "ipython3",
   "version": "3.7.3"
  }
 },
 "nbformat": 4,
 "nbformat_minor": 2
}
