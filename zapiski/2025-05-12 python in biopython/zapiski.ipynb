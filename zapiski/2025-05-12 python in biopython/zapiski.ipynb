{
 "cells": [
  {
   "cell_type": "code",
   "execution_count": 1,
   "id": "a948d5cc-ae69-47ee-bda5-1ce80e180b25",
   "metadata": {},
   "outputs": [],
   "source": [
    "weights = {'Ana': 72, 'Berta': 85, 'Eva': 50}"
   ]
  },
  {
   "cell_type": "code",
   "execution_count": 2,
   "id": "92ad70c4-8db5-4e75-bd21-ebcdf7bc196e",
   "metadata": {},
   "outputs": [
    {
     "data": {
      "text/plain": [
       "{'Ana': 72, 'Berta': 85, 'Eva': 50}"
      ]
     },
     "execution_count": 2,
     "metadata": {},
     "output_type": "execute_result"
    }
   ],
   "source": [
    "weights"
   ]
  },
  {
   "cell_type": "code",
   "execution_count": 3,
   "id": "cb4c0f85-9c91-4a41-bd24-0c0393bf0c28",
   "metadata": {},
   "outputs": [
    {
     "data": {
      "text/plain": [
       "85"
      ]
     },
     "execution_count": 3,
     "metadata": {},
     "output_type": "execute_result"
    }
   ],
   "source": [
    "weights['Berta']"
   ]
  },
  {
   "cell_type": "code",
   "execution_count": 4,
   "id": "7f07b053-afa7-4564-9111-e54b2e9ebecf",
   "metadata": {},
   "outputs": [
    {
     "ename": "KeyError",
     "evalue": "1",
     "output_type": "error",
     "traceback": [
      "\u001b[0;31m---------------------------------------------------------------------------\u001b[0m",
      "\u001b[0;31mKeyError\u001b[0m                                  Traceback (most recent call last)",
      "Cell \u001b[0;32mIn[4], line 1\u001b[0m\n\u001b[0;32m----> 1\u001b[0m \u001b[43mweights\u001b[49m\u001b[43m[\u001b[49m\u001b[38;5;241;43m1\u001b[39;49m\u001b[43m]\u001b[49m\n",
      "\u001b[0;31mKeyError\u001b[0m: 1"
     ]
    }
   ],
   "source": [
    "weights[1]"
   ]
  },
  {
   "cell_type": "code",
   "execution_count": 5,
   "id": "e4285192-c36e-42bc-ba0c-3ef86cd21b79",
   "metadata": {},
   "outputs": [
    {
     "data": {
      "text/plain": [
       "'does not exist'"
      ]
     },
     "execution_count": 5,
     "metadata": {},
     "output_type": "execute_result"
    }
   ],
   "source": [
    "weights.get(1, 'does not exist')"
   ]
  },
  {
   "cell_type": "code",
   "execution_count": 7,
   "id": "ebb5eef1-83ca-4fdb-bbf3-4a285b2ecdd2",
   "metadata": {},
   "outputs": [
    {
     "data": {
      "text/plain": [
       "True"
      ]
     },
     "execution_count": 7,
     "metadata": {},
     "output_type": "execute_result"
    }
   ],
   "source": [
    "'Ana' in weights"
   ]
  },
  {
   "cell_type": "code",
   "execution_count": 8,
   "id": "9f368bd8-9676-429f-95df-5170087b6d5e",
   "metadata": {},
   "outputs": [
    {
     "data": {
      "text/plain": [
       "False"
      ]
     },
     "execution_count": 8,
     "metadata": {},
     "output_type": "execute_result"
    }
   ],
   "source": [
    "72 in weights"
   ]
  },
  {
   "cell_type": "code",
   "execution_count": 9,
   "id": "aa6f5e36-4404-4ebb-ad17-fa707cdedea1",
   "metadata": {},
   "outputs": [
    {
     "data": {
      "text/plain": [
       "{'Ana': 72, 'Berta': 85, 'Eva': 50}"
      ]
     },
     "execution_count": 9,
     "metadata": {},
     "output_type": "execute_result"
    }
   ],
   "source": [
    "weights"
   ]
  },
  {
   "cell_type": "code",
   "execution_count": 10,
   "id": "f1687767-eff2-472c-969b-e005ec1f511b",
   "metadata": {},
   "outputs": [],
   "source": [
    "weights['Cilka'] = 70"
   ]
  },
  {
   "cell_type": "code",
   "execution_count": 11,
   "id": "8e7195f3-02d1-4cfc-bdd3-80895cb6d69c",
   "metadata": {},
   "outputs": [
    {
     "data": {
      "text/plain": [
       "{'Ana': 72, 'Berta': 85, 'Eva': 50, 'Cilka': 70}"
      ]
     },
     "execution_count": 11,
     "metadata": {},
     "output_type": "execute_result"
    }
   ],
   "source": [
    "weights"
   ]
  },
  {
   "cell_type": "code",
   "execution_count": 12,
   "id": "c0aeefc0-32ff-4af0-a016-74a725c322fa",
   "metadata": {},
   "outputs": [],
   "source": [
    "weights['Ana'] = 65"
   ]
  },
  {
   "cell_type": "code",
   "execution_count": 13,
   "id": "273bd829-87ab-495e-9b7b-291dc0a3a6ce",
   "metadata": {},
   "outputs": [
    {
     "data": {
      "text/plain": [
       "{'Ana': 65, 'Berta': 85, 'Eva': 50, 'Cilka': 70}"
      ]
     },
     "execution_count": 13,
     "metadata": {},
     "output_type": "execute_result"
    }
   ],
   "source": [
    "weights"
   ]
  },
  {
   "cell_type": "code",
   "execution_count": 14,
   "id": "08e219fc-0cb3-4636-b537-8d5351c6c719",
   "metadata": {},
   "outputs": [],
   "source": [
    "del weights['Ana']"
   ]
  },
  {
   "cell_type": "code",
   "execution_count": 15,
   "id": "c042140b-602a-4428-858e-77e756ad9d2e",
   "metadata": {},
   "outputs": [
    {
     "data": {
      "text/plain": [
       "{'Berta': 85, 'Eva': 50, 'Cilka': 70}"
      ]
     },
     "execution_count": 15,
     "metadata": {},
     "output_type": "execute_result"
    }
   ],
   "source": [
    "weights"
   ]
  },
  {
   "cell_type": "code",
   "execution_count": 16,
   "id": "586a914f-6ef5-4f50-a696-5512526b4d7c",
   "metadata": {},
   "outputs": [
    {
     "ename": "KeyError",
     "evalue": "'Ana'",
     "output_type": "error",
     "traceback": [
      "\u001b[0;31m---------------------------------------------------------------------------\u001b[0m",
      "\u001b[0;31mKeyError\u001b[0m                                  Traceback (most recent call last)",
      "Cell \u001b[0;32mIn[16], line 1\u001b[0m\n\u001b[0;32m----> 1\u001b[0m \u001b[38;5;28;01mdel\u001b[39;00m \u001b[43mweights\u001b[49m\u001b[43m[\u001b[49m\u001b[38;5;124;43m'\u001b[39;49m\u001b[38;5;124;43mAna\u001b[39;49m\u001b[38;5;124;43m'\u001b[39;49m\u001b[43m]\u001b[49m\n",
      "\u001b[0;31mKeyError\u001b[0m: 'Ana'"
     ]
    }
   ],
   "source": [
    "del weights['Ana']"
   ]
  },
  {
   "cell_type": "code",
   "execution_count": 17,
   "id": "99fbdc6d-34b1-4c35-b3cb-274b86df7b21",
   "metadata": {},
   "outputs": [
    {
     "data": {
      "text/plain": [
       "dict_keys(['Berta', 'Eva', 'Cilka'])"
      ]
     },
     "execution_count": 17,
     "metadata": {},
     "output_type": "execute_result"
    }
   ],
   "source": [
    "weights.keys()"
   ]
  },
  {
   "cell_type": "code",
   "execution_count": 21,
   "id": "d8045325-9bea-4079-a492-fba31f073ba8",
   "metadata": {},
   "outputs": [],
   "source": [
    "L = list(weights.keys())"
   ]
  },
  {
   "cell_type": "code",
   "execution_count": 22,
   "id": "e18b2ad4-48a3-443d-a6cf-138039517868",
   "metadata": {},
   "outputs": [
    {
     "data": {
      "text/plain": [
       "['Berta', 'Eva', 'Cilka']"
      ]
     },
     "execution_count": 22,
     "metadata": {},
     "output_type": "execute_result"
    }
   ],
   "source": [
    "L"
   ]
  },
  {
   "cell_type": "code",
   "execution_count": 23,
   "id": "29e643c7-8ec2-4b05-8835-4c79c3ed6a45",
   "metadata": {},
   "outputs": [
    {
     "data": {
      "text/plain": [
       "'Cilka'"
      ]
     },
     "execution_count": 23,
     "metadata": {},
     "output_type": "execute_result"
    }
   ],
   "source": [
    "L[2]"
   ]
  },
  {
   "cell_type": "code",
   "execution_count": 24,
   "id": "4d5a3f2b-a27d-4718-af67-3584fc091dd8",
   "metadata": {},
   "outputs": [
    {
     "data": {
      "text/plain": [
       "dict_values([85, 50, 70])"
      ]
     },
     "execution_count": 24,
     "metadata": {},
     "output_type": "execute_result"
    }
   ],
   "source": [
    "weights.values()"
   ]
  },
  {
   "cell_type": "code",
   "execution_count": 25,
   "id": "da9f1882-506c-49c5-9657-8492a170c022",
   "metadata": {},
   "outputs": [
    {
     "data": {
      "text/plain": [
       "{'Berta': 85, 'Eva': 50, 'Cilka': 70}"
      ]
     },
     "execution_count": 25,
     "metadata": {},
     "output_type": "execute_result"
    }
   ],
   "source": [
    "weights"
   ]
  },
  {
   "cell_type": "code",
   "execution_count": 27,
   "id": "f835ea0c-3783-45b9-bdc7-9c5d4ae236cf",
   "metadata": {},
   "outputs": [],
   "source": [
    "Li = list(weights.items())"
   ]
  },
  {
   "cell_type": "code",
   "execution_count": 28,
   "id": "6831abc2-a5d3-4b5d-a724-e8230ed23bb8",
   "metadata": {},
   "outputs": [
    {
     "data": {
      "text/plain": [
       "[('Berta', 85), ('Eva', 50), ('Cilka', 70)]"
      ]
     },
     "execution_count": 28,
     "metadata": {},
     "output_type": "execute_result"
    }
   ],
   "source": [
    "Li"
   ]
  },
  {
   "cell_type": "code",
   "execution_count": 29,
   "id": "8e6ab967-2b83-45d7-9a5e-c7be3adeeca4",
   "metadata": {},
   "outputs": [
    {
     "data": {
      "text/plain": [
       "('Eva', 50)"
      ]
     },
     "execution_count": 29,
     "metadata": {},
     "output_type": "execute_result"
    }
   ],
   "source": [
    "Li[1]"
   ]
  },
  {
   "cell_type": "code",
   "execution_count": 31,
   "id": "9c2992cb-6745-49f7-a746-b071b412f395",
   "metadata": {},
   "outputs": [
    {
     "name": "stdout",
     "output_type": "stream",
     "text": [
      "Berta 85\n",
      "Eva 50\n",
      "Cilka 70\n"
     ]
    }
   ],
   "source": [
    "for n, w in weights.items():\n",
    "    print(n, w)"
   ]
  },
  {
   "cell_type": "code",
   "execution_count": 32,
   "id": "2536e77d-afbd-48d3-8df0-75864f3787f1",
   "metadata": {},
   "outputs": [
    {
     "data": {
      "text/plain": [
       "68.33333333333333"
      ]
     },
     "execution_count": 32,
     "metadata": {},
     "output_type": "execute_result"
    }
   ],
   "source": [
    "sum(weights.values())/len(weights)"
   ]
  },
  {
   "cell_type": "code",
   "execution_count": 36,
   "id": "bc6d8144-234a-459c-9cc8-d4dd30aa70f3",
   "metadata": {},
   "outputs": [
    {
     "name": "stdout",
     "output_type": "stream",
     "text": [
      "68.33333333333333\n"
     ]
    }
   ],
   "source": [
    "s = 0\n",
    "n = 0\n",
    "for _, w in weights.items():\n",
    "    s += w\n",
    "    n += 1\n",
    "print(s/n)"
   ]
  },
  {
   "cell_type": "code",
   "execution_count": 38,
   "id": "69805b49-efd9-42bb-b115-7eea3a340eb8",
   "metadata": {},
   "outputs": [],
   "source": [
    "weight_history = {\n",
    "    'Ana': [70, 71, 72],\n",
    "    'Berta': [90, 85],\n",
    "    'Cilka': [77, 75, 72, 70],\n",
    "    'Eva': [50, 48, 50]\n",
    "}"
   ]
  },
  {
   "cell_type": "code",
   "execution_count": 39,
   "id": "c98fb75a-7672-41f3-b9f9-33b27e06cb55",
   "metadata": {},
   "outputs": [
    {
     "data": {
      "text/plain": [
       "{'Ana': [70, 71, 72],\n",
       " 'Berta': [90, 85],\n",
       " 'Cilka': [77, 75, 72, 70],\n",
       " 'Eva': [50, 48, 50]}"
      ]
     },
     "execution_count": 39,
     "metadata": {},
     "output_type": "execute_result"
    }
   ],
   "source": [
    "weight_history"
   ]
  },
  {
   "cell_type": "markdown",
   "id": "875003e4-0efc-4386-9e71-c2dda8499b71",
   "metadata": {},
   "source": [
    "for each person, report if she lost or gained or stayed same weight from the start till the end"
   ]
  },
  {
   "cell_type": "code",
   "execution_count": 43,
   "id": "b6558ba5-d938-4d05-9584-188fb19a4ac9",
   "metadata": {},
   "outputs": [
    {
     "name": "stdout",
     "output_type": "stream",
     "text": [
      "Ana gained weight 70 -> 72\n",
      "Berta lost weight 90 -> 85\n",
      "Cilka lost weight 77 -> 70\n",
      "Eva did not change weight 50 -> 50\n"
     ]
    }
   ],
   "source": [
    "for name, weights in weight_history.items():\n",
    "    if weights[0] < weights[-1]:\n",
    "        print(f\"{name} gained weight {weights[0]} -> {weights[-1]}\")\n",
    "    elif weights[0] > weights[-1]:\n",
    "        print(f\"{name} lost weight {weights[0]} -> {weights[-1]}\")\n",
    "    else:\n",
    "        print(f\"{name} did not change weight {weights[0]} -> {weights[-1]}\")"
   ]
  },
  {
   "cell_type": "markdown",
   "id": "b86de3ca-85d3-45c9-a6eb-3fcef69370c5",
   "metadata": {},
   "source": [
    "Example content of file ``telefonske.txt``:\n",
    "\n",
    "    Ana 0409381326\n",
    "    Berta 0412399483\n",
    "    Cilka 0312791485\n",
    "    Dani 23013905\n",
    "    Ana 0413339231\n",
    "    Luka 0312921789\n",
    "    Cilka 0417721128\n",
    "    Cilka 0407721128\n",
    "    \n",
    "\n",
    "Write code that reads from ``telefonske.txt`` and builds a dictionary, where:\n",
    "\n",
    "- key is a person name\n",
    "- value is a list of all the phone numbers of that person"
   ]
  },
  {
   "cell_type": "code",
   "execution_count": 54,
   "id": "44943877-6748-4dee-a1ac-b78645ee0d50",
   "metadata": {},
   "outputs": [],
   "source": [
    "# start with an empty dictionary\n",
    "data = {}\n",
    "\n",
    "for line in open('telefonske.txt'):\n",
    "    name, number = line.split()\n",
    "\n",
    "    if name in data:\n",
    "        # key already in, just add to the list\n",
    "        data[name].append(number)\n",
    "    else:\n",
    "        data[name] = [number]"
   ]
  },
  {
   "cell_type": "code",
   "execution_count": 51,
   "id": "55dbcb26-fff0-40f6-97ff-b067e504ddee",
   "metadata": {},
   "outputs": [
    {
     "data": {
      "text/plain": [
       "{'Ana': ['0409381326', '0413339231'],\n",
       " 'Berta': ['0412399483'],\n",
       " 'Cilka': ['0312791485', '0417721128', '0407721128'],\n",
       " 'Dani': ['23013905'],\n",
       " 'Luka': ['0312921789']}"
      ]
     },
     "execution_count": 51,
     "metadata": {},
     "output_type": "execute_result"
    }
   ],
   "source": [
    "data"
   ]
  },
  {
   "cell_type": "code",
   "execution_count": 48,
   "id": "db6dbf8d-6fb5-4cd3-b624-771517ba2cb0",
   "metadata": {},
   "outputs": [
    {
     "data": {
      "text/plain": [
       "True"
      ]
     },
     "execution_count": 48,
     "metadata": {},
     "output_type": "execute_result"
    }
   ],
   "source": [
    "'Ana' in data"
   ]
  },
  {
   "cell_type": "code",
   "execution_count": 49,
   "id": "03a9afba-fbc3-4126-b9a4-01f35dd9e556",
   "metadata": {},
   "outputs": [
    {
     "data": {
      "text/plain": [
       "False"
      ]
     },
     "execution_count": 49,
     "metadata": {},
     "output_type": "execute_result"
    }
   ],
   "source": [
    "'Zoja' in data"
   ]
  },
  {
   "cell_type": "code",
   "execution_count": 58,
   "id": "4ce37ce1-4e90-4b97-8e06-baee695a3e8e",
   "metadata": {},
   "outputs": [],
   "source": [
    "seq = \"ACGTGCGATCGTCATGTGTCGAAACTCTAG\""
   ]
  },
  {
   "cell_type": "markdown",
   "id": "9f08b3c7-a568-4a29-84c8-46ec6f8afff5",
   "metadata": {},
   "source": [
    "for a given sequence, use ``for`` and dictionary to count the number of times each letter appears"
   ]
  },
  {
   "cell_type": "code",
   "execution_count": 60,
   "id": "ae88f9f8-7451-42cc-9889-25ce9b642929",
   "metadata": {},
   "outputs": [],
   "source": [
    "freq = {}\n",
    "for nuc in seq:\n",
    "    # update frequency counter for nuc\n",
    "    if nuc in freq:\n",
    "        freq[nuc] = freq[nuc] + 1\n",
    "    else:\n",
    "        freq[nuc] = 1"
   ]
  },
  {
   "cell_type": "code",
   "execution_count": 61,
   "id": "9f1f2cb0-262a-4144-856f-c57223958717",
   "metadata": {},
   "outputs": [
    {
     "data": {
      "text/plain": [
       "{'A': 7, 'C': 7, 'G': 8, 'T': 8}"
      ]
     },
     "execution_count": 61,
     "metadata": {},
     "output_type": "execute_result"
    }
   ],
   "source": [
    "freq"
   ]
  },
  {
   "cell_type": "code",
   "execution_count": 80,
   "id": "a73b22c3-b73e-47a3-a8f4-aadb9b84d65d",
   "metadata": {},
   "outputs": [],
   "source": [
    "def count_nucleotides(sequence):\n",
    "    tmpd = {}\n",
    "    for n in sequence:\n",
    "        if n in tmpd:\n",
    "            tmpd[n] = tmpd[n] + 1\n",
    "        else:\n",
    "            tmpd[n] = 1\n",
    "    return tmpd"
   ]
  },
  {
   "cell_type": "code",
   "execution_count": 81,
   "id": "3771bcbc-65eb-4682-a711-02ce69ebc702",
   "metadata": {},
   "outputs": [
    {
     "data": {
      "text/plain": [
       "'ACGTGCGATCGTCATGTGTCGAAACTCTAG'"
      ]
     },
     "execution_count": 81,
     "metadata": {},
     "output_type": "execute_result"
    }
   ],
   "source": [
    "seq"
   ]
  },
  {
   "cell_type": "code",
   "execution_count": 82,
   "id": "1a245216-b7ee-47e2-9635-16ec062601fe",
   "metadata": {},
   "outputs": [
    {
     "data": {
      "text/plain": [
       "{'A': 7, 'C': 7, 'G': 8, 'T': 8}"
      ]
     },
     "execution_count": 82,
     "metadata": {},
     "output_type": "execute_result"
    }
   ],
   "source": [
    "count_nucleotides(seq)"
   ]
  },
  {
   "cell_type": "code",
   "execution_count": 65,
   "id": "411468f1-4c90-40e4-ab51-57b2d897df7f",
   "metadata": {},
   "outputs": [
    {
     "ename": "NameError",
     "evalue": "name 'tmpd' is not defined",
     "output_type": "error",
     "traceback": [
      "\u001b[0;31m---------------------------------------------------------------------------\u001b[0m",
      "\u001b[0;31mNameError\u001b[0m                                 Traceback (most recent call last)",
      "Cell \u001b[0;32mIn[65], line 1\u001b[0m\n\u001b[0;32m----> 1\u001b[0m \u001b[43mtmpd\u001b[49m\n",
      "\u001b[0;31mNameError\u001b[0m: name 'tmpd' is not defined"
     ]
    }
   ],
   "source": [
    "tmpd"
   ]
  },
  {
   "cell_type": "code",
   "execution_count": 66,
   "id": "de8c87a6-bb01-413b-a918-1538140c1712",
   "metadata": {},
   "outputs": [
    {
     "data": {
      "text/plain": [
       "{'A': 4, 'T': 3, 'C': 3, 'G': 6}"
      ]
     },
     "execution_count": 66,
     "metadata": {},
     "output_type": "execute_result"
    }
   ],
   "source": [
    "count_nucleotides(\"ATCGGGCGCGTATAGA\")"
   ]
  },
  {
   "cell_type": "code",
   "execution_count": 67,
   "id": "b3b243f2-7f7b-4447-b5ab-bf9b13db6feb",
   "metadata": {},
   "outputs": [],
   "source": [
    "sequence=\"ATCG\""
   ]
  },
  {
   "cell_type": "code",
   "execution_count": 68,
   "id": "bb8d6b8f-4337-4101-8831-f259e8b77b7b",
   "metadata": {},
   "outputs": [
    {
     "data": {
      "text/plain": [
       "{'C': 4, 'G': 2}"
      ]
     },
     "execution_count": 68,
     "metadata": {},
     "output_type": "execute_result"
    }
   ],
   "source": [
    "count_nucleotides(\"CCCGCG\")"
   ]
  },
  {
   "cell_type": "code",
   "execution_count": 69,
   "id": "6fc1791a-b2f3-4956-aad5-e53cb0ce1687",
   "metadata": {},
   "outputs": [],
   "source": [
    "my_freq = count_nucleotides(\"CCCGCGGGG\")"
   ]
  },
  {
   "cell_type": "code",
   "execution_count": 70,
   "id": "543edce3-3d76-41df-a265-528f6bf20a03",
   "metadata": {},
   "outputs": [
    {
     "data": {
      "text/plain": [
       "{'C': 4, 'G': 5}"
      ]
     },
     "execution_count": 70,
     "metadata": {},
     "output_type": "execute_result"
    }
   ],
   "source": [
    "my_freq"
   ]
  },
  {
   "cell_type": "code",
   "execution_count": 71,
   "id": "c3ef08b1-29cf-4b5a-b2fb-3fd85862a512",
   "metadata": {},
   "outputs": [
    {
     "data": {
      "text/plain": [
       "{'D': 1,\n",
       " 'a': 2,\n",
       " 'n': 2,\n",
       " 'e': 3,\n",
       " 's': 1,\n",
       " ' ': 3,\n",
       " 'j': 1,\n",
       " 'l': 1,\n",
       " 'p': 1,\n",
       " 'd': 1,\n",
       " '!': 1}"
      ]
     },
     "execution_count": 71,
     "metadata": {},
     "output_type": "execute_result"
    }
   ],
   "source": [
    "count_nucleotides(\"Danes je lep dan!\")"
   ]
  },
  {
   "cell_type": "markdown",
   "id": "25643e4e-01ca-4c91-9572-627c059ea2bf",
   "metadata": {},
   "source": [
    "List all 3-mers of a given sequence:\n",
    "\n",
    "for \"ATCTG\" should return:\n",
    "\n",
    "- ATC\n",
    "- TCT\n",
    "- CTG"
   ]
  },
  {
   "cell_type": "code",
   "execution_count": 83,
   "id": "e92ca02d-7e6e-41d9-b31e-8d95e36eeedb",
   "metadata": {},
   "outputs": [],
   "source": [
    "seq = \"ATCTG\""
   ]
  },
  {
   "cell_type": "code",
   "execution_count": 84,
   "id": "ab420070-78a2-4614-974b-18eb97f99a32",
   "metadata": {},
   "outputs": [
    {
     "data": {
      "text/plain": [
       "'ATC'"
      ]
     },
     "execution_count": 84,
     "metadata": {},
     "output_type": "execute_result"
    }
   ],
   "source": [
    "seq[0:3]"
   ]
  },
  {
   "cell_type": "code",
   "execution_count": 85,
   "id": "4c3ac89b-bf47-4ea2-95bb-b63f906b88aa",
   "metadata": {},
   "outputs": [
    {
     "data": {
      "text/plain": [
       "'TCT'"
      ]
     },
     "execution_count": 85,
     "metadata": {},
     "output_type": "execute_result"
    }
   ],
   "source": [
    "seq[1:4]"
   ]
  },
  {
   "cell_type": "code",
   "execution_count": 86,
   "id": "0d4c3b52-a19e-479a-8954-7d97e6b4c5f6",
   "metadata": {},
   "outputs": [
    {
     "data": {
      "text/plain": [
       "'CTG'"
      ]
     },
     "execution_count": 86,
     "metadata": {},
     "output_type": "execute_result"
    }
   ],
   "source": [
    "seq[2:5]"
   ]
  },
  {
   "cell_type": "code",
   "execution_count": 96,
   "id": "5fdac4c6-5ba5-4999-93a5-d9aedec3eaba",
   "metadata": {},
   "outputs": [
    {
     "data": {
      "text/plain": [
       "'ATCTG'"
      ]
     },
     "execution_count": 96,
     "metadata": {},
     "output_type": "execute_result"
    }
   ],
   "source": [
    "seq"
   ]
  },
  {
   "cell_type": "code",
   "execution_count": 100,
   "id": "a1c35b44-1fa2-4c5c-87ef-cb8f60796822",
   "metadata": {},
   "outputs": [],
   "source": [
    "k = 6\n",
    "for i in range(len(seq)-k+1):\n",
    "    kmer = seq[i:i+k]\n",
    "    print(i, kmer)"
   ]
  },
  {
   "cell_type": "markdown",
   "id": "537affb5-ac48-4355-ac89-8537f524bdd0",
   "metadata": {},
   "source": [
    "Pack into a function:"
   ]
  },
  {
   "cell_type": "code",
   "execution_count": 105,
   "id": "6e0f0eb1-412c-4e16-8567-55578da7b588",
   "metadata": {},
   "outputs": [],
   "source": [
    "def kmers(sequence, k):\n",
    "    for i in range(len(sequence)-k+1):\n",
    "        kmer = sequence[i:i+k]\n",
    "        print(i, kmer)"
   ]
  },
  {
   "cell_type": "code",
   "execution_count": 106,
   "id": "4f996803-4b67-4920-88ac-d9a2e5539575",
   "metadata": {},
   "outputs": [
    {
     "name": "stdout",
     "output_type": "stream",
     "text": [
      "0 ATC\n",
      "1 TCC\n",
      "2 CCG\n",
      "3 CGC\n",
      "4 GCG\n"
     ]
    }
   ],
   "source": [
    "kmers(\"ATCCGCG\", 3)"
   ]
  },
  {
   "cell_type": "markdown",
   "id": "dec48304-d008-4be0-bcd0-af6c280690c5",
   "metadata": {},
   "source": [
    "We want a function that returns a dictionary of kmer frequencies."
   ]
  },
  {
   "cell_type": "code",
   "execution_count": 107,
   "id": "08fa2f1c-ab55-4866-877e-28b73f6b2bf6",
   "metadata": {},
   "outputs": [],
   "source": [
    "def kmers_freqs(sequence, k):\n",
    "    tmpd = {} # temp dictionary of kmer frequencies\n",
    "    for i in range(len(sequence)-k+1):\n",
    "        kmer = sequence[i:i+k]\n",
    "        if kmer in tmpd:\n",
    "            tmpd[kmer] = tmpd[kmer] + 1\n",
    "        else:\n",
    "            tmpd[kmer] = 1\n",
    "            \n",
    "    return tmpd"
   ]
  },
  {
   "cell_type": "code",
   "execution_count": 109,
   "id": "8eb1e590-d10c-47eb-9f2b-2957938c6b58",
   "metadata": {},
   "outputs": [
    {
     "data": {
      "text/plain": [
       "{'ATA': 6, 'TAT': 5}"
      ]
     },
     "execution_count": 109,
     "metadata": {},
     "output_type": "execute_result"
    }
   ],
   "source": [
    "kmers_freqs(\"ATATATATATATA\", 3)"
   ]
  },
  {
   "cell_type": "code",
   "execution_count": 110,
   "id": "6d921bb8-6000-482e-a5b8-b0188d3ff5ac",
   "metadata": {},
   "outputs": [
    {
     "data": {
      "text/plain": [
       "{'ATATA': 2, 'TATAT': 1, 'TATAC': 1, 'ATACG': 1, 'TACGC': 1}"
      ]
     },
     "execution_count": 110,
     "metadata": {},
     "output_type": "execute_result"
    }
   ],
   "source": [
    "kmers_freqs(\"ATATATACGC\", 5)"
   ]
  },
  {
   "cell_type": "code",
   "execution_count": 113,
   "id": "b540c5a3-9277-47eb-a33e-85c81c6e5f41",
   "metadata": {},
   "outputs": [],
   "source": [
    "import matplotlib.pyplot as plt"
   ]
  },
  {
   "cell_type": "code",
   "execution_count": 114,
   "id": "886d63dd-4d93-4e42-84ef-5c9448bf3758",
   "metadata": {},
   "outputs": [
    {
     "data": {
      "text/plain": [
       "[<matplotlib.lines.Line2D at 0xffff81f737d0>]"
      ]
     },
     "execution_count": 114,
     "metadata": {},
     "output_type": "execute_result"
    },
    {
     "data": {
      "image/png": "[encoded data removed]",
      "text/plain": [
       "<Figure size 640x480 with 1 Axes>"
      ]
     },
     "metadata": {},
     "output_type": "display_data"
    }
   ],
   "source": [
    "plt.plot([2, 3, 1, 0.5], lw=3)"
   ]
  },
  {
   "cell_type": "code",
   "execution_count": 115,
   "id": "0a6995c4-d8dd-465c-b884-68a27bf025bd",
   "metadata": {},
   "outputs": [
    {
     "data": {
      "text/plain": [
       "[<matplotlib.lines.Line2D at 0xffff9a143b50>]"
      ]
     },
     "execution_count": 115,
     "metadata": {},
     "output_type": "execute_result"
    },
    {
     "data": {
      "image/png": "[encoded data removed]",
      "text/plain": [
       "<Figure size 640x480 with 1 Axes>"
      ]
     },
     "metadata": {},
     "output_type": "display_data"
    }
   ],
   "source": [
    "plt.plot([2, 3, 1, 0.5], 'o')"
   ]
  },
  {
   "cell_type": "code",
   "execution_count": 118,
   "id": "d61103f4-8117-46ca-9ab1-7e5a48e908e3",
   "metadata": {},
   "outputs": [
    {
     "data": {
      "text/plain": [
       "[<matplotlib.lines.Line2D at 0xffff81574110>]"
      ]
     },
     "execution_count": 118,
     "metadata": {},
     "output_type": "execute_result"
    },
    {
     "data": {
      "image/png": "[encoded data removed]",
      "text/plain": [
       "<Figure size 640x480 with 1 Axes>"
      ]
     },
     "metadata": {},
     "output_type": "display_data"
    }
   ],
   "source": [
    "plt.plot([1,20,23,24], [2,3,1,0.5], 'o')"
   ]
  },
  {
   "cell_type": "code",
   "execution_count": 120,
   "id": "a149b283-47cf-4af1-8ece-ece425041e91",
   "metadata": {},
   "outputs": [
    {
     "data": {
      "text/plain": [
       "<BarContainer object of 4 artists>"
      ]
     },
     "execution_count": 120,
     "metadata": {},
     "output_type": "execute_result"
    },
    {
     "data": {
      "image/png": "[encoded data removed]",
      "text/plain": [
       "<Figure size 640x480 with 1 Axes>"
      ]
     },
     "metadata": {},
     "output_type": "display_data"
    }
   ],
   "source": [
    "plt.bar([0,1,2,3], [2,3,1,0.5])"
   ]
  },
  {
   "cell_type": "code",
   "execution_count": 122,
   "id": "343110a1-2829-4d31-8623-4163906a3f5f",
   "metadata": {},
   "outputs": [
    {
     "data": {
      "text/plain": [
       "{'Ana': [70, 71, 72],\n",
       " 'Berta': [90, 85],\n",
       " 'Cilka': [77, 75, 72, 70],\n",
       " 'Eva': [50, 48, 50]}"
      ]
     },
     "execution_count": 122,
     "metadata": {},
     "output_type": "execute_result"
    }
   ],
   "source": [
    "weight_history"
   ]
  },
  {
   "cell_type": "code",
   "execution_count": 124,
   "id": "61ad90d6-bae4-47a3-9bc8-ecdabf10fc37",
   "metadata": {},
   "outputs": [
    {
     "data": {
      "text/plain": [
       "<matplotlib.legend.Legend at 0xffff8017d010>"
      ]
     },
     "execution_count": 124,
     "metadata": {},
     "output_type": "execute_result"
    },
    {
     "data": {
      "image/png": "[encoded data removed]",
      "text/plain": [
       "<Figure size 640x480 with 1 Axes>"
      ]
     },
     "metadata": {},
     "output_type": "display_data"
    }
   ],
   "source": [
    "plt.title('Weight history of individuals')\n",
    "for name, weights in weight_history.items():\n",
    "    plt.plot(weights, label=name, lw=3)\n",
    "plt.xlabel('consecutive weighting')\n",
    "plt.ylabel('weight')\n",
    "plt.legend()"
   ]
  },
  {
   "cell_type": "code",
   "execution_count": null,
   "id": "036986a2-c09b-465d-b11f-6cc0f7aa4076",
   "metadata": {},
   "outputs": [],
   "source": []
  }
 ],
 "metadata": {
  "kernelspec": {
   "display_name": "Python 3 (ipykernel)",
   "language": "python",
   "name": "python3"
  },
  "language_info": {
   "codemirror_mode": {
    "name": "ipython",
    "version": 3
   },
   "file_extension": ".py",
   "mimetype": "text/x-python",
   "name": "python",
   "nbconvert_exporter": "python",
   "pygments_lexer": "ipython3",
   "version": "3.11.6"
  }
 },
 "nbformat": 4,
 "nbformat_minor": 5
}
