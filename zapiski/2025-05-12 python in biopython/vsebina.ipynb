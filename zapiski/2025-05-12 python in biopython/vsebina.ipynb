{
 "cells": [
  {
   "cell_type": "markdown",
   "id": "53c1994b-c32a-4ae4-9d3f-311b568faada",
   "metadata": {},
   "source": [
    "# Vsebina delavnice"
   ]
  },
  {
   "cell_type": "markdown",
   "id": "0497bade-eab8-4621-b9f7-7feb96b0612f",
   "metadata": {},
   "source": [
    "Do zdaj ste spoznali:\n",
    "\n",
    "- osnovno aritmetiko\n",
    "- input, print\n",
    "- stavek ``if`` ``else``\n",
    "- stavek ``while``\n",
    "- delo z nizi\n",
    "- delo z datotekami\n",
    "- iskanje največje vrednosti\n",
    "- uporaba modula ``math``\n",
    "- stavek ``for``\n",
    "- izpis print, lepo oblikovanje ``f\"{s:2}\"``\n",
    "- sezname\n",
    "\n",
    "\n",
    "Spoznali bomo še:\n",
    "\n",
    "- slovarje\n",
    "- funkcije\n",
    "- BioPython\n",
    "- ukazno vrstico ``bash``\n",
    "\n",
    "  "
   ]
  },
  {
   "cell_type": "markdown",
   "id": "f2823860-9297-4a7d-b26b-38c831e23024",
   "metadata": {},
   "source": []
  }
 ],
 "metadata": {
  "kernelspec": {
   "display_name": "Python 3 (ipykernel)",
   "language": "python",
   "name": "python3"
  },
  "language_info": {
   "codemirror_mode": {
    "name": "ipython",
    "version": 3
   },
   "file_extension": ".py",
   "mimetype": "text/x-python",
   "name": "python",
   "nbconvert_exporter": "python",
   "pygments_lexer": "ipython3",
   "version": "3.11.6"
  }
 },
 "nbformat": 4,
 "nbformat_minor": 5
}
