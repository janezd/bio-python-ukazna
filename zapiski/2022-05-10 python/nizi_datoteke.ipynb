{
 "cells": [
  {
   "cell_type": "code",
   "execution_count": 1,
   "id": "f4124131",
   "metadata": {},
   "outputs": [
    {
     "data": {
      "text/plain": [
       "<_io.TextIOWrapper name='datoteke/teze.txt' mode='r' encoding='UTF-8'>"
      ]
     },
     "execution_count": 1,
     "metadata": {},
     "output_type": "execute_result"
    }
   ],
   "source": [
    "open(\"datoteke/teze.txt\")"
   ]
  },
  {
   "cell_type": "code",
   "execution_count": 3,
   "id": "2a2ae0b5",
   "metadata": {},
   "outputs": [
    {
     "name": "stdout",
     "output_type": "stream",
     "text": [
      "70.5\n"
     ]
    }
   ],
   "source": [
    "f = open(\"datoteke/teze.txt\")\n",
    "vsota = 0\n",
    "prsti = 0\n",
    "for vrstica in f:\n",
    "    vsota = vsota + int(vrstica)\n",
    "    prsti = prsti + 1\n",
    "print(vsota / prsti)"
   ]
  },
  {
   "cell_type": "code",
   "execution_count": 20,
   "id": "1a860e89",
   "metadata": {},
   "outputs": [],
   "source": [
    "g = open(\"datoteke/poprecje.txt\", \"w\", encoding=\"utf8\")"
   ]
  },
  {
   "cell_type": "code",
   "execution_count": 6,
   "id": "cd635f5a",
   "metadata": {},
   "outputs": [
    {
     "ename": "UnsupportedOperation",
     "evalue": "not readable",
     "output_type": "error",
     "traceback": [
      "\u001b[0;31m---------------------------------------------------------------------------\u001b[0m",
      "\u001b[0;31mUnsupportedOperation\u001b[0m                      Traceback (most recent call last)",
      "\u001b[0;32m/var/folders/2y/4j70c4q568l1j4lb6g1r0fk00000gn/T/ipykernel_72398/1197983400.py\u001b[0m in \u001b[0;36m<module>\u001b[0;34m\u001b[0m\n\u001b[0;32m----> 1\u001b[0;31m \u001b[0;32mfor\u001b[0m \u001b[0mv\u001b[0m \u001b[0;32min\u001b[0m \u001b[0mg\u001b[0m\u001b[0;34m:\u001b[0m\u001b[0;34m\u001b[0m\u001b[0;34m\u001b[0m\u001b[0m\n\u001b[0m\u001b[1;32m      2\u001b[0m     \u001b[0mprint\u001b[0m\u001b[0;34m(\u001b[0m\u001b[0mv\u001b[0m\u001b[0;34m)\u001b[0m\u001b[0;34m\u001b[0m\u001b[0;34m\u001b[0m\u001b[0m\n",
      "\u001b[0;31mUnsupportedOperation\u001b[0m: not readable"
     ]
    }
   ],
   "source": [
    "for v in g:\n",
    "    print(v)"
   ]
  },
  {
   "cell_type": "code",
   "execution_count": 7,
   "id": "cebfc9e1",
   "metadata": {},
   "outputs": [],
   "source": [
    "g.close()"
   ]
  },
  {
   "cell_type": "code",
   "execution_count": 33,
   "id": "7a6fbebc",
   "metadata": {},
   "outputs": [],
   "source": [
    "izhodna_datoteka = open(\"datoteke/poprecje.txt\", \"w\", encoding=\"utf8\")"
   ]
  },
  {
   "cell_type": "code",
   "execution_count": 34,
   "id": "7982daca",
   "metadata": {},
   "outputs": [
    {
     "data": {
      "text/plain": [
       "5"
      ]
     },
     "execution_count": 34,
     "metadata": {},
     "output_type": "execute_result"
    }
   ],
   "source": [
    "izhodna_datoteka.write(str(vsota / prsti) + \"\\n\")"
   ]
  },
  {
   "cell_type": "code",
   "execution_count": 35,
   "id": "72440002",
   "metadata": {},
   "outputs": [
    {
     "data": {
      "text/plain": [
       "18"
      ]
     },
     "execution_count": 35,
     "metadata": {},
     "output_type": "execute_result"
    }
   ],
   "source": [
    "izhodna_datoteka.write(\"to je povprečje\\n\\n\\n\")"
   ]
  },
  {
   "cell_type": "code",
   "execution_count": 36,
   "id": "f59a0d8d",
   "metadata": {},
   "outputs": [
    {
     "data": {
      "text/plain": [
       "18"
      ]
     },
     "execution_count": 36,
     "metadata": {},
     "output_type": "execute_result"
    }
   ],
   "source": [
    "izhodna_datoteka.write(\"to je vse. konec.\\n\")"
   ]
  },
  {
   "cell_type": "code",
   "execution_count": 37,
   "id": "91767d46",
   "metadata": {},
   "outputs": [],
   "source": [
    "izhodna_datoteka.close()"
   ]
  },
  {
   "cell_type": "code",
   "execution_count": 26,
   "id": "7aa71270",
   "metadata": {},
   "outputs": [
    {
     "ename": "ValueError",
     "evalue": "I/O operation on closed file.",
     "output_type": "error",
     "traceback": [
      "\u001b[0;31m---------------------------------------------------------------------------\u001b[0m",
      "\u001b[0;31mValueError\u001b[0m                                Traceback (most recent call last)",
      "\u001b[0;32m/var/folders/2y/4j70c4q568l1j4lb6g1r0fk00000gn/T/ipykernel_72398/2290969703.py\u001b[0m in \u001b[0;36m<module>\u001b[0;34m\u001b[0m\n\u001b[0;32m----> 1\u001b[0;31m \u001b[0mizhodna_datoteka\u001b[0m\u001b[0;34m.\u001b[0m\u001b[0mwrite\u001b[0m\u001b[0;34m(\u001b[0m\u001b[0;34m\"še tole sem pozabil dodati\"\u001b[0m\u001b[0;34m)\u001b[0m\u001b[0;34m\u001b[0m\u001b[0;34m\u001b[0m\u001b[0m\n\u001b[0m",
      "\u001b[0;31mValueError\u001b[0m: I/O operation on closed file."
     ]
    }
   ],
   "source": [
    "izhodna_datoteka.write(\"še tole sem pozabil dodati\")"
   ]
  },
  {
   "cell_type": "code",
   "execution_count": 38,
   "id": "bf7631a5",
   "metadata": {},
   "outputs": [
    {
     "ename": "FileNotFoundError",
     "evalue": "[Errno 2] No such file or directory: 'ime'",
     "output_type": "error",
     "traceback": [
      "\u001b[0;31m---------------------------------------------------------------------------\u001b[0m",
      "\u001b[0;31mFileNotFoundError\u001b[0m                         Traceback (most recent call last)",
      "\u001b[0;32m/var/folders/2y/4j70c4q568l1j4lb6g1r0fk00000gn/T/ipykernel_72398/1497815631.py\u001b[0m in \u001b[0;36m<module>\u001b[0;34m\u001b[0m\n\u001b[0;32m----> 1\u001b[0;31m \u001b[0mf\u001b[0m \u001b[0;34m=\u001b[0m \u001b[0mopen\u001b[0m\u001b[0;34m(\u001b[0m\u001b[0;34m\"ime\"\u001b[0m\u001b[0;34m,\u001b[0m \u001b[0;34m\"rb\"\u001b[0m\u001b[0;34m)\u001b[0m\u001b[0;34m\u001b[0m\u001b[0;34m\u001b[0m\u001b[0m\n\u001b[0m",
      "\u001b[0;31mFileNotFoundError\u001b[0m: [Errno 2] No such file or directory: 'ime'"
     ]
    }
   ],
   "source": [
    "f = open(\"ime\", \"rb\")"
   ]
  },
  {
   "cell_type": "code",
   "execution_count": 39,
   "id": "f12cd85b",
   "metadata": {},
   "outputs": [],
   "source": [
    "s = \"Ana 72 1.70\""
   ]
  },
  {
   "cell_type": "code",
   "execution_count": 40,
   "id": "2107decf",
   "metadata": {},
   "outputs": [
    {
     "data": {
      "text/plain": [
       "2"
      ]
     },
     "execution_count": 40,
     "metadata": {},
     "output_type": "execute_result"
    }
   ],
   "source": [
    "s.count(\" \")"
   ]
  },
  {
   "cell_type": "code",
   "execution_count": 41,
   "id": "eb0f20ce",
   "metadata": {},
   "outputs": [],
   "source": [
    "sequence = \"ACGATCAGCACGGGACAGCGACGGGGGCAGCAGGGTGCACG\""
   ]
  },
  {
   "cell_type": "code",
   "execution_count": 42,
   "id": "f5a3dc12",
   "metadata": {},
   "outputs": [
    {
     "data": {
      "text/plain": [
       "10"
      ]
     },
     "execution_count": 42,
     "metadata": {},
     "output_type": "execute_result"
    }
   ],
   "source": [
    "sequence.count(\"A\")"
   ]
  },
  {
   "cell_type": "code",
   "execution_count": 43,
   "id": "2587bf46",
   "metadata": {},
   "outputs": [
    {
     "data": {
      "text/plain": [
       "4"
      ]
     },
     "execution_count": 43,
     "metadata": {},
     "output_type": "execute_result"
    }
   ],
   "source": [
    "sequence.count(\"ACG\")"
   ]
  },
  {
   "cell_type": "code",
   "execution_count": 44,
   "id": "d372ad56",
   "metadata": {},
   "outputs": [
    {
     "data": {
      "text/plain": [
       "'acgatcagcacgggacagcgacgggggcagcagggtgcacg'"
      ]
     },
     "execution_count": 44,
     "metadata": {},
     "output_type": "execute_result"
    }
   ],
   "source": [
    "sequence.lower()"
   ]
  },
  {
   "cell_type": "code",
   "execution_count": 45,
   "id": "3f80b8ab",
   "metadata": {},
   "outputs": [
    {
     "data": {
      "text/plain": [
       "'ACGATCAGCACGGGACAGCGACGGGGGCAGCAGGGTGCACG'"
      ]
     },
     "execution_count": 45,
     "metadata": {},
     "output_type": "execute_result"
    }
   ],
   "source": [
    "sequence"
   ]
  },
  {
   "cell_type": "code",
   "execution_count": 46,
   "id": "d18e1f4b",
   "metadata": {},
   "outputs": [
    {
     "data": {
      "text/plain": [
       "'ACGAΨCAGCACGGGACAGCGACGGGGGCAGCAGGGΨGCACG'"
      ]
     },
     "execution_count": 46,
     "metadata": {},
     "output_type": "execute_result"
    }
   ],
   "source": [
    "sequence.replace(\"T\", \"Ψ\")"
   ]
  },
  {
   "cell_type": "code",
   "execution_count": 47,
   "id": "eb9e3a4f",
   "metadata": {},
   "outputs": [
    {
     "data": {
      "text/plain": [
       "'ACGATCAGCACGGGACAGCGACGGGGGCAGCAGGGTGCACG'"
      ]
     },
     "execution_count": 47,
     "metadata": {},
     "output_type": "execute_result"
    }
   ],
   "source": [
    "sequence"
   ]
  },
  {
   "cell_type": "code",
   "execution_count": 48,
   "id": "d9a52cb2",
   "metadata": {},
   "outputs": [
    {
     "data": {
      "text/plain": [
       "'asgfa a  iji'"
      ]
     },
     "execution_count": 48,
     "metadata": {},
     "output_type": "execute_result"
    }
   ],
   "source": [
    "\"    asgfa a  iji    \".strip()"
   ]
  },
  {
   "cell_type": "code",
   "execution_count": 49,
   "id": "99722af5",
   "metadata": {},
   "outputs": [
    {
     "data": {
      "text/plain": [
       "'asgfaaiji'"
      ]
     },
     "execution_count": 49,
     "metadata": {},
     "output_type": "execute_result"
    }
   ],
   "source": [
    "\"    asgfa a  iji    \".replace(\" \", \"\")"
   ]
  },
  {
   "cell_type": "code",
   "execution_count": 50,
   "id": "5d80e971",
   "metadata": {},
   "outputs": [
    {
     "data": {
      "text/plain": [
       "'Ana 72 1.70'"
      ]
     },
     "execution_count": 50,
     "metadata": {},
     "output_type": "execute_result"
    }
   ],
   "source": [
    "s"
   ]
  },
  {
   "cell_type": "code",
   "execution_count": 51,
   "id": "fe7ffdfe",
   "metadata": {},
   "outputs": [],
   "source": [
    "ime, teza, visina = s.split()"
   ]
  },
  {
   "cell_type": "code",
   "execution_count": 52,
   "id": "33cddeef",
   "metadata": {},
   "outputs": [
    {
     "data": {
      "text/plain": [
       "'Ana'"
      ]
     },
     "execution_count": 52,
     "metadata": {},
     "output_type": "execute_result"
    }
   ],
   "source": [
    "ime"
   ]
  },
  {
   "cell_type": "code",
   "execution_count": 53,
   "id": "4d10d3ba",
   "metadata": {},
   "outputs": [
    {
     "data": {
      "text/plain": [
       "'72'"
      ]
     },
     "execution_count": 53,
     "metadata": {},
     "output_type": "execute_result"
    }
   ],
   "source": [
    "teza"
   ]
  },
  {
   "cell_type": "code",
   "execution_count": 54,
   "id": "b8ab6511",
   "metadata": {},
   "outputs": [
    {
     "data": {
      "text/plain": [
       "'1.70'"
      ]
     },
     "execution_count": 54,
     "metadata": {},
     "output_type": "execute_result"
    }
   ],
   "source": [
    "visina"
   ]
  },
  {
   "cell_type": "code",
   "execution_count": 79,
   "id": "9510792c",
   "metadata": {},
   "outputs": [
    {
     "name": "stdout",
     "output_type": "stream",
     "text": [
      "Ana                    24.91\n",
      "Berta                  25.11\n",
      "Cilka                  25.71\n",
      "Dani                   25.31\n",
      "Eva                    22.22\n",
      "Štefanja Fanči         23.51\n"
     ]
    }
   ],
   "source": [
    "f = open(\"bmi.txt\", \"w\")\n",
    "\n",
    "g = open(\"datoteke/osebe.txt\", encoding=\"utf8\")\n",
    "vrstica = \"kr neki\"\n",
    "while vrstica.strip() != \"Data:\":\n",
    "    vrstica = g.readline()\n",
    "    \n",
    "g.readline()\n",
    "g.readline()\n",
    "g.readline()\n",
    "\n",
    "for vrstica in g:\n",
    "    ime, teza, visina = vrstica.split(\"\\t\")\n",
    "    bmi = int(teza) / float(visina) ** 2\n",
    "    \n",
    "    #f.write(ime + \" \" + str(bmi) + \"\\n\")\n",
    "    print(f\"{ime:20}{bmi:8.2f}\")\n",
    "    \n",
    "f.close()\n",
    "    "
   ]
  },
  {
   "cell_type": "code",
   "execution_count": 68,
   "id": "c6d665c0",
   "metadata": {},
   "outputs": [
    {
     "data": {
      "text/plain": [
       "type"
      ]
     },
     "execution_count": 68,
     "metadata": {},
     "output_type": "execute_result"
    }
   ],
   "source": [
    "type(str)"
   ]
  },
  {
   "cell_type": "code",
   "execution_count": 81,
   "id": "ee9b01f2",
   "metadata": {},
   "outputs": [
    {
     "name": "stdout",
     "output_type": "stream",
     "text": [
      "ASDF13\n",
      "SDFG14\n",
      "DFGH15\n",
      "FGHJ16\n",
      "GHJK17\n",
      "HJKL18\n",
      "ZXCV19\n",
      "XCVB20\n",
      "CVBN21\n",
      "VBNM22\n"
     ]
    }
   ],
   "source": [
    "for vrstica in open(\"datoteke/qwerty-dna.txt\"):\n",
    "    gen, sekvenca = vrstica.split()\n",
    "    print(gen)"
   ]
  },
  {
   "cell_type": "code",
   "execution_count": 82,
   "id": "3fd052b7",
   "metadata": {},
   "outputs": [],
   "source": [
    "imena = [\"Ana\", \"Berta\", \"Cilka\"]"
   ]
  },
  {
   "cell_type": "code",
   "execution_count": 83,
   "id": "8e28d9be",
   "metadata": {},
   "outputs": [
    {
     "data": {
      "text/plain": [
       "3"
      ]
     },
     "execution_count": 83,
     "metadata": {},
     "output_type": "execute_result"
    }
   ],
   "source": [
    "len(imena)"
   ]
  },
  {
   "cell_type": "code",
   "execution_count": 84,
   "id": "e7988789",
   "metadata": {},
   "outputs": [
    {
     "name": "stdout",
     "output_type": "stream",
     "text": [
      "Ana\n",
      "Berta\n",
      "Cilka\n"
     ]
    }
   ],
   "source": [
    "for ime in imena:\n",
    "    print(ime)"
   ]
  },
  {
   "cell_type": "code",
   "execution_count": 85,
   "id": "3f2518d2",
   "metadata": {},
   "outputs": [],
   "source": [
    "teze = [56, 76, 80, 67, 60]"
   ]
  },
  {
   "cell_type": "code",
   "execution_count": 86,
   "id": "2a26c3ca",
   "metadata": {},
   "outputs": [
    {
     "name": "stdout",
     "output_type": "stream",
     "text": [
      "67.8\n"
     ]
    }
   ],
   "source": [
    "vsota = 0\n",
    "for teza in teze:\n",
    "    vsota = vsota + teza\n",
    "print(vsota / len(teze))"
   ]
  },
  {
   "cell_type": "code",
   "execution_count": 87,
   "id": "955e0be1",
   "metadata": {},
   "outputs": [],
   "source": [
    "teze.sort()"
   ]
  },
  {
   "cell_type": "code",
   "execution_count": 88,
   "id": "026b222a",
   "metadata": {},
   "outputs": [
    {
     "data": {
      "text/plain": [
       "[56, 60, 67, 76, 80]"
      ]
     },
     "execution_count": 88,
     "metadata": {},
     "output_type": "execute_result"
    }
   ],
   "source": [
    "teze"
   ]
  },
  {
   "cell_type": "code",
   "execution_count": 89,
   "id": "c828c36f",
   "metadata": {},
   "outputs": [
    {
     "data": {
      "text/plain": [
       "[56, 60, 67, 76, 80]"
      ]
     },
     "execution_count": 89,
     "metadata": {},
     "output_type": "execute_result"
    }
   ],
   "source": [
    "teze"
   ]
  },
  {
   "cell_type": "code",
   "execution_count": 91,
   "id": "e65604bc",
   "metadata": {},
   "outputs": [],
   "source": [
    "teze.append(92)"
   ]
  },
  {
   "cell_type": "code",
   "execution_count": 92,
   "id": "b9556d90",
   "metadata": {},
   "outputs": [
    {
     "data": {
      "text/plain": [
       "[56, 60, 67, 76, 80, 92]"
      ]
     },
     "execution_count": 92,
     "metadata": {},
     "output_type": "execute_result"
    }
   ],
   "source": [
    "teze"
   ]
  },
  {
   "cell_type": "code",
   "execution_count": 102,
   "id": "b9bc362f",
   "metadata": {},
   "outputs": [
    {
     "name": "stdout",
     "output_type": "stream",
     "text": [
      "ASDF13\n",
      "CVBN21\n",
      "DFGH15\n",
      "FGHJ16\n",
      "GHJK17\n",
      "HJKL18\n",
      "SDFG14\n",
      "VBNM22\n",
      "XCVB20\n",
      "ZXCV19\n"
     ]
    }
   ],
   "source": [
    "geni = []\n",
    "\n",
    "for vrstica in open(\"datoteke/qwerty-dna.txt\"):\n",
    "    gen, sekvenca = vrstica.split()\n",
    "    geni.append(gen)\n",
    "    \n",
    "geni.sort()\n",
    "\n",
    "for gen in geni:\n",
    "    print(gen)"
   ]
  },
  {
   "cell_type": "code",
   "execution_count": 99,
   "id": "7cec3b54",
   "metadata": {},
   "outputs": [
    {
     "data": {
      "text/plain": [
       "['ASDF13',\n",
       " 'CVBN21',\n",
       " 'DFGH15',\n",
       " 'FGHJ16',\n",
       " 'GHJK17',\n",
       " 'HJKL18',\n",
       " 'SDFG14',\n",
       " 'VBNM22',\n",
       " 'XCVB20',\n",
       " 'ZXCV19']"
      ]
     },
     "execution_count": 99,
     "metadata": {},
     "output_type": "execute_result"
    }
   ],
   "source": [
    "geni"
   ]
  },
  {
   "cell_type": "code",
   "execution_count": 116,
   "id": "20a7e611",
   "metadata": {},
   "outputs": [
    {
     "name": "stdout",
     "output_type": "stream",
     "text": [
      "[(32, 'GHJK17'), (31, 'SDFG14'), (29, 'HJKL18'), (27, 'VBNM22'), (26, 'DFGH15'), (26, 'ASDF13'), (24, 'ZXCV19'), (24, 'CVBN21'), (21, 'XCVB20'), (19, 'FGHJ16')]\n"
     ]
    }
   ],
   "source": [
    "geni = []\n",
    "\n",
    "for vrstica in open(\"datoteke/qwerty-dna.txt\"):\n",
    "    gen, sekvenca = vrstica.split()\n",
    "    geni.append((sekvenca.count(\"a\"), gen))\n",
    "\n",
    "geni.sort(reverse=True)\n",
    "print(geni)"
   ]
  },
  {
   "cell_type": "code",
   "execution_count": 114,
   "id": "1465f880",
   "metadata": {},
   "outputs": [],
   "source": [
    "t = (\"Ana\", \"Berta\", \"Cilka\")"
   ]
  },
  {
   "cell_type": "code",
   "execution_count": 115,
   "id": "79da00d5",
   "metadata": {},
   "outputs": [
    {
     "data": {
      "text/plain": [
       "('Ana', 'Berta', 'Cilka')"
      ]
     },
     "execution_count": 115,
     "metadata": {},
     "output_type": "execute_result"
    }
   ],
   "source": [
    "t"
   ]
  },
  {
   "cell_type": "code",
   "execution_count": 117,
   "id": "2084d4f2",
   "metadata": {},
   "outputs": [
    {
     "data": {
      "text/plain": [
       "[(32, 'GHJK17'),\n",
       " (31, 'SDFG14'),\n",
       " (29, 'HJKL18'),\n",
       " (27, 'VBNM22'),\n",
       " (26, 'DFGH15'),\n",
       " (26, 'ASDF13'),\n",
       " (24, 'ZXCV19'),\n",
       " (24, 'CVBN21'),\n",
       " (21, 'XCVB20'),\n",
       " (19, 'FGHJ16')]"
      ]
     },
     "execution_count": 117,
     "metadata": {},
     "output_type": "execute_result"
    }
   ],
   "source": [
    "geni"
   ]
  },
  {
   "cell_type": "code",
   "execution_count": 118,
   "id": "df729bcf",
   "metadata": {},
   "outputs": [],
   "source": [
    "imena = [\"Ana\", \"Berta\", \"Cilka\", \"Dani\", \"Ema\", \"Fanči\"]"
   ]
  },
  {
   "cell_type": "code",
   "execution_count": 119,
   "id": "71671c29",
   "metadata": {},
   "outputs": [
    {
     "name": "stdout",
     "output_type": "stream",
     "text": [
      "Cilka\n"
     ]
    }
   ],
   "source": [
    "drugi = imena[2]\n",
    "print(drugi)"
   ]
  },
  {
   "cell_type": "code",
   "execution_count": 120,
   "id": "2c1ee3b2",
   "metadata": {},
   "outputs": [
    {
     "data": {
      "text/plain": [
       "'Ana'"
      ]
     },
     "execution_count": 120,
     "metadata": {},
     "output_type": "execute_result"
    }
   ],
   "source": [
    "imena[0]"
   ]
  },
  {
   "cell_type": "code",
   "execution_count": 122,
   "id": "cd70fb10",
   "metadata": {},
   "outputs": [
    {
     "data": {
      "text/plain": [
       "'Fanči'"
      ]
     },
     "execution_count": 122,
     "metadata": {},
     "output_type": "execute_result"
    }
   ],
   "source": [
    "imena[-1]"
   ]
  },
  {
   "cell_type": "code",
   "execution_count": 123,
   "id": "a911308e",
   "metadata": {},
   "outputs": [
    {
     "data": {
      "text/plain": [
       "'Cilka'"
      ]
     },
     "execution_count": 123,
     "metadata": {},
     "output_type": "execute_result"
    }
   ],
   "source": [
    "imena[2]"
   ]
  },
  {
   "cell_type": "code",
   "execution_count": 124,
   "id": "eb1fdb90",
   "metadata": {},
   "outputs": [
    {
     "data": {
      "text/plain": [
       "'Dani'"
      ]
     },
     "execution_count": 124,
     "metadata": {},
     "output_type": "execute_result"
    }
   ],
   "source": [
    "imena[3]"
   ]
  },
  {
   "cell_type": "code",
   "execution_count": 125,
   "id": "34e3fd3d",
   "metadata": {},
   "outputs": [
    {
     "data": {
      "text/plain": [
       "'Ema'"
      ]
     },
     "execution_count": 125,
     "metadata": {},
     "output_type": "execute_result"
    }
   ],
   "source": [
    "imena[4]"
   ]
  },
  {
   "cell_type": "code",
   "execution_count": 126,
   "id": "b5d0c0a3",
   "metadata": {},
   "outputs": [
    {
     "data": {
      "text/plain": [
       "['Cilka', 'Dani', 'Ema']"
      ]
     },
     "execution_count": 126,
     "metadata": {},
     "output_type": "execute_result"
    }
   ],
   "source": [
    "imena[2:5]"
   ]
  },
  {
   "cell_type": "code",
   "execution_count": 127,
   "id": "716822f4",
   "metadata": {},
   "outputs": [
    {
     "data": {
      "text/plain": [
       "['Ana', 'Berta', 'Cilka', 'Dani', 'Ema']"
      ]
     },
     "execution_count": 127,
     "metadata": {},
     "output_type": "execute_result"
    }
   ],
   "source": [
    "imena[0:5]"
   ]
  },
  {
   "cell_type": "code",
   "execution_count": 128,
   "id": "552bb2aa",
   "metadata": {},
   "outputs": [
    {
     "data": {
      "text/plain": [
       "['Ana', 'Berta', 'Cilka']"
      ]
     },
     "execution_count": 128,
     "metadata": {},
     "output_type": "execute_result"
    }
   ],
   "source": [
    "imena[:3]"
   ]
  },
  {
   "cell_type": "code",
   "execution_count": 129,
   "id": "2da68be6",
   "metadata": {},
   "outputs": [
    {
     "data": {
      "text/plain": [
       "['Ana', 'Berta', 'Cilka', 'Dani']"
      ]
     },
     "execution_count": 129,
     "metadata": {},
     "output_type": "execute_result"
    }
   ],
   "source": [
    "imena[:-2]"
   ]
  },
  {
   "cell_type": "code",
   "execution_count": 130,
   "id": "03ce9a3b",
   "metadata": {},
   "outputs": [
    {
     "data": {
      "text/plain": [
       "['Dani', 'Ema', 'Fanči']"
      ]
     },
     "execution_count": 130,
     "metadata": {},
     "output_type": "execute_result"
    }
   ],
   "source": [
    "imena[-3:]"
   ]
  },
  {
   "cell_type": "code",
   "execution_count": 131,
   "id": "519793ef",
   "metadata": {},
   "outputs": [
    {
     "data": {
      "text/plain": [
       "['Dani', 'Ema', 'Fanči']"
      ]
     },
     "execution_count": 131,
     "metadata": {},
     "output_type": "execute_result"
    }
   ],
   "source": [
    "imena[3:]"
   ]
  },
  {
   "cell_type": "code",
   "execution_count": 132,
   "id": "bf3c82a7",
   "metadata": {},
   "outputs": [],
   "source": [
    "ime = \"Štefanja\""
   ]
  },
  {
   "cell_type": "code",
   "execution_count": 133,
   "id": "3d23c081",
   "metadata": {},
   "outputs": [
    {
     "data": {
      "text/plain": [
       "'Štef'"
      ]
     },
     "execution_count": 133,
     "metadata": {},
     "output_type": "execute_result"
    }
   ],
   "source": [
    "ime[:4]"
   ]
  },
  {
   "cell_type": "code",
   "execution_count": 135,
   "id": "5f5ae58c",
   "metadata": {},
   "outputs": [
    {
     "data": {
      "text/plain": [
       "'anja'"
      ]
     },
     "execution_count": 135,
     "metadata": {},
     "output_type": "execute_result"
    }
   ],
   "source": [
    "ime[-4:]"
   ]
  },
  {
   "cell_type": "code",
   "execution_count": 136,
   "id": "a4b26372",
   "metadata": {},
   "outputs": [
    {
     "data": {
      "text/plain": [
       "'Štefan'"
      ]
     },
     "execution_count": 136,
     "metadata": {},
     "output_type": "execute_result"
    }
   ],
   "source": [
    "ime[:-2]"
   ]
  },
  {
   "cell_type": "code",
   "execution_count": 143,
   "id": "a69b6f44",
   "metadata": {},
   "outputs": [
    {
     "name": "stdout",
     "output_type": "stream",
     "text": [
      "[(32, 'GHJK17'), (31, 'SDFG14'), (29, 'HJKL18')]\n",
      "3\n",
      "GHJK17 32\n",
      "SDFG14 31\n",
      "HJKL18 29\n"
     ]
    }
   ],
   "source": [
    "geni = []\n",
    "\n",
    "for vrstica in open(\"datoteke/qwerty-dna.txt\"):\n",
    "    gen, sekvenca = vrstica.split()\n",
    "    geni.append((sekvenca.count(\"a\"), gen))\n",
    "\n",
    "geni.sort(reverse=True)\n",
    "geni = geni[:3]\n",
    "print(geni)\n",
    "print(len(geni))\n",
    "for par in geni:\n",
    "    pojavitve, gen = par\n",
    "    print(gen, pojavitve)\n",
    "    "
   ]
  },
  {
   "cell_type": "code",
   "execution_count": 145,
   "id": "20ba9be3",
   "metadata": {},
   "outputs": [],
   "source": [
    "vrstica = \"Ana 72 1.75\""
   ]
  },
  {
   "cell_type": "code",
   "execution_count": 146,
   "id": "b968e260",
   "metadata": {},
   "outputs": [
    {
     "data": {
      "text/plain": [
       "['Ana', '72', '1.75']"
      ]
     },
     "execution_count": 146,
     "metadata": {},
     "output_type": "execute_result"
    }
   ],
   "source": [
    "vrstica.split()"
   ]
  },
  {
   "cell_type": "code",
   "execution_count": 147,
   "id": "8400de41",
   "metadata": {},
   "outputs": [
    {
     "name": "stdout",
     "output_type": "stream",
     "text": [
      "GHJK17 32\n",
      "SDFG14 31\n",
      "HJKL18 29\n"
     ]
    }
   ],
   "source": [
    "\"\"\"\n",
    "for par in geni:\n",
    "    pojavitve, gen = par\n",
    "    print(gen, pojavitve)\n",
    "\"\"\"\n",
    "\n",
    "for pojavitve, gen in geni:\n",
    "    print(gen, pojavitve)\n",
    "    "
   ]
  },
  {
   "cell_type": "code",
   "execution_count": null,
   "id": "7613c045",
   "metadata": {},
   "outputs": [],
   "source": []
  }
 ],
 "metadata": {
  "kernelspec": {
   "display_name": "Python 3",
   "language": "python",
   "name": "python3"
  },
  "language_info": {
   "codemirror_mode": {
    "name": "ipython",
    "version": 3
   },
   "file_extension": ".py",
   "mimetype": "text/x-python",
   "name": "python",
   "nbconvert_exporter": "python",
   "pygments_lexer": "ipython3",
   "version": "3.9.12"
  }
 },
 "nbformat": 4,
 "nbformat_minor": 5
}
