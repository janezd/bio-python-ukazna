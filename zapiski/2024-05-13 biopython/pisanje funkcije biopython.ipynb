{
 "cells": [
  {
   "cell_type": "code",
   "execution_count": 2,
   "id": "cd97bdc1-9128-4ede-b50d-a34d6d12871f",
   "metadata": {},
   "outputs": [],
   "source": [
    "seznam = [1, \"nekaj\", 200, \"se nekaj\", [\"a\", 3, \"nekaj\", 4], \"karkoli\"]"
   ]
  },
  {
   "cell_type": "code",
   "execution_count": 3,
   "id": "150b608d-5201-43d9-a14c-e57e24072658",
   "metadata": {},
   "outputs": [
    {
     "data": {
      "text/plain": [
       "1"
      ]
     },
     "execution_count": 3,
     "metadata": {},
     "output_type": "execute_result"
    }
   ],
   "source": [
    "seznam[0]"
   ]
  },
  {
   "cell_type": "code",
   "execution_count": 4,
   "id": "7b32352d-d625-4d44-aecf-a052b8ff7fc0",
   "metadata": {},
   "outputs": [
    {
     "data": {
      "text/plain": [
       "'karkoli'"
      ]
     },
     "execution_count": 4,
     "metadata": {},
     "output_type": "execute_result"
    }
   ],
   "source": [
    "seznam[-1]"
   ]
  },
  {
   "cell_type": "code",
   "execution_count": 5,
   "id": "bf15f2f0-c6b4-4d57-8a44-7d2a7188dd17",
   "metadata": {},
   "outputs": [
    {
     "data": {
      "text/plain": [
       "['a', 3, 'nekaj', 4]"
      ]
     },
     "execution_count": 5,
     "metadata": {},
     "output_type": "execute_result"
    }
   ],
   "source": [
    "seznam[-2]"
   ]
  },
  {
   "cell_type": "code",
   "execution_count": 6,
   "id": "468e19d6-c659-462c-a037-723dcab95f72",
   "metadata": {},
   "outputs": [
    {
     "data": {
      "text/plain": [
       "6"
      ]
     },
     "execution_count": 6,
     "metadata": {},
     "output_type": "execute_result"
    }
   ],
   "source": [
    "len(seznam)"
   ]
  },
  {
   "cell_type": "code",
   "execution_count": 7,
   "id": "b4a5c130-75a6-49ae-9797-d31463293b30",
   "metadata": {},
   "outputs": [
    {
     "ename": "IndexError",
     "evalue": "list index out of range",
     "output_type": "error",
     "traceback": [
      "\u001b[0;31m---------------------------------------------------------------------------\u001b[0m",
      "\u001b[0;31mIndexError\u001b[0m                                Traceback (most recent call last)",
      "Cell \u001b[0;32mIn[7], line 1\u001b[0m\n\u001b[0;32m----> 1\u001b[0m \u001b[43mseznam\u001b[49m\u001b[43m[\u001b[49m\u001b[38;5;241;43m6\u001b[39;49m\u001b[43m]\u001b[49m\n",
      "\u001b[0;31mIndexError\u001b[0m: list index out of range"
     ]
    }
   ],
   "source": [
    "seznam[6]"
   ]
  },
  {
   "cell_type": "code",
   "execution_count": 8,
   "id": "83517c33-451c-4fae-9444-72415be0506f",
   "metadata": {},
   "outputs": [
    {
     "data": {
      "text/plain": [
       "'karkoli'"
      ]
     },
     "execution_count": 8,
     "metadata": {},
     "output_type": "execute_result"
    }
   ],
   "source": [
    "seznam[5]"
   ]
  },
  {
   "cell_type": "markdown",
   "id": "f5da32c1-d833-486a-bbff-a08ff4b9d25c",
   "metadata": {},
   "source": [
    "# Izračunaj povprečno maso oseb v datoteki podatki.txt"
   ]
  },
  {
   "cell_type": "code",
   "execution_count": 11,
   "id": "475869a2-2d12-4060-a2ad-436868fb6967",
   "metadata": {},
   "outputs": [
    {
     "name": "stdout",
     "output_type": "stream",
     "text": [
      "65.75\n"
     ]
    }
   ],
   "source": [
    "vsota_teze = 0\n",
    "stevilo_oseb = 0\n",
    "for vrstica in open(\"podatki.txt\"):\n",
    "    ime, teza, visina = vrstica.split()\n",
    "    teza = int(teza)\n",
    "    \n",
    "    vsota_teze += teza # vsota_teze = vsota_teze + teza\n",
    "    stevilo_oseb += 1\n",
    "\n",
    "povprecje = vsota_teze / stevilo_oseb\n",
    "print(povprecje)"
   ]
  },
  {
   "cell_type": "code",
   "execution_count": 13,
   "id": "c9e53560-6203-4c49-84b7-f93cec787c7f",
   "metadata": {},
   "outputs": [],
   "source": [
    "f = open(\"povprecje.txt\", \"w\")"
   ]
  },
  {
   "cell_type": "code",
   "execution_count": 14,
   "id": "ba17b1a7-7c4d-4d6c-965f-c17dfa1456bf",
   "metadata": {},
   "outputs": [
    {
     "ename": "TypeError",
     "evalue": "write() argument must be str, not float",
     "output_type": "error",
     "traceback": [
      "\u001b[0;31m---------------------------------------------------------------------------\u001b[0m",
      "\u001b[0;31mTypeError\u001b[0m                                 Traceback (most recent call last)",
      "Cell \u001b[0;32mIn[14], line 1\u001b[0m\n\u001b[0;32m----> 1\u001b[0m \u001b[43mf\u001b[49m\u001b[38;5;241;43m.\u001b[39;49m\u001b[43mwrite\u001b[49m\u001b[43m(\u001b[49m\u001b[43mpovprecje\u001b[49m\u001b[43m)\u001b[49m\n",
      "\u001b[0;31mTypeError\u001b[0m: write() argument must be str, not float"
     ]
    }
   ],
   "source": [
    "f.write(povprecje)"
   ]
  },
  {
   "cell_type": "code",
   "execution_count": 15,
   "id": "e5d191b6-e339-40c3-87df-3526f3d83374",
   "metadata": {},
   "outputs": [
    {
     "data": {
      "text/plain": [
       "'65.75'"
      ]
     },
     "execution_count": 15,
     "metadata": {},
     "output_type": "execute_result"
    }
   ],
   "source": [
    "str(povprecje)"
   ]
  },
  {
   "cell_type": "code",
   "execution_count": 16,
   "id": "35e2ff96-6463-4ba2-88c4-3ce8221cf231",
   "metadata": {},
   "outputs": [
    {
     "data": {
      "text/plain": [
       "5"
      ]
     },
     "execution_count": 16,
     "metadata": {},
     "output_type": "execute_result"
    }
   ],
   "source": [
    "f.write(str(povprecje))"
   ]
  },
  {
   "cell_type": "code",
   "execution_count": 17,
   "id": "d32afbd3-12ef-4d7a-bb7a-a0c07c840b54",
   "metadata": {},
   "outputs": [],
   "source": [
    "f.close()"
   ]
  },
  {
   "cell_type": "code",
   "execution_count": 21,
   "id": "b6abd8c6-40b9-458e-90ed-e9112a3e052d",
   "metadata": {},
   "outputs": [],
   "source": [
    "with open(\"povprecje.txt\", \"w\") as f:\n",
    "    f.write('nekaj\\n')\n",
    "    f.write('še nekaj\\n')"
   ]
  },
  {
   "cell_type": "markdown",
   "id": "07dc824e-090e-4d7d-b9a1-3b53e1b8659e",
   "metadata": {},
   "source": [
    "# Izracunaj povprecno maso in zapisi rezultat v povprecje.txt"
   ]
  },
  {
   "cell_type": "code",
   "execution_count": 27,
   "id": "454b0a55-f0e3-4484-a312-8a3d06f00315",
   "metadata": {},
   "outputs": [],
   "source": [
    "vsota_teze = 0\n",
    "stevilo_oseb = 0\n",
    "for vrstica in open(\"podatki.txt\"):\n",
    "    ime, teza, visina = vrstica.split()\n",
    "    teza = int(teza)\n",
    "    \n",
    "    vsota_teze += teza # vsota_teze = vsota_teze + teza\n",
    "    stevilo_oseb += 1\n",
    "\n",
    "povprecje = vsota_teze / stevilo_oseb\n",
    "\n",
    "# print(povprecje)\n",
    "with open(\"povprecje.txt\", \"w\") as f:\n",
    "    f.write(str(povprecje)+\"\\n\")"
   ]
  },
  {
   "cell_type": "markdown",
   "id": "01c73a2c-83a1-40d1-90d0-a90c8baccf37",
   "metadata": {},
   "source": [
    "# Izračunaj povprečno maso, gradi seznam mas"
   ]
  },
  {
   "cell_type": "code",
   "execution_count": 32,
   "id": "205f2515-78cb-429d-b7b2-454e2bb8e61d",
   "metadata": {},
   "outputs": [
    {
     "name": "stdout",
     "output_type": "stream",
     "text": [
      "65.75\n"
     ]
    }
   ],
   "source": [
    "vse_teze = []\n",
    "for vrstica in open(\"podatki.txt\"):\n",
    "    ime, teza, visina = vrstica.split()\n",
    "    teza = int(teza)\n",
    "\n",
    "    vse_teze.append(teza)\n",
    "\n",
    "povprecje = sum(vse_teze) / len(vse_teze)\n",
    "print(povprecje)"
   ]
  },
  {
   "cell_type": "code",
   "execution_count": 30,
   "id": "a02001b5-0259-4a83-9af0-e499b1640307",
   "metadata": {},
   "outputs": [
    {
     "data": {
      "text/plain": [
       "[56, 62, 78, 67]"
      ]
     },
     "execution_count": 30,
     "metadata": {},
     "output_type": "execute_result"
    }
   ],
   "source": [
    "vse_teze"
   ]
  },
  {
   "cell_type": "code",
   "execution_count": 31,
   "id": "3d7e23eb-4f52-4ea2-b36f-b509a7ba0fb4",
   "metadata": {},
   "outputs": [
    {
     "data": {
      "text/plain": [
       "263"
      ]
     },
     "execution_count": 31,
     "metadata": {},
     "output_type": "execute_result"
    }
   ],
   "source": [
    "sum(vse_teze)"
   ]
  },
  {
   "cell_type": "code",
   "execution_count": 33,
   "id": "e5641da8-22cc-4648-96aa-8f75e0b041ee",
   "metadata": {},
   "outputs": [
    {
     "data": {
      "text/plain": [
       "56"
      ]
     },
     "execution_count": 33,
     "metadata": {},
     "output_type": "execute_result"
    }
   ],
   "source": [
    "min(vse_teze)"
   ]
  },
  {
   "cell_type": "code",
   "execution_count": 34,
   "id": "6ecaa44b-f5b5-48a5-96b9-34fc45c76c0d",
   "metadata": {},
   "outputs": [
    {
     "data": {
      "text/plain": [
       "78"
      ]
     },
     "execution_count": 34,
     "metadata": {},
     "output_type": "execute_result"
    }
   ],
   "source": [
    "max(vse_teze)"
   ]
  },
  {
   "cell_type": "markdown",
   "id": "0a42213e-06c8-4468-92ae-45475408ec7b",
   "metadata": {},
   "source": [
    "# Preberi zaporedja v datoteki querty-dna.txt in poročaj za vsak gen, število pojavitev baze t"
   ]
  },
  {
   "cell_type": "code",
   "execution_count": 36,
   "id": "69b8e3bc-2383-4d9a-b1f1-44176c7dc6f5",
   "metadata": {},
   "outputs": [
    {
     "name": "stdout",
     "output_type": "stream",
     "text": [
      "ASDF13\n",
      "gcaactgttggacggctacagtgacggttggtagaactgagtcggtttaaggactcacacatcgcgggtctgcaaagtgtaatctacaagggagcccgag\n",
      "SDFG14\n",
      "cgaagggcaatcggaagttgaggttcgtcatattaagtttggggaacgccgacatctaaatcttttaggtgataaatgcctaaatcagattcaatgtatt\n",
      "DFGH15\n",
      "cgacctcgtaaaatgacaaacactgtcgtggagcagtattcggtcatgccgcccgagccctaccaatcgagttcaactatcgctaactcgcgatgagcct\n",
      "FGHJ16\n",
      "tcgcgggtagcccacagccgggcctgattacagaggggtgaattcgatgcttgatgcggattcctggtaagctccgccgtgcgaccgacaactctcgact\n",
      "GHJK17\n",
      "tggtgatgtggtacatctttgaaaggctcaccgtgaacaaaagtgtattacaatcaacgagccccagggactgatccctcaacaagggcacccaagaagt\n",
      "HJKL18\n",
      "tacagacactatcgctcccgtagctggaggatttcacatgatctaagcaaagccgtagtgggagttcctatggcaataagcgaccttctataaccgagag\n",
      "ZXCV19\n",
      "tcatgcatgttaggttacatctaggctatgcctgtcccagtcagcaggtgggcctagattaagaaatgcccggttaggcaacacaacaccggtgtccttt\n",
      "XCVB20\n",
      "cgctacgtatgtccctaatcaagggctcatggtgctagccagggtcggggctagtttttaaggtatttctgcccccaacaaggagccagataggcccctt\n",
      "CVBN21\n",
      "acttggccactttactcctgcaatctttagtcctggggggagtttaaaatcattccagctgggatgggtctctatcctctccctgtaataacaacaaacg\n",
      "VBNM22\n",
      "tggtctttaagattaactgctcattaggatctgtctccaaacactgttaccgccggcaatcacaggagaatcagtcacctaagttgcgtaggccatatcc\n"
     ]
    }
   ],
   "source": [
    "for vrstica in open(\"datoteke/qwerty-dna.txt\"):\n",
    "    gen, sekvenca = vrstica.split()\n",
    "    print(gen)\n",
    "    print(sekvenca)"
   ]
  },
  {
   "cell_type": "code",
   "execution_count": 49,
   "id": "2c88ce27-b789-4522-ac01-4214aab369b0",
   "metadata": {},
   "outputs": [],
   "source": [
    "zap = \"cgctacgtatgtccctaatcaagggctcatggtgctagccagggtcggggctagtttttaaggtatttctgcccccaacaaggagccagataggcccctt\""
   ]
  },
  {
   "cell_type": "code",
   "execution_count": 50,
   "id": "ddd53bb4-d88c-4aed-a228-71ac06e9362e",
   "metadata": {},
   "outputs": [
    {
     "data": {
      "text/plain": [
       "25"
      ]
     },
     "execution_count": 50,
     "metadata": {},
     "output_type": "execute_result"
    }
   ],
   "source": [
    "zap.count('t')"
   ]
  },
  {
   "cell_type": "code",
   "execution_count": 42,
   "id": "43a59c01-7532-4821-bdbf-4e55125e5a96",
   "metadata": {},
   "outputs": [],
   "source": [
    "stevci = {}\n",
    "for crka in zaporedje:\n",
    "    if crka not in stevci:\n",
    "        stevci[crka] = 0\n",
    "    stevci[crka] += 1"
   ]
  },
  {
   "cell_type": "code",
   "execution_count": 43,
   "id": "65968ed2-eff5-4c91-839c-d113ebea2e4a",
   "metadata": {},
   "outputs": [
    {
     "data": {
      "text/plain": [
       "{'c': 27, 'g': 27, 't': 25, 'a': 21}"
      ]
     },
     "execution_count": 43,
     "metadata": {},
     "output_type": "execute_result"
    }
   ],
   "source": [
    "stevci"
   ]
  },
  {
   "cell_type": "markdown",
   "id": "082adcae-eb17-4cfb-887d-1a2b50e2db7e",
   "metadata": {},
   "source": [
    "# funkcije"
   ]
  },
  {
   "cell_type": "code",
   "execution_count": 46,
   "id": "862b91ca-d2ee-429e-bdfb-83caee288c0a",
   "metadata": {},
   "outputs": [],
   "source": [
    "def stevilo_nukleotidov(zaporedje):\n",
    "    stevci = {} # lokalna spremenljivka\n",
    "    for crka in zaporedje:\n",
    "        if crka not in stevci:\n",
    "            stevci[crka] = 0\n",
    "        stevci[crka] += 1\n",
    "    return stevci"
   ]
  },
  {
   "cell_type": "code",
   "execution_count": 51,
   "id": "5732ddfe-e0f0-42f8-8221-00eaef9e1b9f",
   "metadata": {},
   "outputs": [
    {
     "data": {
      "text/plain": [
       "{'c': 27, 'g': 27, 't': 25, 'a': 21}"
      ]
     },
     "execution_count": 51,
     "metadata": {},
     "output_type": "execute_result"
    }
   ],
   "source": [
    "stevilo_nukleotidov(zap)"
   ]
  },
  {
   "cell_type": "code",
   "execution_count": 48,
   "id": "e0084b90-2d12-44d1-b2d3-52315e0a407a",
   "metadata": {},
   "outputs": [
    {
     "data": {
      "text/plain": [
       "{'t': 4, 'c': 2, 'a': 3, 'g': 2}"
      ]
     },
     "execution_count": 48,
     "metadata": {},
     "output_type": "execute_result"
    }
   ],
   "source": [
    "stevilo_nukleotidov(\"tctcagagatt\")"
   ]
  },
  {
   "cell_type": "code",
   "execution_count": 58,
   "id": "914a1c84-9470-4623-9793-f15acd2efba8",
   "metadata": {},
   "outputs": [
    {
     "name": "stdout",
     "output_type": "stream",
     "text": [
      "ASDF13\n",
      "21\n",
      "SDFG14\n",
      "30\n",
      "DFGH15\n",
      "21\n",
      "FGHJ16\n",
      "21\n",
      "GHJK17\n",
      "20\n",
      "HJKL18\n",
      "23\n",
      "ZXCV19\n",
      "26\n",
      "XCVB20\n",
      "25\n",
      "CVBN21\n",
      "30\n",
      "VBNM22\n",
      "27\n"
     ]
    }
   ],
   "source": [
    "for vrstica in open(\"datoteke/qwerty-dna.txt\"):\n",
    "    gen, sekvenca = vrstica.split()\n",
    "    print(gen)\n",
    "    #print(stevilo_nukleotidov(sekvenca)) # to ni ok, želimo le t\n",
    "    \n",
    "    #frekvence = stevilo_nukleotidov(sekvenca)\n",
    "    #stevilo_tjev = frekvence[\"t\"]\n",
    "    #print(stevilo_tjev)\n",
    "\n",
    "    # bolj \"pythonovsko\"\n",
    "    print(stevilo_nukleotidov(sekvenca)[\"t\"])"
   ]
  },
  {
   "cell_type": "code",
   "execution_count": 54,
   "id": "ae6d85ad-0f9b-4aac-b3ae-691b95ecf3c1",
   "metadata": {},
   "outputs": [],
   "source": [
    "frekvence = stevilo_nukleotidov(\"tctcagagatt\")"
   ]
  },
  {
   "cell_type": "code",
   "execution_count": 55,
   "id": "3923d199-8859-46c9-a55f-c331f18015c1",
   "metadata": {},
   "outputs": [
    {
     "data": {
      "text/plain": [
       "{'t': 4, 'c': 2, 'a': 3, 'g': 2}"
      ]
     },
     "execution_count": 55,
     "metadata": {},
     "output_type": "execute_result"
    }
   ],
   "source": [
    "frekvence"
   ]
  },
  {
   "cell_type": "code",
   "execution_count": 56,
   "id": "abc1a1a8-75a2-444a-b207-682ca9e523b5",
   "metadata": {},
   "outputs": [
    {
     "data": {
      "text/plain": [
       "4"
      ]
     },
     "execution_count": 56,
     "metadata": {},
     "output_type": "execute_result"
    }
   ],
   "source": [
    "frekvence[\"t\"]"
   ]
  },
  {
   "cell_type": "markdown",
   "id": "c1be0945-654a-4ace-b66f-fa6b79ea7d4a",
   "metadata": {},
   "source": [
    "# Za dano zaporedje preštej pojavitve 3-merov (3-terk) "
   ]
  },
  {
   "cell_type": "code",
   "execution_count": 60,
   "id": "015bb74e-21aa-4730-b899-2708169090e8",
   "metadata": {},
   "outputs": [],
   "source": [
    "zap = \"acttggccactttactcctgcaatctttagtcctg\""
   ]
  },
  {
   "cell_type": "code",
   "execution_count": 62,
   "id": "b1518ee0-1164-4231-845a-d907402e789b",
   "metadata": {},
   "outputs": [
    {
     "data": {
      "text/plain": [
       "'act'"
      ]
     },
     "execution_count": 62,
     "metadata": {},
     "output_type": "execute_result"
    }
   ],
   "source": [
    "zap[0:3]"
   ]
  },
  {
   "cell_type": "code",
   "execution_count": 63,
   "id": "1d9c4c43-915a-4e98-a154-08e0745c3021",
   "metadata": {},
   "outputs": [
    {
     "data": {
      "text/plain": [
       "'ctt'"
      ]
     },
     "execution_count": 63,
     "metadata": {},
     "output_type": "execute_result"
    }
   ],
   "source": [
    "zap[1:4]"
   ]
  },
  {
   "cell_type": "code",
   "execution_count": 64,
   "id": "5f2cf9e0-3b92-4e3c-88ef-ec4a07067d00",
   "metadata": {},
   "outputs": [
    {
     "data": {
      "text/plain": [
       "'ttg'"
      ]
     },
     "execution_count": 64,
     "metadata": {},
     "output_type": "execute_result"
    }
   ],
   "source": [
    "zap[2:5]"
   ]
  },
  {
   "cell_type": "code",
   "execution_count": 75,
   "id": "70cf40ae-5d7c-487e-bbc8-f343210125e0",
   "metadata": {},
   "outputs": [],
   "source": [
    "stevci = {}\n",
    "for i in range(0, len(zap)-3+1):\n",
    "    terka = zap[i:i+3]\n",
    "    if terka not in stevci:\n",
    "        stevci[terka] = 0\n",
    "    stevci[terka] += 1"
   ]
  },
  {
   "cell_type": "code",
   "execution_count": 76,
   "id": "df1c5ca5-30c0-44ee-8007-c9b709721048",
   "metadata": {},
   "outputs": [
    {
     "data": {
      "text/plain": [
       "{'act': 3,\n",
       " 'ctt': 3,\n",
       " 'ttg': 1,\n",
       " 'tgg': 1,\n",
       " 'ggc': 1,\n",
       " 'gcc': 1,\n",
       " 'cca': 1,\n",
       " 'cac': 1,\n",
       " 'ttt': 2,\n",
       " 'tta': 2,\n",
       " 'tac': 1,\n",
       " 'ctc': 1,\n",
       " 'tcc': 2,\n",
       " 'cct': 2,\n",
       " 'ctg': 2,\n",
       " 'tgc': 1,\n",
       " 'gca': 1,\n",
       " 'caa': 1,\n",
       " 'aat': 1,\n",
       " 'atc': 1,\n",
       " 'tct': 1,\n",
       " 'tag': 1,\n",
       " 'agt': 1,\n",
       " 'gtc': 1}"
      ]
     },
     "execution_count": 76,
     "metadata": {},
     "output_type": "execute_result"
    }
   ],
   "source": [
    "stevci"
   ]
  },
  {
   "cell_type": "code",
   "execution_count": 67,
   "id": "483d82a2-43d1-49ad-83ec-609feb78f45b",
   "metadata": {},
   "outputs": [
    {
     "data": {
      "text/plain": [
       "'acttggccactttactcctgcaatctttagtcctg'"
      ]
     },
     "execution_count": 67,
     "metadata": {},
     "output_type": "execute_result"
    }
   ],
   "source": [
    "zap"
   ]
  },
  {
   "cell_type": "code",
   "execution_count": 84,
   "id": "00a7e0cd-e978-470f-8393-da939424c791",
   "metadata": {},
   "outputs": [],
   "source": [
    "def stevilo_kterk(zap, k=3):\n",
    "    stevci = {}\n",
    "    #k = 3\n",
    "    for i in range(0, len(zap)-k+1):\n",
    "        terka = zap[i:i+k]\n",
    "        if terka not in stevci:\n",
    "            stevci[terka] = 0\n",
    "        stevci[terka] += 1\n",
    "    return stevci"
   ]
  },
  {
   "cell_type": "code",
   "execution_count": 78,
   "id": "ba155942-97e7-4699-aab4-7ba7f605ae17",
   "metadata": {},
   "outputs": [
    {
     "data": {
      "text/plain": [
       "{'atg': 2, 'tga': 1, 'gat': 1, 'tgg': 1, 'ggg': 1, 'ggc': 1}"
      ]
     },
     "execution_count": 78,
     "metadata": {},
     "output_type": "execute_result"
    }
   ],
   "source": [
    "stevilo_kterk(\"atgatgggc\", 3)"
   ]
  },
  {
   "cell_type": "code",
   "execution_count": 79,
   "id": "fa0fd790-3d0d-4470-9548-774131316d17",
   "metadata": {},
   "outputs": [
    {
     "data": {
      "text/plain": [
       "{'at': 2, 'tg': 2, 'ga': 1, 'gg': 2, 'gc': 1}"
      ]
     },
     "execution_count": 79,
     "metadata": {},
     "output_type": "execute_result"
    }
   ],
   "source": [
    "stevilo_kterk(\"atgatgggc\", 2)"
   ]
  },
  {
   "cell_type": "code",
   "execution_count": 80,
   "id": "7f61b38b-0de7-4132-b113-2c48f465ad9c",
   "metadata": {},
   "outputs": [
    {
     "data": {
      "text/plain": [
       "{'a': 2, 't': 2, 'g': 4, 'c': 1}"
      ]
     },
     "execution_count": 80,
     "metadata": {},
     "output_type": "execute_result"
    }
   ],
   "source": [
    "stevilo_kterk(\"atgatgggc\", 1)"
   ]
  },
  {
   "cell_type": "code",
   "execution_count": 81,
   "id": "7af32511-b5ad-4358-b8f2-730952f9b1ce",
   "metadata": {},
   "outputs": [
    {
     "data": {
      "text/plain": [
       "{'atgat': 1, 'tgatg': 1, 'gatgg': 1, 'atggg': 1, 'tgggc': 1}"
      ]
     },
     "execution_count": 81,
     "metadata": {},
     "output_type": "execute_result"
    }
   ],
   "source": [
    "stevilo_kterk(\"atgatgggc\", 5)"
   ]
  },
  {
   "cell_type": "code",
   "execution_count": 85,
   "id": "cf2a1979-3050-4c19-b771-b94f42267271",
   "metadata": {},
   "outputs": [
    {
     "data": {
      "text/plain": [
       "{'atg': 2, 'tga': 1, 'gat': 1, 'tgg': 1, 'ggg': 1, 'ggc': 1}"
      ]
     },
     "execution_count": 85,
     "metadata": {},
     "output_type": "execute_result"
    }
   ],
   "source": [
    "stevilo_kterk(\"atgatgggc\")"
   ]
  },
  {
   "cell_type": "code",
   "execution_count": 86,
   "id": "1f934617-568e-451a-9f11-85b9880e08ca",
   "metadata": {},
   "outputs": [
    {
     "data": {
      "text/plain": [
       "{'atgat': 1, 'tgatg': 1, 'gatgg': 1, 'atggg': 1, 'tgggc': 1}"
      ]
     },
     "execution_count": 86,
     "metadata": {},
     "output_type": "execute_result"
    }
   ],
   "source": [
    "stevilo_kterk(\"atgatgggc\", 5)"
   ]
  },
  {
   "cell_type": "markdown",
   "id": "58d8544b-7c53-4e69-929a-626eaec44671",
   "metadata": {},
   "source": [
    "# Preberi query-dna.txt in vrni gen z največ pojavitvami terke agt"
   ]
  },
  {
   "cell_type": "code",
   "execution_count": 113,
   "id": "052a664a-16b8-43da-9187-cf7ecf9f7690",
   "metadata": {},
   "outputs": [
    {
     "name": "stdout",
     "output_type": "stream",
     "text": [
      "GHJK17 1\n"
     ]
    }
   ],
   "source": [
    "najvec_pojavitev = 0\n",
    "najvec_gen = \"\"\n",
    "ciljna_kterka = 'tgatcc'\n",
    "for vrstica in open(\"datoteke/qwerty-dna.txt\"):\n",
    "    gen, sekvenca = vrstica.split()\n",
    "    #print(gen)\n",
    "    frekvence = stevilo_kterk(sekvenca, len(ciljna_kterka))\n",
    "    if ciljna_kterka in frekvence:\n",
    "        #print(frekvence['atg'])\n",
    "        if frekvence[ciljna_kterka] > najvec_pojavitev:\n",
    "            najvec_pojavitev = frekvence[ciljna_kterka]\n",
    "            najvec_gen = gen\n",
    "\n",
    "print(najvec_gen, najvec_pojavitev)"
   ]
  },
  {
   "cell_type": "code",
   "execution_count": 89,
   "id": "38054d17-6f9d-4d5f-aae3-0957d4e60425",
   "metadata": {},
   "outputs": [],
   "source": [
    "imenik = {'Ana': '041777222', 'Berta': '031535323'}"
   ]
  },
  {
   "cell_type": "code",
   "execution_count": 90,
   "id": "83f39414-0b3a-4bcd-994d-2fc7eae4e203",
   "metadata": {},
   "outputs": [
    {
     "data": {
      "text/plain": [
       "'041777222'"
      ]
     },
     "execution_count": 90,
     "metadata": {},
     "output_type": "execute_result"
    }
   ],
   "source": [
    "imenik['Ana']"
   ]
  },
  {
   "cell_type": "code",
   "execution_count": 92,
   "id": "19e0fa58-31f0-46a5-8e8b-7a6a042bab06",
   "metadata": {},
   "outputs": [
    {
     "ename": "KeyError",
     "evalue": "'Katarina'",
     "output_type": "error",
     "traceback": [
      "\u001b[0;31m---------------------------------------------------------------------------\u001b[0m",
      "\u001b[0;31mKeyError\u001b[0m                                  Traceback (most recent call last)",
      "Cell \u001b[0;32mIn[92], line 1\u001b[0m\n\u001b[0;32m----> 1\u001b[0m \u001b[43mimenik\u001b[49m\u001b[43m[\u001b[49m\u001b[38;5;124;43m'\u001b[39;49m\u001b[38;5;124;43mKatarina\u001b[39;49m\u001b[38;5;124;43m'\u001b[39;49m\u001b[43m]\u001b[49m\n",
      "\u001b[0;31mKeyError\u001b[0m: 'Katarina'"
     ]
    }
   ],
   "source": [
    "imenik['Katarina']"
   ]
  },
  {
   "cell_type": "code",
   "execution_count": 93,
   "id": "7a867452-f4e5-4e20-995e-4d86f43ed9ff",
   "metadata": {},
   "outputs": [],
   "source": [
    "if 'Katarina' in imenik:\n",
    "    print(imenik['Katarina'])"
   ]
  },
  {
   "cell_type": "code",
   "execution_count": 94,
   "id": "c9c942d4-ef53-4a5b-9a66-e2220ffd4c26",
   "metadata": {},
   "outputs": [
    {
     "name": "stdout",
     "output_type": "stream",
     "text": [
      "041777222\n"
     ]
    }
   ],
   "source": [
    "if 'Ana' in imenik:\n",
    "    print(imenik['Ana'])"
   ]
  },
  {
   "cell_type": "code",
   "execution_count": null,
   "id": "99d46a2a-fec8-4183-80e6-6de7d3bba3aa",
   "metadata": {},
   "outputs": [],
   "source": []
  },
  {
   "cell_type": "code",
   "execution_count": 114,
   "id": "89b35929-4da6-47bd-9003-1a6e51328632",
   "metadata": {},
   "outputs": [],
   "source": [
    "import matplotlib.pyplot as plt"
   ]
  },
  {
   "cell_type": "code",
   "execution_count": 115,
   "id": "a2044ba6-4d48-460c-87b8-f5e5e279c516",
   "metadata": {},
   "outputs": [
    {
     "data": {
      "text/plain": [
       "[<matplotlib.lines.Line2D at 0x7f77e536f410>]"
      ]
     },
     "execution_count": 115,
     "metadata": {},
     "output_type": "execute_result"
    },
    {
     "data": {
      "image/png": "[encoded data removed]",
      "text/plain": [
       "<Figure size 640x480 with 1 Axes>"
      ]
     },
     "metadata": {},
     "output_type": "display_data"
    }
   ],
   "source": [
    "plt.plot([2,3,1,0.5], lw=3)"
   ]
  },
  {
   "cell_type": "code",
   "execution_count": 116,
   "id": "80ec6e7a-8028-4b4f-9e7c-950819741f59",
   "metadata": {},
   "outputs": [
    {
     "data": {
      "text/plain": [
       "[<matplotlib.lines.Line2D at 0x7f77e5203b90>]"
      ]
     },
     "execution_count": 116,
     "metadata": {},
     "output_type": "execute_result"
    },
    {
     "data": {
      "image/png": "[encoded data removed]",
      "text/plain": [
       "<Figure size 640x480 with 1 Axes>"
      ]
     },
     "metadata": {},
     "output_type": "display_data"
    }
   ],
   "source": [
    "plt.plot([2,3,1,0.5], 'o')"
   ]
  },
  {
   "cell_type": "code",
   "execution_count": 117,
   "id": "483b2861-7290-4f71-bd1e-06ec8b230207",
   "metadata": {},
   "outputs": [
    {
     "data": {
      "text/plain": [
       "<BarContainer object of 4 artists>"
      ]
     },
     "execution_count": 117,
     "metadata": {},
     "output_type": "execute_result"
    },
    {
     "data": {
      "image/png": "[encoded data removed]",
      "text/plain": [
       "<Figure size 640x480 with 1 Axes>"
      ]
     },
     "metadata": {},
     "output_type": "display_data"
    }
   ],
   "source": [
    "plt.bar([0,1,2,3], [2,3,1,0.5])"
   ]
  },
  {
   "cell_type": "code",
   "execution_count": 118,
   "id": "18d8c333-942d-4468-b03b-4ad36db70fc0",
   "metadata": {},
   "outputs": [],
   "source": [
    "zap = \"gcaactgttggacggctacagtgacggttggtagaactgagtcggtttaaggactcacacatcgcgggtctgcaaagtgtaatctacaagggagcccgag\""
   ]
  },
  {
   "cell_type": "markdown",
   "id": "560f69e8-ebaa-4b5a-8491-13c1d58e23c4",
   "metadata": {},
   "source": [
    "# Za dano zaporedje, izriši graf deleža G%+C% v drsečem oknu dolžine 20"
   ]
  },
  {
   "cell_type": "code",
   "execution_count": 144,
   "id": "12c86ae9-be53-4744-bc99-25822298b8a2",
   "metadata": {},
   "outputs": [],
   "source": [
    "delezi_na_zaporedju = []\n",
    "for i in range(0, len(zap)-20+1, 1):\n",
    "    zap_v_oknu = zap[i:i+20]\n",
    "    frek = stevilo_nukleotidov(zap_v_oknu)\n",
    "\n",
    "    delez_G = frek.get('g', 0)/20\n",
    "    delez_C = frek.get('c', 0)/20\n",
    "\n",
    "    delez_G_ali_C = delez_G + delez_C\n",
    "    \n",
    "    delezi_na_zaporedju.append(delez_G_ali_C)"
   ]
  },
  {
   "cell_type": "code",
   "execution_count": 145,
   "id": "91510b33-0da7-4563-b6b1-bc2e9a7db062",
   "metadata": {},
   "outputs": [
    {
     "data": {
      "text/plain": [
       "[<matplotlib.lines.Line2D at 0x7f77e4e0b190>]"
      ]
     },
     "execution_count": 145,
     "metadata": {},
     "output_type": "execute_result"
    },
    {
     "data": {
      "image/png": "[encoded data removed]",
      "text/plain": [
       "<Figure size 640x480 with 1 Axes>"
      ]
     },
     "metadata": {},
     "output_type": "display_data"
    }
   ],
   "source": [
    "plt.plot(delezi_na_zaporedju)"
   ]
  },
  {
   "cell_type": "code",
   "execution_count": 123,
   "id": "2dc60eb0-0fc0-4cd3-baf1-77ac993f0dc5",
   "metadata": {},
   "outputs": [
    {
     "data": {
      "text/plain": [
       "{'Ana': '041777222', 'Berta': '031535323'}"
      ]
     },
     "execution_count": 123,
     "metadata": {},
     "output_type": "execute_result"
    }
   ],
   "source": [
    "imenik"
   ]
  },
  {
   "cell_type": "code",
   "execution_count": 124,
   "id": "c7a95e41-18f4-43af-9548-3e6a872106dc",
   "metadata": {},
   "outputs": [
    {
     "data": {
      "text/plain": [
       "'041777222'"
      ]
     },
     "execution_count": 124,
     "metadata": {},
     "output_type": "execute_result"
    }
   ],
   "source": [
    "imenik['Ana']"
   ]
  },
  {
   "cell_type": "code",
   "execution_count": 125,
   "id": "5416bc58-6640-42f5-b59f-72b0bd510759",
   "metadata": {},
   "outputs": [
    {
     "ename": "KeyError",
     "evalue": "'Katarina'",
     "output_type": "error",
     "traceback": [
      "\u001b[0;31m---------------------------------------------------------------------------\u001b[0m",
      "\u001b[0;31mKeyError\u001b[0m                                  Traceback (most recent call last)",
      "Cell \u001b[0;32mIn[125], line 1\u001b[0m\n\u001b[0;32m----> 1\u001b[0m \u001b[43mimenik\u001b[49m\u001b[43m[\u001b[49m\u001b[38;5;124;43m'\u001b[39;49m\u001b[38;5;124;43mKatarina\u001b[39;49m\u001b[38;5;124;43m'\u001b[39;49m\u001b[43m]\u001b[49m\n",
      "\u001b[0;31mKeyError\u001b[0m: 'Katarina'"
     ]
    }
   ],
   "source": [
    "imenik['Katarina']"
   ]
  },
  {
   "cell_type": "code",
   "execution_count": 127,
   "id": "d9c04cd0-f41f-4570-8d94-d1ae9c03a646",
   "metadata": {},
   "outputs": [
    {
     "data": {
      "text/plain": [
       "''"
      ]
     },
     "execution_count": 127,
     "metadata": {},
     "output_type": "execute_result"
    }
   ],
   "source": [
    "imenik.get('Katarina', '')"
   ]
  },
  {
   "cell_type": "code",
   "execution_count": 137,
   "id": "7f6d4fe1-4f2e-4465-a9a8-2448765e0787",
   "metadata": {},
   "outputs": [
    {
     "data": {
      "text/plain": [
       "[0, 1, 2, 3, 4, 5, 6, 7, 8, 9]"
      ]
     },
     "execution_count": 137,
     "metadata": {},
     "output_type": "execute_result"
    }
   ],
   "source": [
    "list(range(0, 10))"
   ]
  },
  {
   "cell_type": "code",
   "execution_count": 138,
   "id": "ec40cf76-83d7-46f7-8ffb-014790593ce2",
   "metadata": {},
   "outputs": [
    {
     "data": {
      "text/plain": [
       "[0, 1, 2, 3, 4, 5, 6, 7, 8, 9]"
      ]
     },
     "execution_count": 138,
     "metadata": {},
     "output_type": "execute_result"
    }
   ],
   "source": [
    "list(range(0, 10, 1))"
   ]
  },
  {
   "cell_type": "code",
   "execution_count": 139,
   "id": "c8cac916-56d6-457c-a97c-ef02d5cc7260",
   "metadata": {},
   "outputs": [
    {
     "data": {
      "text/plain": [
       "[0, 2, 4, 6, 8]"
      ]
     },
     "execution_count": 139,
     "metadata": {},
     "output_type": "execute_result"
    }
   ],
   "source": [
    "list(range(0, 10, 2))"
   ]
  },
  {
   "cell_type": "code",
   "execution_count": 140,
   "id": "4e17166b-7633-4ab4-bfad-0fcb34ed4c25",
   "metadata": {},
   "outputs": [
    {
     "data": {
      "text/plain": [
       "[0, 3, 6, 9]"
      ]
     },
     "execution_count": 140,
     "metadata": {},
     "output_type": "execute_result"
    }
   ],
   "source": [
    "list(range(0, 10, 3))"
   ]
  },
  {
   "cell_type": "code",
   "execution_count": 141,
   "id": "df86f809-a3fa-4ec8-b92e-bfbcdb26c029",
   "metadata": {},
   "outputs": [
    {
     "data": {
      "text/plain": [
       "[0, 4, 8]"
      ]
     },
     "execution_count": 141,
     "metadata": {},
     "output_type": "execute_result"
    }
   ],
   "source": [
    "list(range(0, 10, 4))"
   ]
  },
  {
   "cell_type": "code",
   "execution_count": null,
   "id": "c5d36fa8-65d1-4bfe-9518-a581e1ff1f3d",
   "metadata": {},
   "outputs": [],
   "source": []
  }
 ],
 "metadata": {
  "kernelspec": {
   "display_name": "Python 3 (ipykernel)",
   "language": "python",
   "name": "python3"
  },
  "language_info": {
   "codemirror_mode": {
    "name": "ipython",
    "version": 3
   },
   "file_extension": ".py",
   "mimetype": "text/x-python",
   "name": "python",
   "nbconvert_exporter": "python",
   "pygments_lexer": "ipython3",
   "version": "3.11.6"
  }
 },
 "nbformat": 4,
 "nbformat_minor": 5
}
