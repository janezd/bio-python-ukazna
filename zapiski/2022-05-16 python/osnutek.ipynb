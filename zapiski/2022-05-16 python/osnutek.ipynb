{
 "cells": [
  {
   "cell_type": "markdown",
   "id": "946f2377",
   "metadata": {},
   "source": [
    "# Ponovitev\n",
    "\n",
    "## Branje datotek"
   ]
  },
  {
   "cell_type": "markdown",
   "id": "6c95a610",
   "metadata": {},
   "source": [
    "Racunanje povprečne vrednosti"
   ]
  },
  {
   "cell_type": "code",
   "execution_count": 1,
   "id": "5f550662",
   "metadata": {},
   "outputs": [
    {
     "name": "stdout",
     "output_type": "stream",
     "text": [
      "70.5\n"
     ]
    }
   ],
   "source": [
    "f = open(\"../../datoteke/teze.txt\")\n",
    "vsota = 0\n",
    "prsti = 0\n",
    "for vrstica in f:\n",
    "    vsota = vsota + int(vrstica)\n",
    "    prsti = prsti + 1\n",
    "print(vsota / prsti)"
   ]
  },
  {
   "cell_type": "code",
   "execution_count": 2,
   "id": "2b316282",
   "metadata": {},
   "outputs": [],
   "source": [
    "izhodna_datoteka = open(\"./povprecje.txt\", \"w\", encoding=\"utf8\")"
   ]
  },
  {
   "cell_type": "code",
   "execution_count": 3,
   "id": "903dbb1f",
   "metadata": {},
   "outputs": [
    {
     "data": {
      "text/plain": [
       "5"
      ]
     },
     "execution_count": 3,
     "metadata": {},
     "output_type": "execute_result"
    }
   ],
   "source": [
    "izhodna_datoteka.write(str(vsota / prsti) + \"\\n\")"
   ]
  },
  {
   "cell_type": "code",
   "execution_count": 4,
   "id": "21d79764",
   "metadata": {},
   "outputs": [
    {
     "data": {
      "text/plain": [
       "18"
      ]
     },
     "execution_count": 4,
     "metadata": {},
     "output_type": "execute_result"
    }
   ],
   "source": [
    "izhodna_datoteka.write(\"to je povprečje\\n\\n\\n\")"
   ]
  },
  {
   "cell_type": "code",
   "execution_count": 5,
   "id": "0ce31fee",
   "metadata": {},
   "outputs": [
    {
     "data": {
      "text/plain": [
       "13"
      ]
     },
     "execution_count": 5,
     "metadata": {},
     "output_type": "execute_result"
    }
   ],
   "source": [
    "izhodna_datoteka.write(\"to je konec.\\n\")"
   ]
  },
  {
   "cell_type": "code",
   "execution_count": 6,
   "id": "a4fc656c",
   "metadata": {},
   "outputs": [],
   "source": [
    "izhodna_datoteka.close()"
   ]
  },
  {
   "cell_type": "code",
   "execution_count": 7,
   "id": "ee110826",
   "metadata": {},
   "outputs": [
    {
     "ename": "ValueError",
     "evalue": "I/O operation on closed file.",
     "output_type": "error",
     "traceback": [
      "\u001b[0;31m---------------------------------------------------------------------------\u001b[0m",
      "\u001b[0;31mValueError\u001b[0m                                Traceback (most recent call last)",
      "\u001b[0;32m<ipython-input-7-85e60acdd987>\u001b[0m in \u001b[0;36m<module>\u001b[0;34m\u001b[0m\n\u001b[0;32m----> 1\u001b[0;31m \u001b[0mizhodna_datoteka\u001b[0m\u001b[0;34m.\u001b[0m\u001b[0mwrite\u001b[0m\u001b[0;34m(\u001b[0m\u001b[0;34m\"še tole sem pozabil dodati\"\u001b[0m\u001b[0;34m)\u001b[0m\u001b[0;34m\u001b[0m\u001b[0;34m\u001b[0m\u001b[0m\n\u001b[0m",
      "\u001b[0;31mValueError\u001b[0m: I/O operation on closed file."
     ]
    }
   ],
   "source": [
    "izhodna_datoteka.write(\"še tole sem pozabil dodati\")"
   ]
  },
  {
   "cell_type": "markdown",
   "id": "b0b65b3d",
   "metadata": {},
   "source": [
    "### Računanje BMI\n",
    "Beri iz datoteke osebe in podatke BMI shrani v novo datoteko `bmi.txt`."
   ]
  },
  {
   "cell_type": "code",
   "execution_count": 8,
   "id": "5be68107",
   "metadata": {},
   "outputs": [
    {
     "name": "stdout",
     "output_type": "stream",
     "text": [
      "Ana                    24.91\n",
      "Berta                  25.11\n",
      "Cilka                  25.71\n",
      "Dani                   25.31\n",
      "Eva                    22.22\n",
      "Fanči                  23.51\n"
     ]
    }
   ],
   "source": [
    "f = open(\"bmi.txt\", \"w\")\n",
    "\n",
    "g = open(\"../../datoteke/osebe.txt\", encoding=\"utf8\")\n",
    "for vrstica in g:\n",
    "    ime, teza, visina = vrstica.split(\" \")\n",
    "    bmi = int(teza) / float(visina) ** 2\n",
    "    \n",
    "    #f.write(ime + \" \" + str(bmi) + \"\\n\")\n",
    "    print(f\"{ime:20}{bmi:8.2f}\")\n",
    "    f.write(f\"{ime:20}{bmi:8.2f}\\n\")\n",
    "    \n",
    "f.close()"
   ]
  },
  {
   "cell_type": "markdown",
   "id": "5a953695",
   "metadata": {},
   "source": [
    "## Delo z nizi"
   ]
  },
  {
   "cell_type": "code",
   "execution_count": 9,
   "id": "a9957817",
   "metadata": {},
   "outputs": [],
   "source": [
    "s = \"Ana 72 1.70\""
   ]
  },
  {
   "cell_type": "code",
   "execution_count": 10,
   "id": "5b2d1e26",
   "metadata": {},
   "outputs": [
    {
     "data": {
      "text/plain": [
       "2"
      ]
     },
     "execution_count": 10,
     "metadata": {},
     "output_type": "execute_result"
    }
   ],
   "source": [
    "s.count(\" \")"
   ]
  },
  {
   "cell_type": "code",
   "execution_count": 11,
   "id": "4ce90f64",
   "metadata": {},
   "outputs": [],
   "source": [
    "sequence = \"ACGATCAGCACGGGACAGCGACGGGGGCAGCAGGGTGCACG\""
   ]
  },
  {
   "cell_type": "code",
   "execution_count": 12,
   "id": "a652e8ad",
   "metadata": {},
   "outputs": [
    {
     "data": {
      "text/plain": [
       "10"
      ]
     },
     "execution_count": 12,
     "metadata": {},
     "output_type": "execute_result"
    }
   ],
   "source": [
    "sequence.count(\"A\")"
   ]
  },
  {
   "cell_type": "code",
   "execution_count": 13,
   "id": "a3a99ddb",
   "metadata": {},
   "outputs": [
    {
     "data": {
      "text/plain": [
       "4"
      ]
     },
     "execution_count": 13,
     "metadata": {},
     "output_type": "execute_result"
    }
   ],
   "source": [
    "sequence.count(\"ACG\")"
   ]
  },
  {
   "cell_type": "code",
   "execution_count": 14,
   "id": "8d2485f2",
   "metadata": {},
   "outputs": [
    {
     "data": {
      "text/plain": [
       "'acgatcagcacgggacagcgacgggggcagcagggtgcacg'"
      ]
     },
     "execution_count": 14,
     "metadata": {},
     "output_type": "execute_result"
    }
   ],
   "source": [
    "sequence.lower()"
   ]
  },
  {
   "cell_type": "code",
   "execution_count": 15,
   "id": "f3f54f18",
   "metadata": {},
   "outputs": [
    {
     "data": {
      "text/plain": [
       "'ACGAΨCAGCACGGGACAGCGACGGGGGCAGCAGGGΨGCACG'"
      ]
     },
     "execution_count": 15,
     "metadata": {},
     "output_type": "execute_result"
    }
   ],
   "source": [
    "sequence.replace(\"T\", \"Ψ\")"
   ]
  },
  {
   "cell_type": "code",
   "execution_count": 16,
   "id": "797b8148",
   "metadata": {},
   "outputs": [
    {
     "data": {
      "text/plain": [
       "'ACGATCAGCACGGGACAGCGACGGGGGCAGCAGGGTGCACG'"
      ]
     },
     "execution_count": 16,
     "metadata": {},
     "output_type": "execute_result"
    }
   ],
   "source": [
    "sequence"
   ]
  },
  {
   "cell_type": "code",
   "execution_count": 17,
   "id": "de267e4f",
   "metadata": {},
   "outputs": [
    {
     "data": {
      "text/plain": [
       "'asgfa a  iji'"
      ]
     },
     "execution_count": 17,
     "metadata": {},
     "output_type": "execute_result"
    }
   ],
   "source": [
    "\"    asgfa a  iji    \".strip()"
   ]
  },
  {
   "cell_type": "markdown",
   "id": "c53e80d3",
   "metadata": {},
   "source": [
    "## Seznami\n"
   ]
  },
  {
   "cell_type": "code",
   "execution_count": 18,
   "id": "324eb3bc",
   "metadata": {},
   "outputs": [],
   "source": [
    "imena = [\"Ana\", \"Berta\", \"Cilka\", \"Dani\", \"Ema\", \"Fanči\"]"
   ]
  },
  {
   "cell_type": "code",
   "execution_count": 19,
   "id": "06940378",
   "metadata": {},
   "outputs": [
    {
     "name": "stdout",
     "output_type": "stream",
     "text": [
      "Cilka\n"
     ]
    }
   ],
   "source": [
    "drugi = imena[2]\n",
    "print(drugi)"
   ]
  },
  {
   "cell_type": "code",
   "execution_count": 20,
   "id": "3e40a21a",
   "metadata": {},
   "outputs": [
    {
     "data": {
      "text/plain": [
       "6"
      ]
     },
     "execution_count": 20,
     "metadata": {},
     "output_type": "execute_result"
    }
   ],
   "source": [
    "len(imena)"
   ]
  },
  {
   "cell_type": "code",
   "execution_count": 21,
   "id": "ed3b6a9b",
   "metadata": {},
   "outputs": [
    {
     "data": {
      "text/plain": [
       "'Ana'"
      ]
     },
     "execution_count": 21,
     "metadata": {},
     "output_type": "execute_result"
    }
   ],
   "source": [
    "imena[0]"
   ]
  },
  {
   "cell_type": "code",
   "execution_count": 22,
   "id": "1709ba31",
   "metadata": {},
   "outputs": [
    {
     "data": {
      "text/plain": [
       "'Fanči'"
      ]
     },
     "execution_count": 22,
     "metadata": {},
     "output_type": "execute_result"
    }
   ],
   "source": [
    "imena[-1]"
   ]
  },
  {
   "cell_type": "code",
   "execution_count": 23,
   "id": "5e5fc622",
   "metadata": {},
   "outputs": [
    {
     "data": {
      "text/plain": [
       "['Cilka', 'Dani', 'Ema']"
      ]
     },
     "execution_count": 23,
     "metadata": {},
     "output_type": "execute_result"
    }
   ],
   "source": [
    "imena[2:5]"
   ]
  },
  {
   "cell_type": "code",
   "execution_count": 24,
   "id": "6610e64a",
   "metadata": {},
   "outputs": [
    {
     "data": {
      "text/plain": [
       "['Ana', 'Berta', 'Cilka', 'Dani']"
      ]
     },
     "execution_count": 24,
     "metadata": {},
     "output_type": "execute_result"
    }
   ],
   "source": [
    "imena[:-2]"
   ]
  },
  {
   "cell_type": "code",
   "execution_count": 25,
   "id": "1b647d43",
   "metadata": {},
   "outputs": [],
   "source": [
    "teze = [56, 76, 80, 67, 60]"
   ]
  },
  {
   "cell_type": "code",
   "execution_count": 26,
   "id": "8bf6058b",
   "metadata": {},
   "outputs": [
    {
     "name": "stdout",
     "output_type": "stream",
     "text": [
      "67.8\n"
     ]
    }
   ],
   "source": [
    "vsota = 0\n",
    "for teza in teze:\n",
    "    vsota = vsota + teza\n",
    "print(vsota / len(teze))"
   ]
  },
  {
   "cell_type": "code",
   "execution_count": 27,
   "id": "842de369",
   "metadata": {},
   "outputs": [],
   "source": [
    "teze.sort()"
   ]
  },
  {
   "cell_type": "code",
   "execution_count": 28,
   "id": "c31d7846",
   "metadata": {},
   "outputs": [
    {
     "data": {
      "text/plain": [
       "[56, 60, 67, 76, 80]"
      ]
     },
     "execution_count": 28,
     "metadata": {},
     "output_type": "execute_result"
    }
   ],
   "source": [
    "teze"
   ]
  },
  {
   "cell_type": "code",
   "execution_count": 29,
   "id": "69c81f5b",
   "metadata": {},
   "outputs": [],
   "source": [
    "teze.append(92)"
   ]
  },
  {
   "cell_type": "code",
   "execution_count": 30,
   "id": "f4d00d2d",
   "metadata": {},
   "outputs": [
    {
     "data": {
      "text/plain": [
       "[56, 60, 67, 76, 80, 92]"
      ]
     },
     "execution_count": 30,
     "metadata": {},
     "output_type": "execute_result"
    }
   ],
   "source": [
    "teze"
   ]
  },
  {
   "cell_type": "code",
   "execution_count": 31,
   "id": "c8460515",
   "metadata": {},
   "outputs": [
    {
     "data": {
      "text/plain": [
       "92"
      ]
     },
     "execution_count": 31,
     "metadata": {},
     "output_type": "execute_result"
    }
   ],
   "source": [
    "max(teze)"
   ]
  },
  {
   "cell_type": "code",
   "execution_count": 32,
   "id": "998b8492",
   "metadata": {},
   "outputs": [
    {
     "data": {
      "text/plain": [
       "56"
      ]
     },
     "execution_count": 32,
     "metadata": {},
     "output_type": "execute_result"
    }
   ],
   "source": [
    "min(teze)"
   ]
  },
  {
   "cell_type": "markdown",
   "id": "73500001",
   "metadata": {},
   "source": [
    "### branje sekvenc DNA"
   ]
  },
  {
   "cell_type": "code",
   "execution_count": 33,
   "id": "f1f81a7a",
   "metadata": {},
   "outputs": [
    {
     "name": "stdout",
     "output_type": "stream",
     "text": [
      "ASDF13\n",
      "gcaactgttggacggctacagtgacggttggtagaactgagtcggtttaaggactcacacatcgcgggtctgcaaagtgtaatctacaagggagcccgag\n",
      "SDFG14\n",
      "cgaagggcaatcggaagttgaggttcgtcatattaagtttggggaacgccgacatctaaatcttttaggtgataaatgcctaaatcagattcaatgtatt\n",
      "DFGH15\n",
      "cgacctcgtaaaatgacaaacactgtcgtggagcagtattcggtcatgccgcccgagccctaccaatcgagttcaactatcgctaactcgcgatgagcct\n",
      "FGHJ16\n",
      "tcgcgggtagcccacagccgggcctgattacagaggggtgaattcgatgcttgatgcggattcctggtaagctccgccgtgcgaccgacaactctcgact\n",
      "GHJK17\n",
      "tggtgatgtggtacatctttgaaaggctcaccgtgaacaaaagtgtattacaatcaacgagccccagggactgatccctcaacaagggcacccaagaagt\n",
      "HJKL18\n",
      "tacagacactatcgctcccgtagctggaggatttcacatgatctaagcaaagccgtagtgggagttcctatggcaataagcgaccttctataaccgagag\n",
      "ZXCV19\n",
      "tcatgcatgttaggttacatctaggctatgcctgtcccagtcagcaggtgggcctagattaagaaatgcccggttaggcaacacaacaccggtgtccttt\n",
      "XCVB20\n",
      "cgctacgtatgtccctaatcaagggctcatggtgctagccagggtcggggctagtttttaaggtatttctgcccccaacaaggagccagataggcccctt\n",
      "CVBN21\n",
      "acttggccactttactcctgcaatctttagtcctggggggagtttaaaatcattccagctgggatgggtctctatcctctccctgtaataacaacaaacg\n",
      "VBNM22\n",
      "tggtctttaagattaactgctcattaggatctgtctccaaacactgttaccgccggcaatcacaggagaatcagtcacctaagttgcgtaggccatatcc\n"
     ]
    }
   ],
   "source": [
    "for vrstica in open(\"../../datoteke/qwerty-dna.txt\"):\n",
    "    gen, sekvenca = vrstica.split()\n",
    "    print(gen)\n",
    "    print(sekvenca)"
   ]
  },
  {
   "cell_type": "markdown",
   "id": "d46268ff",
   "metadata": {},
   "source": [
    "# Danes"
   ]
  },
  {
   "cell_type": "markdown",
   "id": "70cf8fd9",
   "metadata": {},
   "source": [
    "## Vaja: poišči največjo maso\n",
    "\n",
    "\n",
    "Pomagate si lahko s to psevdokodo:\n",
    "```\n",
    "for each line in the file:\n",
    "    if the number in this line is greater than the biggest so far:\n",
    "        the biggest so far is the number in this line\n",
    "        \n",
    "print the biggest so far\n",
    "```"
   ]
  },
  {
   "cell_type": "code",
   "execution_count": 34,
   "id": "a2dd88b8",
   "metadata": {},
   "outputs": [
    {
     "name": "stdout",
     "output_type": "stream",
     "text": [
      "85.0\n"
     ]
    }
   ],
   "source": [
    "m = 0\n",
    "for line in open(\"../../datoteke/teze.txt\"):\n",
    "    if float(line) > m:\n",
    "        m = float(line)\n",
    "print(m)"
   ]
  },
  {
   "cell_type": "markdown",
   "id": "91d68b82",
   "metadata": {},
   "source": [
    "### alternativa, vse preberi v seznam in potem poišči največji element"
   ]
  },
  {
   "cell_type": "code",
   "execution_count": 35,
   "id": "a48c61c0",
   "metadata": {},
   "outputs": [
    {
     "name": "stdout",
     "output_type": "stream",
     "text": [
      "85.0\n"
     ]
    }
   ],
   "source": [
    "mase = []\n",
    "for line in open(\"../../datoteke/teze.txt\"):\n",
    "    mase.append(float(line))\n",
    "print(max(mase))"
   ]
  },
  {
   "cell_type": "markdown",
   "id": "851dbe91",
   "metadata": {},
   "source": [
    "## Še ena vaja:\n",
    "\n",
    "Zadnjič smo izpisali tri gene, ki imajo največ ponovitev `A':"
   ]
  },
  {
   "cell_type": "code",
   "execution_count": 36,
   "id": "d8b0bf15",
   "metadata": {},
   "outputs": [
    {
     "name": "stdout",
     "output_type": "stream",
     "text": [
      "[(32, 'GHJK17'), (31, 'SDFG14'), (29, 'HJKL18')]\n",
      "3\n",
      "GHJK17 32\n",
      "SDFG14 31\n",
      "HJKL18 29\n"
     ]
    }
   ],
   "source": [
    "geni = []\n",
    "\n",
    "for vrstica in open(\"../../datoteke/qwerty-dna.txt\"):\n",
    "    gen, sekvenca = vrstica.split()\n",
    "    geni.append((sekvenca.count(\"a\"), gen))\n",
    "\n",
    "geni.sort(reverse=True)\n",
    "geni = geni[:3]\n",
    "print(geni)\n",
    "print(len(geni))\n",
    "for par in geni:\n",
    "    pojavitve, gen = par\n",
    "    print(gen, pojavitve)"
   ]
  },
  {
   "cell_type": "markdown",
   "id": "2a95c50e",
   "metadata": {},
   "source": [
    "Napišite program, ki bo izpisal samo tisti gen, z največ `A` ne da bi si zapomnil vse dolžine."
   ]
  },
  {
   "cell_type": "code",
   "execution_count": 37,
   "id": "379a1650",
   "metadata": {},
   "outputs": [
    {
     "name": "stdout",
     "output_type": "stream",
     "text": [
      "ASDF13 26\n",
      "SDFG14 31\n",
      "DFGH15 26\n",
      "FGHJ16 19\n",
      "GHJK17 32\n",
      "HJKL18 29\n",
      "ZXCV19 24\n",
      "XCVB20 21\n",
      "CVBN21 24\n",
      "VBNM22 27\n",
      "---------\n",
      "GHJK17 32\n"
     ]
    }
   ],
   "source": [
    "max_as = 0\n",
    "max_name = \"\"\n",
    "for line in open(\"../../datoteke/qwerty-dna.txt\"):\n",
    "    name, sequence = line.split()\n",
    "    seq_a = sequence.count(\"a\")\n",
    "    print(name, seq_a)\n",
    "    if seq_a > max_as:\n",
    "        max_as = seq_a\n",
    "        max_name = name\n",
    "        \n",
    "print(\"-\" * 9)        \n",
    "print(max_name, max_as)"
   ]
  },
  {
   "cell_type": "markdown",
   "id": "da16e769",
   "metadata": {},
   "source": [
    "## Slovar"
   ]
  },
  {
   "cell_type": "code",
   "execution_count": 38,
   "id": "3190db97",
   "metadata": {},
   "outputs": [],
   "source": [
    "teze = {'Ana': 72, 'Berta': 85, 'Eva': 50}"
   ]
  },
  {
   "cell_type": "code",
   "execution_count": 39,
   "id": "65a8b611",
   "metadata": {},
   "outputs": [
    {
     "data": {
      "text/plain": [
       "72"
      ]
     },
     "execution_count": 39,
     "metadata": {},
     "output_type": "execute_result"
    }
   ],
   "source": [
    "teze['Ana']"
   ]
  },
  {
   "cell_type": "code",
   "execution_count": 40,
   "id": "2b7fa2d9",
   "metadata": {},
   "outputs": [
    {
     "data": {
      "text/plain": [
       "50"
      ]
     },
     "execution_count": 40,
     "metadata": {},
     "output_type": "execute_result"
    }
   ],
   "source": [
    "teze['Eva']"
   ]
  },
  {
   "cell_type": "code",
   "execution_count": 41,
   "id": "a294c9ba",
   "metadata": {},
   "outputs": [
    {
     "ename": "KeyError",
     "evalue": "'Martin'",
     "output_type": "error",
     "traceback": [
      "\u001b[0;31m---------------------------------------------------------------------------\u001b[0m",
      "\u001b[0;31mKeyError\u001b[0m                                  Traceback (most recent call last)",
      "\u001b[0;32m<ipython-input-41-dad95dc2d519>\u001b[0m in \u001b[0;36m<module>\u001b[0;34m\u001b[0m\n\u001b[0;32m----> 1\u001b[0;31m \u001b[0mteze\u001b[0m\u001b[0;34m[\u001b[0m\u001b[0;34m'Martin'\u001b[0m\u001b[0;34m]\u001b[0m\u001b[0;34m\u001b[0m\u001b[0;34m\u001b[0m\u001b[0m\n\u001b[0m",
      "\u001b[0;31mKeyError\u001b[0m: 'Martin'"
     ]
    }
   ],
   "source": [
    "teze['Martin']"
   ]
  },
  {
   "cell_type": "markdown",
   "id": "41d01a0a",
   "metadata": {},
   "source": [
    "Določimo lahko vrednost, ki naj se uporabi v primeru, da ključ ne obstaja."
   ]
  },
  {
   "cell_type": "code",
   "execution_count": 42,
   "id": "725fff0d",
   "metadata": {},
   "outputs": [
    {
     "data": {
      "text/plain": [
       "0"
      ]
     },
     "execution_count": 42,
     "metadata": {},
     "output_type": "execute_result"
    }
   ],
   "source": [
    "teze.get('Martin', 0)"
   ]
  },
  {
   "cell_type": "markdown",
   "id": "83bc2418",
   "metadata": {},
   "source": [
    "### dodajanje elementov"
   ]
  },
  {
   "cell_type": "code",
   "execution_count": 43,
   "id": "1ecbbeb7",
   "metadata": {},
   "outputs": [],
   "source": [
    "teze['Cilka'] = 70"
   ]
  },
  {
   "cell_type": "code",
   "execution_count": 44,
   "id": "35cd6109",
   "metadata": {},
   "outputs": [
    {
     "data": {
      "text/plain": [
       "{'Ana': 72, 'Berta': 85, 'Eva': 50, 'Cilka': 70}"
      ]
     },
     "execution_count": 44,
     "metadata": {},
     "output_type": "execute_result"
    }
   ],
   "source": [
    "teze"
   ]
  },
  {
   "cell_type": "code",
   "execution_count": 45,
   "id": "054e908c",
   "metadata": {},
   "outputs": [],
   "source": [
    "teze['Fanči'] = 64"
   ]
  },
  {
   "cell_type": "code",
   "execution_count": 46,
   "id": "ddb4e303",
   "metadata": {},
   "outputs": [
    {
     "data": {
      "text/plain": [
       "{'Ana': 72, 'Berta': 85, 'Eva': 50, 'Cilka': 70, 'Fanči': 64}"
      ]
     },
     "execution_count": 46,
     "metadata": {},
     "output_type": "execute_result"
    }
   ],
   "source": [
    "teze"
   ]
  },
  {
   "cell_type": "markdown",
   "id": "a6bfa0a8",
   "metadata": {},
   "source": [
    "### odstranjevanje"
   ]
  },
  {
   "cell_type": "code",
   "execution_count": 47,
   "id": "2007a7a1",
   "metadata": {},
   "outputs": [],
   "source": [
    "del teze['Ana']"
   ]
  },
  {
   "cell_type": "code",
   "execution_count": 48,
   "id": "e3e5df47",
   "metadata": {},
   "outputs": [
    {
     "data": {
      "text/plain": [
       "{'Berta': 85, 'Eva': 50, 'Cilka': 70, 'Fanči': 64}"
      ]
     },
     "execution_count": 48,
     "metadata": {},
     "output_type": "execute_result"
    }
   ],
   "source": [
    "teze"
   ]
  },
  {
   "cell_type": "code",
   "execution_count": 49,
   "id": "7d581259",
   "metadata": {},
   "outputs": [
    {
     "ename": "KeyError",
     "evalue": "'Ana'",
     "output_type": "error",
     "traceback": [
      "\u001b[0;31m---------------------------------------------------------------------------\u001b[0m",
      "\u001b[0;31mKeyError\u001b[0m                                  Traceback (most recent call last)",
      "\u001b[0;32m<ipython-input-49-61cd90e9374f>\u001b[0m in \u001b[0;36m<module>\u001b[0;34m\u001b[0m\n\u001b[0;32m----> 1\u001b[0;31m \u001b[0;32mdel\u001b[0m \u001b[0mteze\u001b[0m\u001b[0;34m[\u001b[0m\u001b[0;34m'Ana'\u001b[0m\u001b[0;34m]\u001b[0m\u001b[0;34m\u001b[0m\u001b[0;34m\u001b[0m\u001b[0m\n\u001b[0m",
      "\u001b[0;31mKeyError\u001b[0m: 'Ana'"
     ]
    }
   ],
   "source": [
    "del teze['Ana']"
   ]
  },
  {
   "cell_type": "code",
   "execution_count": 50,
   "id": "05408e2b",
   "metadata": {},
   "outputs": [
    {
     "data": {
      "text/plain": [
       "{'Berta': 85, 'Eva': 50, 'Cilka': 70, 'Fanči': 64}"
      ]
     },
     "execution_count": 50,
     "metadata": {},
     "output_type": "execute_result"
    }
   ],
   "source": [
    "teze"
   ]
  },
  {
   "cell_type": "markdown",
   "id": "394b7ea5",
   "metadata": {},
   "source": [
    "### dostopanje do vseh elementov"
   ]
  },
  {
   "cell_type": "code",
   "execution_count": 51,
   "id": "b46a9074",
   "metadata": {},
   "outputs": [
    {
     "data": {
      "text/plain": [
       "dict_items([('Berta', 85), ('Eva', 50), ('Cilka', 70), ('Fanči', 64)])"
      ]
     },
     "execution_count": 51,
     "metadata": {},
     "output_type": "execute_result"
    }
   ],
   "source": [
    "teze.items()"
   ]
  },
  {
   "cell_type": "code",
   "execution_count": 52,
   "id": "bf8f313f",
   "metadata": {},
   "outputs": [
    {
     "name": "stdout",
     "output_type": "stream",
     "text": [
      "Berta 85\n",
      "Eva 50\n",
      "Cilka 70\n",
      "Fanči 64\n"
     ]
    }
   ],
   "source": [
    "for ime, teza in teze.items():\n",
    "    print(ime, teza)"
   ]
  },
  {
   "cell_type": "markdown",
   "id": "69e4f284",
   "metadata": {},
   "source": [
    "### samo ključi"
   ]
  },
  {
   "cell_type": "code",
   "execution_count": 53,
   "id": "f19744d9",
   "metadata": {},
   "outputs": [
    {
     "data": {
      "text/plain": [
       "dict_keys(['Berta', 'Eva', 'Cilka', 'Fanči'])"
      ]
     },
     "execution_count": 53,
     "metadata": {},
     "output_type": "execute_result"
    }
   ],
   "source": [
    "teze.keys()"
   ]
  },
  {
   "cell_type": "markdown",
   "id": "32934dc3",
   "metadata": {},
   "source": [
    "### samo vrednosti"
   ]
  },
  {
   "cell_type": "code",
   "execution_count": 54,
   "id": "36dfc065",
   "metadata": {},
   "outputs": [
    {
     "data": {
      "text/plain": [
       "dict_values([85, 50, 70, 64])"
      ]
     },
     "execution_count": 54,
     "metadata": {},
     "output_type": "execute_result"
    }
   ],
   "source": [
    "teze.values()"
   ]
  },
  {
   "cell_type": "markdown",
   "id": "209eb81a",
   "metadata": {},
   "source": [
    "### Slovar lahko vsebuje tudi sezname.\n",
    "\n",
    "Recimo, seznam zgodovine spreminjanja telesne mase. Zgodovine so različno dolge."
   ]
  },
  {
   "cell_type": "code",
   "execution_count": 55,
   "id": "e23d8ed7",
   "metadata": {},
   "outputs": [],
   "source": [
    "teze_zgodovina = {'Ana': [70, 71, 72], 'Berta': [90, 85], 'Cilka': [77,  75, 72, 70], 'Eva': [50, 48, 50]}"
   ]
  },
  {
   "cell_type": "code",
   "execution_count": 56,
   "id": "27bf78b3",
   "metadata": {},
   "outputs": [
    {
     "data": {
      "text/plain": [
       "{'Ana': [70, 71, 72],\n",
       " 'Berta': [90, 85],\n",
       " 'Cilka': [77, 75, 72, 70],\n",
       " 'Eva': [50, 48, 50]}"
      ]
     },
     "execution_count": 56,
     "metadata": {},
     "output_type": "execute_result"
    }
   ],
   "source": [
    "teze_zgodovina"
   ]
  },
  {
   "cell_type": "markdown",
   "id": "614bc29c",
   "metadata": {},
   "source": [
    "## Vaja: napiši, kdo je shujšal, kdo pa se je zredil"
   ]
  },
  {
   "cell_type": "code",
   "execution_count": 57,
   "id": "d164b02e",
   "metadata": {},
   "outputs": [
    {
     "name": "stdout",
     "output_type": "stream",
     "text": [
      "Ana se je zredil(a) iz 70 na 72\n",
      "Berta je hujšal(a) iz 90 na 85\n",
      "Cilka je hujšal(a) iz 77 na 70\n",
      "Eva ostaja enake mase\n"
     ]
    }
   ],
   "source": [
    "for ime, teze in teze_zgodovina.items():\n",
    "    if teze[0] > teze[-1]:\n",
    "        print(f\"{ime} je hujšal(a) iz {teze[0]} na {teze[-1]}\")\n",
    "    elif teze[0] < teze[-1]:\n",
    "        print(f\"{ime} se je zredil(a) iz {teze[0]} na {teze[-1]}\")\n",
    "    else:\n",
    "        print(f\"{ime} ostaja enake mase\")"
   ]
  },
  {
   "cell_type": "markdown",
   "id": "13bda5d9",
   "metadata": {},
   "source": [
    "## Vaja: napiši program, ki izpiše vse telefonske posamezne osebe\n",
    "\n",
    "Telefonske so zapisane v `datoteke/telefonske.txt`."
   ]
  },
  {
   "cell_type": "code",
   "execution_count": 58,
   "id": "5aac9bf9",
   "metadata": {},
   "outputs": [
    {
     "data": {
      "text/plain": [
       "{'Ana': ['0409381326', '0413339231'],\n",
       " 'Berta': ['0412399483'],\n",
       " 'Cilka': ['0312791485', '0417721128', '0407721128'],\n",
       " 'Dani': ['23013905'],\n",
       " 'Luka': ['0312921789']}"
      ]
     },
     "execution_count": 58,
     "metadata": {},
     "output_type": "execute_result"
    }
   ],
   "source": [
    "imenik = {}\n",
    "for line in open(\"../../datoteke/telefonske.txt\"):\n",
    "    ime, telefonska = line.split()\n",
    "    imenik.setdefault(ime, []).append(telefonska)\n",
    "imenik"
   ]
  },
  {
   "cell_type": "markdown",
   "id": "f362c66b",
   "metadata": {},
   "source": [
    "## Vaja: napiši program, ki izpiše število telefonskih, ki jih ima posamezna oseba"
   ]
  },
  {
   "cell_type": "code",
   "execution_count": 59,
   "id": "33237329",
   "metadata": {},
   "outputs": [
    {
     "name": "stdout",
     "output_type": "stream",
     "text": [
      "Ana ima 2 telefonsko(ih) številk(o)\n",
      "Berta ima 1 telefonsko(ih) številk(o)\n",
      "Cilka ima 3 telefonsko(ih) številk(o)\n",
      "Dani ima 1 telefonsko(ih) številk(o)\n",
      "Luka ima 1 telefonsko(ih) številk(o)\n"
     ]
    }
   ],
   "source": [
    "imenik = {}\n",
    "for line in open(\"../../datoteke/telefonske.txt\"):\n",
    "    ime, telefonska = line.split()\n",
    "    imenik.setdefault(ime, []).append(telefonska)\n",
    "\n",
    "for ime, telefonske in imenik.items():\n",
    "    print(f\"{ime} ima {len(telefonske)} telefonsko(ih) številk(o)\")"
   ]
  },
  {
   "cell_type": "markdown",
   "id": "afe0110e",
   "metadata": {},
   "source": [
    "## branje terk v slovar\n"
   ]
  },
  {
   "cell_type": "code",
   "execution_count": 60,
   "id": "8cfc07f0",
   "metadata": {},
   "outputs": [],
   "source": [
    "seq = \"ACGATCAGCACGGGACAGCGACGGGGGCAGCAGGGTGCACG\""
   ]
  },
  {
   "cell_type": "code",
   "execution_count": 61,
   "id": "e28978b8",
   "metadata": {},
   "outputs": [
    {
     "name": "stdout",
     "output_type": "stream",
     "text": [
      "{'A': 10, 'C': 11, 'G': 18, 'T': 2}\n"
     ]
    }
   ],
   "source": [
    "frek = {}\n",
    "for c in seq:\n",
    "    frek[c] = frek.get(c, 0) + 1\n",
    "print(frek)"
   ]
  },
  {
   "cell_type": "markdown",
   "id": "0202444a",
   "metadata": {},
   "source": [
    "## definiranje funkcij"
   ]
  },
  {
   "cell_type": "code",
   "execution_count": 62,
   "id": "b63a5f8e",
   "metadata": {},
   "outputs": [],
   "source": [
    "def prestej(s):\n",
    "    frek = {}\n",
    "    for c in s:\n",
    "        frek[c] = frek.get(c, 0) + 1\n",
    "    return frek"
   ]
  },
  {
   "cell_type": "code",
   "execution_count": 63,
   "id": "f5e3b240",
   "metadata": {},
   "outputs": [
    {
     "data": {
      "text/plain": [
       "{'A': 5, 'C': 5, 'G': 5, 'T': 1}"
      ]
     },
     "execution_count": 63,
     "metadata": {},
     "output_type": "execute_result"
    }
   ],
   "source": [
    "prestej(\"ACGATCAGCACGGGAC\")"
   ]
  },
  {
   "cell_type": "code",
   "execution_count": 64,
   "id": "8aae4298",
   "metadata": {},
   "outputs": [
    {
     "data": {
      "text/plain": [
       "{'J': 1,\n",
       " 'a': 2,\n",
       " 'n': 2,\n",
       " 'k': 2,\n",
       " 'o': 1,\n",
       " ' ': 2,\n",
       " 'i': 1,\n",
       " 'M': 1,\n",
       " 'e': 1,\n",
       " 't': 1}"
      ]
     },
     "execution_count": 64,
     "metadata": {},
     "output_type": "execute_result"
    }
   ],
   "source": [
    "prestej(\"Janko in Metka\")"
   ]
  },
  {
   "cell_type": "markdown",
   "id": "b6767b62",
   "metadata": {},
   "source": [
    "### spremenljivke so lokalne"
   ]
  },
  {
   "cell_type": "code",
   "execution_count": 65,
   "id": "63f7eaf3",
   "metadata": {},
   "outputs": [
    {
     "name": "stdout",
     "output_type": "stream",
     "text": [
      "pred klicem: 4\n",
      "med klicem: 2\n",
      "po klicu: 4\n"
     ]
    }
   ],
   "source": [
    "a=4\n",
    "\n",
    "def t(a):\n",
    "    a=2\n",
    "    print('med klicem:', a)\n",
    "\n",
    "print('pred klicem:', a)\n",
    "t(\"eee\")\n",
    "print('po klicu:', a)"
   ]
  },
  {
   "cell_type": "markdown",
   "id": "937eaf8e",
   "metadata": {},
   "source": [
    "### Štetje terk."
   ]
  },
  {
   "cell_type": "code",
   "execution_count": 66,
   "id": "10f17d26",
   "metadata": {},
   "outputs": [],
   "source": [
    "niz = \"012345678901\""
   ]
  },
  {
   "cell_type": "markdown",
   "id": "ce950ffc",
   "metadata": {},
   "source": [
    "### neprekrivajoče"
   ]
  },
  {
   "cell_type": "code",
   "execution_count": 67,
   "id": "88c56045",
   "metadata": {},
   "outputs": [
    {
     "name": "stdout",
     "output_type": "stream",
     "text": [
      "0\n",
      "3\n",
      "6\n",
      "9\n"
     ]
    }
   ],
   "source": [
    "for c in niz[::3]:\n",
    "    print(c)"
   ]
  },
  {
   "cell_type": "markdown",
   "id": "0e2f6e67",
   "metadata": {},
   "source": [
    "### prekrivajoče"
   ]
  },
  {
   "cell_type": "code",
   "execution_count": 68,
   "id": "1fc0af9c",
   "metadata": {},
   "outputs": [
    {
     "data": {
      "text/plain": [
       "{'012': 1,\n",
       " '123': 1,\n",
       " '234': 1,\n",
       " '345': 1,\n",
       " '456': 1,\n",
       " '567': 1,\n",
       " '678': 1,\n",
       " '789': 1,\n",
       " '890': 1,\n",
       " '901': 1}"
      ]
     },
     "execution_count": 68,
     "metadata": {},
     "output_type": "execute_result"
    }
   ],
   "source": [
    "i = 0\n",
    "counts = {}\n",
    "while i < len(niz)-2:\n",
    "    triplet = niz[i : i + 3]\n",
    "    if triplet not in counts:\n",
    "        counts[triplet] = 0\n",
    "    counts[triplet] += 1\n",
    "    i += 1\n",
    "counts"
   ]
  },
  {
   "cell_type": "markdown",
   "id": "70e9d35e",
   "metadata": {},
   "source": [
    "## Vaja: napiši funkcijo, ki prešteje vse prekrivajoče trojke"
   ]
  },
  {
   "cell_type": "code",
   "execution_count": 69,
   "id": "c8c4cee9",
   "metadata": {},
   "outputs": [],
   "source": [
    "def triplet_counts(seq):\n",
    "    i = 0\n",
    "    counts = {}\n",
    "    while i < len(seq)-2:\n",
    "        triplet = seq[i : i + 3]\n",
    "        if triplet not in counts:\n",
    "            counts[triplet] = 0\n",
    "        counts[triplet] += 1\n",
    "        i += 1\n",
    "    return counts"
   ]
  },
  {
   "cell_type": "code",
   "execution_count": 70,
   "id": "e2b71e9a",
   "metadata": {},
   "outputs": [
    {
     "data": {
      "text/plain": [
       "{'012': 1,\n",
       " '123': 1,\n",
       " '234': 1,\n",
       " '345': 1,\n",
       " '456': 1,\n",
       " '567': 1,\n",
       " '678': 1,\n",
       " '789': 1,\n",
       " '890': 1,\n",
       " '901': 1}"
      ]
     },
     "execution_count": 70,
     "metadata": {},
     "output_type": "execute_result"
    }
   ],
   "source": [
    "triplet_counts(niz)"
   ]
  },
  {
   "cell_type": "markdown",
   "id": "c5174295",
   "metadata": {},
   "source": [
    "### Vaja: napiši funkcijo, ki prešteje vse prekrivajoče terke poljubne dolžine"
   ]
  },
  {
   "cell_type": "code",
   "execution_count": 71,
   "id": "ebd6257d",
   "metadata": {},
   "outputs": [],
   "source": [
    "def kmer_count(seq, k):\n",
    "    i = 0\n",
    "    counts = {}\n",
    "    while i < len(seq)-(k-1):\n",
    "        triplet = seq[i : i + k]\n",
    "        if triplet not in counts:\n",
    "            counts[triplet] = 0\n",
    "        counts[triplet] += 1\n",
    "        i += 1\n",
    "    return counts"
   ]
  },
  {
   "cell_type": "code",
   "execution_count": 72,
   "id": "5257f007",
   "metadata": {},
   "outputs": [
    {
     "data": {
      "text/plain": [
       "{'01': 2,\n",
       " '12': 1,\n",
       " '23': 1,\n",
       " '34': 1,\n",
       " '45': 1,\n",
       " '56': 1,\n",
       " '67': 1,\n",
       " '78': 1,\n",
       " '89': 1,\n",
       " '90': 1}"
      ]
     },
     "execution_count": 72,
     "metadata": {},
     "output_type": "execute_result"
    }
   ],
   "source": [
    "kmer_count(niz, 2)"
   ]
  },
  {
   "cell_type": "code",
   "execution_count": 73,
   "id": "72ca7249",
   "metadata": {},
   "outputs": [
    {
     "data": {
      "text/plain": [
       "{'01234': 1,\n",
       " '12345': 1,\n",
       " '23456': 1,\n",
       " '34567': 1,\n",
       " '45678': 1,\n",
       " '56789': 1,\n",
       " '67890': 1,\n",
       " '78901': 1}"
      ]
     },
     "execution_count": 73,
     "metadata": {},
     "output_type": "execute_result"
    }
   ],
   "source": [
    "kmer_count(niz, 5)"
   ]
  },
  {
   "cell_type": "markdown",
   "id": "b0595886",
   "metadata": {},
   "source": [
    "### Vaja: napiši program, ki za dano datoteko FASTA izpiše gen z največ ponovitvami, določenega zaporedja."
   ]
  },
  {
   "cell_type": "code",
   "execution_count": 74,
   "id": "1799e288",
   "metadata": {},
   "outputs": [
    {
     "name": "stdout",
     "output_type": "stream",
     "text": [
      "Zaporedje 'agt' se pojavi največkrat (3-krat) v genu ASDF13\n"
     ]
    }
   ],
   "source": [
    "zap = \"agt\"\n",
    "\n",
    "naj_frek = 0\n",
    "naj_gen = '?'\n",
    "\n",
    "for line in open(\"../../datoteke/qwerty-dna.txt\"):\n",
    "    gen, sekvenca = line.split()\n",
    "    kmers = kmer_count(sekvenca, 3)\n",
    "    frek = kmers.get(zap, 0)\n",
    "\n",
    "    if frek > naj_frek:\n",
    "        naj_frek = frek\n",
    "        naj_gen = gen\n",
    "print(f\"Zaporedje '{zap}' se pojavi največkrat ({naj_frek}-krat) v genu {naj_gen}\")"
   ]
  },
  {
   "cell_type": "markdown",
   "id": "29289295",
   "metadata": {},
   "source": [
    "## Risanje grafov"
   ]
  },
  {
   "cell_type": "code",
   "execution_count": 75,
   "id": "247e3aec",
   "metadata": {},
   "outputs": [],
   "source": [
    "import matplotlib.pyplot as plt"
   ]
  },
  {
   "cell_type": "code",
   "execution_count": 76,
   "id": "52b63d3d",
   "metadata": {},
   "outputs": [
    {
     "data": {
      "text/plain": [
       "[<matplotlib.lines.Line2D at 0x7f767ee39bb0>]"
      ]
     },
     "execution_count": 76,
     "metadata": {},
     "output_type": "execute_result"
    },
    {
     "data": {
      "image/png": "[encoded data removed]",
      "text/plain": [
       "<Figure size 432x288 with 1 Axes>"
      ]
     },
     "metadata": {
      "needs_background": "light"
     },
     "output_type": "display_data"
    }
   ],
   "source": [
    "plt.plot([2, 3, 1, 0.5], lw=3)"
   ]
  },
  {
   "cell_type": "code",
   "execution_count": 77,
   "id": "c26b6d22",
   "metadata": {},
   "outputs": [
    {
     "data": {
      "text/plain": [
       "[<matplotlib.lines.Line2D at 0x7f7676d50760>]"
      ]
     },
     "execution_count": 77,
     "metadata": {},
     "output_type": "execute_result"
    },
    {
     "data": {
      "image/png": "[encoded data removed]",
      "text/plain": [
       "<Figure size 432x288 with 1 Axes>"
      ]
     },
     "metadata": {
      "needs_background": "light"
     },
     "output_type": "display_data"
    }
   ],
   "source": [
    "plt.plot([2, 3, 1, 0.5], 'o', )"
   ]
  },
  {
   "cell_type": "code",
   "execution_count": 78,
   "id": "5a6dde5d",
   "metadata": {},
   "outputs": [
    {
     "data": {
      "text/plain": [
       "[<matplotlib.lines.Line2D at 0x7f7676cbcd60>]"
      ]
     },
     "execution_count": 78,
     "metadata": {},
     "output_type": "execute_result"
    },
    {
     "data": {
      "image/png": "[encoded data removed]",
      "text/plain": [
       "<Figure size 432x288 with 1 Axes>"
      ]
     },
     "metadata": {
      "needs_background": "light"
     },
     "output_type": "display_data"
    }
   ],
   "source": [
    "plt.plot([2, 3, 1, 0.5])\n",
    "plt.plot([2, 3, 1, 0.5], 'o', ms=30)"
   ]
  },
  {
   "cell_type": "code",
   "execution_count": 79,
   "id": "8f875632",
   "metadata": {},
   "outputs": [
    {
     "data": {
      "text/plain": [
       "<BarContainer object of 4 artists>"
      ]
     },
     "execution_count": 79,
     "metadata": {},
     "output_type": "execute_result"
    },
    {
     "data": {
      "image/png": "[encoded data removed]",
      "text/plain": [
       "<Figure size 432x288 with 1 Axes>"
      ]
     },
     "metadata": {
      "needs_background": "light"
     },
     "output_type": "display_data"
    }
   ],
   "source": [
    "plt.bar([0,1,2,3], [2, 3, 1, 0.5])"
   ]
  },
  {
   "cell_type": "code",
   "execution_count": 80,
   "id": "54a2c51c",
   "metadata": {},
   "outputs": [
    {
     "data": {
      "image/png": "[encoded data removed]",
      "text/plain": [
       "<Figure size 432x288 with 1 Axes>"
      ]
     },
     "metadata": {
      "needs_background": "light"
     },
     "output_type": "display_data"
    }
   ],
   "source": [
    "plt.bar([0,1,2,3], [2, 3, 1, 0.5])\n",
    "plt.title('Podatki o necem')\n",
    "plt.xlabel('kategorije')\n",
    "plt.ylabel('frekvenca')\n",
    "plt.xticks([0,1,2,3], ['A', 'B', 'C', 'D'])\n",
    "plt.savefig('graf.png')"
   ]
  },
  {
   "cell_type": "code",
   "execution_count": 81,
   "id": "cb6bfa81",
   "metadata": {},
   "outputs": [
    {
     "data": {
      "image/png": "[encoded data removed]",
      "text/plain": [
       "<Figure size 432x288 with 1 Axes>"
      ]
     },
     "metadata": {
      "needs_background": "light"
     },
     "output_type": "display_data"
    }
   ],
   "source": [
    "plt.bar([0.1,1.1,2.1,3.1], [2, 3, 1, 0.5], width=0.4, label='poskus 1')\n",
    "plt.bar([0.5,1.5,2.5,3.5], [3, 2, 1, 1], width=0.4, label='poskus 2')\n",
    "plt.title('Podatki o necem in še o nečem')\n",
    "plt.xlabel('kategorije')\n",
    "plt.ylabel('frekvenca')\n",
    "plt.xticks([0,1,2,3], ['A', 'B', 'C', 'D'])\n",
    "plt.legend()\n",
    "plt.savefig('graf.png')"
   ]
  },
  {
   "cell_type": "code",
   "execution_count": 82,
   "id": "6397ba2f",
   "metadata": {},
   "outputs": [
    {
     "data": {
      "image/png": "[encoded data removed]",
      "text/plain": [
       "<Figure size 432x288 with 1 Axes>"
      ]
     },
     "metadata": {
      "needs_background": "light"
     },
     "output_type": "display_data"
    }
   ],
   "source": [
    "plt.bar([0,1,2,3], [2, 3, 1, 0.5], label='poskus 1')\n",
    "plt.bar([0,1,2,3], [3, 2, 1, 1], bottom=[2, 3, 1, 0.5], label='poskus 2')\n",
    "plt.title('Podatki o necem in še o nečem')\n",
    "plt.xlabel('kategorije')\n",
    "plt.ylabel('frekvenca')\n",
    "plt.xticks([0,1,2,3], ['A', 'B', 'C', 'D'])\n",
    "plt.legend()\n",
    "plt.savefig('graf.png')"
   ]
  },
  {
   "cell_type": "markdown",
   "id": "959aa7ca",
   "metadata": {},
   "source": [
    "### Vaja: nariši, kako so se spreminjale teže"
   ]
  },
  {
   "cell_type": "code",
   "execution_count": 83,
   "id": "6f872cf1",
   "metadata": {},
   "outputs": [],
   "source": [
    "teze_zgodovina = {'Ana': [70, 71, 72], 'Berta': [90, 85], 'Cilka': [77,  75, 72, 70], 'Eva': [50, 48, 50]}"
   ]
  },
  {
   "cell_type": "code",
   "execution_count": 84,
   "id": "e96e54aa",
   "metadata": {},
   "outputs": [
    {
     "data": {
      "text/plain": [
       "<matplotlib.legend.Legend at 0x7f7676aecdc0>"
      ]
     },
     "execution_count": 84,
     "metadata": {},
     "output_type": "execute_result"
    },
    {
     "data": {
      "image/png": "[encoded data removed]",
      "text/plain": [
       "<Figure size 432x288 with 1 Axes>"
      ]
     },
     "metadata": {
      "needs_background": "light"
     },
     "output_type": "display_data"
    }
   ],
   "source": [
    "plt.title('Zgodovina telesnih tež')\n",
    "for ime, teze in teze_zgodovina.items():\n",
    "    plt.plot(range(len(teze)), teze, label=ime, lw=3)\n",
    "plt.xlabel('dan')\n",
    "plt.ylabel('masa')\n",
    "plt.legend()    "
   ]
  },
  {
   "cell_type": "markdown",
   "id": "57596a20",
   "metadata": {},
   "source": [
    "## Risanje grafa porazdelitve A+T%"
   ]
  },
  {
   "cell_type": "code",
   "execution_count": 85,
   "id": "7f369d12",
   "metadata": {},
   "outputs": [],
   "source": [
    "import random\n",
    "random.seed(42)\n",
    "niz = \"\".join([random.choice([\"A\", \"T\", \"C\", \"G\"]) for x in range(500)])"
   ]
  },
  {
   "cell_type": "code",
   "execution_count": 86,
   "id": "e96b3850",
   "metadata": {},
   "outputs": [
    {
     "data": {
      "text/plain": [
       "'AACTTTAAGAAATTATGTGCATGCCTTCAAGACCCAGAGACCTAATCATAGCGCTCCTCATTTGGCTCATACGCATCTGGGTCTTCGGCTTGAAATTGAGGGCAACCACGTGACTACTTCTACGAACCTATAAGATTGTCGTTCGCGGATTACATTAAATAACATCGTTGTGGTAAGCGGGAAAGCATTTGTGTCGTAGAAAATTGGGTGATGAGCGCGGTTCTAACAAGTAATAATGATAAGCCTCTCGTCGCAAGAATCTCATCCTGCACATCAATCCTCTCGCAAGCAACTCTGGAAATACTGTACCACTTACGTTTTGATCGTCTAGAGTTGCCTTATGCCACCGCAACTCAAGCCGAGTCAGATCGACCACCGCGCTTGGTCGACCTGCGGGTGTACCATCTTTAATGAGGTGGGTTAAGTTGATAGTGCGGGTGGCTCGTCGACTCCCATTTGTTAGGCGGATGGAGGACCGGTGTCGGAGCGTGTAGAAGTGT'"
      ]
     },
     "execution_count": 86,
     "metadata": {},
     "output_type": "execute_result"
    }
   ],
   "source": [
    "niz"
   ]
  },
  {
   "cell_type": "code",
   "execution_count": 87,
   "id": "9ddbe09a",
   "metadata": {},
   "outputs": [],
   "source": [
    "def gc(sek):\n",
    "    return sek.count(\"G\") + sek.count(\"C\")\n",
    "    \n",
    "vrednosti = []\n",
    "for x in range(len(niz)-100):\n",
    "    v = gc(niz[x:x+100])\n",
    "    vrednosti.append(v)"
   ]
  },
  {
   "cell_type": "code",
   "execution_count": 88,
   "id": "268b123d",
   "metadata": {},
   "outputs": [
    {
     "data": {
      "image/png": "[encoded data removed]",
      "text/plain": [
       "<Figure size 432x288 with 1 Axes>"
      ]
     },
     "metadata": {
      "needs_background": "light"
     },
     "output_type": "display_data"
    }
   ],
   "source": [
    "plt.plot(vrednosti)\n",
    "plt.xlabel('Položaj v genomu')\n",
    "plt.ylabel('G + C [%]');"
   ]
  },
  {
   "cell_type": "code",
   "execution_count": 89,
   "id": "99f3f2d0",
   "metadata": {},
   "outputs": [],
   "source": [
    "def CpG(sek):\n",
    "    return sek.count(\"CG\")\n",
    "    \n",
    "vrednosti = []\n",
    "for x in range(len(niz)-100):\n",
    "    v = CpG(niz[x:x+100])\n",
    "    vrednosti.append(v)"
   ]
  },
  {
   "cell_type": "code",
   "execution_count": 90,
   "id": "8ead130c",
   "metadata": {},
   "outputs": [
    {
     "data": {
      "image/png": "[encoded data removed]",
      "text/plain": [
       "<Figure size 432x288 with 1 Axes>"
      ]
     },
     "metadata": {
      "needs_background": "light"
     },
     "output_type": "display_data"
    }
   ],
   "source": [
    "plt.plot(vrednosti)\n",
    "plt.xlabel('Položaj v genomu')\n",
    "plt.ylabel('število pojavitev GpC');"
   ]
  },
  {
   "cell_type": "markdown",
   "id": "b916ec25",
   "metadata": {},
   "source": [
    "## BioPython"
   ]
  }
 ],
 "metadata": {
  "kernelspec": {
   "display_name": "Python 3",
   "language": "python",
   "name": "python3"
  },
  "language_info": {
   "codemirror_mode": {
    "name": "ipython",
    "version": 3
   },
   "file_extension": ".py",
   "mimetype": "text/x-python",
   "name": "python",
   "nbconvert_exporter": "python",
   "pygments_lexer": "ipython3",
   "version": "3.9.12"
  }
 },
 "nbformat": 4,
 "nbformat_minor": 5
}
