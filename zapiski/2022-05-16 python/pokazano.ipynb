{
 "cells": [
  {
   "cell_type": "code",
   "execution_count": 1,
   "id": "89d328dd",
   "metadata": {},
   "outputs": [
    {
     "name": "stdout",
     "output_type": "stream",
     "text": [
      "85\n"
     ]
    }
   ],
   "source": [
    "f = open('datoteke/teze.txt')\n",
    "najvecja_vrednost = 0\n",
    "for vrstica in f:\n",
    "    trenutna_vrednost = int(vrstica)\n",
    "    if trenutna_vrednost > najvecja_vrednost:\n",
    "        najvecja_vrednost = trenutna_vrednost\n",
    "print(najvecja_vrednost)"
   ]
  },
  {
   "cell_type": "code",
   "execution_count": 2,
   "id": "a5bb963a",
   "metadata": {},
   "outputs": [],
   "source": [
    "imena = ['Ana', 'Berta', 'Cilka', 'Dani']"
   ]
  },
  {
   "cell_type": "code",
   "execution_count": 3,
   "id": "6b06bf9f",
   "metadata": {},
   "outputs": [
    {
     "data": {
      "text/plain": [
       "4"
      ]
     },
     "execution_count": 3,
     "metadata": {},
     "output_type": "execute_result"
    }
   ],
   "source": [
    "len(imena)"
   ]
  },
  {
   "cell_type": "code",
   "execution_count": 4,
   "id": "e6f4ed9b",
   "metadata": {},
   "outputs": [],
   "source": [
    "teze = [56, 76, 80, 67, 60]"
   ]
  },
  {
   "cell_type": "code",
   "execution_count": 7,
   "id": "3f2dee8a",
   "metadata": {},
   "outputs": [
    {
     "name": "stdout",
     "output_type": "stream",
     "text": [
      "339\n",
      "5\n",
      "67.8\n"
     ]
    }
   ],
   "source": [
    "vsota = 0\n",
    "for m in teze:\n",
    "    vsota = vsota + m\n",
    "print(vsota), print(len(teze))\n",
    "povp = vsota / len(teze)\n",
    "print(povp)"
   ]
  },
  {
   "cell_type": "code",
   "execution_count": 8,
   "id": "ac7d958c",
   "metadata": {},
   "outputs": [
    {
     "data": {
      "text/plain": [
       "67.8"
      ]
     },
     "execution_count": 8,
     "metadata": {},
     "output_type": "execute_result"
    }
   ],
   "source": [
    "sum(teze)/len(teze)"
   ]
  },
  {
   "cell_type": "code",
   "execution_count": 9,
   "id": "d1a644f0",
   "metadata": {},
   "outputs": [
    {
     "data": {
      "text/plain": [
       "339"
      ]
     },
     "execution_count": 9,
     "metadata": {},
     "output_type": "execute_result"
    }
   ],
   "source": [
    "sum(teze)"
   ]
  },
  {
   "cell_type": "code",
   "execution_count": 10,
   "id": "52fc32d0",
   "metadata": {},
   "outputs": [
    {
     "data": {
      "text/plain": [
       "80"
      ]
     },
     "execution_count": 10,
     "metadata": {},
     "output_type": "execute_result"
    }
   ],
   "source": [
    "max(teze)"
   ]
  },
  {
   "cell_type": "code",
   "execution_count": null,
   "id": "c3106083",
   "metadata": {},
   "outputs": [],
   "source": []
  },
  {
   "cell_type": "code",
   "execution_count": null,
   "id": "3335d03d",
   "metadata": {},
   "outputs": [],
   "source": []
  },
  {
   "cell_type": "code",
   "execution_count": null,
   "id": "a0807b73",
   "metadata": {},
   "outputs": [],
   "source": []
  },
  {
   "cell_type": "code",
   "execution_count": null,
   "id": "a5c176fa",
   "metadata": {},
   "outputs": [],
   "source": []
  },
  {
   "cell_type": "code",
   "execution_count": null,
   "id": "8387cb85",
   "metadata": {},
   "outputs": [],
   "source": []
  },
  {
   "cell_type": "code",
   "execution_count": null,
   "id": "fd7d7e84",
   "metadata": {},
   "outputs": [],
   "source": []
  },
  {
   "cell_type": "code",
   "execution_count": null,
   "id": "83c1405f",
   "metadata": {},
   "outputs": [],
   "source": []
  },
  {
   "cell_type": "code",
   "execution_count": null,
   "id": "88433c28",
   "metadata": {},
   "outputs": [],
   "source": []
  },
  {
   "cell_type": "code",
   "execution_count": null,
   "id": "8bd8a1e2",
   "metadata": {},
   "outputs": [],
   "source": []
  },
  {
   "cell_type": "code",
   "execution_count": 11,
   "id": "97dec58f",
   "metadata": {},
   "outputs": [],
   "source": [
    "niz = \"atacg\""
   ]
  },
  {
   "cell_type": "code",
   "execution_count": 12,
   "id": "98dd6e72",
   "metadata": {},
   "outputs": [
    {
     "data": {
      "text/plain": [
       "2"
      ]
     },
     "execution_count": 12,
     "metadata": {},
     "output_type": "execute_result"
    }
   ],
   "source": [
    "niz.count('a')"
   ]
  },
  {
   "cell_type": "code",
   "execution_count": null,
   "id": "040acd15",
   "metadata": {},
   "outputs": [],
   "source": []
  },
  {
   "cell_type": "code",
   "execution_count": 17,
   "id": "9148918b",
   "metadata": {},
   "outputs": [
    {
     "name": "stdout",
     "output_type": "stream",
     "text": [
      "ASDF13 26\n",
      "  Nov rekord! 26\n",
      "SDFG14 31\n",
      "  Nov rekord! 31\n",
      "DFGH15 26\n",
      "FGHJ16 19\n",
      "GHJK17 32\n",
      "  Nov rekord! 32\n",
      "HJKL18 29\n",
      "ZXCV19 24\n",
      "XCVB20 21\n",
      "CVBN21 24\n",
      "VBNM22 27\n",
      "V genu GHJK17 se A pojavi 32-krat.\n"
     ]
    }
   ],
   "source": [
    "naj_frek = 0\n",
    "naj_gen = 'ga ni'\n",
    "for vrstica in open('datoteke/qwerty-dna.txt'):\n",
    "    ime, sekvenca = vrstica.split()\n",
    "    trenutna_frek = sekvenca.count('a')\n",
    "    print(ime, trenutna_frek)\n",
    "    if trenutna_frek > naj_frek:\n",
    "        print(\"  Nov rekord!\", trenutna_frek)\n",
    "        naj_frek = trenutna_frek\n",
    "        naj_gen = ime\n",
    "print(f\"V genu {naj_gen} se A pojavi {naj_frek}-krat.\")"
   ]
  },
  {
   "cell_type": "code",
   "execution_count": null,
   "id": "0aa2477a",
   "metadata": {},
   "outputs": [],
   "source": []
  },
  {
   "cell_type": "code",
   "execution_count": null,
   "id": "0f5c8d29",
   "metadata": {},
   "outputs": [],
   "source": []
  },
  {
   "cell_type": "code",
   "execution_count": null,
   "id": "e53245f5",
   "metadata": {},
   "outputs": [],
   "source": []
  },
  {
   "cell_type": "code",
   "execution_count": null,
   "id": "26a59f4b",
   "metadata": {},
   "outputs": [],
   "source": []
  },
  {
   "cell_type": "code",
   "execution_count": 19,
   "id": "9840ff02",
   "metadata": {},
   "outputs": [],
   "source": [
    "seznam = [1,2,3,4]"
   ]
  },
  {
   "cell_type": "code",
   "execution_count": 27,
   "id": "2e61fb41",
   "metadata": {},
   "outputs": [
    {
     "data": {
      "text/plain": [
       "2"
      ]
     },
     "execution_count": 27,
     "metadata": {},
     "output_type": "execute_result"
    }
   ],
   "source": [
    "seznam[1]"
   ]
  },
  {
   "cell_type": "code",
   "execution_count": 35,
   "id": "53c09e71",
   "metadata": {},
   "outputs": [
    {
     "ename": "IndexError",
     "evalue": "list index out of range",
     "output_type": "error",
     "traceback": [
      "\u001b[0;31m---------------------------------------------------------------------------\u001b[0m",
      "\u001b[0;31mIndexError\u001b[0m                                Traceback (most recent call last)",
      "\u001b[0;32m<ipython-input-35-f2ea88732e5b>\u001b[0m in \u001b[0;36m<module>\u001b[0;34m\u001b[0m\n\u001b[0;32m----> 1\u001b[0;31m \u001b[0mseznam\u001b[0m\u001b[0;34m[\u001b[0m\u001b[0;36m10\u001b[0m\u001b[0;34m]\u001b[0m\u001b[0;34m\u001b[0m\u001b[0;34m\u001b[0m\u001b[0m\n\u001b[0m",
      "\u001b[0;31mIndexError\u001b[0m: list index out of range"
     ]
    }
   ],
   "source": [
    "seznam[10]"
   ]
  },
  {
   "cell_type": "code",
   "execution_count": 37,
   "id": "2302eecb",
   "metadata": {},
   "outputs": [
    {
     "data": {
      "text/plain": [
       "4"
      ]
     },
     "execution_count": 37,
     "metadata": {},
     "output_type": "execute_result"
    }
   ],
   "source": [
    "len(seznam)"
   ]
  },
  {
   "cell_type": "code",
   "execution_count": 40,
   "id": "ef636463",
   "metadata": {},
   "outputs": [
    {
     "ename": "IndexError",
     "evalue": "list index out of range",
     "output_type": "error",
     "traceback": [
      "\u001b[0;31m---------------------------------------------------------------------------\u001b[0m",
      "\u001b[0;31mIndexError\u001b[0m                                Traceback (most recent call last)",
      "\u001b[0;32m<ipython-input-40-8a851d9c5d12>\u001b[0m in \u001b[0;36m<module>\u001b[0;34m\u001b[0m\n\u001b[0;32m----> 1\u001b[0;31m \u001b[0mseznam\u001b[0m\u001b[0;34m[\u001b[0m\u001b[0;36m4\u001b[0m\u001b[0;34m]\u001b[0m\u001b[0;34m\u001b[0m\u001b[0;34m\u001b[0m\u001b[0m\n\u001b[0m",
      "\u001b[0;31mIndexError\u001b[0m: list index out of range"
     ]
    }
   ],
   "source": [
    "seznam[4]"
   ]
  },
  {
   "cell_type": "code",
   "execution_count": 41,
   "id": "770c81f4",
   "metadata": {},
   "outputs": [
    {
     "data": {
      "text/plain": [
       "4"
      ]
     },
     "execution_count": 41,
     "metadata": {},
     "output_type": "execute_result"
    }
   ],
   "source": [
    "seznam[3]"
   ]
  },
  {
   "cell_type": "code",
   "execution_count": null,
   "id": "0aa491e4",
   "metadata": {},
   "outputs": [],
   "source": []
  },
  {
   "cell_type": "code",
   "execution_count": 21,
   "id": "8594dff7",
   "metadata": {},
   "outputs": [],
   "source": [
    "teze = {'Ana': 72, 'Berta': 85, 'Eva': 50}"
   ]
  },
  {
   "cell_type": "code",
   "execution_count": 22,
   "id": "e2d4ceeb",
   "metadata": {},
   "outputs": [
    {
     "data": {
      "text/plain": [
       "{'Ana': 72, 'Berta': 85, 'Eva': 50}"
      ]
     },
     "execution_count": 22,
     "metadata": {},
     "output_type": "execute_result"
    }
   ],
   "source": [
    "teze"
   ]
  },
  {
   "cell_type": "code",
   "execution_count": 23,
   "id": "c75af96e",
   "metadata": {},
   "outputs": [
    {
     "data": {
      "text/plain": [
       "72"
      ]
     },
     "execution_count": 23,
     "metadata": {},
     "output_type": "execute_result"
    }
   ],
   "source": [
    "teze['Ana']"
   ]
  },
  {
   "cell_type": "code",
   "execution_count": 24,
   "id": "295dd973",
   "metadata": {},
   "outputs": [
    {
     "data": {
      "text/plain": [
       "50"
      ]
     },
     "execution_count": 24,
     "metadata": {},
     "output_type": "execute_result"
    }
   ],
   "source": [
    "teze['Eva']"
   ]
  },
  {
   "cell_type": "code",
   "execution_count": 29,
   "id": "a56b6e10",
   "metadata": {},
   "outputs": [
    {
     "ename": "KeyError",
     "evalue": "'Martin'",
     "output_type": "error",
     "traceback": [
      "\u001b[0;31m---------------------------------------------------------------------------\u001b[0m",
      "\u001b[0;31mKeyError\u001b[0m                                  Traceback (most recent call last)",
      "\u001b[0;32m<ipython-input-29-dad95dc2d519>\u001b[0m in \u001b[0;36m<module>\u001b[0;34m\u001b[0m\n\u001b[0;32m----> 1\u001b[0;31m \u001b[0mteze\u001b[0m\u001b[0;34m[\u001b[0m\u001b[0;34m'Martin'\u001b[0m\u001b[0;34m]\u001b[0m\u001b[0;34m\u001b[0m\u001b[0;34m\u001b[0m\u001b[0m\n\u001b[0m",
      "\u001b[0;31mKeyError\u001b[0m: 'Martin'"
     ]
    }
   ],
   "source": [
    "teze['Martin']"
   ]
  },
  {
   "cell_type": "code",
   "execution_count": 30,
   "id": "9c07b6b8",
   "metadata": {},
   "outputs": [
    {
     "name": "stdout",
     "output_type": "stream",
     "text": [
      "ni ga\n"
     ]
    }
   ],
   "source": [
    "if 'Martin' in teze:\n",
    "    print(\"je noter\")\n",
    "else:\n",
    "    print(\"ni ga\")"
   ]
  },
  {
   "cell_type": "code",
   "execution_count": 31,
   "id": "a4b08a50",
   "metadata": {},
   "outputs": [
    {
     "data": {
      "text/plain": [
       "False"
      ]
     },
     "execution_count": 31,
     "metadata": {},
     "output_type": "execute_result"
    }
   ],
   "source": [
    "'Martin' in teze"
   ]
  },
  {
   "cell_type": "code",
   "execution_count": 32,
   "id": "42b63c87",
   "metadata": {},
   "outputs": [
    {
     "data": {
      "text/plain": [
       "True"
      ]
     },
     "execution_count": 32,
     "metadata": {},
     "output_type": "execute_result"
    }
   ],
   "source": [
    "'Ana' in teze"
   ]
  },
  {
   "cell_type": "code",
   "execution_count": 43,
   "id": "e00e9323",
   "metadata": {},
   "outputs": [
    {
     "data": {
      "text/plain": [
       "{'Ana': 72, 'Berta': 85, 'Eva': 50}"
      ]
     },
     "execution_count": 43,
     "metadata": {},
     "output_type": "execute_result"
    }
   ],
   "source": [
    "teze"
   ]
  },
  {
   "cell_type": "code",
   "execution_count": 44,
   "id": "fcd86215",
   "metadata": {},
   "outputs": [
    {
     "ename": "KeyError",
     "evalue": "'Martin'",
     "output_type": "error",
     "traceback": [
      "\u001b[0;31m---------------------------------------------------------------------------\u001b[0m",
      "\u001b[0;31mKeyError\u001b[0m                                  Traceback (most recent call last)",
      "\u001b[0;32m<ipython-input-44-dad95dc2d519>\u001b[0m in \u001b[0;36m<module>\u001b[0;34m\u001b[0m\n\u001b[0;32m----> 1\u001b[0;31m \u001b[0mteze\u001b[0m\u001b[0;34m[\u001b[0m\u001b[0;34m'Martin'\u001b[0m\u001b[0;34m]\u001b[0m\u001b[0;34m\u001b[0m\u001b[0;34m\u001b[0m\u001b[0m\n\u001b[0m",
      "\u001b[0;31mKeyError\u001b[0m: 'Martin'"
     ]
    }
   ],
   "source": [
    "teze['Martin']"
   ]
  },
  {
   "cell_type": "code",
   "execution_count": 45,
   "id": "bbaa680b",
   "metadata": {},
   "outputs": [
    {
     "data": {
      "text/plain": [
       "0"
      ]
     },
     "execution_count": 45,
     "metadata": {},
     "output_type": "execute_result"
    }
   ],
   "source": [
    "teze.get('Martin', 0)"
   ]
  },
  {
   "cell_type": "code",
   "execution_count": 46,
   "id": "e16bc554",
   "metadata": {},
   "outputs": [
    {
     "data": {
      "text/plain": [
       "'ga ni'"
      ]
     },
     "execution_count": 46,
     "metadata": {},
     "output_type": "execute_result"
    }
   ],
   "source": [
    "teze.get('Martin', 'ga ni')"
   ]
  },
  {
   "cell_type": "code",
   "execution_count": 47,
   "id": "74b89d7b",
   "metadata": {},
   "outputs": [],
   "source": [
    "stevila = {1: '?', 2: 'prastevilo', 3: 'prastevilo', 4: 'ni prastevilo', 5: 'prastevilo'}"
   ]
  },
  {
   "cell_type": "code",
   "execution_count": 48,
   "id": "c6b9256d",
   "metadata": {},
   "outputs": [
    {
     "data": {
      "text/plain": [
       "{1: '?', 2: 'prastevilo', 3: 'prastevilo', 4: 'ni prastevilo', 5: 'prastevilo'}"
      ]
     },
     "execution_count": 48,
     "metadata": {},
     "output_type": "execute_result"
    }
   ],
   "source": [
    "stevila"
   ]
  },
  {
   "cell_type": "code",
   "execution_count": 49,
   "id": "1d07a0f9",
   "metadata": {},
   "outputs": [
    {
     "data": {
      "text/plain": [
       "'?'"
      ]
     },
     "execution_count": 49,
     "metadata": {},
     "output_type": "execute_result"
    }
   ],
   "source": [
    "stevila[1]"
   ]
  },
  {
   "cell_type": "code",
   "execution_count": 50,
   "id": "3d679f82",
   "metadata": {},
   "outputs": [
    {
     "data": {
      "text/plain": [
       "'prastevilo'"
      ]
     },
     "execution_count": 50,
     "metadata": {},
     "output_type": "execute_result"
    }
   ],
   "source": [
    "stevila[2]"
   ]
  },
  {
   "cell_type": "code",
   "execution_count": 51,
   "id": "befc7086",
   "metadata": {},
   "outputs": [
    {
     "data": {
      "text/plain": [
       "{'Ana': 72, 'Berta': 85, 'Eva': 50}"
      ]
     },
     "execution_count": 51,
     "metadata": {},
     "output_type": "execute_result"
    }
   ],
   "source": [
    "teze"
   ]
  },
  {
   "cell_type": "code",
   "execution_count": 52,
   "id": "76dbd7c4",
   "metadata": {},
   "outputs": [],
   "source": [
    "teze['Cilka'] = 70"
   ]
  },
  {
   "cell_type": "code",
   "execution_count": 53,
   "id": "f805830e",
   "metadata": {},
   "outputs": [
    {
     "data": {
      "text/plain": [
       "{'Ana': 72, 'Berta': 85, 'Eva': 50, 'Cilka': 70}"
      ]
     },
     "execution_count": 53,
     "metadata": {},
     "output_type": "execute_result"
    }
   ],
   "source": [
    "teze"
   ]
  },
  {
   "cell_type": "code",
   "execution_count": 54,
   "id": "53726563",
   "metadata": {},
   "outputs": [],
   "source": [
    "teze['Ana'] = 73"
   ]
  },
  {
   "cell_type": "code",
   "execution_count": 62,
   "id": "579863bd",
   "metadata": {},
   "outputs": [
    {
     "data": {
      "text/plain": [
       "{'Berta': 85, 'Eva': 50, 'Cilka': 70}"
      ]
     },
     "execution_count": 62,
     "metadata": {},
     "output_type": "execute_result"
    }
   ],
   "source": [
    "teze"
   ]
  },
  {
   "cell_type": "code",
   "execution_count": 64,
   "id": "a172e23a",
   "metadata": {},
   "outputs": [],
   "source": [
    "teze = {'Ana': 72, 'Berta': 85, 'Eva': 50}"
   ]
  },
  {
   "cell_type": "code",
   "execution_count": 65,
   "id": "d92bb4fd",
   "metadata": {},
   "outputs": [
    {
     "data": {
      "text/plain": [
       "{'Ana': 72, 'Berta': 85, 'Eva': 50}"
      ]
     },
     "execution_count": 65,
     "metadata": {},
     "output_type": "execute_result"
    }
   ],
   "source": [
    "teze"
   ]
  },
  {
   "cell_type": "code",
   "execution_count": 66,
   "id": "d2b58f3c",
   "metadata": {},
   "outputs": [],
   "source": [
    "del teze['Ana']"
   ]
  },
  {
   "cell_type": "code",
   "execution_count": 67,
   "id": "2b16d0aa",
   "metadata": {},
   "outputs": [
    {
     "data": {
      "text/plain": [
       "{'Berta': 85, 'Eva': 50}"
      ]
     },
     "execution_count": 67,
     "metadata": {},
     "output_type": "execute_result"
    }
   ],
   "source": [
    "teze"
   ]
  },
  {
   "cell_type": "code",
   "execution_count": 68,
   "id": "e1b824cd",
   "metadata": {},
   "outputs": [
    {
     "ename": "KeyError",
     "evalue": "'Ana'",
     "output_type": "error",
     "traceback": [
      "\u001b[0;31m---------------------------------------------------------------------------\u001b[0m",
      "\u001b[0;31mKeyError\u001b[0m                                  Traceback (most recent call last)",
      "\u001b[0;32m<ipython-input-68-61cd90e9374f>\u001b[0m in \u001b[0;36m<module>\u001b[0;34m\u001b[0m\n\u001b[0;32m----> 1\u001b[0;31m \u001b[0;32mdel\u001b[0m \u001b[0mteze\u001b[0m\u001b[0;34m[\u001b[0m\u001b[0;34m'Ana'\u001b[0m\u001b[0;34m]\u001b[0m\u001b[0;34m\u001b[0m\u001b[0;34m\u001b[0m\u001b[0m\n\u001b[0m",
      "\u001b[0;31mKeyError\u001b[0m: 'Ana'"
     ]
    }
   ],
   "source": [
    "del teze['Ana']"
   ]
  },
  {
   "cell_type": "code",
   "execution_count": 69,
   "id": "bdf70dcb",
   "metadata": {},
   "outputs": [
    {
     "data": {
      "text/plain": [
       "{'Berta': 85, 'Eva': 50}"
      ]
     },
     "execution_count": 69,
     "metadata": {},
     "output_type": "execute_result"
    }
   ],
   "source": [
    "teze"
   ]
  },
  {
   "cell_type": "code",
   "execution_count": 70,
   "id": "0e648507",
   "metadata": {},
   "outputs": [],
   "source": [
    "teze = {'Ana': 72, 'Berta': 85, 'Eva': 50}"
   ]
  },
  {
   "cell_type": "code",
   "execution_count": null,
   "id": "99f13ce1",
   "metadata": {},
   "outputs": [],
   "source": []
  },
  {
   "cell_type": "code",
   "execution_count": null,
   "id": "fbb19548",
   "metadata": {},
   "outputs": [],
   "source": []
  },
  {
   "cell_type": "code",
   "execution_count": null,
   "id": "9744feae",
   "metadata": {},
   "outputs": [],
   "source": []
  },
  {
   "cell_type": "code",
   "execution_count": null,
   "id": "8fa71065",
   "metadata": {},
   "outputs": [],
   "source": []
  },
  {
   "cell_type": "code",
   "execution_count": null,
   "id": "8f15375b",
   "metadata": {},
   "outputs": [],
   "source": []
  },
  {
   "cell_type": "code",
   "execution_count": null,
   "id": "260decd0",
   "metadata": {},
   "outputs": [],
   "source": []
  },
  {
   "cell_type": "code",
   "execution_count": null,
   "id": "9b22f141",
   "metadata": {},
   "outputs": [],
   "source": []
  },
  {
   "cell_type": "code",
   "execution_count": null,
   "id": "a2b5bacd",
   "metadata": {},
   "outputs": [],
   "source": []
  },
  {
   "cell_type": "code",
   "execution_count": null,
   "id": "2b253bf5",
   "metadata": {},
   "outputs": [],
   "source": []
  },
  {
   "cell_type": "code",
   "execution_count": null,
   "id": "5d9002ba",
   "metadata": {},
   "outputs": [],
   "source": []
  },
  {
   "cell_type": "code",
   "execution_count": 71,
   "id": "5928686c",
   "metadata": {},
   "outputs": [],
   "source": [
    "teze = {'Ana': 72, 'Berta': 85, 'Eva': 50}"
   ]
  },
  {
   "cell_type": "code",
   "execution_count": 72,
   "id": "f325078f",
   "metadata": {},
   "outputs": [
    {
     "data": {
      "text/plain": [
       "{'Ana': 72, 'Berta': 85, 'Eva': 50}"
      ]
     },
     "execution_count": 72,
     "metadata": {},
     "output_type": "execute_result"
    }
   ],
   "source": [
    "teze"
   ]
  },
  {
   "cell_type": "code",
   "execution_count": 73,
   "id": "e5e204a5",
   "metadata": {},
   "outputs": [
    {
     "data": {
      "text/plain": [
       "dict_keys(['Ana', 'Berta', 'Eva'])"
      ]
     },
     "execution_count": 73,
     "metadata": {},
     "output_type": "execute_result"
    }
   ],
   "source": [
    "teze.keys()"
   ]
  },
  {
   "cell_type": "code",
   "execution_count": 74,
   "id": "7ce7b6b8",
   "metadata": {},
   "outputs": [
    {
     "data": {
      "text/plain": [
       "dict_values([72, 85, 50])"
      ]
     },
     "execution_count": 74,
     "metadata": {},
     "output_type": "execute_result"
    }
   ],
   "source": [
    "teze.values()"
   ]
  },
  {
   "cell_type": "code",
   "execution_count": 75,
   "id": "05fbc50d",
   "metadata": {},
   "outputs": [
    {
     "data": {
      "text/plain": [
       "dict_items([('Ana', 72), ('Berta', 85), ('Eva', 50)])"
      ]
     },
     "execution_count": 75,
     "metadata": {},
     "output_type": "execute_result"
    }
   ],
   "source": [
    "teze.items()"
   ]
  },
  {
   "cell_type": "code",
   "execution_count": 76,
   "id": "c5483f1a",
   "metadata": {},
   "outputs": [
    {
     "name": "stdout",
     "output_type": "stream",
     "text": [
      "Ana 72\n",
      "Berta 85\n",
      "Eva 50\n"
     ]
    }
   ],
   "source": [
    "for ime, teza in teze.items():\n",
    "    print(ime, teza)"
   ]
  },
  {
   "cell_type": "code",
   "execution_count": null,
   "id": "810489a5",
   "metadata": {},
   "outputs": [],
   "source": []
  },
  {
   "cell_type": "code",
   "execution_count": null,
   "id": "ce617eb4",
   "metadata": {},
   "outputs": [],
   "source": []
  },
  {
   "cell_type": "code",
   "execution_count": null,
   "id": "d7006027",
   "metadata": {},
   "outputs": [],
   "source": []
  },
  {
   "cell_type": "code",
   "execution_count": 81,
   "id": "25794622",
   "metadata": {},
   "outputs": [],
   "source": [
    "teze_zgodovina = {\n",
    "    'Ana': [70, 71, 72], \n",
    "    'Berta': [90, 85], \n",
    "    'Cilka': [77,  75, 72, 70], \n",
    "    'Eva': [50, 48, 50]\n",
    "}"
   ]
  },
  {
   "cell_type": "code",
   "execution_count": 79,
   "id": "1259bf5e",
   "metadata": {},
   "outputs": [
    {
     "data": {
      "text/plain": [
       "{'Ana': [70, 71, 72],\n",
       " 'Berta': [90, 85],\n",
       " 'Cilka': [77, 75, 72, 70],\n",
       " 'Eva': [50, 48, 50]}"
      ]
     },
     "execution_count": 79,
     "metadata": {},
     "output_type": "execute_result"
    }
   ],
   "source": [
    "teze_zgodovina"
   ]
  },
  {
   "cell_type": "code",
   "execution_count": null,
   "id": "72dfd83b",
   "metadata": {},
   "outputs": [],
   "source": []
  },
  {
   "cell_type": "code",
   "execution_count": 91,
   "id": "591e6f18",
   "metadata": {},
   "outputs": [
    {
     "name": "stdout",
     "output_type": "stream",
     "text": [
      "Ana se je zredila(a) za 2 kg.\n",
      "Berta je shujšala(a) za 5 kg.\n",
      "Cilka je shujšala(a) za 7 kg.\n",
      "Eva se ni spremenil(a). \n"
     ]
    }
   ],
   "source": [
    "for ime, teze in teze_zgodovina.items():\n",
    "    zacetna_teza = teze[0]\n",
    "    koncna_teza = teze[-1]\n",
    "    d = abs(koncna_teza - zacetna_teza)\n",
    "    \n",
    "    if zacetna_teza > koncna_teza:\n",
    "        print(f\"{ime} je shujšala(a) za {d} kg.\")\n",
    "    if zacetna_teza < koncna_teza:\n",
    "        print(f\"{ime} se je zredila(a) za {d} kg.\")\n",
    "    if zacetna_teza == koncna_teza:\n",
    "        print(f\"{ime} se ni spremenil(a). \")"
   ]
  },
  {
   "cell_type": "code",
   "execution_count": 93,
   "id": "b41a6cee",
   "metadata": {},
   "outputs": [
    {
     "name": "stdout",
     "output_type": "stream",
     "text": [
      "Ana se je zredila(a) za 2 kg.\n",
      "Berta je shujšala(a) za 5 kg.\n",
      "Cilka je shujšala(a) za 7 kg.\n",
      "Eva se ni spremenil(a). \n"
     ]
    }
   ],
   "source": [
    "for ime, teze in teze_zgodovina.items():\n",
    "    zacetna_teza = teze[0]\n",
    "    koncna_teza = teze[-1]\n",
    "    d = koncna_teza - zacetna_teza\n",
    "    \n",
    "    if zacetna_teza > koncna_teza:\n",
    "        print(f\"{ime} je shujšala(a) za {abs(d)} kg.\")\n",
    "    elif zacetna_teza < koncna_teza:\n",
    "        print(f\"{ime} se je zredila(a) za {abs(d)} kg.\")\n",
    "    else:\n",
    "        print(f\"{ime} se ni spremenil(a). \")"
   ]
  },
  {
   "cell_type": "code",
   "execution_count": null,
   "id": "b401e74f",
   "metadata": {},
   "outputs": [],
   "source": []
  },
  {
   "cell_type": "code",
   "execution_count": null,
   "id": "2bb62725",
   "metadata": {},
   "outputs": [],
   "source": []
  },
  {
   "cell_type": "code",
   "execution_count": null,
   "id": "8d792892",
   "metadata": {},
   "outputs": [],
   "source": []
  },
  {
   "cell_type": "code",
   "execution_count": null,
   "id": "e8b1282c",
   "metadata": {},
   "outputs": [],
   "source": []
  },
  {
   "cell_type": "code",
   "execution_count": null,
   "id": "b692db46",
   "metadata": {},
   "outputs": [],
   "source": []
  },
  {
   "cell_type": "code",
   "execution_count": 83,
   "id": "5f82d48c",
   "metadata": {},
   "outputs": [],
   "source": [
    "teze = teze_zgodovina['Ana']"
   ]
  },
  {
   "cell_type": "code",
   "execution_count": 84,
   "id": "9103ef4d",
   "metadata": {},
   "outputs": [
    {
     "data": {
      "text/plain": [
       "[70, 71, 72]"
      ]
     },
     "execution_count": 84,
     "metadata": {},
     "output_type": "execute_result"
    }
   ],
   "source": [
    "teze"
   ]
  },
  {
   "cell_type": "code",
   "execution_count": 85,
   "id": "63a2dc9c",
   "metadata": {},
   "outputs": [
    {
     "data": {
      "text/plain": [
       "70"
      ]
     },
     "execution_count": 85,
     "metadata": {},
     "output_type": "execute_result"
    }
   ],
   "source": [
    "teze[0]"
   ]
  },
  {
   "cell_type": "code",
   "execution_count": 86,
   "id": "a42639fc",
   "metadata": {},
   "outputs": [
    {
     "data": {
      "text/plain": [
       "72"
      ]
     },
     "execution_count": 86,
     "metadata": {},
     "output_type": "execute_result"
    }
   ],
   "source": [
    "teze[len(teze)-1]"
   ]
  },
  {
   "cell_type": "code",
   "execution_count": 87,
   "id": "32571871",
   "metadata": {},
   "outputs": [
    {
     "data": {
      "text/plain": [
       "72"
      ]
     },
     "execution_count": 87,
     "metadata": {},
     "output_type": "execute_result"
    }
   ],
   "source": [
    "teze[-1]"
   ]
  },
  {
   "cell_type": "code",
   "execution_count": 88,
   "id": "f378f801",
   "metadata": {},
   "outputs": [
    {
     "data": {
      "text/plain": [
       "71"
      ]
     },
     "execution_count": 88,
     "metadata": {},
     "output_type": "execute_result"
    }
   ],
   "source": [
    "teze[-2]"
   ]
  },
  {
   "cell_type": "code",
   "execution_count": null,
   "id": "d115114e",
   "metadata": {},
   "outputs": [],
   "source": []
  },
  {
   "cell_type": "code",
   "execution_count": null,
   "id": "496168b8",
   "metadata": {},
   "outputs": [],
   "source": []
  },
  {
   "cell_type": "code",
   "execution_count": null,
   "id": "47dc736f",
   "metadata": {},
   "outputs": [],
   "source": []
  },
  {
   "cell_type": "code",
   "execution_count": null,
   "id": "028adaf2",
   "metadata": {},
   "outputs": [],
   "source": []
  },
  {
   "cell_type": "code",
   "execution_count": null,
   "id": "261d99d4",
   "metadata": {},
   "outputs": [],
   "source": []
  },
  {
   "cell_type": "code",
   "execution_count": null,
   "id": "cf198d10",
   "metadata": {},
   "outputs": [],
   "source": []
  },
  {
   "cell_type": "code",
   "execution_count": null,
   "id": "cd9622d9",
   "metadata": {},
   "outputs": [],
   "source": []
  },
  {
   "cell_type": "code",
   "execution_count": null,
   "id": "7629cecf",
   "metadata": {},
   "outputs": [],
   "source": []
  },
  {
   "cell_type": "code",
   "execution_count": null,
   "id": "27393b77",
   "metadata": {},
   "outputs": [],
   "source": []
  },
  {
   "cell_type": "code",
   "execution_count": 95,
   "id": "3ed9b16b",
   "metadata": {},
   "outputs": [],
   "source": [
    "imenik = {\n",
    "    'Marko': [\"04127722\", \"03143123421\"],\n",
    "    'Miha': [\"041888292\"]\n",
    "}"
   ]
  },
  {
   "cell_type": "code",
   "execution_count": 96,
   "id": "8e332293",
   "metadata": {},
   "outputs": [
    {
     "data": {
      "text/plain": [
       "{'Marko': ['04127722', '03143123421'], 'Miha': ['041888292']}"
      ]
     },
     "execution_count": 96,
     "metadata": {},
     "output_type": "execute_result"
    }
   ],
   "source": [
    "imenik"
   ]
  },
  {
   "cell_type": "code",
   "execution_count": 98,
   "id": "309a6b5d",
   "metadata": {},
   "outputs": [],
   "source": [
    "imenik['Miha'] = \"nova telefonska\""
   ]
  },
  {
   "cell_type": "code",
   "execution_count": 99,
   "id": "8627d4f5",
   "metadata": {},
   "outputs": [
    {
     "data": {
      "text/plain": [
       "{'Marko': ['04127722', '03143123421'], 'Miha': 'nova telefonska'}"
      ]
     },
     "execution_count": 99,
     "metadata": {},
     "output_type": "execute_result"
    }
   ],
   "source": [
    "imenik"
   ]
  },
  {
   "cell_type": "code",
   "execution_count": 100,
   "id": "caa2ba8c",
   "metadata": {},
   "outputs": [],
   "source": [
    "imenik = {\n",
    "    'Marko': [\"04127722\", \"03143123421\"],\n",
    "    'Miha': [\"041888292\"]\n",
    "}"
   ]
  },
  {
   "cell_type": "code",
   "execution_count": 107,
   "id": "37090577",
   "metadata": {},
   "outputs": [],
   "source": [
    "# dodatna stevilka za že obstoječe ime\n",
    "imenik['Miha'].append(\"051888888\")"
   ]
  },
  {
   "cell_type": "code",
   "execution_count": 102,
   "id": "491a28c6",
   "metadata": {},
   "outputs": [
    {
     "data": {
      "text/plain": [
       "{'Marko': ['04127722', '03143123421'], 'Miha': ['041888292', '051888888']}"
      ]
     },
     "execution_count": 102,
     "metadata": {},
     "output_type": "execute_result"
    }
   ],
   "source": [
    "imenik"
   ]
  },
  {
   "cell_type": "code",
   "execution_count": 103,
   "id": "a24250a0",
   "metadata": {},
   "outputs": [
    {
     "data": {
      "text/plain": [
       "False"
      ]
     },
     "execution_count": 103,
     "metadata": {},
     "output_type": "execute_result"
    }
   ],
   "source": [
    "'Blaz' in imenik"
   ]
  },
  {
   "cell_type": "code",
   "execution_count": 108,
   "id": "3f34066e",
   "metadata": {},
   "outputs": [],
   "source": [
    "# novo ime in njegova \"prva\" stevilka\n",
    "imenik['Blaz'] = [\"01432143124\"]"
   ]
  },
  {
   "cell_type": "code",
   "execution_count": 109,
   "id": "302a2408",
   "metadata": {},
   "outputs": [
    {
     "data": {
      "text/plain": [
       "{'Marko': ['04127722', '03143123421'],\n",
       " 'Miha': ['041888292', '051888888', '051888888'],\n",
       " 'Blaz': ['01432143124']}"
      ]
     },
     "execution_count": 109,
     "metadata": {},
     "output_type": "execute_result"
    }
   ],
   "source": [
    "imenik"
   ]
  },
  {
   "cell_type": "code",
   "execution_count": 111,
   "id": "84ad9bfa",
   "metadata": {},
   "outputs": [],
   "source": [
    "seznam = imenik['Blaz']"
   ]
  },
  {
   "cell_type": "code",
   "execution_count": 112,
   "id": "4ed80eb5",
   "metadata": {},
   "outputs": [
    {
     "data": {
      "text/plain": [
       "['01432143124']"
      ]
     },
     "execution_count": 112,
     "metadata": {},
     "output_type": "execute_result"
    }
   ],
   "source": [
    "seznam"
   ]
  },
  {
   "cell_type": "code",
   "execution_count": 113,
   "id": "628c6146",
   "metadata": {},
   "outputs": [],
   "source": [
    "seznam.append('Nova stevilka')"
   ]
  },
  {
   "cell_type": "code",
   "execution_count": 114,
   "id": "620cc065",
   "metadata": {},
   "outputs": [
    {
     "data": {
      "text/plain": [
       "['01432143124', 'Nova stevilka']"
      ]
     },
     "execution_count": 114,
     "metadata": {},
     "output_type": "execute_result"
    }
   ],
   "source": [
    "seznam"
   ]
  },
  {
   "cell_type": "code",
   "execution_count": 115,
   "id": "da2bfa1c",
   "metadata": {},
   "outputs": [
    {
     "data": {
      "text/plain": [
       "{'Marko': ['04127722', '03143123421'],\n",
       " 'Miha': ['041888292', '051888888', '051888888'],\n",
       " 'Blaz': ['01432143124', 'Nova stevilka']}"
      ]
     },
     "execution_count": 115,
     "metadata": {},
     "output_type": "execute_result"
    }
   ],
   "source": [
    "imenik"
   ]
  },
  {
   "cell_type": "code",
   "execution_count": null,
   "id": "54d1f22b",
   "metadata": {},
   "outputs": [],
   "source": []
  },
  {
   "cell_type": "code",
   "execution_count": null,
   "id": "aa7481c3",
   "metadata": {},
   "outputs": [],
   "source": []
  },
  {
   "cell_type": "markdown",
   "id": "058931aa",
   "metadata": {},
   "source": [
    "### preberi telefonski imenik in shrani vse telefonske posamezne osebe"
   ]
  },
  {
   "cell_type": "code",
   "execution_count": 127,
   "id": "40c1288e",
   "metadata": {},
   "outputs": [],
   "source": [
    "imenik = {}\n",
    "for vrstica in open('datoteke/telefonske.txt'):\n",
    "    ime, telefonska = vrstica.split()\n",
    "    if ime in imenik:\n",
    "        imenik[ime].append(telefonska)\n",
    "    else:\n",
    "        imenik[ime] = [telefonska]"
   ]
  },
  {
   "cell_type": "code",
   "execution_count": 128,
   "id": "edef2fc4",
   "metadata": {},
   "outputs": [
    {
     "data": {
      "text/plain": [
       "{'Ana': ['0409381326', '0413339231'],\n",
       " 'Berta': ['0412399483'],\n",
       " 'Cilka': ['0312791485', '0417721128', '0407721128'],\n",
       " 'Dani': ['23013905'],\n",
       " 'Luka': ['0312921789']}"
      ]
     },
     "execution_count": 128,
     "metadata": {},
     "output_type": "execute_result"
    }
   ],
   "source": [
    "imenik"
   ]
  },
  {
   "cell_type": "code",
   "execution_count": null,
   "id": "b7c9b0e0",
   "metadata": {},
   "outputs": [],
   "source": []
  },
  {
   "cell_type": "code",
   "execution_count": 143,
   "id": "2adbccd3",
   "metadata": {},
   "outputs": [],
   "source": [
    "imenik = {}\n",
    "for vrstica in open('datoteke/telefonske.txt'):\n",
    "    ime, telefonska = vrstica.split()\n",
    "    imenik.setdefault(ime, []).append(telefonska)"
   ]
  },
  {
   "cell_type": "code",
   "execution_count": null,
   "id": "101acd30",
   "metadata": {},
   "outputs": [],
   "source": []
  },
  {
   "cell_type": "code",
   "execution_count": 140,
   "id": "750cf2c1",
   "metadata": {},
   "outputs": [],
   "source": [
    "slovar = {'Ana': [1,2,3], 'Berta': [1,2]}"
   ]
  },
  {
   "cell_type": "code",
   "execution_count": 142,
   "id": "4b181b7c",
   "metadata": {},
   "outputs": [
    {
     "data": {
      "text/plain": [
       "[]"
      ]
     },
     "execution_count": 142,
     "metadata": {},
     "output_type": "execute_result"
    }
   ],
   "source": [
    "slovar.setdefault('Martin', [])"
   ]
  },
  {
   "cell_type": "code",
   "execution_count": 144,
   "id": "f81edf32",
   "metadata": {},
   "outputs": [
    {
     "data": {
      "text/plain": [
       "{'Ana': [1, 2, 3], 'Berta': [1, 2], 'Martin': []}"
      ]
     },
     "execution_count": 144,
     "metadata": {},
     "output_type": "execute_result"
    }
   ],
   "source": [
    "slovar"
   ]
  },
  {
   "cell_type": "code",
   "execution_count": 146,
   "id": "61d5ea28",
   "metadata": {},
   "outputs": [
    {
     "data": {
      "text/plain": [
       "[1, 2, 3]"
      ]
     },
     "execution_count": 146,
     "metadata": {},
     "output_type": "execute_result"
    }
   ],
   "source": [
    "slovar.setdefault('Ana', [100,1001, 10001])"
   ]
  },
  {
   "cell_type": "code",
   "execution_count": 147,
   "id": "ec610234",
   "metadata": {},
   "outputs": [
    {
     "data": {
      "text/plain": [
       "{'Ana': [1, 2, 3], 'Berta': [1, 2], 'Martin': []}"
      ]
     },
     "execution_count": 147,
     "metadata": {},
     "output_type": "execute_result"
    }
   ],
   "source": [
    "slovar"
   ]
  },
  {
   "cell_type": "code",
   "execution_count": null,
   "id": "a691b013",
   "metadata": {},
   "outputs": [],
   "source": []
  },
  {
   "cell_type": "code",
   "execution_count": null,
   "id": "8679b84e",
   "metadata": {},
   "outputs": [],
   "source": []
  },
  {
   "cell_type": "code",
   "execution_count": null,
   "id": "5acda042",
   "metadata": {},
   "outputs": [],
   "source": []
  },
  {
   "cell_type": "code",
   "execution_count": null,
   "id": "adbb4f9b",
   "metadata": {},
   "outputs": [],
   "source": []
  },
  {
   "cell_type": "code",
   "execution_count": 116,
   "id": "7d7316fb",
   "metadata": {},
   "outputs": [],
   "source": [
    "seznam = [['ena', 'dva', 'tri'], [10,11,12], [0.3, 0.6], ['ena', 2, 'tri']]"
   ]
  },
  {
   "cell_type": "code",
   "execution_count": 117,
   "id": "6087eac9",
   "metadata": {},
   "outputs": [
    {
     "data": {
      "text/plain": [
       "[['ena', 'dva', 'tri'], [10, 11, 12], [0.3, 0.6], ['ena', 2, 'tri']]"
      ]
     },
     "execution_count": 117,
     "metadata": {},
     "output_type": "execute_result"
    }
   ],
   "source": [
    "seznam"
   ]
  },
  {
   "cell_type": "code",
   "execution_count": 118,
   "id": "83c25644",
   "metadata": {},
   "outputs": [],
   "source": [
    "seznam[0].append('stiri')"
   ]
  },
  {
   "cell_type": "code",
   "execution_count": 119,
   "id": "547e42c8",
   "metadata": {},
   "outputs": [
    {
     "data": {
      "text/plain": [
       "['ena', 'dva', 'tri', 'stiri']"
      ]
     },
     "execution_count": 119,
     "metadata": {},
     "output_type": "execute_result"
    }
   ],
   "source": [
    "seznam[0]"
   ]
  },
  {
   "cell_type": "code",
   "execution_count": 120,
   "id": "04e79559",
   "metadata": {},
   "outputs": [
    {
     "data": {
      "text/plain": [
       "[['ena', 'dva', 'tri', 'stiri'], [10, 11, 12], [0.3, 0.6], ['ena', 2, 'tri']]"
      ]
     },
     "execution_count": 120,
     "metadata": {},
     "output_type": "execute_result"
    }
   ],
   "source": [
    "seznam"
   ]
  },
  {
   "cell_type": "code",
   "execution_count": 122,
   "id": "bf532d24",
   "metadata": {},
   "outputs": [],
   "source": [
    "terke = [('ena', 'dva', 'tri'), (10,11,12), [0.3, 0.6], ['ena', 2, 'tri']]"
   ]
  },
  {
   "cell_type": "code",
   "execution_count": 123,
   "id": "596d7cf1",
   "metadata": {},
   "outputs": [
    {
     "data": {
      "text/plain": [
       "[('ena', 'dva', 'tri'), (10, 11, 12), [0.3, 0.6], ['ena', 2, 'tri']]"
      ]
     },
     "execution_count": 123,
     "metadata": {},
     "output_type": "execute_result"
    }
   ],
   "source": [
    "terke"
   ]
  },
  {
   "cell_type": "code",
   "execution_count": 124,
   "id": "901d1be0",
   "metadata": {},
   "outputs": [
    {
     "ename": "AttributeError",
     "evalue": "'tuple' object has no attribute 'append'",
     "output_type": "error",
     "traceback": [
      "\u001b[0;31m---------------------------------------------------------------------------\u001b[0m",
      "\u001b[0;31mAttributeError\u001b[0m                            Traceback (most recent call last)",
      "\u001b[0;32m<ipython-input-124-c2a0f1bab7ab>\u001b[0m in \u001b[0;36m<module>\u001b[0;34m\u001b[0m\n\u001b[0;32m----> 1\u001b[0;31m \u001b[0mterke\u001b[0m\u001b[0;34m[\u001b[0m\u001b[0;36m0\u001b[0m\u001b[0;34m]\u001b[0m\u001b[0;34m.\u001b[0m\u001b[0mappend\u001b[0m\u001b[0;34m(\u001b[0m\u001b[0;34m'stiri'\u001b[0m\u001b[0;34m)\u001b[0m\u001b[0;34m\u001b[0m\u001b[0;34m\u001b[0m\u001b[0m\n\u001b[0m",
      "\u001b[0;31mAttributeError\u001b[0m: 'tuple' object has no attribute 'append'"
     ]
    }
   ],
   "source": [
    "terke[0].append('stiri')"
   ]
  },
  {
   "cell_type": "code",
   "execution_count": 125,
   "id": "de28e3dc",
   "metadata": {},
   "outputs": [],
   "source": [
    "terke[2].append(0.8)"
   ]
  },
  {
   "cell_type": "code",
   "execution_count": 126,
   "id": "c9c5bdef",
   "metadata": {},
   "outputs": [
    {
     "data": {
      "text/plain": [
       "[('ena', 'dva', 'tri'), (10, 11, 12), [0.3, 0.6, 0.8], ['ena', 2, 'tri']]"
      ]
     },
     "execution_count": 126,
     "metadata": {},
     "output_type": "execute_result"
    }
   ],
   "source": [
    "terke"
   ]
  },
  {
   "cell_type": "code",
   "execution_count": null,
   "id": "792d171f",
   "metadata": {},
   "outputs": [],
   "source": []
  },
  {
   "cell_type": "code",
   "execution_count": null,
   "id": "bda08591",
   "metadata": {},
   "outputs": [],
   "source": []
  },
  {
   "cell_type": "code",
   "execution_count": null,
   "id": "e61b970c",
   "metadata": {},
   "outputs": [],
   "source": []
  },
  {
   "cell_type": "code",
   "execution_count": null,
   "id": "8b9c2e54",
   "metadata": {},
   "outputs": [],
   "source": []
  },
  {
   "cell_type": "code",
   "execution_count": 131,
   "id": "0fcbbf6f",
   "metadata": {},
   "outputs": [],
   "source": [
    "# primer rezultata, ki bi radi dobili\n",
    "frek = {\n",
    "    'A': 10,\n",
    "    'T': 7,\n",
    "    'C': 15,\n",
    "    'G': 8\n",
    "}"
   ]
  },
  {
   "cell_type": "code",
   "execution_count": 159,
   "id": "14103ebe",
   "metadata": {},
   "outputs": [],
   "source": [
    "seq = \"ACGAGAGTGCTGCGACGTGCACACAGTG\""
   ]
  },
  {
   "cell_type": "code",
   "execution_count": null,
   "id": "08c15771",
   "metadata": {},
   "outputs": [],
   "source": []
  },
  {
   "cell_type": "code",
   "execution_count": 160,
   "id": "4359d540",
   "metadata": {},
   "outputs": [],
   "source": [
    "frek = {}\n",
    "for znak in seq:\n",
    "    frek[znak] = frek.get(znak, 0) + 1"
   ]
  },
  {
   "cell_type": "code",
   "execution_count": 161,
   "id": "4fe9d0d9",
   "metadata": {},
   "outputs": [
    {
     "data": {
      "text/plain": [
       "{'A': 7, 'C': 7, 'G': 10, 'T': 4}"
      ]
     },
     "execution_count": 161,
     "metadata": {},
     "output_type": "execute_result"
    }
   ],
   "source": [
    "frek"
   ]
  },
  {
   "cell_type": "code",
   "execution_count": 155,
   "id": "2c296513",
   "metadata": {},
   "outputs": [
    {
     "data": {
      "text/plain": [
       "dict_keys(['M', 'a', 'r', 'k', 'o', ' ', 'i', 'n', 'e', 't'])"
      ]
     },
     "execution_count": 155,
     "metadata": {},
     "output_type": "execute_result"
    }
   ],
   "source": [
    "frek.keys()"
   ]
  },
  {
   "cell_type": "code",
   "execution_count": null,
   "id": "8ab4bfb4",
   "metadata": {},
   "outputs": [],
   "source": []
  },
  {
   "cell_type": "code",
   "execution_count": 156,
   "id": "2d241be7",
   "metadata": {},
   "outputs": [],
   "source": [
    "def prestej(niz):\n",
    "    frek = {}\n",
    "    for znak in niz:\n",
    "        frek[znak] = frek.get(znak, 0) + 1\n",
    "    return frek"
   ]
  },
  {
   "cell_type": "code",
   "execution_count": null,
   "id": "376500f1",
   "metadata": {},
   "outputs": [],
   "source": []
  },
  {
   "cell_type": "code",
   "execution_count": 162,
   "id": "36349910",
   "metadata": {},
   "outputs": [
    {
     "data": {
      "text/plain": [
       "{'A': 7, 'C': 7, 'G': 10, 'T': 4}"
      ]
     },
     "execution_count": 162,
     "metadata": {},
     "output_type": "execute_result"
    }
   ],
   "source": [
    "frek"
   ]
  },
  {
   "cell_type": "code",
   "execution_count": 163,
   "id": "9f58925f",
   "metadata": {},
   "outputs": [
    {
     "data": {
      "text/plain": [
       "{'a': 5, 'n': 3, 'b': 1}"
      ]
     },
     "execution_count": 163,
     "metadata": {},
     "output_type": "execute_result"
    }
   ],
   "source": [
    "prestej('anabanana')"
   ]
  },
  {
   "cell_type": "code",
   "execution_count": 164,
   "id": "b3d0ab17",
   "metadata": {},
   "outputs": [
    {
     "data": {
      "text/plain": [
       "{'A': 7, 'C': 7, 'G': 10, 'T': 4}"
      ]
     },
     "execution_count": 164,
     "metadata": {},
     "output_type": "execute_result"
    }
   ],
   "source": [
    "frek"
   ]
  },
  {
   "cell_type": "code",
   "execution_count": null,
   "id": "8448116b",
   "metadata": {},
   "outputs": [],
   "source": []
  },
  {
   "cell_type": "code",
   "execution_count": null,
   "id": "fc28a682",
   "metadata": {},
   "outputs": [],
   "source": []
  },
  {
   "cell_type": "code",
   "execution_count": 170,
   "id": "ba724e4a",
   "metadata": {},
   "outputs": [
    {
     "name": "stdout",
     "output_type": "stream",
     "text": [
      "Vrednost a pred klicem je 4\n",
      "Vrednost a med klicem je 2\n",
      "Vrednost a po klicu je 4\n"
     ]
    }
   ],
   "source": [
    "a = 4\n",
    "\n",
    "def mojafun(a): # spremeljive (argumentov in definiranih v funkciji) so lokalne\n",
    "    a = b\n",
    "    a = 2\n",
    "    print('Vrednost a med klicem je', a)\n",
    "\n",
    "b = \"nekaj\"\n",
    "print('Vrednost a pred klicem je', a)\n",
    "mojafun(\"eee\")\n",
    "print('Vrednost a po klicu je', a)"
   ]
  },
  {
   "cell_type": "code",
   "execution_count": null,
   "id": "eeb38e38",
   "metadata": {},
   "outputs": [],
   "source": []
  },
  {
   "cell_type": "code",
   "execution_count": 205,
   "id": "50294453",
   "metadata": {},
   "outputs": [],
   "source": [
    "niz = \"0123456789012\""
   ]
  },
  {
   "cell_type": "code",
   "execution_count": 206,
   "id": "87471f9f",
   "metadata": {},
   "outputs": [],
   "source": [
    "frek = {}\n",
    "i = 0\n",
    "while i < len(niz)-(3-1):\n",
    "    #print(i, niz[i:i+3])\n",
    "    kmer = niz[i:i+3]\n",
    "    frek[kmer] = frek.get(kmer, 0) + 1\n",
    "    i = i + 3"
   ]
  },
  {
   "cell_type": "code",
   "execution_count": 207,
   "id": "58ea114c",
   "metadata": {},
   "outputs": [
    {
     "data": {
      "text/plain": [
       "{'012': 1, '345': 1, '678': 1, '901': 1}"
      ]
     },
     "execution_count": 207,
     "metadata": {},
     "output_type": "execute_result"
    }
   ],
   "source": [
    "frek"
   ]
  },
  {
   "cell_type": "code",
   "execution_count": 211,
   "id": "35ea34fa",
   "metadata": {},
   "outputs": [],
   "source": [
    "# prestej_kmer(\"ATATATCG\", 2), neprekrivajoče\n",
    "# ->\n",
    "# {'AT': 3, 'CG': 1}\n",
    "\n",
    "def prestej_kmer(niz, k):\n",
    "    frek = {}\n",
    "    i = 0\n",
    "    while i < len(niz)-(k-1):\n",
    "        #print(i, niz[i:i+3])\n",
    "        kmer = niz[i:i+k]\n",
    "        frek[kmer] = frek.get(kmer, 0) + 1\n",
    "        i = i + k \n",
    "    return frek"
   ]
  },
  {
   "cell_type": "code",
   "execution_count": 213,
   "id": "4ca18654",
   "metadata": {},
   "outputs": [
    {
     "data": {
      "text/plain": [
       "{'ATA': 1, 'TAT': 1}"
      ]
     },
     "execution_count": 213,
     "metadata": {},
     "output_type": "execute_result"
    }
   ],
   "source": [
    "prestej_kmer('ATATATCG', 3)"
   ]
  },
  {
   "cell_type": "code",
   "execution_count": 176,
   "id": "22df2975",
   "metadata": {},
   "outputs": [
    {
     "data": {
      "text/plain": [
       "'012'"
      ]
     },
     "execution_count": 176,
     "metadata": {},
     "output_type": "execute_result"
    }
   ],
   "source": [
    "niz[0:3]"
   ]
  },
  {
   "cell_type": "code",
   "execution_count": 214,
   "id": "4fd23644",
   "metadata": {},
   "outputs": [],
   "source": [
    "# prestej_kmer_prekrivajoce(\"ATATATCG\", 2), neprekrivajoče\n",
    "# ->\n",
    "# {'AT': 3, 'TA': 2, 'TC': 1, CG': 1}\n",
    "\n",
    "def prestej_kmer_prekrivajoce(niz, k):\n",
    "    frek = {}\n",
    "    i = 0\n",
    "    while i < len(niz)-(k-1):\n",
    "        #print(i, niz[i:i+3])\n",
    "        kmer = niz[i:i+k]\n",
    "        frek[kmer] = frek.get(kmer, 0) + 1\n",
    "        i = i + 1\n",
    "    return frek"
   ]
  },
  {
   "cell_type": "code",
   "execution_count": 215,
   "id": "c4138460",
   "metadata": {},
   "outputs": [
    {
     "data": {
      "text/plain": [
       "{'AT': 3, 'TA': 2, 'TC': 1, 'CG': 1}"
      ]
     },
     "execution_count": 215,
     "metadata": {},
     "output_type": "execute_result"
    }
   ],
   "source": [
    "prestej_kmer_prekrivajoce('ATATATCG', 2)"
   ]
  },
  {
   "cell_type": "code",
   "execution_count": 177,
   "id": "52f8ca5c",
   "metadata": {},
   "outputs": [
    {
     "data": {
      "text/plain": [
       "'345'"
      ]
     },
     "execution_count": 177,
     "metadata": {},
     "output_type": "execute_result"
    }
   ],
   "source": [
    "niz[3:6]"
   ]
  },
  {
   "cell_type": "markdown",
   "id": "8bce27e4",
   "metadata": {},
   "source": [
    "## Risanje"
   ]
  },
  {
   "cell_type": "code",
   "execution_count": 217,
   "id": "9389be9f",
   "metadata": {},
   "outputs": [],
   "source": [
    "import matplotlib.pyplot as plt"
   ]
  },
  {
   "cell_type": "code",
   "execution_count": 218,
   "id": "5ec6e138",
   "metadata": {},
   "outputs": [
    {
     "data": {
      "text/plain": [
       "[<matplotlib.lines.Line2D at 0x7f70a7840580>]"
      ]
     },
     "execution_count": 218,
     "metadata": {},
     "output_type": "execute_result"
    },
    {
     "data": {
      "image/png": "[encoded data removed]",
      "text/plain": [
       "<Figure size 432x288 with 1 Axes>"
      ]
     },
     "metadata": {
      "needs_background": "light"
     },
     "output_type": "display_data"
    }
   ],
   "source": [
    "plt.plot([2, 3, 1, 0.5])"
   ]
  },
  {
   "cell_type": "code",
   "execution_count": 219,
   "id": "60c0990a",
   "metadata": {},
   "outputs": [
    {
     "data": {
      "text/plain": [
       "[<matplotlib.lines.Line2D at 0x7f70a773ceb0>]"
      ]
     },
     "execution_count": 219,
     "metadata": {},
     "output_type": "execute_result"
    },
    {
     "data": {
      "image/png": "[encoded data removed]",
      "text/plain": [
       "<Figure size 432x288 with 1 Axes>"
      ]
     },
     "metadata": {
      "needs_background": "light"
     },
     "output_type": "display_data"
    }
   ],
   "source": [
    "plt.plot([100, 101, 102, 103], [2, 3, 1, 0.5])"
   ]
  },
  {
   "cell_type": "code",
   "execution_count": 220,
   "id": "cd7d80ca",
   "metadata": {},
   "outputs": [
    {
     "data": {
      "text/plain": [
       "[<matplotlib.lines.Line2D at 0x7f70a772fb50>]"
      ]
     },
     "execution_count": 220,
     "metadata": {},
     "output_type": "execute_result"
    },
    {
     "data": {
      "image/png": "[encoded data removed]",
      "text/plain": [
       "<Figure size 432x288 with 1 Axes>"
      ]
     },
     "metadata": {
      "needs_background": "light"
     },
     "output_type": "display_data"
    }
   ],
   "source": [
    "plt.plot([2, 3, 1, 0.5], lw=3)"
   ]
  },
  {
   "cell_type": "code",
   "execution_count": 223,
   "id": "735066b2",
   "metadata": {},
   "outputs": [
    {
     "data": {
      "text/plain": [
       "[<matplotlib.lines.Line2D at 0x7f70a75e4d60>]"
      ]
     },
     "execution_count": 223,
     "metadata": {},
     "output_type": "execute_result"
    },
    {
     "data": {
      "image/png": "[encoded data removed]",
      "text/plain": [
       "<Figure size 432x288 with 1 Axes>"
      ]
     },
     "metadata": {
      "needs_background": "light"
     },
     "output_type": "display_data"
    }
   ],
   "source": [
    "plt.plot([2, 3, 1, 0.5], 'o', ms=10)"
   ]
  },
  {
   "cell_type": "code",
   "execution_count": 226,
   "id": "8e0a66e9",
   "metadata": {},
   "outputs": [
    {
     "data": {
      "image/png": "[encoded data removed]",
      "text/plain": [
       "<Figure size 432x288 with 1 Axes>"
      ]
     },
     "metadata": {
      "needs_background": "light"
     },
     "output_type": "display_data"
    }
   ],
   "source": [
    "plt.plot([2, 3, 1, 0.5], lw=3)\n",
    "plt.plot([2, 3, 1, 0.5], 'o', ms=10)\n",
    "plt.savefig('mojagraf.png')"
   ]
  },
  {
   "cell_type": "code",
   "execution_count": 231,
   "id": "e4a7c4b0",
   "metadata": {},
   "outputs": [
    {
     "data": {
      "image/png": "[encoded data removed]",
      "text/plain": [
       "<Figure size 432x288 with 1 Axes>"
      ]
     },
     "metadata": {
      "needs_background": "light"
     },
     "output_type": "display_data"
    }
   ],
   "source": [
    "plt.bar([0, 1, 2, 3], [2,3,1,0.5])\n",
    "plt.title('Podatki o necem')\n",
    "plt.xlabel('kategorije')\n",
    "plt.ylabel('frekvenca')\n",
    "plt.xticks([0, 1, 2, 3], ['A', 'B', 'C', 'D']);"
   ]
  },
  {
   "cell_type": "code",
   "execution_count": 232,
   "id": "45a7f945",
   "metadata": {},
   "outputs": [
    {
     "data": {
      "text/plain": [
       "{'Ana': [70, 71, 72],\n",
       " 'Berta': [90, 85],\n",
       " 'Cilka': [77, 75, 72, 70],\n",
       " 'Eva': [50, 48, 50]}"
      ]
     },
     "execution_count": 232,
     "metadata": {},
     "output_type": "execute_result"
    }
   ],
   "source": [
    "teze_zgodovina"
   ]
  },
  {
   "cell_type": "code",
   "execution_count": 236,
   "id": "a2d6e0ac",
   "metadata": {},
   "outputs": [
    {
     "data": {
      "text/plain": [
       "<matplotlib.legend.Legend at 0x7f70a7186d90>"
      ]
     },
     "execution_count": 236,
     "metadata": {},
     "output_type": "execute_result"
    },
    {
     "data": {
      "image/png": "[encoded data removed]",
      "text/plain": [
       "<Figure size 432x288 with 1 Axes>"
      ]
     },
     "metadata": {
      "needs_background": "light"
     },
     "output_type": "display_data"
    }
   ],
   "source": [
    "for ime, teze in teze_zgodovina.items():\n",
    "    plt.plot(teze, lw=3, label=ime)\n",
    "\n",
    "plt.xlabel('zaporedna meritev')\n",
    "plt.ylabel('telesna teža')\n",
    "plt.title('Zgodovina telesnih tež')\n",
    "plt.legend()"
   ]
  },
  {
   "cell_type": "code",
   "execution_count": null,
   "id": "b6dbd01b",
   "metadata": {},
   "outputs": [],
   "source": []
  }
 ],
 "metadata": {
  "kernelspec": {
   "display_name": "Python 3",
   "language": "python",
   "name": "python3"
  },
  "language_info": {
   "codemirror_mode": {
    "name": "ipython",
    "version": 3
   },
   "file_extension": ".py",
   "mimetype": "text/x-python",
   "name": "python",
   "nbconvert_exporter": "python",
   "pygments_lexer": "ipython3",
   "version": "3.9.12"
  }
 },
 "nbformat": 4,
 "nbformat_minor": 5
}
