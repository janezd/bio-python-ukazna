{
 "cells": [
  {
   "cell_type": "markdown",
   "id": "a424cbb7-584a-434e-b26b-c10b1fcc9072",
   "metadata": {},
   "source": [
    "# Nizi"
   ]
  },
  {
   "cell_type": "code",
   "execution_count": null,
   "id": "4bb6fcef-ddc8-404d-a1cd-323f3dd83387",
   "metadata": {
    "tags": []
   },
   "outputs": [],
   "source": [
    "s = \"Ana 72 1.70\""
   ]
  },
  {
   "cell_type": "code",
   "execution_count": null,
   "id": "cfb59646-9593-4a50-b876-892ff4306dce",
   "metadata": {
    "tags": []
   },
   "outputs": [],
   "source": [
    "s.count(\" \")"
   ]
  },
  {
   "cell_type": "code",
   "execution_count": null,
   "id": "77f8ce47-5a78-40a1-b9cd-316030d7b059",
   "metadata": {
    "tags": []
   },
   "outputs": [],
   "source": [
    "sequence = \"ACGATCGAGCACATGAGCGAT\""
   ]
  },
  {
   "cell_type": "code",
   "execution_count": null,
   "id": "a9daf434-ba97-4541-87bf-ce35ac1d8520",
   "metadata": {
    "tags": []
   },
   "outputs": [],
   "source": [
    "sequence.count(\"A\")"
   ]
  },
  {
   "cell_type": "code",
   "execution_count": null,
   "id": "b2880df5-1bcb-41e2-ba1c-7e0e9a01aad6",
   "metadata": {
    "tags": []
   },
   "outputs": [],
   "source": [
    "A_fr = sequence.count(\"A\")"
   ]
  },
  {
   "cell_type": "code",
   "execution_count": null,
   "id": "b143e657-2087-4f82-80c3-79260244a6ce",
   "metadata": {
    "tags": []
   },
   "outputs": [],
   "source": [
    "A_fr"
   ]
  },
  {
   "cell_type": "code",
   "execution_count": null,
   "id": "b2930a9b-7d1b-439e-9c76-3ea46c278ea6",
   "metadata": {
    "tags": []
   },
   "outputs": [],
   "source": [
    "len(sequence)"
   ]
  },
  {
   "cell_type": "code",
   "execution_count": null,
   "id": "cef36b0d-5357-4a41-9636-6dbb51ca9307",
   "metadata": {
    "tags": []
   },
   "outputs": [],
   "source": [
    "sequence.count(\"a\")/len(sequence)"
   ]
  },
  {
   "cell_type": "code",
   "execution_count": null,
   "id": "a07ff2de-54f5-4ebb-86d8-6a5826225b77",
   "metadata": {
    "tags": []
   },
   "outputs": [],
   "source": [
    "sequence = sequence.lower()"
   ]
  },
  {
   "cell_type": "code",
   "execution_count": null,
   "id": "2131d763-b69a-40e2-965d-b638ccb68740",
   "metadata": {
    "tags": []
   },
   "outputs": [],
   "source": [
    "sequence.count(\"a\")/len(sequence)"
   ]
  },
  {
   "cell_type": "markdown",
   "id": "e8dd1588-c0d3-452e-9cf9-aee672771fe9",
   "metadata": {},
   "source": [
    "# Seznami"
   ]
  },
  {
   "cell_type": "code",
   "execution_count": null,
   "id": "8ad223b4-1a31-4e8e-bc38-0e4453b466aa",
   "metadata": {
    "tags": []
   },
   "outputs": [],
   "source": [
    "imena = [\"Ana\", \"Berta\", \"Cilka\", \"Dani\"]"
   ]
  },
  {
   "cell_type": "code",
   "execution_count": null,
   "id": "b5d3620e-84a8-4431-99b9-43a66638a1d6",
   "metadata": {
    "tags": []
   },
   "outputs": [],
   "source": [
    "imena"
   ]
  },
  {
   "cell_type": "code",
   "execution_count": null,
   "id": "f5e195cb-96e8-4e8a-a3b0-2edf4a768a5c",
   "metadata": {
    "tags": []
   },
   "outputs": [],
   "source": [
    "imena[3]"
   ]
  },
  {
   "cell_type": "code",
   "execution_count": null,
   "id": "90911bf4-3651-4fb0-b689-76316f9374bc",
   "metadata": {
    "tags": []
   },
   "outputs": [],
   "source": [
    "imena[4]"
   ]
  },
  {
   "cell_type": "code",
   "execution_count": null,
   "id": "0bf7ea51-4f09-48fc-8cd3-a5375d0b0ee6",
   "metadata": {
    "tags": []
   },
   "outputs": [],
   "source": [
    "teze = [56, 76, 80, 67, 60]"
   ]
  },
  {
   "cell_type": "code",
   "execution_count": null,
   "id": "00b6a716-2c31-473b-8f5f-d4449c6a67d0",
   "metadata": {
    "tags": []
   },
   "outputs": [],
   "source": [
    "vsota = 0\n",
    "for t in teze:\n",
    "    vsota = vsota + t\n",
    "print(vsota)"
   ]
  },
  {
   "cell_type": "code",
   "execution_count": null,
   "id": "4277a1fc-3be9-4961-8c7d-84ce50981ab1",
   "metadata": {
    "tags": []
   },
   "outputs": [],
   "source": [
    "vsota = 0\n",
    "for t in teze:\n",
    "    vsota = vsota + t\n",
    "vsota = vsota / len(teze)\n",
    "print(vsota)"
   ]
  },
  {
   "cell_type": "code",
   "execution_count": null,
   "id": "9c0a4879-5ce7-4ba3-9835-d6866ac1b8ef",
   "metadata": {
    "tags": []
   },
   "outputs": [],
   "source": [
    "s"
   ]
  },
  {
   "cell_type": "code",
   "execution_count": null,
   "id": "854e5010-8b36-4e97-a147-ec83953f8755",
   "metadata": {
    "tags": []
   },
   "outputs": [],
   "source": [
    "for x in s:\n",
    "    print(x)"
   ]
  },
  {
   "cell_type": "code",
   "execution_count": null,
   "id": "b4aeb288-af7a-419d-a486-dbd1aa51c35d",
   "metadata": {
    "tags": []
   },
   "outputs": [],
   "source": [
    "teze"
   ]
  },
  {
   "cell_type": "code",
   "execution_count": null,
   "id": "65d55ed1-d038-490b-9008-fdaa286f2df0",
   "metadata": {
    "tags": []
   },
   "outputs": [],
   "source": [
    "teze.sort()"
   ]
  },
  {
   "cell_type": "code",
   "execution_count": null,
   "id": "ecdc87ec-5b83-4053-a5a9-935289c4eec1",
   "metadata": {
    "tags": []
   },
   "outputs": [],
   "source": [
    "teze"
   ]
  },
  {
   "cell_type": "code",
   "execution_count": null,
   "id": "a00c4c7f-271b-48df-8950-24fa8cbc29d5",
   "metadata": {
    "tags": []
   },
   "outputs": [],
   "source": [
    "teze.append(100)"
   ]
  },
  {
   "cell_type": "code",
   "execution_count": null,
   "id": "5574e015-847d-4f74-b031-c033280c2dd6",
   "metadata": {
    "tags": []
   },
   "outputs": [],
   "source": [
    "teze"
   ]
  },
  {
   "cell_type": "code",
   "execution_count": null,
   "id": "5047f272-e683-43bd-8304-d114d6018d40",
   "metadata": {
    "tags": []
   },
   "outputs": [],
   "source": [
    "max(teze)"
   ]
  },
  {
   "cell_type": "code",
   "execution_count": null,
   "id": "f7b113c9-de40-4c1e-994f-111c1fb0ea76",
   "metadata": {
    "tags": []
   },
   "outputs": [],
   "source": [
    "min(teze)"
   ]
  },
  {
   "cell_type": "code",
   "execution_count": null,
   "id": "6050e83c-0341-470d-8716-858f32f0008d",
   "metadata": {
    "tags": []
   },
   "outputs": [],
   "source": [
    "imena"
   ]
  },
  {
   "cell_type": "code",
   "execution_count": null,
   "id": "2b89d310-d039-4adf-8d84-c2df66acca2c",
   "metadata": {
    "tags": []
   },
   "outputs": [],
   "source": [
    "max(imena)"
   ]
  },
  {
   "cell_type": "code",
   "execution_count": null,
   "id": "14630753-166d-444a-8b01-4816b1952242",
   "metadata": {
    "tags": []
   },
   "outputs": [],
   "source": [
    "imena.append('Z')"
   ]
  },
  {
   "cell_type": "code",
   "execution_count": null,
   "id": "30289200-7196-42f3-8ea5-364d09d0add6",
   "metadata": {
    "tags": []
   },
   "outputs": [],
   "source": [
    "max(imena)"
   ]
  },
  {
   "cell_type": "code",
   "execution_count": null,
   "id": "628c74c7-5773-41d6-9b86-4eb2bb4773ea",
   "metadata": {
    "tags": []
   },
   "outputs": [],
   "source": [
    "imena"
   ]
  },
  {
   "cell_type": "code",
   "execution_count": null,
   "id": "f78b0804-19f4-4cf8-9e45-28675d6e74d8",
   "metadata": {
    "tags": []
   },
   "outputs": [],
   "source": [
    "imena.extend(['Iva', 'Metka', 'Mojca'])"
   ]
  },
  {
   "cell_type": "code",
   "execution_count": null,
   "id": "10cd009c-4c78-4d4e-9937-a29146758e6e",
   "metadata": {
    "tags": []
   },
   "outputs": [],
   "source": [
    "imena"
   ]
  },
  {
   "cell_type": "code",
   "execution_count": null,
   "id": "ded0448d-f6dc-4d17-a180-fa5d9f19a3c9",
   "metadata": {
    "tags": []
   },
   "outputs": [],
   "source": [
    "imena.append(['Marko', 'Robi'])"
   ]
  },
  {
   "cell_type": "code",
   "execution_count": null,
   "id": "56f01286-2d5d-40cf-9de1-96d66b79237d",
   "metadata": {
    "tags": []
   },
   "outputs": [],
   "source": [
    "imena"
   ]
  },
  {
   "cell_type": "code",
   "execution_count": null,
   "id": "d533a92d-68a9-4a25-b706-05454abbd5a0",
   "metadata": {
    "tags": []
   },
   "outputs": [],
   "source": [
    "imena.append('Toni')"
   ]
  },
  {
   "cell_type": "code",
   "execution_count": null,
   "id": "081bc52e-bc83-4e5f-8672-6f6c12026b73",
   "metadata": {
    "tags": []
   },
   "outputs": [],
   "source": [
    "imena"
   ]
  },
  {
   "cell_type": "code",
   "execution_count": null,
   "id": "86e3ad43-60f7-48af-96da-53b126362c8c",
   "metadata": {
    "tags": []
   },
   "outputs": [],
   "source": [
    "for ime in imena:\n",
    "    print(ime)"
   ]
  },
  {
   "cell_type": "code",
   "execution_count": null,
   "id": "9f669568-b523-4d74-a1b4-b899eda9b0f4",
   "metadata": {
    "tags": []
   },
   "outputs": [],
   "source": [
    "s"
   ]
  },
  {
   "cell_type": "code",
   "execution_count": null,
   "id": "47de051f-8afd-44a7-8850-4ac34fcb9018",
   "metadata": {
    "tags": []
   },
   "outputs": [],
   "source": [
    "s.split()"
   ]
  },
  {
   "cell_type": "markdown",
   "id": "82fb16fc-969b-46f0-b73a-022876b21721",
   "metadata": {},
   "source": [
    "# Preberi query-dna.txt in poročaj o številu \"a\" v zaporedju posameznega gena"
   ]
  },
  {
   "cell_type": "code",
   "execution_count": null,
   "id": "ec0d8b5d-e7c7-4cea-991e-7457b42fb962",
   "metadata": {
    "tags": []
   },
   "outputs": [],
   "source": [
    "for vrstica in open(\"querty-dna.txt\"):\n",
    "    gen, sekvenca = vrstica.split()\n",
    "    fr = sekvenca.count(\"a\")\n",
    "    print(gen, fr)"
   ]
  },
  {
   "cell_type": "code",
   "execution_count": null,
   "id": "5aaa7a2a-d9ee-462b-92c8-f6ac440d385a",
   "metadata": {
    "tags": []
   },
   "outputs": [],
   "source": [
    "geni = []\n",
    "for vrstica in open(\"querty-dna.txt\"):\n",
    "    gen, sekvenca = vrstica.split()\n",
    "    fr = sekvenca.count(\"a\")\n",
    "    geni.append( (fr, gen) )"
   ]
  },
  {
   "cell_type": "code",
   "execution_count": null,
   "id": "125c272c-4d50-4f2e-ba55-133636166b16",
   "metadata": {
    "tags": []
   },
   "outputs": [],
   "source": [
    "geni"
   ]
  },
  {
   "cell_type": "code",
   "execution_count": null,
   "id": "5673336d-c4bc-445b-b2ae-58aad023eb1f",
   "metadata": {
    "tags": []
   },
   "outputs": [],
   "source": [
    "max(geni)"
   ]
  },
  {
   "cell_type": "code",
   "execution_count": null,
   "id": "1c3572f3-06da-4945-bddc-f3911f71d7ff",
   "metadata": {
    "tags": []
   },
   "outputs": [],
   "source": [
    "geni.append((32, 'ABC'))"
   ]
  },
  {
   "cell_type": "code",
   "execution_count": null,
   "id": "58239b23-9e7c-4539-a115-2fe922ab1e55",
   "metadata": {
    "tags": []
   },
   "outputs": [],
   "source": [
    "geni"
   ]
  },
  {
   "cell_type": "code",
   "execution_count": null,
   "id": "a635c2e6-ca9b-42ae-a5e9-81b0e66e92d0",
   "metadata": {
    "tags": []
   },
   "outputs": [],
   "source": [
    "max(geni)"
   ]
  },
  {
   "cell_type": "code",
   "execution_count": null,
   "id": "7c9f0493-8099-452b-9352-bde083d47245",
   "metadata": {
    "tags": []
   },
   "outputs": [],
   "source": [
    "geni.append((32, 'ZABC'))"
   ]
  },
  {
   "cell_type": "code",
   "execution_count": null,
   "id": "93d0ee62-f008-48f5-b3a8-53e002b4ee8c",
   "metadata": {
    "tags": []
   },
   "outputs": [],
   "source": [
    "max(geni)"
   ]
  },
  {
   "cell_type": "markdown",
   "id": "44e518b5-d5ae-4f53-8e6a-307c70a98c51",
   "metadata": {},
   "source": [
    "# Slovar\n",
    "\n",
    "ključ: vrednost"
   ]
  },
  {
   "cell_type": "code",
   "execution_count": null,
   "id": "472137fd-0235-4efa-b1a2-40ebdd72efdc",
   "metadata": {
    "tags": []
   },
   "outputs": [],
   "source": [
    "teze = {\"Ana\": 72, \"Berta\": 85, \"Eva\": 50}"
   ]
  },
  {
   "cell_type": "code",
   "execution_count": null,
   "id": "a0ceacbb-e3fd-4f27-8bba-aba99e4d4ec6",
   "metadata": {
    "tags": []
   },
   "outputs": [],
   "source": [
    "teze"
   ]
  },
  {
   "cell_type": "code",
   "execution_count": null,
   "id": "e6c862d9-4e93-4eb2-8759-2a35d54ab58d",
   "metadata": {
    "tags": []
   },
   "outputs": [],
   "source": [
    "teze[0]"
   ]
  },
  {
   "cell_type": "code",
   "execution_count": null,
   "id": "06dc94d3-f53b-4b6a-b38a-097dd3872d52",
   "metadata": {
    "tags": []
   },
   "outputs": [],
   "source": [
    "teze[\"Ana\"]"
   ]
  },
  {
   "cell_type": "code",
   "execution_count": null,
   "id": "ab4984a0-7638-464f-9090-dc1d168a5674",
   "metadata": {
    "tags": []
   },
   "outputs": [],
   "source": [
    "teze[\"Berta\"]"
   ]
  },
  {
   "cell_type": "code",
   "execution_count": null,
   "id": "ff51d2a0-ae0c-4de9-be36-d01c551174dd",
   "metadata": {
    "tags": []
   },
   "outputs": [],
   "source": [
    "teze[\"Micka\"]"
   ]
  },
  {
   "cell_type": "code",
   "execution_count": null,
   "id": "19eed30b-6a19-4d83-a2aa-82321036b4f5",
   "metadata": {
    "tags": []
   },
   "outputs": [],
   "source": [
    "teze"
   ]
  },
  {
   "cell_type": "code",
   "execution_count": null,
   "id": "1aafcd10-e77e-4d0f-a13f-5220c41c6e9d",
   "metadata": {
    "tags": []
   },
   "outputs": [],
   "source": [
    "teze.get(\"Ana\", 0)"
   ]
  },
  {
   "cell_type": "code",
   "execution_count": null,
   "id": "4dcf2d00-b604-4f67-a16a-0c42d8ff61de",
   "metadata": {
    "tags": []
   },
   "outputs": [],
   "source": [
    "teze.get(\"Micka\", [\"ena\", \"dva\", \"tri\"])"
   ]
  },
  {
   "cell_type": "markdown",
   "id": "911b2c32-10ce-45a7-9105-b385605a7140",
   "metadata": {},
   "source": [
    "## dodajanje"
   ]
  },
  {
   "cell_type": "code",
   "execution_count": null,
   "id": "c404b213-dcf4-414e-bab1-122781595103",
   "metadata": {
    "tags": []
   },
   "outputs": [],
   "source": [
    "teze[\"Martin\"] = 60"
   ]
  },
  {
   "cell_type": "code",
   "execution_count": null,
   "id": "c22267ff-df51-4a0e-823b-eb71238a795a",
   "metadata": {
    "tags": []
   },
   "outputs": [],
   "source": [
    "teze"
   ]
  },
  {
   "cell_type": "code",
   "execution_count": null,
   "id": "047c3703-2cd2-4c33-98d6-c2b5f7518b49",
   "metadata": {
    "tags": []
   },
   "outputs": [],
   "source": [
    "teze[\"Martin\"] = 70"
   ]
  },
  {
   "cell_type": "code",
   "execution_count": null,
   "id": "3d12bf4d-8037-4043-af32-c7170e8289b6",
   "metadata": {
    "tags": []
   },
   "outputs": [],
   "source": [
    "teze"
   ]
  },
  {
   "cell_type": "code",
   "execution_count": null,
   "id": "e7a235a9-b034-4805-8b4d-5bc701e5554a",
   "metadata": {
    "tags": []
   },
   "outputs": [],
   "source": [
    "teze[\"Ana\"] = 70"
   ]
  },
  {
   "cell_type": "code",
   "execution_count": null,
   "id": "7c41da60-9594-4c97-a595-0ae4c6e3f359",
   "metadata": {
    "tags": []
   },
   "outputs": [],
   "source": [
    "teze"
   ]
  },
  {
   "cell_type": "markdown",
   "id": "7dd03175-9b0b-49e2-932c-5abf0bbf378f",
   "metadata": {},
   "source": [
    "## brisanje"
   ]
  },
  {
   "cell_type": "code",
   "execution_count": null,
   "id": "f7e984c2-7526-47e0-a370-fa6d1fa3c93d",
   "metadata": {
    "tags": []
   },
   "outputs": [],
   "source": [
    "del teze[\"Ana\"]"
   ]
  },
  {
   "cell_type": "code",
   "execution_count": null,
   "id": "a5140197-f73a-422a-9c81-eb358a02024c",
   "metadata": {
    "tags": []
   },
   "outputs": [],
   "source": [
    "teze"
   ]
  },
  {
   "cell_type": "markdown",
   "id": "525b9023-63f1-4e63-932e-8ba9df135512",
   "metadata": {},
   "source": [
    "## dostopanje do elementov"
   ]
  },
  {
   "cell_type": "code",
   "execution_count": null,
   "id": "fdc19cc6-c84d-4755-a024-fbbdb2f48266",
   "metadata": {
    "tags": []
   },
   "outputs": [],
   "source": [
    "teze.items()"
   ]
  },
  {
   "cell_type": "code",
   "execution_count": null,
   "id": "c1521ede-949a-4a27-b384-5d97d3045cfe",
   "metadata": {
    "tags": []
   },
   "outputs": [],
   "source": [
    "for k, v in teze.items():\n",
    "    print(k, v)"
   ]
  },
  {
   "cell_type": "code",
   "execution_count": null,
   "id": "0c86b8af-7829-4946-a127-9e7213cb6009",
   "metadata": {
    "tags": []
   },
   "outputs": [],
   "source": [
    "teze.keys()"
   ]
  },
  {
   "cell_type": "code",
   "execution_count": null,
   "id": "c9702215-d5a7-4569-be14-5def123eb99e",
   "metadata": {
    "tags": []
   },
   "outputs": [],
   "source": [
    "teze.values()"
   ]
  },
  {
   "cell_type": "markdown",
   "id": "16edd1dc-e879-4907-b155-c2c4fc7133f1",
   "metadata": {},
   "source": [
    "## Slovar lahko vsebuje sezname (ali karkoli drugega)"
   ]
  },
  {
   "cell_type": "code",
   "execution_count": null,
   "id": "54f47dee-e80f-4767-b0b4-c7231474eeb9",
   "metadata": {
    "tags": []
   },
   "outputs": [],
   "source": [
    "teze_zgodovina = {\"Ana\": [70, 71, 72], 'Berta': [90, 85], 'Cilka': [77, 75, 72, 70], 'Eva': [50, 48, 50]}"
   ]
  },
  {
   "cell_type": "code",
   "execution_count": null,
   "id": "c9baea4a-c3da-416e-9f3d-7e1214169b4b",
   "metadata": {
    "tags": []
   },
   "outputs": [],
   "source": [
    "teze_zgodovina"
   ]
  },
  {
   "cell_type": "markdown",
   "id": "2ef4b277-01b9-43e4-b614-1ae19920d78d",
   "metadata": {},
   "source": [
    "## Za vsako osebo izpiši, ali je shujšala ali se zredila."
   ]
  },
  {
   "cell_type": "code",
   "execution_count": null,
   "id": "fd7badec-5986-4ac2-b07f-f5d68c2d744a",
   "metadata": {
    "tags": []
   },
   "outputs": [],
   "source": [
    "for ime, zgodovina in teze_zgodovina.items():\n",
    "    # print(ime, zgodovina)\n",
    "    if zgodovina[0] < zgodovina[-1]:\n",
    "        print(ime, \"se je zredila za \", zgodovina[-1]-zgodovina[0], \"kg\")\n",
    "    elif zgodovina[0] > zgodovina[-1]:\n",
    "        print(ime, \"je shujšala za \", zgodovina[0]-zgodovina[-1], \"kg\")\n",
    "    else: # if zgodovina[0] == zgodovina[-1]:\n",
    "        print(ime, \"ni spremembe\")"
   ]
  },
  {
   "cell_type": "code",
   "execution_count": null,
   "id": "a6aab9ab-496a-4b39-8779-6115ec372e6d",
   "metadata": {
    "tags": []
   },
   "outputs": [],
   "source": [
    "imena = ['Ana', 'Berta', 'Cilka', 'Dani']"
   ]
  },
  {
   "cell_type": "code",
   "execution_count": null,
   "id": "7090537b-ac2a-40c9-889c-a24bf4eea13f",
   "metadata": {
    "tags": []
   },
   "outputs": [],
   "source": [
    "imena"
   ]
  },
  {
   "cell_type": "code",
   "execution_count": null,
   "id": "b8452de4-faf9-4fe6-824d-d6ae656a4193",
   "metadata": {
    "tags": []
   },
   "outputs": [],
   "source": [
    "imena[0]"
   ]
  },
  {
   "cell_type": "code",
   "execution_count": null,
   "id": "c74223b8-bd07-421e-871c-dad418503819",
   "metadata": {
    "tags": []
   },
   "outputs": [],
   "source": [
    "imena[-1]"
   ]
  },
  {
   "cell_type": "markdown",
   "id": "b874a5cd-d4d9-4e27-9e23-6d841c9784d9",
   "metadata": {},
   "source": [
    "## preberi datoteke/telefonske.txt in za vsako osebo izpiši vse njegove telefonske številke"
   ]
  },
  {
   "cell_type": "code",
   "execution_count": null,
   "id": "2f414fe0-c0c8-4044-a0a4-75cb19e3940c",
   "metadata": {
    "tags": []
   },
   "outputs": [],
   "source": [
    "imenik = {} # ključ: \"ime osebe\", vrednost: [seznam telefonskih]\n",
    "for vrstica in open('telefonske.txt'):\n",
    "    ime, tel = vrstica.split()\n",
    "    trenutni_seznam = imenik.get(ime, [])\n",
    "    trenutni_seznam.append(tel)\n",
    "    imenik[ime] = trenutni_seznam # šele tukaj dodamo seznam tel. št. za ime"
   ]
  },
  {
   "cell_type": "code",
   "execution_count": null,
   "id": "0954fed8-bbdc-4bd8-bf5d-2eb4d0f92e9a",
   "metadata": {
    "tags": []
   },
   "outputs": [],
   "source": [
    "imenik"
   ]
  },
  {
   "cell_type": "code",
   "execution_count": null,
   "id": "50eec31d-fc4b-4db3-a889-e8d69d1d9787",
   "metadata": {
    "tags": []
   },
   "outputs": [],
   "source": [
    "imenik = {} # ključ: \"ime osebe\", vrednost: [seznam telefonskih]\n",
    "for vrstica in open('telefonske.txt'):\n",
    "    ime, tel = vrstica.split()\n",
    "    imenik.setdefault(ime, []).append(tel)"
   ]
  },
  {
   "cell_type": "code",
   "execution_count": null,
   "id": "a7e525ad-de07-4a44-97cc-bf6e5ec3de5f",
   "metadata": {
    "tags": []
   },
   "outputs": [],
   "source": [
    "imenik"
   ]
  },
  {
   "cell_type": "markdown",
   "id": "1f6179dd-5f15-4690-a3b3-54deb6acf342",
   "metadata": {
    "tags": []
   },
   "source": [
    "## Izpiši, koliko telefonskih številk ima posamezna oseba"
   ]
  },
  {
   "cell_type": "code",
   "execution_count": null,
   "id": "505ec07f-14a3-4f09-82c3-18facff8f00d",
   "metadata": {
    "tags": []
   },
   "outputs": [],
   "source": [
    "for ime, telefonske in imenik.items():\n",
    "    print(ime, \"ima \", len(telefonske), \"telefonskih številk\")"
   ]
  },
  {
   "cell_type": "code",
   "execution_count": null,
   "id": "3a46807f-1dd1-42b2-90b3-9f9c359cebd8",
   "metadata": {},
   "outputs": [],
   "source": []
  },
  {
   "cell_type": "code",
   "execution_count": null,
   "id": "bca368f7-6ab5-48c5-b494-c7afe881396c",
   "metadata": {
    "tags": []
   },
   "outputs": [],
   "source": [
    "seq = \"ACGTAGCGCGTGACTGCGAGACCTAGTGTC\""
   ]
  },
  {
   "cell_type": "code",
   "execution_count": null,
   "id": "3fe93643-6347-413e-a6df-74689e145ee2",
   "metadata": {
    "tags": []
   },
   "outputs": [],
   "source": [
    "frek = {} # frekvence posameznih črk, ključ: črka, vrednost: frekvenca\n",
    "for c in seq:\n",
    "    frek[c] = frek.get(c, 0) + 1"
   ]
  },
  {
   "cell_type": "code",
   "execution_count": null,
   "id": "e635d444-e6b9-4d67-8754-2d95a0bafa1b",
   "metadata": {
    "tags": []
   },
   "outputs": [],
   "source": [
    "frek"
   ]
  },
  {
   "cell_type": "markdown",
   "id": "e1e7b472-8d37-43f2-bf5e-5909e299dd0e",
   "metadata": {},
   "source": [
    "# funkcije"
   ]
  },
  {
   "cell_type": "code",
   "execution_count": null,
   "id": "bfc3272b-b24b-4e4f-af15-5a3ea3ccefd3",
   "metadata": {
    "tags": []
   },
   "outputs": [],
   "source": [
    "def prestej_crke(niz): # sprejmen niz\n",
    "    frek = {}\n",
    "    for c in niz:\n",
    "        frek[c] = frek.get(c, 0) + 1\n",
    "    return frek # vrne slovar frekvenc"
   ]
  },
  {
   "cell_type": "code",
   "execution_count": null,
   "id": "756a9cd6-ac36-49fe-b621-4a4a7caf19d9",
   "metadata": {
    "tags": []
   },
   "outputs": [],
   "source": [
    "prestej_crke(\"ATTTAACGTCCG\")"
   ]
  },
  {
   "cell_type": "markdown",
   "id": "c3309e65-565a-4cb8-bd63-01f880feb74a",
   "metadata": {},
   "source": [
    "## štetje k-terk"
   ]
  },
  {
   "cell_type": "code",
   "execution_count": null,
   "id": "63161858-6019-4945-8c74-04910913682e",
   "metadata": {
    "tags": []
   },
   "outputs": [],
   "source": [
    "niz = \"01234567890\""
   ]
  },
  {
   "cell_type": "markdown",
   "id": "ff3aa4c1-d158-444c-a43d-56aa29bf2e53",
   "metadata": {},
   "source": [
    "# neprekrivajoče\n",
    "\"012\", \"345\", \"678\""
   ]
  },
  {
   "cell_type": "code",
   "execution_count": null,
   "id": "1a0c241d-fca6-4fce-9460-f0595223592e",
   "metadata": {
    "tags": []
   },
   "outputs": [],
   "source": [
    "niz[1:2]"
   ]
  },
  {
   "cell_type": "code",
   "execution_count": null,
   "id": "698529f7-64d4-4397-a018-ea4c9b168ae6",
   "metadata": {
    "tags": []
   },
   "outputs": [],
   "source": [
    "niz[2:7]"
   ]
  },
  {
   "cell_type": "code",
   "execution_count": null,
   "id": "9643def8-8cd6-4e9c-80ce-d887cd5ee194",
   "metadata": {
    "tags": []
   },
   "outputs": [],
   "source": [
    "niz[2:7:2]"
   ]
  },
  {
   "cell_type": "code",
   "execution_count": null,
   "id": "9a2b4a83-6a41-4265-ba96-ed4f50fa4086",
   "metadata": {
    "tags": []
   },
   "outputs": [],
   "source": [
    "niz[::3]"
   ]
  },
  {
   "cell_type": "code",
   "execution_count": null,
   "id": "700b96c2-e1f3-4d56-8788-bc91d5f9879b",
   "metadata": {
    "tags": []
   },
   "outputs": [],
   "source": [
    "k=3"
   ]
  },
  {
   "cell_type": "code",
   "execution_count": null,
   "id": "6c6168b3-2bd6-444d-93a0-59566b16c85a",
   "metadata": {
    "tags": []
   },
   "outputs": [],
   "source": [
    "niz[0:0+k]"
   ]
  },
  {
   "cell_type": "code",
   "execution_count": null,
   "id": "a0fc9e9b-f776-4caa-963a-bfb908956bf1",
   "metadata": {
    "tags": []
   },
   "outputs": [],
   "source": [
    "niz[k:k+k]"
   ]
  },
  {
   "cell_type": "code",
   "execution_count": null,
   "id": "a684c62e-3f9a-44bb-8ee7-c268c4fb999d",
   "metadata": {
    "tags": []
   },
   "outputs": [],
   "source": [
    "niz[2*k:2*k+k]"
   ]
  },
  {
   "cell_type": "code",
   "execution_count": null,
   "id": "db778af8-68e8-4442-a5db-c1b8b31aae25",
   "metadata": {
    "tags": []
   },
   "outputs": [],
   "source": [
    "list(range(10))"
   ]
  },
  {
   "cell_type": "code",
   "execution_count": null,
   "id": "0b50fee5-5be0-40dd-aa20-115054cf00a7",
   "metadata": {
    "tags": []
   },
   "outputs": [],
   "source": [
    "list(range(3,10))"
   ]
  },
  {
   "cell_type": "code",
   "execution_count": null,
   "id": "d044e871-763d-4f2a-863f-f63b52bb358d",
   "metadata": {
    "tags": []
   },
   "outputs": [],
   "source": [
    "niz = '01234567890'\n",
    "niz"
   ]
  },
  {
   "cell_type": "markdown",
   "id": "25bbe9c8-6f11-4414-84d7-822e0423ae11",
   "metadata": {},
   "source": [
    "### Neprekrivajoča"
   ]
  },
  {
   "cell_type": "code",
   "execution_count": null,
   "id": "003da3f4-8a44-4215-bab5-e266a3143294",
   "metadata": {
    "tags": []
   },
   "outputs": [],
   "source": [
    "for i in range(0,len(niz)-k+1,k):\n",
    "    print(i, niz[i:i+k])"
   ]
  },
  {
   "cell_type": "markdown",
   "id": "5b9ed7d7-9ac2-417e-971d-a763aaff2bf1",
   "metadata": {},
   "source": [
    "## Prekrivajoča"
   ]
  },
  {
   "cell_type": "code",
   "execution_count": null,
   "id": "5f8ed0fc-e1ff-4fba-bbc6-1de67e0d72cb",
   "metadata": {
    "tags": []
   },
   "outputs": [],
   "source": [
    "for i in range(0,len(niz)-k+1):\n",
    "    print(i, niz[i:i+k])"
   ]
  },
  {
   "cell_type": "code",
   "execution_count": null,
   "id": "cb975ed8-3d9e-4b3e-8e3f-a30b7e012c02",
   "metadata": {
    "tags": []
   },
   "outputs": [],
   "source": [
    "def prestej_prekrivajoce_terke(niz, k): # sprejmen niz in dolžino k-terke\n",
    "    frek = {}\n",
    "    # for c in niz:\n",
    "    for i in range(0,len(niz)-k+1):\n",
    "        terka = niz[i:i+k]\n",
    "        frek[terka] = frek.get(terka, 0) + 1\n",
    "    return frek # vrne slovar frekvenc (prekrivajočih) k-terk"
   ]
  },
  {
   "cell_type": "code",
   "execution_count": null,
   "id": "22e0294a-e6ea-496b-800e-cc8452a745c7",
   "metadata": {},
   "outputs": [],
   "source": []
  },
  {
   "cell_type": "code",
   "execution_count": null,
   "id": "9aeeec55-8ea1-417e-a0de-e037e6923783",
   "metadata": {
    "tags": []
   },
   "outputs": [],
   "source": [
    "prestej_prekrivajoce_terke(\"ATATCGCGCG\", 4)"
   ]
  },
  {
   "cell_type": "code",
   "execution_count": null,
   "id": "3fb25517-7390-41c4-aa64-9e036995bb34",
   "metadata": {},
   "outputs": [],
   "source": []
  },
  {
   "cell_type": "markdown",
   "id": "63c30c30-8d07-43d6-a724-93f9b76bd428",
   "metadata": {},
   "source": [
    "\n",
    "#\n",
    "\n",
    "s"
   ]
  },
  {
   "cell_type": "markdown",
   "id": "330c11e3-c98c-4d0b-9f66-3ae3d2ef6236",
   "metadata": {},
   "source": [
    " "
   ]
  },
  {
   "cell_type": "markdown",
   "id": "417e5e9a-81b1-4057-9cfc-4bb75840c473",
   "metadata": {},
   "source": [
    "# domača vaja: preberi zaporedja genov iz querty-dna.txt in za dano krajše zaporedje izpiši gen z največ pojavitvami tega zaporedja"
   ]
  },
  {
   "cell_type": "code",
   "execution_count": null,
   "id": "3fa34925-4bd8-4f42-8341-7ce86eba8364",
   "metadata": {
    "tags": []
   },
   "outputs": [],
   "source": [
    "def poisci_gen_z_najvec_pojavitvami(datoteka_ime, zaporedje):\n",
    "    # ...\n",
    "    \n",
    "    # odpri datoteko\n",
    "    \n",
    "    # za vsak gen preštej, kolikokrat se zaporedje (prekrivajoče) pojavi\n",
    "    \n",
    "    # vrni ime gena z največ pojavitvami\n",
    "    \n",
    "    return ime_gene_z_najvec_pojavitvami_zaporedja"
   ]
  },
  {
   "cell_type": "markdown",
   "id": "c298ac51-3b40-42c0-9945-311c09971bbf",
   "metadata": {},
   "source": [
    "# Risanje grafov"
   ]
  },
  {
   "cell_type": "code",
   "execution_count": null,
   "id": "4b57be40-8ffe-4da1-8155-484975878299",
   "metadata": {
    "tags": []
   },
   "outputs": [],
   "source": [
    "import matplotlib.pyplot as plt"
   ]
  },
  {
   "cell_type": "code",
   "execution_count": 190,
   "id": "f81a627d-e90a-4f53-a261-345767409cda",
   "metadata": {
    "tags": []
   },
   "outputs": [
    {
     "data": {
      "text/plain": [
       "[<matplotlib.lines.Line2D at 0x7fd005ae81f0>]"
      ]
     },
     "execution_count": 190,
     "metadata": {},
     "output_type": "execute_result"
    },
    {
     "data": {
      "image/png": "[encoded data removed]",
      "text/plain": [
       "<Figure size 640x480 with 1 Axes>"
      ]
     },
     "metadata": {},
     "output_type": "display_data"
    }
   ],
   "source": [
    "plt.plot([2, 3, 1, 0.5])"
   ]
  },
  {
   "cell_type": "code",
   "execution_count": 191,
   "id": "66978d95-e1e1-43df-93e2-1c6696fc2520",
   "metadata": {
    "tags": []
   },
   "outputs": [
    {
     "data": {
      "text/plain": [
       "[<matplotlib.lines.Line2D at 0x7fd005955690>]"
      ]
     },
     "execution_count": 191,
     "metadata": {},
     "output_type": "execute_result"
    },
    {
     "data": {
      "image/png": "[encoded data removed]",
      "text/plain": [
       "<Figure size 640x480 with 1 Axes>"
      ]
     },
     "metadata": {},
     "output_type": "display_data"
    }
   ],
   "source": [
    "plt.plot([2, 3, 1, 0.5], 'o')"
   ]
  },
  {
   "cell_type": "code",
   "execution_count": 195,
   "id": "91fe2bc0-b08d-48cf-9d76-89120fefb837",
   "metadata": {
    "tags": []
   },
   "outputs": [
    {
     "data": {
      "text/plain": [
       "(0.0, 10.0)"
      ]
     },
     "execution_count": 195,
     "metadata": {},
     "output_type": "execute_result"
    },
    {
     "data": {
      "image/png": "[encoded data removed]",
      "text/plain": [
       "<Figure size 640x480 with 1 Axes>"
      ]
     },
     "metadata": {},
     "output_type": "display_data"
    }
   ],
   "source": [
    "plt.plot([1, 3, 5, 7], [2, 3, 1, 0.5], 'o', ms=5)\n",
    "plt.xlim((0, 10))"
   ]
  },
  {
   "cell_type": "code",
   "execution_count": 200,
   "id": "396e77e9-73d6-4492-8148-a3e0e425482a",
   "metadata": {
    "tags": []
   },
   "outputs": [
    {
     "data": {
      "text/plain": [
       "([<matplotlib.axis.YTick at 0x7fd0055bff10>,\n",
       "  <matplotlib.axis.YTick at 0x7fd0055bf8b0>,\n",
       "  <matplotlib.axis.YTick at 0x7fd0055bea40>,\n",
       "  <matplotlib.axis.YTick at 0x7fd0055a2590>],\n",
       " [Text(0, 0, 'nic'), Text(0, 1, 'ena'), Text(0, 2, 'dva'), Text(0, 3, 'tri')])"
      ]
     },
     "execution_count": 200,
     "metadata": {},
     "output_type": "execute_result"
    },
    {
     "data": {
      "image/png": "[encoded data removed]",
      "text/plain": [
       "<Figure size 640x480 with 1 Axes>"
      ]
     },
     "metadata": {},
     "output_type": "display_data"
    }
   ],
   "source": [
    "plt.bar([0,1,2,3], [2,3,1,0.5])\n",
    "plt.title('Podatki o necem')\n",
    "plt.ylabel('os y')\n",
    "plt.xlabel('os x')\n",
    "plt.yticks([0,1,2,3], [\"nic\", \"ena\",\"dva\",\"tri\"])"
   ]
  },
  {
   "cell_type": "code",
   "execution_count": null,
   "id": "89421721-98be-4bb8-91bf-8539609a861d",
   "metadata": {},
   "outputs": [],
   "source": []
  }
 ],
 "metadata": {
  "kernelspec": {
   "display_name": "Python 3 (ipykernel)",
   "language": "python",
   "name": "python3"
  },
  "language_info": {
   "codemirror_mode": {
    "name": "ipython",
    "version": 3
   },
   "file_extension": ".py",
   "mimetype": "text/x-python",
   "name": "python",
   "nbconvert_exporter": "python",
   "pygments_lexer": "ipython3",
   "version": "3.10.11"
  }
 },
 "nbformat": 4,
 "nbformat_minor": 5
}
