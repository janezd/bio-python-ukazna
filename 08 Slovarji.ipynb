{
 "cells": [
  {
   "cell_type": "markdown",
   "metadata": {},
   "source": [
    "# Slovarji\n",
    "\n",
    "Seznam si lahko predstavljamo kot predalnik. V vsak predalček lahko nekaj spravimo in kasneje lahko gremo prek vseh predalčkov (zanka `for`) ali pa pogledamo v nek določen predalček (indeksiranje, npr. `geni[2]`).\n",
    "\n",
    "Pogosto pa bi radi predalnik z nalepkami. Vsakemu predalu damo neko ime - to je lahko niz, lahko pa tudi kaj drugega, recimo število, a ne nujno zaporedna številka, tako kot pri seznamih - in kasneje dostopamo do njegove vsebine tako, da ga indeksiramo s to nalepko.\n",
    "\n",
    "Takemu predalniku rečemo *slovar* (angl: *dictionary*, python: `dict`). Opišemo ga tako, da uporabimo zadnje oklepaje, ki so nam še ostali, torej zavite, elemente pa naštejemo kot pare *ključev* in *vrednosti* (*key*, *value*)."
   ]
  },
  {
   "cell_type": "code",
   "execution_count": 1,
   "metadata": {},
   "outputs": [],
   "source": [
    "teze = {\"Ana\": 72, \"Berta\": 85, \"Cilka\": 70, \"Dani\": 82}"
   ]
  },
  {
   "cell_type": "markdown",
   "metadata": {},
   "source": [
    "Ključi so \"nalepke\", vrednosti so vsebina predalčka. Tako lahko rečemo"
   ]
  },
  {
   "cell_type": "code",
   "execution_count": 2,
   "metadata": {},
   "outputs": [
    {
     "data": {
      "text/plain": [
       "70"
      ]
     },
     "execution_count": 2,
     "metadata": {},
     "output_type": "execute_result"
    }
   ],
   "source": [
    "teze[\"Cilka\"]"
   ]
  },
  {
   "cell_type": "markdown",
   "metadata": {},
   "source": [
    "pa dobimo vsebino predalčka z imenom \"Cilka\". Če Cilka shujša, lahko popravimo njeno težo."
   ]
  },
  {
   "cell_type": "code",
   "execution_count": 5,
   "metadata": {},
   "outputs": [
    {
     "data": {
      "text/plain": [
       "{'Ana': 72, 'Berta': 85, 'Cilka': 66, 'Dani': 82}"
      ]
     },
     "execution_count": 5,
     "metadata": {},
     "output_type": "execute_result"
    }
   ],
   "source": [
    "teze[\"Cilka\"] = 66\n",
    "teze"
   ]
  },
  {
   "cell_type": "markdown",
   "metadata": {},
   "source": [
    "Slovarji imajo, spet, precej metod. Povejmo le za dve, ki bosta prišla pogosto prav.\n",
    "\n",
    "Prva ni ravno metoda. Vprašamo se lahko, ali slovar vsebuje določen ključ."
   ]
  },
  {
   "cell_type": "code",
   "execution_count": 6,
   "metadata": {},
   "outputs": [
    {
     "data": {
      "text/plain": [
       "True"
      ]
     },
     "execution_count": 6,
     "metadata": {},
     "output_type": "execute_result"
    }
   ],
   "source": [
    "\"Cilka\" in teze"
   ]
  },
  {
   "cell_type": "code",
   "execution_count": 7,
   "metadata": {},
   "outputs": [
    {
     "data": {
      "text/plain": [
       "False"
      ]
     },
     "execution_count": 7,
     "metadata": {},
     "output_type": "execute_result"
    }
   ],
   "source": [
    "\"Eva\" in teze"
   ]
  },
  {
   "cell_type": "markdown",
   "metadata": {},
   "source": [
    "Druga, ki je vredna omembe, je `items`, ki vrne seznam parov ključev in vrednosti. Zelo pogosto jo uporabimo v zanki `for`."
   ]
  },
  {
   "cell_type": "code",
   "execution_count": 9,
   "metadata": {},
   "outputs": [
    {
     "name": "stdout",
     "output_type": "stream",
     "text": [
      "Ana 72\n",
      "Berta 85\n",
      "Cilka 66\n",
      "Dani 82\n"
     ]
    }
   ],
   "source": [
    "for ime, teza in teze.items():\n",
    "    print(ime, teza)"
   ]
  },
  {
   "cell_type": "markdown",
   "metadata": {},
   "source": [
    "Slovar se od seznamov ne razlikuje le po tem, da ima eden oštevilčene, drugi pa poimenovane predalčke. Slovarji so hitri. Tudi če imamo milijon predalčkov, bodo za iskanje predalčka z določeno nalepko potrebovali enako časa, kot če bi bilo predalčkov le deset. Ne \"približno enako časa\", enako časa. Ker za to uporabljajo določen trik, imajo dve omejitvi. Ključi so lahko le števila, nizi in terke (pa še par drugi reči, ki pa jih ne poznamo). Druga omejitev je, da slovarji ne poznajo koncepta vrstnega reda. Stvari v njih ne bomo nujno našli v takšnem vrstnem redu, kot smo jih zlagali vanje. Predvsem pa nimajo metode `sort`.\n",
    "\n",
    "Sestavimo slovar, katerega ključi bodo geni, vrednosti pa pripadajoča zaporedja. Začeli bomo s praznim slovarjem, nato pa lepo brali datoteko in zlagali vanjo."
   ]
  },
  {
   "cell_type": "code",
   "execution_count": 10,
   "metadata": {},
   "outputs": [
    {
     "data": {
      "text/plain": [
       "{'ASDF13': 'gcaactgttggacggctacagtgacggttggtagaactgagtcggtttaaggactcacacatcgcgggtctgcaaagtgtaatctacaagggagcccgag',\n",
       " 'CVBN21': 'acttggccactttactcctgcaatctttagtcctggggggagtttaaaatcattccagctgggatgggtctctatcctctccctgtaataacaacaaacg',\n",
       " 'DFGH15': 'cgacctcgtaaaatgacaaacactgtcgtggagcagtattcggtcatgccgcccgagccctaccaatcgagttcaactatcgctaactcgcgatgagcct',\n",
       " 'FGHJ16': 'tcgcgggtagcccacagccgggcctgattacagaggggtgaattcgatgcttgatgcggattcctggtaagctccgccgtgcgaccgacaactctcgact',\n",
       " 'GHJK17': 'tggtgatgtggtacatctttgaaaggctcaccgtgaacaaaagtgtattacaatcaacgagccccagggactgatccctcaacaagggcacccaagaagt',\n",
       " 'HJKL18': 'tacagacactatcgctcccgtagctggaggatttcacatgatctaagcaaagccgtagtgggagttcctatggcaataagcgaccttctataaccgagag',\n",
       " 'SDFG14': 'cgaagggcaatcggaagttgaggttcgtcatattaagtttggggaacgccgacatctaaatcttttaggtgataaatgcctaaatcagattcaatgtatt',\n",
       " 'VBNM22': 'tggtctttaagattaactgctcattaggatctgtctccaaacactgttaccgccggcaatcacaggagaatcagtcacctaagttgcgtaggccatatcc',\n",
       " 'XCVB20': 'cgctacgtatgtccctaatcaagggctcatggtgctagccagggtcggggctagtttttaaggtatttctgcccccaacaaggagccagataggcccctt',\n",
       " 'ZXCV19': 'tcatgcatgttaggttacatctaggctatgcctgtcccagtcagcaggtgggcctagattaagaaatgcccggttaggcaacacaacaccggtgtccttt'}"
      ]
     },
     "execution_count": 10,
     "metadata": {},
     "output_type": "execute_result"
    }
   ],
   "source": [
    "geni = {}\n",
    "for vrstica in open(\"datoteke/qwerty-dna.txt\"):\n",
    "    ime, zaporedje = vrstica.split()\n",
    "    geni[ime] = zaporedje\n",
    "geni"
   ]
  },
  {
   "cell_type": "markdown",
   "metadata": {},
   "source": [
    "Zdaj pa vzemimo eno od zaporedij. Zanima nas, koliko a-jev, g-jev, c-jev in t-jev vsebuje.\n",
    "\n",
    "Rešimo na par načinov."
   ]
  },
  {
   "cell_type": "code",
   "execution_count": 12,
   "metadata": {},
   "outputs": [
    {
     "data": {
      "text/plain": [
       "'gcaactgttggacggctacagtgacggttggtagaactgagtcggtttaaggactcacacatcgcgggtctgcaaagtgtaatctacaagggagcccgag'"
      ]
     },
     "execution_count": 12,
     "metadata": {},
     "output_type": "execute_result"
    }
   ],
   "source": [
    "zaporedje = geni[\"ASDF13\"]\n",
    "zaporedje"
   ]
  },
  {
   "cell_type": "code",
   "execution_count": 14,
   "metadata": {},
   "outputs": [
    {
     "name": "stdout",
     "output_type": "stream",
     "text": [
      "a = 26\n",
      "c = 21\n",
      "g = 32\n",
      "t = 21\n"
     ]
    }
   ],
   "source": [
    "a = c = g = t = 0\n",
    "for crka in zaporedje:\n",
    "    if crka == \"a\":\n",
    "        a += 1\n",
    "    if crka == \"c\":\n",
    "        c += 1\n",
    "    if crka == \"g\":\n",
    "        g += 1\n",
    "    if crka == \"t\":\n",
    "        t += 1\n",
    "print(\"a =\", a)\n",
    "print(\"c =\", c)\n",
    "print(\"g =\", g)\n",
    "print(\"t =\", t)"
   ]
  },
  {
   "cell_type": "markdown",
   "metadata": {},
   "source": [
    "Da ne bi bilo dolgočasno, smo se mimogrede naučili dveh stvari. Prva je, da lahko z istim prirejanjem priredimo vrednost več spremenljivkam. Glej prvo vrstico.\n",
    "\n",
    "Druga je, da lahko zanko `for` naženemo tudi prek nizov. Nizi se namreč pogosto vedejo kot seznami. Celo indeksiramo jih lahko; `zaporedje[0]` je `'g'`.\n",
    "\n",
    "Zdaj pa namesto štirih spremenljivk uporabimo slovar s ključi `'a'`, `'c'`, `'g'` in `'t'`."
   ]
  },
  {
   "cell_type": "code",
   "execution_count": 15,
   "metadata": {},
   "outputs": [
    {
     "ename": "KeyError",
     "evalue": "'g'",
     "output_type": "error",
     "traceback": [
      "\u001b[0;31m---------------------------------------------------------------------------\u001b[0m",
      "\u001b[0;31mKeyError\u001b[0m                                  Traceback (most recent call last)",
      "\u001b[0;32m<ipython-input-15-8577be59cf61>\u001b[0m in \u001b[0;36m<module>\u001b[0;34m()\u001b[0m\n\u001b[1;32m      1\u001b[0m \u001b[0mstevci\u001b[0m \u001b[0;34m=\u001b[0m \u001b[0;34m{\u001b[0m\u001b[0;34m}\u001b[0m\u001b[0;34m\u001b[0m\u001b[0m\n\u001b[1;32m      2\u001b[0m \u001b[0;32mfor\u001b[0m \u001b[0mcrka\u001b[0m \u001b[0;32min\u001b[0m \u001b[0mzaporedje\u001b[0m\u001b[0;34m:\u001b[0m\u001b[0;34m\u001b[0m\u001b[0m\n\u001b[0;32m----> 3\u001b[0;31m     \u001b[0mstevci\u001b[0m\u001b[0;34m[\u001b[0m\u001b[0mcrka\u001b[0m\u001b[0;34m]\u001b[0m \u001b[0;34m+=\u001b[0m \u001b[0;36m1\u001b[0m\u001b[0;34m\u001b[0m\u001b[0m\n\u001b[0m\u001b[1;32m      4\u001b[0m \u001b[0mprint\u001b[0m\u001b[0;34m(\u001b[0m\u001b[0mstevci\u001b[0m\u001b[0;34m)\u001b[0m\u001b[0;34m\u001b[0m\u001b[0m\n",
      "\u001b[0;31mKeyError\u001b[0m: 'g'"
     ]
    }
   ],
   "source": [
    "stevci = {}\n",
    "for crka in zaporedje:\n",
    "    stevci[crka] += 1\n",
    "print(stevci)"
   ]
  },
  {
   "cell_type": "markdown",
   "metadata": {},
   "source": [
    "A, ups. Ideja je bila lepa, a pozabili smo nastaviti začetne vrednosti števcev."
   ]
  },
  {
   "cell_type": "code",
   "execution_count": 16,
   "metadata": {},
   "outputs": [
    {
     "name": "stdout",
     "output_type": "stream",
     "text": [
      "{'a': 26, 'c': 21, 'g': 32, 't': 21}\n"
     ]
    }
   ],
   "source": [
    "stevci = {'a': 0, 'c': 0, 'g': 0, 't': 0}\n",
    "for crka in zaporedje:\n",
    "    stevci[crka] += 1\n",
    "print(stevci)"
   ]
  },
  {
   "cell_type": "markdown",
   "metadata": {},
   "source": [
    "Lahko pa bi jih nastavljali kar sproti, ko jih prvič srečamo."
   ]
  },
  {
   "cell_type": "code",
   "execution_count": 18,
   "metadata": {},
   "outputs": [
    {
     "name": "stdout",
     "output_type": "stream",
     "text": [
      "{'g': 32, 'c': 21, 'a': 26, 't': 21}\n"
     ]
    }
   ],
   "source": [
    "stevci = {}\n",
    "for crka in zaporedje:\n",
    "    if crka not in stevci:\n",
    "        stevci[crka] = 0\n",
    "    stevci[crka] += 1\n",
    "print(stevci)"
   ]
  },
  {
   "cell_type": "markdown",
   "metadata": {},
   "source": [
    "To bo praktično za našo zadnjo, najtežjo vajo s slovarji: prešteli bi radi pogostosti trojk."
   ]
  },
  {
   "cell_type": "code",
   "execution_count": 20,
   "metadata": {},
   "outputs": [
    {
     "data": {
      "text/plain": [
       "{'aag': 2,\n",
       " 'act': 1,\n",
       " 'agt': 2,\n",
       " 'atc': 2,\n",
       " 'caa': 1,\n",
       " 'cac': 1,\n",
       " 'cag': 1,\n",
       " 'cga': 1,\n",
       " 'cgg': 3,\n",
       " 'cta': 1,\n",
       " 'ctg': 2,\n",
       " 'gaa': 1,\n",
       " 'gac': 1,\n",
       " 'gca': 1,\n",
       " 'gcc': 1,\n",
       " 'gcg': 1,\n",
       " 'gga': 2,\n",
       " 'ggt': 1,\n",
       " 'gta': 2,\n",
       " 'gtt': 1,\n",
       " 'tac': 1,\n",
       " 'tca': 1,\n",
       " 'tga': 1,\n",
       " 'ttg': 1,\n",
       " 'ttt': 1}"
      ]
     },
     "execution_count": 20,
     "metadata": {},
     "output_type": "execute_result"
    }
   ],
   "source": [
    "trojke = {}\n",
    "i = 0\n",
    "while i < len(zaporedje) - 2:\n",
    "    trojka = zaporedje[i:i + 3]\n",
    "    if trojka not in trojke:\n",
    "        trojke[trojka] = 0\n",
    "    trojke[trojka] += 1\n",
    "    i += 3\n",
    "trojke"
   ]
  }
 ],
 "metadata": {
  "kernelspec": {
   "display_name": "Python 3",
   "language": "python",
   "name": "python3"
  },
  "language_info": {
   "codemirror_mode": {
    "name": "ipython",
    "version": 3
   },
   "file_extension": ".py",
   "mimetype": "text/x-python",
   "name": "python",
   "nbconvert_exporter": "python",
   "pygments_lexer": "ipython3",
   "version": "3.6.4"
  }
 },
 "nbformat": 4,
 "nbformat_minor": 2
}
