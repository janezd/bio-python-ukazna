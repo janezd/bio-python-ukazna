{
 "cells": [
  {
   "cell_type": "markdown",
   "metadata": {},
   "source": [
    "# Nove funkcije\n",
    "\n",
    "Spomnimo se na zadnji program iz prejšnjega poglavja."
   ]
  },
  {
   "cell_type": "raw",
   "metadata": {},
   "source": [
    "trojke = {}\n",
    "i = 0\n",
    "while i < len(zaporedje) - 2:\n",
    "    trojka = zaporedje[i:i + 3]\n",
    "    if trojka not in trojke:\n",
    "        trojke[trojka] = 0\n",
    "    trojke[trojka] += 1\n",
    "    i += 3\n",
    "trojke"
   ]
  },
  {
   "cell_type": "markdown",
   "metadata": {},
   "source": [
    "Imamo neko `zaporedje` in izračunati je torej potrebno pogostosti vseh trojk.\n",
    "\n",
    "Morda bomo to reč potrebovali večkrat. Če je tako, bi bilo praktično, če bi jo spremenili v funkcijo in jo poklicali vsakič, ko jo bomo potrebovali."
   ]
  },
  {
   "cell_type": "code",
   "execution_count": 4,
   "metadata": {},
   "outputs": [],
   "source": [
    "def pogostosti(zaporedje):\n",
    "    trojke = {}\n",
    "    i = 0\n",
    "    while i < len(zaporedje) - 2:\n",
    "        trojka = zaporedje[i:i + 3]\n",
    "        if trojka not in trojke:\n",
    "            trojke[trojka] = 0\n",
    "        trojke[trojka] += 1\n",
    "        i += 3\n",
    "    return trojke"
   ]
  },
  {
   "cell_type": "code",
   "execution_count": 5,
   "metadata": {},
   "outputs": [
    {
     "data": {
      "text/plain": [
       "{'aaa': 4, 'acg': 3}"
      ]
     },
     "execution_count": 5,
     "metadata": {},
     "output_type": "execute_result"
    }
   ],
   "source": [
    "pogostosti(\"aaaacgacgacgaaaaaaaaa\")"
   ]
  },
  {
   "cell_type": "markdown",
   "metadata": {},
   "source": [
    "Definicijo nove funkcije začnemo z `def`. Sledi ime funkcije. Nato v oklepajih naštejemo imena argumentov. To jo podobno kot v matematiki, kjer smo pisali, recimo, `f(x, y) = 2x + sin(x) + y`. Znotraj funkcije se potem ta imena nanašajo na tisto, kar je funkcija dobila kot argument. Če matematik po gornje definiciji f-a napiše `f(5, 3)`, je to enako `2 * 5 + sin(5) + 3` - namesto vseh x in y imamo 5 in 3. Tu pa prav tako. Če imamo `pogostosti(zaporedje)` in pokličemo `pogostosti(\"aaaacgacgacgaaaaaaaaa\")`, se bo ime `zaporedje` znotraj funkcije nanašalo na `\"aaaacgacgacgaaaaaaaaa\"`.\n",
    "\n",
    "Definicijo funkcije smo končali z `return trojke`. `return` pove, kaj naj funkcija vrne. Če ga pozabimo, funkcija ne bo vrnila ničesar.\n",
    "\n",
    "Ob funkcijah bi lahko preživeli še nekaj ur. Povedali bi lahko, da `return` ni nujno na koncu in da jih je lahko več. Govorili bi o lokalnih in globalnih spremenljivkah, skladu, vezavi imen ... in še veliko stvareh. Vendar za to ni časa; te stvari se boste učili sami in sproti.\n",
    "\n",
    "Tule dodajmo le še eno malenkost: funkcije z več argumenti. Na Marsu bodo morda odkrili bitja, katerih kodoni so dolgi štiri bazne pare. Da bo naša funkcija pripravljena na osvajanje Marsa, ji dodajmo še argument `dolzina`."
   ]
  },
  {
   "cell_type": "code",
   "execution_count": 13,
   "metadata": {},
   "outputs": [],
   "source": [
    "def pogostosti(zaporedje, dolzina):\n",
    "    trojke = {}\n",
    "    i = 0\n",
    "    while i < len(zaporedje) - (dolzina - 1):\n",
    "        trojka = zaporedje[i:i + dolzina]\n",
    "        if trojka not in trojke:\n",
    "            trojke[trojka] = 0\n",
    "        trojke[trojka] += 1\n",
    "        i += dolzina\n",
    "    return trojke"
   ]
  },
  {
   "cell_type": "code",
   "execution_count": 8,
   "metadata": {},
   "outputs": [
    {
     "data": {
      "text/plain": [
       "{'aagg': 1,\n",
       " 'aatc': 1,\n",
       " 'acac': 1,\n",
       " 'actc': 1,\n",
       " 'agaa': 1,\n",
       " 'agcc': 1,\n",
       " 'aggg': 1,\n",
       " 'atcg': 1,\n",
       " 'caaa': 1,\n",
       " 'cgag': 1,\n",
       " 'cggc': 1,\n",
       " 'cggg': 1,\n",
       " 'cggt': 1,\n",
       " 'ctga': 1,\n",
       " 'ctgt': 1,\n",
       " 'gcaa': 1,\n",
       " 'gtcg': 1,\n",
       " 'gtga': 1,\n",
       " 'gtgt': 1,\n",
       " 'gttt': 1,\n",
       " 'taca': 2,\n",
       " 'tctg': 1,\n",
       " 'tgga': 1,\n",
       " 'tggt': 1}"
      ]
     },
     "execution_count": 8,
     "metadata": {},
     "output_type": "execute_result"
    }
   ],
   "source": [
    "zap = \"gcaactgttggacggctacagtgacggttggtagaactgagtcggtttaaggactcacacatcgcgggtctgcaaagtgtaatctacaagggagcccgag\"\n",
    "pogostosti(zap, 4)"
   ]
  },
  {
   "cell_type": "code",
   "execution_count": 9,
   "metadata": {},
   "outputs": [
    {
     "data": {
      "text/plain": [
       "{'aatctacaag': 1,\n",
       " 'atcgcgggtc': 1,\n",
       " 'gacggctaca': 1,\n",
       " 'gcaactgttg': 1,\n",
       " 'ggactcacac': 1,\n",
       " 'ggagcccgag': 1,\n",
       " 'gtagaactga': 1,\n",
       " 'gtcggtttaa': 1,\n",
       " 'gtgacggttg': 1,\n",
       " 'tgcaaagtgt': 1}"
      ]
     },
     "execution_count": 9,
     "metadata": {},
     "output_type": "execute_result"
    }
   ],
   "source": [
    "pogostosti(zap, 10)"
   ]
  },
  {
   "cell_type": "markdown",
   "metadata": {},
   "source": [
    "Ker pa je dolžina kodona pri vseh doslej znanih bitjih vendarle le tri pare, pa bi bilo lepo, če bi imel ta argument privzeto vrednost, da bi lahko poklicali"
   ]
  },
  {
   "cell_type": "code",
   "execution_count": 10,
   "metadata": {},
   "outputs": [
    {
     "ename": "TypeError",
     "evalue": "pogostosti() missing 1 required positional argument: 'dolzina'",
     "output_type": "error",
     "traceback": [
      "\u001b[0;31m---------------------------------------------------------------------------\u001b[0m",
      "\u001b[0;31mTypeError\u001b[0m                                 Traceback (most recent call last)",
      "\u001b[0;32m<ipython-input-10-1fa04b629a70>\u001b[0m in \u001b[0;36m<module>\u001b[0;34m()\u001b[0m\n\u001b[0;32m----> 1\u001b[0;31m \u001b[0mpogostosti\u001b[0m\u001b[0;34m(\u001b[0m\u001b[0mzap\u001b[0m\u001b[0;34m)\u001b[0m\u001b[0;34m\u001b[0m\u001b[0m\n\u001b[0m",
      "\u001b[0;31mTypeError\u001b[0m: pogostosti() missing 1 required positional argument: 'dolzina'"
     ]
    }
   ],
   "source": [
    "pogostosti(zap)"
   ]
  },
  {
   "cell_type": "markdown",
   "metadata": {},
   "source": [
    "in dobili rezultat, ne napake.\n",
    "\n",
    "Tudi to je preprosto: argumentu enostavno \"priredimo\" vrednost."
   ]
  },
  {
   "cell_type": "code",
   "execution_count": 11,
   "metadata": {},
   "outputs": [],
   "source": [
    "def pogostosti(zaporedje, dolzina=3):\n",
    "    trojke = {}\n",
    "    i = 0\n",
    "    while i < len(zaporedje) - (dolzina - 1):\n",
    "        trojka = zaporedje[i:i + dolzina]\n",
    "        if trojka not in trojke:\n",
    "            trojke[trojka] = 0\n",
    "        trojke[trojka] += 1\n",
    "        i += dolzina\n",
    "    return trojke"
   ]
  },
  {
   "cell_type": "code",
   "execution_count": 12,
   "metadata": {},
   "outputs": [
    {
     "data": {
      "text/plain": [
       "{'aag': 2,\n",
       " 'act': 1,\n",
       " 'agt': 2,\n",
       " 'atc': 2,\n",
       " 'caa': 1,\n",
       " 'cac': 1,\n",
       " 'cag': 1,\n",
       " 'cga': 1,\n",
       " 'cgg': 3,\n",
       " 'cta': 1,\n",
       " 'ctg': 2,\n",
       " 'gaa': 1,\n",
       " 'gac': 1,\n",
       " 'gca': 1,\n",
       " 'gcc': 1,\n",
       " 'gcg': 1,\n",
       " 'gga': 2,\n",
       " 'ggt': 1,\n",
       " 'gta': 2,\n",
       " 'gtt': 1,\n",
       " 'tac': 1,\n",
       " 'tca': 1,\n",
       " 'tga': 1,\n",
       " 'ttg': 1,\n",
       " 'ttt': 1}"
      ]
     },
     "execution_count": 12,
     "metadata": {},
     "output_type": "execute_result"
    }
   ],
   "source": [
    "pogostosti(zap)"
   ]
  }
 ],
 "metadata": {
  "kernelspec": {
   "display_name": "Python 3",
   "language": "python",
   "name": "python3"
  },
  "language_info": {
   "codemirror_mode": {
    "name": "ipython",
    "version": 3
   },
   "file_extension": ".py",
   "mimetype": "text/x-python",
   "name": "python",
   "nbconvert_exporter": "python",
   "pygments_lexer": "ipython3",
   "version": "3.6.4"
  }
 },
 "nbformat": 4,
 "nbformat_minor": 2
}
