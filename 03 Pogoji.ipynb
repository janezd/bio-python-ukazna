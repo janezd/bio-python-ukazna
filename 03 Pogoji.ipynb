{
 "cells": [
  {
   "cell_type": "markdown",
   "metadata": {},
   "source": [
    "## Pogojni stavki\n",
    "\n",
    "Začnimo s preprostim programom za izračun indeksa telesne teže.\n",
    "\n",
    "Uporabnik (oziroma uporabnica) nam bo morala najprej zaupati svojo težo in višino. Pravzaprav ne nam, temveč funkciji `input`. Vpisani niz, ki ga vrne `input`, s `float` pretvorimo v število in shranimo v `teza` oziroma `visina`."
   ]
  },
  {
   "cell_type": "code",
   "execution_count": 3,
   "metadata": {},
   "outputs": [
    {
     "name": "stdout",
     "output_type": "stream",
     "text": [
      "Teža: 73\n",
      "Telesna višina: 185\n"
     ]
    }
   ],
   "source": [
    "teza = float(input(\"Teža: \"))\n",
    "visina = float(input(\"Telesna višina: \"))"
   ]
  },
  {
   "cell_type": "code",
   "execution_count": 9,
   "metadata": {},
   "outputs": [
    {
     "name": "stdout",
     "output_type": "stream",
     "text": [
      "Indeks vaše telesne teže je 0.0021329437545653763\n"
     ]
    }
   ],
   "source": [
    "bmi = teza / visina ** 2\n",
    "print(\"Indeks vaše telesne teže je\", bmi)"
   ]
  },
  {
   "cell_type": "markdown",
   "metadata": {},
   "source": [
    "Želimo si, da bi program povedal še, ali je uporabnik slučajno preobilen. Prvi, seveda napačni poskus, bi bil takšen."
   ]
  },
  {
   "cell_type": "code",
   "execution_count": 5,
   "metadata": {},
   "outputs": [
    {
     "name": "stdout",
     "output_type": "stream",
     "text": [
      "Indeks vaše telesne teže je 0.0021329437545653763\n",
      "Potrebno bo shujšati!\n"
     ]
    }
   ],
   "source": [
    "bmi = teza / visina ** 2\n",
    "print(\"Indeks vaše telesne teže je\", bmi)\n",
    "print(\"Potrebno bo shujšati!\")"
   ]
  },
  {
   "cell_type": "markdown",
   "metadata": {},
   "source": [
    "Program v tej obliki bi, v širši rabi, povzročal anoreksijo, saj vse po vrsti pošilja na hujšanje. Zadnjo vrstico, izpis poziva k hujšanju, mora izvesti le, če je `bmi` večji od 25 (ta meja namreč velja za mejo debelosti, oziroma, politično korektno, prekomerne telesne teže).\n",
    "\n",
    "To storimo tako, da pred vrstico dodamo pogoj. Ta se glasi \"če bmi > 25\", le v angleščini."
   ]
  },
  {
   "cell_type": "code",
   "execution_count": 6,
   "metadata": {},
   "outputs": [
    {
     "name": "stdout",
     "output_type": "stream",
     "text": [
      "Indeks vaše telesne teže je 0.0021329437545653763\n"
     ]
    }
   ],
   "source": [
    "bmi = teza / visina ** 2\n",
    "print(\"Indeks vaše telesne teže je\", bmi)\n",
    "if bmi > 25:\n",
    "    print(\"Potrebno bo shujšati!\")"
   ]
  },
  {
   "cell_type": "markdown",
   "metadata": {},
   "source": [
    "Ne spreglejmo dveh pomembnih reči. Prva: na konec pogoja smo postavili dvopičje. To ne služi le za okras: dvopičja ne smemo izpustiti. Python na tem mestu <em>zahteva</em> dvopičje.\n",
    "\n",
    "Druga: prejšnjič sem prepovedal pisanje presledkov na začetku vrstice ... razen takrat, ko vam bom zapovedal, da jih pišite. No, napočil je ta trenutek: zapovedujem vam. Poglejte, kako sem oblikoval program: vrstico za `if`-om sem nekoliko zamaknil. Koliko, ni pomembno, pomembno je samo, da sem vse zamaknil enako. (Neobvezno pravilo: zamik naj bo velik štiri presledke. Ni obvezno, a če boste uporabljali štiri presledke, boste pisali enako kodo kot drugi.)\n",
    "\n",
    "Zamaknjenih vrstic bi lahko bilo še več. Vse se izvedejo le, če je pogoj izpolnjen."
   ]
  },
  {
   "cell_type": "code",
   "execution_count": 7,
   "metadata": {},
   "outputs": [
    {
     "name": "stdout",
     "output_type": "stream",
     "text": [
      "Indeks vaše telesne teže je 0.0021329437545653763\n",
      "Pregled je končan, oglasite se spet čez dva tedna.\n"
     ]
    }
   ],
   "source": [
    "bmi = teza / visina ** 2\n",
    "print(\"Indeks vaše telesne teže je\", bmi)\n",
    "if bmi > 25:\n",
    "    print(\"Potrebno bo shujšati!\")\n",
    "    print(\"Da, gospod ali gospa, preveč vas je skupaj.\")\n",
    "print(\"Pregled je končan, oglasite se spet čez dva tedna.\")"
   ]
  },
  {
   "cell_type": "markdown",
   "metadata": {},
   "source": [
    "Tako kot smo zastavili zdaj, se `print`a, ki sta zamaknjena, izvedeta le, če je oseba preobilna. Zadnji `print` ni več znotraj pogoja, zato se izvede v vsakem primeru, za suhe in debele.\n",
    "\n",
    "Tale razlaga je skoraj nepotrebna, saj je to, kdaj se izvede kaj, očitno že kar iz oblike programa. (To je razlog, zakaj je Python tako simpatičen jezik za začetnike: programe v njem je veliko lažje brati kot programe v kakem bolj kriptičnem jeziku.)\n",
    "\n",
    "Program bi bil še bolj simpatičen, če bi tiste, ki niso predebeli, pohvalil."
   ]
  },
  {
   "cell_type": "code",
   "execution_count": 8,
   "metadata": {},
   "outputs": [
    {
     "name": "stdout",
     "output_type": "stream",
     "text": [
      "Indeks vaše telesne teže je 0.0021329437545653763\n",
      "Odlično, le še naprej jejte toliko kot doslej!\n",
      "Pregled je končan, oglasite se spet čez dva tedna.\n"
     ]
    }
   ],
   "source": [
    "bmi = teza / visina ** 2\n",
    "print(\"Indeks vaše telesne teže je\", bmi)\n",
    "if bmi > 25:\n",
    "    print(\"Potrebno bo shujšati!\")\n",
    "    print(\"Da, gospod ali gospa, preveč vas je skupaj.\")\n",
    "else:\n",
    "    print(\"Odlično, le še naprej jejte toliko kot doslej!\")\n",
    "print(\"Pregled je končan, oglasite se spet čez dva tedna.\")"
   ]
  },
  {
   "cell_type": "markdown",
   "metadata": {},
   "source": [
    "Pogojnemu stavku (ups, nov izraz; računalnikarji nekaterim rečem rečemo stavek, ker pa vas tule ne bom mučil s terminologijo, si pod besedo *stavek* predstavljajte preprosto \"kos programa\") lahko sledi še `else`, ki vsebuje tisto, kar naj se zgodi, če pogoj ni izpolnjen.\n",
    "\n",
    "Znotraj pogojnih stavkov seveda lahko pišemo tudi druge reči, ne le `print`ov. Takole: uporabniki programa se bodo pogosto zmotili in namesto višine v metrih vpisali višino v centimetrih, zato jih bo program obtožil težke anoreksije. To lahko popravimo preprosto tako, da program še pred računanjem BMI preveri, ali je višina slučajno večja od, recimo, treh metrov. V tem primeru sklepa, da je uporabnik podal višino v centimetrih, zato številko, ki jo je vpisal uporabnik, deli s 100.\n",
    "\n",
    "Za vrstico `visina = float(input(\"Telesna višina: \"))` nam je dodati"
   ]
  },
  {
   "cell_type": "code",
   "execution_count": 10,
   "metadata": {},
   "outputs": [],
   "source": [
    "if visina > 3:\n",
    "    visina = visina / 100"
   ]
  },
  {
   "cell_type": "markdown",
   "metadata": {},
   "source": [
    "Naprej pa gre tako kot prej.\n",
    "\n",
    "Na prvi uri smo omenjali *rezervirane besede*, to je, besede, ki ne morejo biti imena spremenljivk. Med drugim sem pokazal besedo `if` - napisal sem `if = 1` in Python se je pritožil, da mu ni niti približno jasno, kaj hočem povedati.\n",
    "\n",
    "Zdaj vidimo, zakaj. Besedi `if` mora slediti nek pogoj. In `= 1` ni pogoj.\n",
    "\n",
    "Nekoliko off topic: tako zamaknjenim delom programa pravimo, kot ste me že večkrat slišali reči, *bloki*. Bloke poznajo vsi \"normalni\" programski jeziki, le označujejo jih različno. Pogost način označevanja je označevanje z zavitimi oklepaji: v Cju (in iz njega izpeljanih oz. njemu podobnih jezikih C++, Java, C#, JavaScript, Php...) bi bili naši `if`i videti takole (poleg oklepajev je razlik še nekaj, vendar nas ne zanimajo in jih spreglejte):"
   ]
  },
  {
   "cell_type": "raw",
   "metadata": {},
   "source": [
    "if (bmi > 25) {\n",
    "    printf(\"Potrebno bo shujšati\");\n",
    "    printf(\"Da, gospod ali gospa, preveč vas je skupaj.\");\n",
    "}\n",
    "else {\n",
    "    printf(\"Odlično, le še naprej jejte toliko kot doslej!\");\n",
    "}\n",
    "printf(\"Pregled je končan, oglasite se spet čez dva tedna.\");"
   ]
  },
  {
   "cell_type": "markdown",
   "metadata": {},
   "source": [
    "Kaj je lepše, je stvar okusa in predmet številnih verskih vojn. Tu omenjamo samo zato, da boste znali prebrati preprost program v kakem jeziku, ki je narejen na ta način."
   ]
  },
  {
   "cell_type": "markdown",
   "metadata": {},
   "source": [
    "Tule pa je še nekaj primerov napačno zamikanih programov."
   ]
  },
  {
   "cell_type": "code",
   "execution_count": 11,
   "metadata": {},
   "outputs": [
    {
     "ename": "IndentationError",
     "evalue": "unindent does not match any outer indentation level (<tokenize>, line 3)",
     "output_type": "error",
     "traceback": [
      "\u001b[0;36m  File \u001b[0;32m\"<tokenize>\"\u001b[0;36m, line \u001b[0;32m3\u001b[0m\n\u001b[0;31m    print(\"Da, gospod ali gospa, preveč vas je skupaj.\")\u001b[0m\n\u001b[0m    ^\u001b[0m\n\u001b[0;31mIndentationError\u001b[0m\u001b[0;31m:\u001b[0m unindent does not match any outer indentation level\n"
     ]
    }
   ],
   "source": [
    "if bmi > 25:\n",
    "    print(\"Potrebno bo shujšati!\")\n",
    "  print(\"Da, gospod ali gospa, preveč vas je skupaj.\")\n",
    "else:\n",
    "    print(\"Odlično, le še naprej jejte toliko kot doslej!\")\n",
    "print(\"Pregled je končan, oglasite se spet čez dva tedna.\")"
   ]
  },
  {
   "cell_type": "markdown",
   "metadata": {},
   "source": [
    "Tretja vrstica mora imeti enak zamik kot druga, sicer Python ne more vedeti, ali je še znotraj pogoja ali ne."
   ]
  },
  {
   "cell_type": "code",
   "execution_count": 12,
   "metadata": {},
   "outputs": [
    {
     "ename": "IndentationError",
     "evalue": "unexpected indent (<ipython-input-12-25b5c3bc12fc>, line 3)",
     "output_type": "error",
     "traceback": [
      "\u001b[0;36m  File \u001b[0;32m\"<ipython-input-12-25b5c3bc12fc>\"\u001b[0;36m, line \u001b[0;32m3\u001b[0m\n\u001b[0;31m    print(\"Da, gospod ali gospa, preveč vas je skupaj.\")\u001b[0m\n\u001b[0m    ^\u001b[0m\n\u001b[0;31mIndentationError\u001b[0m\u001b[0;31m:\u001b[0m unexpected indent\n"
     ]
    }
   ],
   "source": [
    "if bmi > 25:\n",
    "    print(\"Potrebno bo shujšati!\")\n",
    "      print(\"Da, gospod ali gospa, preveč vas je skupaj.\")\n",
    "else:\n",
    "    print(\"Odlično, le še naprej jejte toliko kot doslej!\")\n",
    "print(\"Pregled je končan, oglasite se spet čez dva tedna.\")"
   ]
  },
  {
   "cell_type": "markdown",
   "metadata": {},
   "source": [
    "Ne, tudi v to smer ne smemo. Tu se Python vpraša, zakaj je tretja vrstica zamaknjena še bolj kot druga - smo pozabili še kakšen pogoj ali kaj?"
   ]
  },
  {
   "cell_type": "code",
   "execution_count": 13,
   "metadata": {},
   "outputs": [
    {
     "ename": "IndentationError",
     "evalue": "expected an indented block (<ipython-input-13-0e96498f5402>, line 2)",
     "output_type": "error",
     "traceback": [
      "\u001b[0;36m  File \u001b[0;32m\"<ipython-input-13-0e96498f5402>\"\u001b[0;36m, line \u001b[0;32m2\u001b[0m\n\u001b[0;31m    print(\"Potrebno bo shujšati!\")\u001b[0m\n\u001b[0m        ^\u001b[0m\n\u001b[0;31mIndentationError\u001b[0m\u001b[0;31m:\u001b[0m expected an indented block\n"
     ]
    }
   ],
   "source": [
    "if bmi > 25:\n",
    "print(\"Potrebno bo shujšati!\")\n",
    "print(\"Da, gospod ali gospa, preveč vas je skupaj.\")"
   ]
  },
  {
   "cell_type": "markdown",
   "metadata": {},
   "source": [
    "Blok za stavkom `if` mora biti zamaknjen."
   ]
  },
  {
   "cell_type": "code",
   "execution_count": 14,
   "metadata": {},
   "outputs": [
    {
     "ename": "IndentationError",
     "evalue": "unindent does not match any outer indentation level (<tokenize>, line 4)",
     "output_type": "error",
     "traceback": [
      "\u001b[0;36m  File \u001b[0;32m\"<tokenize>\"\u001b[0;36m, line \u001b[0;32m4\u001b[0m\n\u001b[0;31m    else:\u001b[0m\n\u001b[0m    ^\u001b[0m\n\u001b[0;31mIndentationError\u001b[0m\u001b[0;31m:\u001b[0m unindent does not match any outer indentation level\n"
     ]
    }
   ],
   "source": [
    "if bmi > 25:\n",
    "    print(\"Potrebno bo shujšati!\")\n",
    "    print(\"Da, gospod ali gospa, preveč vas je skupaj.\")\n",
    "  else:\n",
    "    print(\"Odlično, le še naprej jejte toliko kot doslej!\")\n",
    "print(\"Pregled je končan, oglasite se spet čez dva tedna.\")"
   ]
  },
  {
   "cell_type": "markdown",
   "metadata": {},
   "source": [
    "`if` in `else` morata biti poravnana. Kmalu bomo videli programe z več `if`i in `else`i; zamiki bodo potrebni, da bomo vedeli, kateri `else` sodi h kateremu `if`.\n",
    "\n",
    "Če poskušamo zagnati kateregakoli od naštetih programov, bo Python javil sintaktično napako. Za razliko od običajnih napak, ki jih boste delali, in ko bodo programi naredili vsaj nekaj malega in potem crknili, ta ne bo niti trznil, temveč kar takoj javil napako. Spodnji program pa je sintaktično pravilen. Python ga lahko izvede. Najbrž pa to ni to, kar smo hoteli, saj se zadnji `print` izvede le, če pogoj ni izpolnjen.\n",
    "\n",
    "\n",
    "## Gnezdeni pogoji\n",
    "\n",
    "Do sem vse lepo in prav, vendar: kaj bomo z anoreksičnimi? Program bi jim mirno svetoval, naj še naprej jedo toliko kot doslej (torej: premalo). Ne: pri takšnih, ki imajo BMI manjši od 18.5, moramo zastokati, naj vendar že začnejo jesti."
   ]
  },
  {
   "cell_type": "code",
   "execution_count": 15,
   "metadata": {},
   "outputs": [
    {
     "name": "stdout",
     "output_type": "stream",
     "text": [
      "Indeks vaše telesne teže je 21.32943754565376\n",
      "Odlično, le še naprej jejte toliko kot doslej!\n",
      "Pregled je končan, oglasite se spet čez dva tedna.\n"
     ]
    }
   ],
   "source": [
    "bmi = teza / visina ** 2\n",
    "print(\"Indeks vaše telesne teže je\", bmi)\n",
    "if bmi > 25:\n",
    "    print(\"Potrebno bo shujšati!\")\n",
    "    print(\"Da, gospod ali gospa, preveč vas je skupaj.\")\n",
    "else:\n",
    "    if bmi < 18.5:\n",
    "        print(\"Trlica!\")\n",
    "        print(\"Zunaj so avtomati s sendviči in čokolado. Med pavzo si le postrezite!\")\n",
    "    else:\n",
    "        print(\"Odlično, le še naprej jejte toliko kot doslej!\")\n",
    "print(\"Pregled je končan, oglasite se spet čez dva tedna.\")"
   ]
  },
  {
   "cell_type": "markdown",
   "metadata": {},
   "source": [
    "Vidimo? Znotraj `if`a ali `else`a smemo ugnezditi nov pogoj. Zamikamo ga lepo naprej.\n",
    "\n",
    "Da bodo reči še nekoliko daljše (a poučnejše), dodajmo še en `print`."
   ]
  },
  {
   "cell_type": "code",
   "execution_count": 16,
   "metadata": {},
   "outputs": [
    {
     "name": "stdout",
     "output_type": "stream",
     "text": [
      "Indeks vaše telesne teže je 21.32943754565376\n",
      "Predebeli ravno niste.\n",
      "Odlično, le še naprej jejte toliko kot doslej!\n",
      "Pregled je končan, oglasite se spet čez dva tedna.\n"
     ]
    }
   ],
   "source": [
    "bmi = teza / visina ** 2\n",
    "print(\"Indeks vaše telesne teže je\", bmi)\n",
    "if bmi > 25:\n",
    "    print(\"Potrebno bo shujšati!\")\n",
    "    print(\"Da, gospod ali gospa, preveč vas je skupaj.\")\n",
    "else:\n",
    "    print(\"Predebeli ravno niste.\")\n",
    "    if bmi < 18.5:\n",
    "        print(\"Trlica!\")\n",
    "        print(\"Zunaj so avtomati s sendviči in čokolado. Med pavzo si le postrezite!\")\n",
    "    else:\n",
    "        print(\"Odlično, le še naprej jejte toliko kot doslej!\")\n",
    "print(\"Pregled je končan, oglasite se spet čez dva tedna.\")"
   ]
  },
  {
   "cell_type": "markdown",
   "metadata": {},
   "source": [
    "Zdaj program vsem, ki niso predebeli, napiše dobro novico, da niso predebeli. Šele nato se loti preverjanja, da niso slučajno presuhi.\n",
    "\n",
    "Tule mimogrede (prvič - a še velikokrat bomo) posvarimo pred ponavljanjem kode. Gornji program bi lahko napisali tudi tako:"
   ]
  },
  {
   "cell_type": "code",
   "execution_count": 17,
   "metadata": {},
   "outputs": [
    {
     "name": "stdout",
     "output_type": "stream",
     "text": [
      "Indeks vaše telesne teže je 21.32943754565376\n",
      "Predebeli ravno niste.\n",
      "Odlično, le še naprej jejte toliko kot doslej!\n",
      "Pregled je končan, oglasite se spet čez dva tedna.\n"
     ]
    }
   ],
   "source": [
    "bmi = teza / visina ** 2\n",
    "print(\"Indeks vaše telesne teže je\", bmi)\n",
    "if bmi > 25:\n",
    "    print(\"Potrebno bo shujšati!\")\n",
    "    print(\"Da, gospod ali gospa, preveč vas je skupaj.\")\n",
    "else:\n",
    "    if bmi < 18.5:\n",
    "        print(\"Predebeli ravno niste.\")\n",
    "        print(\"Trlica!\")\n",
    "        print(\"Zunaj so avtomati s sendviči in čokolado. Med pavzo si le postrezite!\")\n",
    "    else:\n",
    "        print(\"Predebeli ravno niste.\")\n",
    "        print(\"Odlično, le še naprej jejte toliko kot doslej!\")\n",
    "print(\"Pregled je končan, oglasite se spet čez dva tedna.\")"
   ]
  },
  {
   "cell_type": "markdown",
   "metadata": {},
   "source": [
    "Ali celo tako."
   ]
  },
  {
   "cell_type": "code",
   "execution_count": 18,
   "metadata": {},
   "outputs": [
    {
     "name": "stdout",
     "output_type": "stream",
     "text": [
      "Indeks vaše telesne teže je 21.32943754565376\n",
      "Predebeli ravno niste.\n",
      "Odlično, le še naprej jejte toliko kot doslej!\n",
      "Pregled je končan, oglasite se spet čez dva tedna.\n"
     ]
    }
   ],
   "source": [
    "bmi = teza / visina ** 2\n",
    "print(\"Indeks vaše telesne teže je\", bmi)\n",
    "if bmi > 25:\n",
    "    print(\"Potrebno bo shujšati!\")\n",
    "    print(\"Da, gospod ali gospa, preveč vas je skupaj.\")\n",
    "    print(\"Pregled je končan, oglasite se spet čez dva tedna.\")\n",
    "else:\n",
    "    if bmi < 18.5:\n",
    "        print(\"Predebeli ravno niste.\")\n",
    "        print(\"Trlica!\")\n",
    "        print(\"Zunaj so avtomati s sendviči in čokolado. Med pavzo si le postrezite!\")\n",
    "        print(\"Pregled je končan, oglasite se spet čez dva tedna.\")\n",
    "    else:\n",
    "        print(\"Predebeli ravno niste.\")\n",
    "        print(\"Odlično, le še naprej jejte toliko kot doslej!\")\n",
    "        print(\"Pregled je končan, oglasite se spet čez dva tedna.\")"
   ]
  },
  {
   "cell_type": "markdown",
   "metadata": {},
   "source": [
    "To ni dobra ideja, ker je program daljši, manj pregleden, težje mu je slediti, težje ga je spreminjati... Vedno se izogibajte ponavljanju.\n",
    "\n",
    "## Sicerče\n",
    "\n",
    "Da se ne izgubimo, spet malo skrajšajmo program."
   ]
  },
  {
   "cell_type": "code",
   "execution_count": 19,
   "metadata": {},
   "outputs": [
    {
     "name": "stdout",
     "output_type": "stream",
     "text": [
      "Indeks vaše telesne teže je 21.32943754565376\n",
      "Odlično, le še naprej jejte toliko kot doslej!\n"
     ]
    }
   ],
   "source": [
    "bmi = teza / visina ** 2\n",
    "print(\"Indeks vaše telesne teže je\", bmi)\n",
    "if bmi > 25:\n",
    "    print(\"Potrebno bo shujšati!\")\n",
    "else:\n",
    "    if bmi < 18.5:\n",
    "        print(\"Trlica!\")\n",
    "    else:\n",
    "        print(\"Odlično, le še naprej jejte toliko kot doslej!\")"
   ]
  },
  {
   "cell_type": "markdown",
   "metadata": {},
   "source": [
    "Pogojni stavki se nam lahko hitro zagnezdijo precej globoko in vrstice zbežijo nekam daleč proti desni. (Da ne govorimo o tem, da pogojni stavki niso niti približno edina reč, za katero bomo morali zamikati vrstice.) Ker so situacija, kakršna je zgornja, kar pogoste, imajo nekateri programski jeziki - in Python je med njimi - poleg `if` in `else` še `elseif` oziroma `elif`. (Še ena rezervirana beseda!) V Pythonu se uporablja slednja različica, `elif`. V gornjem programu ga uporabimo takole:"
   ]
  },
  {
   "cell_type": "code",
   "execution_count": 21,
   "metadata": {},
   "outputs": [
    {
     "name": "stdout",
     "output_type": "stream",
     "text": [
      "Indeks vaše telesne teže je 0.002081165452653486\n",
      "Trlica!\n"
     ]
    }
   ],
   "source": [
    "bmi = teza / visina ** 2\n",
    "print(\"Indeks vaše telesne teže je\", bmi)\n",
    "if bmi > 25:\n",
    "    print(\"Potrebno bo shujšati!\")\n",
    "elif bmi < 18.5:\n",
    "    print(\"Trlica!\")\n",
    "else:\n",
    "    print(\"Odlično, le še naprej jejte toliko kot doslej!\")"
   ]
  },
  {
   "cell_type": "markdown",
   "metadata": {},
   "source": [
    "Program se zdaj prebere še lepše kot prej: če je BMI prevelik, pozovemo k hujšanju, sicerče je premajhen, ozmerjamo dotično najstnico s trlico, sicer pa izrečemo pohvalo.\n",
    "\n",
    "Po izkušnjah je `elif` za študente huda, nenavadna skušnjava: nekateri ga pogosto uporabljajo namesto `else`a. Recimo, da bi hoteli sprogramirati skrajšano pesimistično različico, po kateri so vsi, ki niso debeluhi, trlice. Radi bi torej tole:"
   ]
  },
  {
   "cell_type": "code",
   "execution_count": 22,
   "metadata": {},
   "outputs": [
    {
     "name": "stdout",
     "output_type": "stream",
     "text": [
      "Trlica!\n"
     ]
    }
   ],
   "source": [
    "if bmi > 25:\n",
    "    print(\"Potrebno bo shujšati!\")\n",
    "else:\n",
    "    print(\"Trlica!\")"
   ]
  },
  {
   "cell_type": "markdown",
   "metadata": {},
   "source": [
    "Mnogi bi (iz meni neznanega razloga) naredili takole:"
   ]
  },
  {
   "cell_type": "code",
   "execution_count": 23,
   "metadata": {},
   "outputs": [
    {
     "name": "stdout",
     "output_type": "stream",
     "text": [
      "Trlica!\n"
     ]
    }
   ],
   "source": [
    "if bmi > 25:\n",
    "    print(\"Potrebno bo shujšati!\")\n",
    "elif bmi < 25:\n",
    "    print(\"Trlica!\")"
   ]
  },
  {
   "cell_type": "markdown",
   "metadata": {},
   "source": [
    "Python ni pozabil `if`a in bo tudi, če napišemo le `else`, čisto dobro vedel, kakšen je pogoj zanj. Drugi pogoj je nepotreben; če `bmi` ni večji od 25, je pač očitno manjši. (No ja, lahko bi bil tudi enak. A sporočilo smo, upam, razumeli.)\n",
    "\n",
    "Torej: ne zamenjujte `else` brez potrebe z `elif`.\n",
    "\n",
    "\n",
    "## Pogoji\n",
    "\n",
    "Zdaj pa povejmo nekaj splošnejšega o pogojih. Kakšni vse so lahko? Najprej, pogoj je izraz. Torej nekaj, kar se da izračunati (po naši garažni definiciji izraza). Doslej so bili vsi naši izrazi nekako številski, aritmetični: v njih so nastopala števila in le-ta smo seštevali, množili, odštevali in kar se še takega dela s števili. Pogoji pa so logični izrazi. (V resnici se \"logičnost\" in \"številskost\" lahko poljubno prepletata, a to\n",
    "bomo mimogrede odkrili sproti.)\n",
    "\n",
    "Rezultat logičnega izraza je logična vrednost. Logične vrednosti niso števila (torej niso `int` ali `float`) in niso nizi, torej so nekaj četrtega. Podatkovni tip, ki hrani logične vrednosti, se imenuje `bool` (iz Boolean, po slovensko Booleov). Medtem ko je\n",
    "različnih števil (`int`, `float`) kar veliko (koliko, vam bo menda povedal kolega Fijavž, ko bo v predavalnico privlekel Cantorja in njegov trop alefov), ima tip `bool` lahko le eno od dveh vrednosti, `True` ali `False`. Tudi `True` in `False` rezervirani besedi. (Če prav štejemo, smo naleteli že na sedem rezerviranih besed od 33 - `if`, `else`,\n",
    "`elif`, `True` in `False`, na vajah oziroma ob domači nalogi pa še `from` in `import`.)\n",
    "\n",
    "S števili že znamo računati. Z nizi tudi malo. Kako pa računamo z logičnimi vrednostmi? Menda jih ne moremo kar tako seštevati in odštevati?\n",
    "\n",
    "Za logične izraze imamo (predvsem) tri operatorje: `or`, `and` in `not`. Kaj pomenijo, je menda jasno."
   ]
  },
  {
   "cell_type": "code",
   "execution_count": 24,
   "metadata": {},
   "outputs": [
    {
     "data": {
      "text/plain": [
       "True"
      ]
     },
     "execution_count": 24,
     "metadata": {},
     "output_type": "execute_result"
    }
   ],
   "source": [
    ">>> True and True\n",
    "True\n",
    ">>> True and False\n",
    "False\n",
    ">>> False or True\n",
    "True\n",
    ">>> not False\n",
    "True\n",
    ">>> False or not False\n",
    "True"
   ]
  },
  {
   "cell_type": "markdown",
   "metadata": {},
   "source": [
    "(`and`, `or` in `not` so rezervirane besede. 10 od 33!)\n",
    "\n",
    "Operator `not` ima prednost pred `and`, `and` pa pred `or`. Spet si lahko pomagamo z\n",
    "oklepaji: `a or b and c` pomeni isto kot `a or (b and c)` in bo resničen (`True`), če je resničen `a` ali pa sta resnična `b` in `c`. Izraz `(a or b) and c` pa bo resničen, če sta resnična `a` ali `b` (ali oba), poleg tega pa nujno še `c`. Pri tem seveda predpostavljamo, da `a`, `b` in `c` vsebujejo logične vrednosti.\n",
    "\n",
    "Da bo reč lažje razumljiva, jo potrenirajmo na prav tem izrazu, vendar tako, da namesto `a`, `b` in `c` oziroma namesto \"golih\" `True` in `False` pišemo bolj \"konkretne\" izraze."
   ]
  },
  {
   "cell_type": "code",
   "execution_count": 26,
   "metadata": {},
   "outputs": [
    {
     "data": {
      "text/plain": [
       "True"
      ]
     },
     "execution_count": 26,
     "metadata": {},
     "output_type": "execute_result"
    }
   ],
   "source": [
    "352 > 0"
   ]
  },
  {
   "cell_type": "code",
   "execution_count": 27,
   "metadata": {},
   "outputs": [
    {
     "data": {
      "text/plain": [
       "False"
      ]
     },
     "execution_count": 27,
     "metadata": {},
     "output_type": "execute_result"
    }
   ],
   "source": [
    "5 < 3"
   ]
  },
  {
   "cell_type": "code",
   "execution_count": 28,
   "metadata": {},
   "outputs": [
    {
     "data": {
      "text/plain": [
       "True"
      ]
     },
     "execution_count": 28,
     "metadata": {},
     "output_type": "execute_result"
    }
   ],
   "source": [
    "352 > 0 or 5 < 3"
   ]
  },
  {
   "cell_type": "code",
   "execution_count": 29,
   "metadata": {},
   "outputs": [
    {
     "data": {
      "text/plain": [
       "True"
      ]
     },
     "execution_count": 29,
     "metadata": {},
     "output_type": "execute_result"
    }
   ],
   "source": [
    "352 > 0 or 5 > 3"
   ]
  },
  {
   "cell_type": "code",
   "execution_count": 30,
   "metadata": {},
   "outputs": [
    {
     "data": {
      "text/plain": [
       "True"
      ]
     },
     "execution_count": 30,
     "metadata": {},
     "output_type": "execute_result"
    }
   ],
   "source": [
    "352 > 0 and 5 > 3"
   ]
  },
  {
   "cell_type": "code",
   "execution_count": 31,
   "metadata": {},
   "outputs": [
    {
     "data": {
      "text/plain": [
       "False"
      ]
     },
     "execution_count": 31,
     "metadata": {},
     "output_type": "execute_result"
    }
   ],
   "source": [
    "352 > 0 and 5 < 3"
   ]
  },
  {
   "cell_type": "code",
   "execution_count": 32,
   "metadata": {},
   "outputs": [
    {
     "data": {
      "text/plain": [
       "True"
      ]
     },
     "execution_count": 32,
     "metadata": {},
     "output_type": "execute_result"
    }
   ],
   "source": [
    "352 > 0 and not 5 < 3"
   ]
  },
  {
   "cell_type": "code",
   "execution_count": 33,
   "metadata": {},
   "outputs": [
    {
     "data": {
      "text/plain": [
       "True"
      ]
     },
     "execution_count": 33,
     "metadata": {},
     "output_type": "execute_result"
    }
   ],
   "source": [
    "10 > 8 or 352 > 0 and 5 < 3"
   ]
  },
  {
   "cell_type": "code",
   "execution_count": 34,
   "metadata": {},
   "outputs": [
    {
     "data": {
      "text/plain": [
       "True"
      ]
     },
     "execution_count": 34,
     "metadata": {},
     "output_type": "execute_result"
    }
   ],
   "source": [
    "10 > 8 or (352 > 0 and 5 < 3)"
   ]
  },
  {
   "cell_type": "code",
   "execution_count": 35,
   "metadata": {},
   "outputs": [
    {
     "data": {
      "text/plain": [
       "False"
      ]
     },
     "execution_count": 35,
     "metadata": {},
     "output_type": "execute_result"
    }
   ],
   "source": [
    "(10 > 8 or 352 > 0) and 5 < 3"
   ]
  },
  {
   "cell_type": "code",
   "execution_count": 36,
   "metadata": {},
   "outputs": [
    {
     "data": {
      "text/plain": [
       "True"
      ]
     },
     "execution_count": 36,
     "metadata": {},
     "output_type": "execute_result"
    }
   ],
   "source": [
    "(10 > 8 or 352 > 0) and not 5 < 3"
   ]
  },
  {
   "cell_type": "markdown",
   "metadata": {},
   "source": [
    "Operatorja < in > pričakujeta na levi in desni kake reči, ki jih je mogoče primerjati; zadovoljna nista le s števili, temveč tudi z, recimo, nizi (primerjala jih bosta po abecedi), ne moreta pa primerjati števila z nizom. Njun rezultat je logična vrednost. Za \"večje ali enako\" in \"manjše ali enako\" uporabimo `>=` in `<=`.\n",
    "\n",
    "Če želimo preveriti enakost dveh števil (ali, v splošnem, enakost dveh stvari), uporabimo dvojni enačaj, `==`. Enojni enačaj je namreč dobil svojo zadolžitev prejšnjo uro, namenjen je prirejanju. Ali sta dve stvari različni, preverimo z `!=`."
   ]
  },
  {
   "cell_type": "code",
   "execution_count": 37,
   "metadata": {},
   "outputs": [
    {
     "data": {
      "text/plain": [
       "True"
      ]
     },
     "execution_count": 37,
     "metadata": {},
     "output_type": "execute_result"
    }
   ],
   "source": [
    "1 + 1 == 2"
   ]
  },
  {
   "cell_type": "code",
   "execution_count": 38,
   "metadata": {},
   "outputs": [
    {
     "data": {
      "text/plain": [
       "False"
      ]
     },
     "execution_count": 38,
     "metadata": {},
     "output_type": "execute_result"
    }
   ],
   "source": [
    "1 + 1 != 2"
   ]
  },
  {
   "cell_type": "markdown",
   "metadata": {},
   "source": [
    "Ne zamenjujte dvojnih in enojnih enačajev. Če pomotoma napišemo (a to se nam bo redko zgodilo), `a == 1 + 1` s tem nismo priredili `a`-ju dvojke, temveč smo le preverili, ali je enak 2. Pogostejša napaka pa bo"
   ]
  },
  {
   "cell_type": "code",
   "execution_count": 39,
   "metadata": {},
   "outputs": [
    {
     "ename": "SyntaxError",
     "evalue": "invalid syntax (<ipython-input-39-7fdee465aea9>, line 1)",
     "output_type": "error",
     "traceback": [
      "\u001b[0;36m  File \u001b[0;32m\"<ipython-input-39-7fdee465aea9>\"\u001b[0;36m, line \u001b[0;32m1\u001b[0m\n\u001b[0;31m    if a = 1:\u001b[0m\n\u001b[0m         ^\u001b[0m\n\u001b[0;31mSyntaxError\u001b[0m\u001b[0;31m:\u001b[0m invalid syntax\n"
     ]
    }
   ],
   "source": [
    "if a = 1:\n",
    "    print(\"Vrednost a je ena\")"
   ]
  },
  {
   "cell_type": "markdown",
   "metadata": {},
   "source": [
    "Ta program pa je sintaktično nepravilen, saj Python za `if` pričakuje pogoj, mi pa smo napisali prireditveni stavek.\n",
    "\n",
    "Operatorje (v Pythonu, v večini drugih jezikov pa ne) smemo nizati. Izraz `10 < t < 20` je resničen, če je `t` med 10 in 20. Izraz `10 < t1 < t2 < 20` je resničen, če sta `t1` in `t2` med 10 in 20, pri čemer je `t1` manjši od `t2`. Izraz `t1 < 10 < t2` je resničen, če je `t1` manjši\n",
    "od 10, `t2` pa večji od 10. `10 < t1 == t2 < 20` je resničen, če sta `t1` in `t2` enaka ter sta nekje med 10 in 20.\n",
    "\n",
    "Če se torej končno vrnemo k suhcem in debeluhom: če bi se hoteli skoncentrirati le na te, ki so ravno pravšnji, bi sicer lahko napisali, recimo"
   ]
  },
  {
   "cell_type": "code",
   "execution_count": 40,
   "metadata": {},
   "outputs": [],
   "source": [
    "if bmi > 18.5 and bmi < 25:\n",
    "    print(\"Čestitamo, ravno pravšnji ste.\")"
   ]
  },
  {
   "cell_type": "markdown",
   "metadata": {},
   "source": [
    "Lepše pa je"
   ]
  },
  {
   "cell_type": "code",
   "execution_count": 43,
   "metadata": {},
   "outputs": [],
   "source": [
    "if 18.5 < bmi < 25:\n",
    "    print(\"Čestitamo, ravno pravšnji ste.\")\n"
   ]
  },
  {
   "cell_type": "markdown",
   "metadata": {},
   "source": [
    "## Kurzschluss\n",
    "\n",
    "Wikipedia definira kratek stik v električni napeljavi oz. vezju kot nekaj, kar dovoli elektriki, da potuje po krajši poti, kot je bila mišljena. Po domače, [kurzschluss](http://de.wikipedia.org/wiki/Elektrischer_Kurzschluss) je, ko se v televiziji nekaj zabliska, potem pa namesto, da bi delala, samo še smrdi.\n",
    "\n",
    "Short-circuit behaviour, lahko bi ga prevedli kot kratkostično vedenje, v programskih jezikih pomeni, da po bližnjici steče izvajanje programa. Pri tem navadno ni ne bliskanja ne smradu, ker je takšno vedenje zaželeno. Za primer poglejmo, kako bi se računala vrednost `(10 < 8 or 352 < 0) and 18574 + 50485 == 69059`. 10 ni manj od 8 in 352 ni manj od 0. `False or False` je `False`. Prvi del izraza, vse, kar je pred `and`-om je `False`. Preden začne računalnik seštevati tiste velike številke desno od `and`-a pa pomisli: komu na čast? Po tem, kar sem naračunal doslej, vem, da imam `False and 18574 + 50485 == 69059`. To bo neresnično v vsakem primeru, ne glede na ono vsoto. Zato drugega dela sploh ne računa, temveč že kar takoj vrne `False`.\n",
    "\n",
    "Pravilo je torej takšno: če je izraz, ki je levo od `and`, neresničen, vrednosti izraza, ki je desno od `and`, sploh ne računa.\n",
    "\n",
    "Podobno, le ravno obratno, bližnjico lahko uberemo pri `or`. Kako bi računali vrednost `10 > 8 or 352 > 0`? Najprej ugotovimo, da je 10 res več kot 8. Moramo zdaj res preverjati še, ali je 352 več kot 0? Ne, saj že vemo, da bo izraz resničen. Kako pa je z `10 < 8 or 352 > 0`. Bomo, ko ugotovimo, da ni res, da je 10 manjše od 8, nehali računati? Ne, izraz je še vedno lahko resničen, reši nas lahko drugi del (in tudi v resnici nas). Pač pa bi pri izrazu `10 < 8 and 352 > 0` vrgli puško v koruzo že po prvem neuspehu, saj nas morebitni drugi uspeh ne more rešiti.\n",
    "\n",
    "Pravilo kratkega stika si lahko zapomnimo na dva načina. Prvi, formalni, je tale: če je izraz levo od `or` resničen, potem onega desno od `or` ne preverjamo, saj že vemo, da bo rezultat resničen. Prav tako, če je izraz levo od `and` neresničen, potem onega desno od njega ne preverjamo, saj že vemo, da bo rezultat neresničen. Drugi način je neformalen: izraz se računa od leve proti desni in samo, dokler je treba.\n",
    "\n",
    "Študent pa se najbrž že sprašuje: me to res briga? Računalnik naj računa kar in kolikor hoče, meni je pomembno samo, da bo na koncu naračunal prav. V resnici je tako: če kratkega stika ne poznamo, nam ne bo nič hudega. Če ga, pa nam lahko pride zelo zelo prav. Primer pride kmalu."
   ]
  }
 ],
 "metadata": {
  "kernelspec": {
   "display_name": "Python 3",
   "language": "python",
   "name": "python3"
  },
  "language_info": {
   "codemirror_mode": {
    "name": "ipython",
    "version": 3
   },
   "file_extension": ".py",
   "mimetype": "text/x-python",
   "name": "python",
   "nbconvert_exporter": "python",
   "pygments_lexer": "ipython3",
   "version": "3.6.4"
  }
 },
 "nbformat": 4,
 "nbformat_minor": 2
}
