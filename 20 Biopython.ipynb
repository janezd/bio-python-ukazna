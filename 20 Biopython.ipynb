{
 "cells": [
  {
   "cell_type": "markdown",
   "metadata": {
    "collapsed": true
   },
   "source": [
    "# Biopython\n",
    "\n",
    "Večina primerov je povzetih iz [tutoriala o Biopythonu](http://biopython.org/DIST/docs/tutorial/Tutorial.html).\n",
    "\n",
    "Biopython nudi vse glavne funkcije, ki jih potrebuje bioinformatik:\n",
    "\n",
    "* [Branje in pisanje datotek (FASTA, FASTQ, GENBANK)](http://biopython.org/DIST/docs/tutorial/Tutorial.html#htoc47)\n",
    "* [Poravnava zaporedij](http://biopython.org/DIST/docs/tutorial/Tutorial.html#htoc69)\n",
    "* [Uporaba programa BLAST](http://biopython.org/DIST/docs/tutorial/Tutorial.html#htoc87)\n",
    "* [Dostop do zbirke NCBI](http://biopython.org/DIST/docs/tutorial/Tutorial.html#htoc111)\n",
    "* [Dostop do zbirke Swiss-Prot in ExPASy](http://biopython.org/DIST/docs/tutorial/Tutorial.html#htoc137)\n",
    "* [Delo s 3D strukturami PDB](http://biopython.org/DIST/docs/tutorial/Tutorial.html#htoc149)\n",
    "* [Filogenetika](http://biopython.org/DIST/docs/tutorial/Tutorial.html#htoc198)\n",
    "* [Analiza kratkih zaporedij - motivov](http://biopython.org/DIST/docs/tutorial/Tutorial.html#htoc211)\n",
    "* [Gručenje](http://biopython.org/DIST/docs/tutorial/Tutorial.html#htoc231)\n",
    "* [Nekaj nadzorovanega strojnega učenja](http://biopython.org/DIST/docs/tutorial/Tutorial.html#htoc241)\n",
    "* [Izris genomskih diagramov](http://biopython.org/DIST/docs/tutorial/Tutorial.html#htoc254)\n",
    "* [Dostop do zbirke KEGG](http://biopython.org/DIST/docs/tutorial/Tutorial.html#htoc272)\n",
    "\n",
    "V vajah se bomo osredotočili na:\n",
    "\n",
    "* [Delo z datotekami](#Delo-z-datotekami)\n",
    "* [Dostop do NCBI](21 NCBI.ipynb)\n",
    "* [Izris genomskih diagramov](22 Diagrami.ipynb)\n",
    "* [Filogenetsko analizo](23 Filogenetske.ipynb)"
   ]
  },
  {
   "cell_type": "markdown",
   "metadata": {},
   "source": [
    "Naprej uvozimo modul Biopython."
   ]
  },
  {
   "cell_type": "code",
   "execution_count": 1,
   "metadata": {},
   "outputs": [],
   "source": [
    "import Bio"
   ]
  },
  {
   "cell_type": "markdown",
   "metadata": {},
   "source": [
    "## Delo z datotekami\n",
    "\n",
    "Razred `SeqIO` omogoča delo z datotekami."
   ]
  },
  {
   "cell_type": "code",
   "execution_count": 2,
   "metadata": {},
   "outputs": [],
   "source": [
    "from Bio import SeqIO"
   ]
  },
  {
   "cell_type": "markdown",
   "metadata": {},
   "source": [
    "Funkcija `SeqIO.parse` poskrbi za pravilno branje zapisov v datotekah. Seveda, če ji namignemo za kateri format gre."
   ]
  },
  {
   "cell_type": "code",
   "execution_count": 3,
   "metadata": {},
   "outputs": [
    {
     "name": "stdout",
     "output_type": "stream",
     "text": [
      "zap1\n",
      "Seq('TGGCGTCTTTTGTTGTCGAACAAATTGATCGTGAGAGATA', SingleLetterAlphabet())\n",
      "40\n",
      "zap2\n",
      "Seq('AATGCCAACACCAAGTAAGTAAAGACAGCCTCACTAAGCTGGAAATTTCGTGGA...ATT', SingleLetterAlphabet())\n",
      "500\n"
     ]
    }
   ],
   "source": [
    "for rec in SeqIO.parse('datoteke/primer.fasta', 'fasta'):\n",
    "    print(rec.id)\n",
    "    print(repr(rec.seq))\n",
    "    print(len(rec))"
   ]
  },
  {
   "cell_type": "markdown",
   "metadata": {},
   "source": [
    "Zgornji primer bo vrnil izjemo, ker datoteka `primer.fasta` ne obstaja.\n",
    "\n",
    "Lahko pa jo naredimo z uporabo funkcije `SeqIO.write`:"
   ]
  },
  {
   "cell_type": "code",
   "execution_count": 4,
   "metadata": {},
   "outputs": [],
   "source": [
    "from Bio.Seq import Seq\n",
    "from Bio.SeqRecord import SeqRecord\n",
    "from Bio.Alphabet import generic_nucleotide"
   ]
  },
  {
   "cell_type": "code",
   "execution_count": 5,
   "metadata": {},
   "outputs": [
    {
     "data": {
      "text/plain": [
       "2"
      ]
     },
     "execution_count": 5,
     "metadata": {},
     "output_type": "execute_result"
    }
   ],
   "source": [
    "import random\n",
    "\n",
    "zap1 = ''.join([random.choice(['A', 'T', 'C', 'G']) for _ in range(40)])\n",
    "rec1 = SeqRecord(Seq(zap1, generic_nucleotide),\n",
    "                 id='zap1',\n",
    "                 description='nakljucno',\n",
    "                )\n",
    "\n",
    "zap2 = ''.join([random.choice(['A', 'T', 'C', 'G']) for _ in range(500)])\n",
    "rec2 = SeqRecord(Seq(zap2, generic_nucleotide),\n",
    "                 id='zap2',\n",
    "                 description='tudi nakljucno',\n",
    "                )\n",
    "\n",
    "SeqIO.write([rec1, rec2], 'primer.fasta', 'fasta')"
   ]
  },
  {
   "cell_type": "markdown",
   "metadata": {},
   "source": [
    "Zdaj lahko poskusimo prebrati datoteko `primer.fasta`:"
   ]
  },
  {
   "cell_type": "code",
   "execution_count": 6,
   "metadata": {},
   "outputs": [
    {
     "name": "stdout",
     "output_type": "stream",
     "text": [
      "zap1\n",
      "zap1 nakljucno\n",
      "Seq('CATCGTACTGGAGATCTGTCAGGCGCTAATTAACTCTGTA', SingleLetterAlphabet())\n",
      "40\n",
      "zap2\n",
      "zap2 tudi nakljucno\n",
      "Seq('CTGACAGCTACCGCGTTGACCGGAACCCGAGTGATTCCAGTTGGCTACAGCTGA...GCT', SingleLetterAlphabet())\n",
      "500\n"
     ]
    }
   ],
   "source": [
    "for rec in SeqIO.parse('primer.fasta', 'fasta'):\n",
    "    print(rec.id)\n",
    "    print(rec.description)\n",
    "    print(repr(rec.seq))\n",
    "    print(len(rec))"
   ]
  },
  {
   "cell_type": "markdown",
   "metadata": {},
   "source": [
    "Kot smo videli že pri ustvarjanju objektov `SeqRecord`, vsak zapis vsebuje ID, kratek opis (ki vključuje tudi ID) in zaporedje.\n",
    "\n",
    "Objekti tipa `SeqRecord` se obnašajo podobno kot nizi. Omogočajo indeksiranje, rezanje, itd:"
   ]
  },
  {
   "cell_type": "code",
   "execution_count": 7,
   "metadata": {},
   "outputs": [
    {
     "data": {
      "text/plain": [
       "SeqRecord(seq=Seq('CTGACAGCTACCGCGTTGACCGGAACCCGAGTGATTCCAGTTGGCTACAGCTGA...GCT', SingleLetterAlphabet()), id='zap2', name='zap2', description='zap2 tudi nakljucno', dbxrefs=[])"
      ]
     },
     "execution_count": 7,
     "metadata": {},
     "output_type": "execute_result"
    }
   ],
   "source": [
    "rec"
   ]
  },
  {
   "cell_type": "code",
   "execution_count": 8,
   "metadata": {},
   "outputs": [
    {
     "data": {
      "text/plain": [
       "'G'"
      ]
     },
     "execution_count": 8,
     "metadata": {},
     "output_type": "execute_result"
    }
   ],
   "source": [
    "rec[2]"
   ]
  },
  {
   "cell_type": "code",
   "execution_count": 9,
   "metadata": {},
   "outputs": [
    {
     "data": {
      "text/plain": [
       "SeqRecord(seq=Seq('GACAG', SingleLetterAlphabet()), id='zap2', name='zap2', description='zap2 tudi nakljucno', dbxrefs=[])"
      ]
     },
     "execution_count": 9,
     "metadata": {},
     "output_type": "execute_result"
    }
   ],
   "source": [
    "rec[2:7]"
   ]
  },
  {
   "cell_type": "code",
   "execution_count": 10,
   "metadata": {},
   "outputs": [
    {
     "data": {
      "text/plain": [
       "Seq('GACAG', SingleLetterAlphabet())"
      ]
     },
     "execution_count": 10,
     "metadata": {},
     "output_type": "execute_result"
    }
   ],
   "source": [
    "rec[2:7].seq"
   ]
  },
  {
   "cell_type": "code",
   "execution_count": 11,
   "metadata": {},
   "outputs": [
    {
     "data": {
      "text/plain": [
       "'GACAG'"
      ]
     },
     "execution_count": 11,
     "metadata": {},
     "output_type": "execute_result"
    }
   ],
   "source": [
    "str(rec[2:7].seq)"
   ]
  },
  {
   "cell_type": "code",
   "execution_count": 12,
   "metadata": {},
   "outputs": [
    {
     "data": {
      "text/plain": [
       "SeqRecord(seq=Seq('GACAGTA', SingleLetterAlphabet()), id='zap2', name='zap2', description='zap2 tudi nakljucno', dbxrefs=[])"
      ]
     },
     "execution_count": 12,
     "metadata": {},
     "output_type": "execute_result"
    }
   ],
   "source": [
    "rec[2:7] + rec[8:10]"
   ]
  },
  {
   "cell_type": "markdown",
   "metadata": {},
   "source": [
    "### <font color=\"green\"><b>Vaja</b></font>\n",
    "\n",
    "Napiši zanko, ki bo prebrala datoteko in izpisala frekvence posameznih nukleotidov:"
   ]
  },
  {
   "cell_type": "code",
   "execution_count": 13,
   "metadata": {},
   "outputs": [
    {
     "name": "stdout",
     "output_type": "stream",
     "text": [
      "C: 131 (24.26%)\n",
      "A: 146 (27.04%)\n",
      "T: 122 (22.59%)\n",
      "G: 141 (26.11%)\n"
     ]
    }
   ],
   "source": [
    "cn = {}\n",
    "\n",
    "for rec in SeqIO.parse('primer.fasta', 'fasta'):\n",
    "    for n in rec.seq:\n",
    "        cn[n] = cn.get(n, 0) + 1\n",
    "\n",
    "for n, c in cn.items():\n",
    "    print('{:}: {:} ({:.2f}%)'.format(n, c, c*100/sum(cn.values())))"
   ]
  },
  {
   "cell_type": "markdown",
   "metadata": {},
   "source": [
    "### <font color=\"green\"><b>Vaja</b></font>\n",
    "\n",
    "Napiši zanko, ki bo za dano zaporedje `s` izrisala frekvenco nukleotidov v oknih dolžine `k`."
   ]
  },
  {
   "cell_type": "code",
   "execution_count": 14,
   "metadata": {},
   "outputs": [],
   "source": [
    "import matplotlib.pyplot as plt\n",
    "%matplotlib inline\n",
    "\n",
    "def plotAT(s, k):\n",
    "    cns = []\n",
    "    for i in range(len(s)-k):\n",
    "        cns.append(s[i:i+k].count('A')+s[i:i+k].count('T'))\n",
    "    plt.plot(cns)\n",
    "    return cns"
   ]
  },
  {
   "cell_type": "code",
   "execution_count": 15,
   "metadata": {},
   "outputs": [
    {
     "data": {
      "image/png": "[encoded data removed]",
      "text/plain": [
       "<matplotlib.figure.Figure at 0x7f54b0088e48>"
      ]
     },
     "metadata": {},
     "output_type": "display_data"
    }
   ],
   "source": [
    "plotAT(rec.seq, 20);"
   ]
  },
  {
   "cell_type": "markdown",
   "metadata": {},
   "source": [
    "### <font color=\"green\"><b>Vaja</b></font>\n",
    "\n",
    "Napiši zanko, ki bo za dano zaporedje `s` izrisala frekvenco dinukleotidov CpG v oknih dolžine `k`."
   ]
  },
  {
   "cell_type": "code",
   "execution_count": 16,
   "metadata": {},
   "outputs": [],
   "source": [
    "import matplotlib.pyplot as plt\n",
    "%matplotlib inline\n",
    "\n",
    "def plotCG(s, k):\n",
    "    s = str(s)\n",
    "    cns = []\n",
    "    for i in range(len(s)-k):\n",
    "        cns.append(s[i:i+k].count('CG')+s[i:i+k].count('GC'))\n",
    "    plt.plot(cns)\n",
    "    return cns"
   ]
  },
  {
   "cell_type": "code",
   "execution_count": 17,
   "metadata": {},
   "outputs": [
    {
     "data": {
      "image/png": "[encoded data removed]",
      "text/plain": [
       "<matplotlib.figure.Figure at 0x7f5494c905c0>"
      ]
     },
     "metadata": {},
     "output_type": "display_data"
    }
   ],
   "source": [
    "plotCG(rec.seq, 50);"
   ]
  },
  {
   "cell_type": "markdown",
   "metadata": {},
   "source": [
    "### Branje datotek iz spleta"
   ]
  },
  {
   "cell_type": "markdown",
   "metadata": {},
   "source": [
    "Seveda Python omogoča branje datotek iz spleta. Preberimo datoteko iz zbirke [ENA](http://www.ebi.ac.uk/ena) na naslovu: [ftp://ftp.sra.ebi.ac.uk/vol1/fastq/SRR020/SRR020192/SRR020192.fastq.gz](ftp://ftp.sra.ebi.ac.uk/vol1/fastq/SRR020/SRR020192/SRR020192.fastq.gz)\n",
    "\n",
    "Ker bomo tokrat brali datoteko FASTQ, moramo to eksplicitno navesti funkciji `SeqIO.parse`:"
   ]
  },
  {
   "cell_type": "code",
   "execution_count": 18,
   "metadata": {},
   "outputs": [
    {
     "name": "stdout",
     "output_type": "stream",
     "text": [
      "SRR020192.1\n",
      "Seq('GATGACGGTGTCTACATTGTTCCCGACCACTCATCTCCTCTGTCATGCCCGAAA...CGT', SingleLetterAlphabet())\n",
      "[24, 23, 27, 30, 30, 30, 23, 23, 24, 23, 23, 30, 28, 27, 25, 25, 27, 27, 27, 22, 22, 24, 18, 18, 18, 30, 19, 19, 23, 23, 30, 30, 32, 32, 32, 30, 24, 23, 23, 27, 30, 32, 30, 32, 29, 28, 28, 17, 17, 17, 17, 24, 17, 17, 13, 15, 17, 25, 25, 24, 24, 23, 27, 27, 15, 15, 15, 15, 15, 17, 17, 11, 15, 15]\n",
      "74\n",
      "SRR020192.2\n",
      "Seq('GATGACGGTGTCTACATCGTTCCACCACTCATCTCCTCTGTCATGCCCGAAAGT...CCC', SingleLetterAlphabet())\n",
      "[27, 27, 27, 30, 30, 30, 23, 23, 24, 27, 27, 30, 28, 27, 27, 27, 27, 30, 30, 27, 27, 27, 27, 30, 23, 23, 23, 23, 30, 30, 32, 32, 30, 30, 27, 27, 27, 27, 30, 29, 28, 29, 29, 29, 29, 17, 15, 15, 15, 15, 15, 15, 15, 17, 26, 15, 15, 15, 15, 27, 27, 15, 15, 15, 15, 15]\n",
      "66\n",
      "SRR020192.3\n",
      "Seq('GACGACGGTGTCTACATCGTTCCACCACTCATCTCCTCTGTCATGCCCAAAGTC...CGT', SingleLetterAlphabet())\n",
      "[32, 32, 32, 32, 32, 32, 32, 32, 32, 32, 32, 32, 32, 32, 32, 32, 32, 32, 40, 40, 40, 40, 40, 40, 40, 40, 40, 40, 40, 40, 40, 40, 40, 40, 40, 40, 40, 37, 37, 37, 32, 37, 37, 34, 34, 30, 30, 30, 30, 30, 30, 31, 32, 33, 30, 30, 30, 28, 30, 29, 24, 24, 18, 18, 19, 17, 22, 24, 24, 21, 21, 23, 27, 23, 24, 22, 22, 15, 23, 23, 21, 21, 24, 24, 25, 15, 15, 15, 11, 11, 15, 15, 23, 24, 24, 23, 11, 11, 15, 15, 15, 15, 15, 15, 21, 15, 11, 11, 13, 13, 13]\n",
      "111\n"
     ]
    }
   ],
   "source": [
    "import urllib\n",
    "import gzip\n",
    "\n",
    "f = gzip.open(urllib.request.urlopen('ftp://ftp.sra.ebi.ac.uk/vol1/fastq/SRR020/SRR020192/SRR020192.fastq.gz'), 'rt')\n",
    "\n",
    "for rec in list(SeqIO.parse(f, 'fastq'))[:3]:\n",
    "    print(rec.id)\n",
    "    print(repr(rec.seq))\n",
    "    print(rec.letter_annotations[\"phred_quality\"])\n",
    "    print(len(rec))"
   ]
  },
  {
   "cell_type": "markdown",
   "metadata": {},
   "source": [
    "V zgornjem primeru opazite, da se poleg zaporedja zdaj izpisuje podatek o kvaliteti sekvenciranja posameznega nukleotida, t.i. ocena [PHRED](https://en.wikipedia.org/wiki/Phred_quality_score), ki je sestavni del formata [FASTQ](https://en.wikipedia.org/wiki/FASTQ_format)."
   ]
  },
  {
   "cell_type": "markdown",
   "metadata": {},
   "source": [
    "### <font color=\"green\"><b>Vaja</b></font>\n",
    "\n",
    "Napiši funkcijo `trim_low_quality_tail(rec, phred_th)`, ki na koncu zaporedja `rec` zbriše vse poziciji z nizko kvaliteto (pod pragom `phred_th`)."
   ]
  },
  {
   "cell_type": "code",
   "execution_count": 19,
   "metadata": {},
   "outputs": [],
   "source": [
    "def trim_low_quality_tail(rec, phred_th):\n",
    "    quals = rec.letter_annotations[\"phred_quality\"]\n",
    "    while quals and quals[-1] < phred_th:\n",
    "        quals = quals[:-1]\n",
    "    rec = rec[:len(quals)]\n",
    "    return rec"
   ]
  },
  {
   "cell_type": "code",
   "execution_count": 20,
   "metadata": {},
   "outputs": [
    {
     "data": {
      "text/plain": [
       "111"
      ]
     },
     "execution_count": 20,
     "metadata": {},
     "output_type": "execute_result"
    }
   ],
   "source": [
    "len(rec)"
   ]
  },
  {
   "cell_type": "code",
   "execution_count": 21,
   "metadata": {},
   "outputs": [],
   "source": [
    "trimmed = trim_low_quality_tail(rec, 25)"
   ]
  },
  {
   "cell_type": "code",
   "execution_count": 22,
   "metadata": {},
   "outputs": [
    {
     "data": {
      "text/plain": [
       "85"
      ]
     },
     "execution_count": 22,
     "metadata": {},
     "output_type": "execute_result"
    }
   ],
   "source": [
    "len(trimmed)"
   ]
  }
 ],
 "metadata": {
  "kernelspec": {
   "display_name": "Python 3",
   "language": "python",
   "name": "python3"
  },
  "language_info": {
   "codemirror_mode": {
    "name": "ipython",
    "version": 3
   },
   "file_extension": ".py",
   "mimetype": "text/x-python",
   "name": "python",
   "nbconvert_exporter": "python",
   "pygments_lexer": "ipython3",
   "version": "3.6.2"
  },
  "latex_envs": {
   "LaTeX_envs_menu_present": true,
   "autocomplete": true,
   "bibliofile": "biblio.bib",
   "cite_by": "apalike",
   "current_citInitial": 1,
   "eqLabelWithNumbers": true,
   "eqNumInitial": 1,
   "hotkeys": {
    "equation": "Ctrl-E",
    "itemize": "Ctrl-I"
   },
   "labels_anchors": false,
   "latex_user_defs": false,
   "report_style_numbering": false,
   "user_envs_cfg": false
  },
  "nbTranslate": {
   "displayLangs": [
    "*"
   ],
   "hotkey": "alt-t",
   "langInMainMenu": true,
   "sourceLang": "en",
   "targetLang": "fr",
   "useGoogleTranslate": true
  }
 },
 "nbformat": 4,
 "nbformat_minor": 1
}
